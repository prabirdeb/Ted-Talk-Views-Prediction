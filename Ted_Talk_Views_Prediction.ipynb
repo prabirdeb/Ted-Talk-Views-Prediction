{
  "nbformat": 4,
  "nbformat_minor": 0,
  "metadata": {
    "colab": {
      "name": "Ted Talk Views Prediction.ipynb",
      "provenance": [],
      "collapsed_sections": [
        "tl1Yj-HoJ0f8",
        "jqyafqW9eeYB",
        "tsf4VakRe6BG",
        "BpdOLUa_fNL8"
      ],
      "authorship_tag": "ABX9TyOmrEbnXSGEXa4DaUVUn69z",
      "include_colab_link": true
    },
    "kernelspec": {
      "name": "python3",
      "display_name": "Python 3"
    },
    "language_info": {
      "name": "python"
    }
  },
  "cells": [
    {
      "cell_type": "markdown",
      "metadata": {
        "id": "view-in-github",
        "colab_type": "text"
      },
      "source": [
        "<a href=\"https://colab.research.google.com/github/prabirdeb/Ted-Talk-Views-Prediction/blob/main/Ted_Talk_Views_Prediction.ipynb\" target=\"_parent\"><img src=\"https://colab.research.google.com/assets/colab-badge.svg\" alt=\"Open In Colab\"/></a>"
      ]
    },
    {
      "cell_type": "markdown",
      "source": [
        "**Ted Talk Views Prediction**"
      ],
      "metadata": {
        "id": "oKKZnwRgt1V9"
      }
    },
    {
      "cell_type": "markdown",
      "source": [
        "**The performance of a machine learning model depends on three factors:**\n",
        "\n",
        "i. Quality of Data \n",
        "\n",
        "(for training and testing)\n",
        "\n",
        "ii. Quantity of Data \n",
        "\n",
        "(more the experiences better will be the learning)\n",
        "\n",
        "iii. Quality of Model \n",
        "\n",
        "(proper model selection and hyperparameter tuning)\n",
        "\n"
      ],
      "metadata": {
        "id": "xWvWiLmjuWOn"
      }
    },
    {
      "cell_type": "markdown",
      "source": [
        "# **Exploration and Pre-processing of Data**"
      ],
      "metadata": {
        "id": "zdyLFL8QePAR"
      }
    },
    {
      "cell_type": "markdown",
      "source": [
        "This involves following steps to transform raw data into a quality data for the ml model "
      ],
      "metadata": {
        "id": "K3OkgEhmsx2c"
      }
    },
    {
      "cell_type": "markdown",
      "source": [
        "### **1. Connection with the Data**\n",
        "\n",
        "Here, we are provided with a dataset of Ted Talk Views.\n",
        "\n",
        "Thus, the dataset is actually a collection of experiences about different Ted Talk videos. \n",
        "\n",
        "Now, we need to **decode the set of experiences** to build a model for Ted Talk Videos Views Prediction.\n",
        "\n",
        "At first, we import the libraries or functions for **making our journey easy** and then **get connected** to the set of experiences."
      ],
      "metadata": {
        "id": "P1_aQ_OKeUIB"
      }
    },
    {
      "cell_type": "code",
      "execution_count": 1,
      "metadata": {
        "id": "ag_J2iydtniR",
        "colab": {
          "base_uri": "https://localhost:8080/"
        },
        "outputId": "d5d32356-4665-4e80-cfa9-4a26f44d367f"
      },
      "outputs": [
        {
          "output_type": "stream",
          "name": "stdout",
          "text": [
            "Using matplotlib backend: agg\n"
          ]
        }
      ],
      "source": [
        "#importing libraries\n",
        "import numpy as np\n",
        "import pandas as pd\n",
        "from termcolor import colored\n",
        "import matplotlib.pyplot as plt\n",
        "import seaborn as sns\n",
        "%matplotlib\n",
        "from numpy import math\n",
        "from sklearn.preprocessing import StandardScaler\n",
        "from sklearn.model_selection import train_test_split\n",
        "from sklearn.ensemble import RandomForestRegressor\n",
        "from sklearn.model_selection import RandomizedSearchCV\n",
        "from sklearn.metrics import r2_score\n",
        "from sklearn.metrics import mean_squared_error \n",
        "from sklearn.preprocessing import LabelEncoder\n",
        "from sklearn.model_selection import cross_val_score\n",
        "import ast\n",
        "from sklearn.preprocessing import MultiLabelBinarizer\n",
        "from datetime import datetime\n",
        "from datetime import date"
      ]
    },
    {
      "cell_type": "code",
      "source": [
        "from google.colab import drive\n",
        "drive.mount('/content/drive')"
      ],
      "metadata": {
        "colab": {
          "base_uri": "https://localhost:8080/"
        },
        "id": "wcyl8GMQuOgU",
        "outputId": "b70db03f-2f11-4700-b31f-de1de2f75de2"
      },
      "execution_count": 2,
      "outputs": [
        {
          "output_type": "stream",
          "name": "stdout",
          "text": [
            "Drive already mounted at /content/drive; to attempt to forcibly remount, call drive.mount(\"/content/drive\", force_remount=True).\n"
          ]
        }
      ]
    },
    {
      "cell_type": "code",
      "source": [
        "# Reading the data as pandas dataframe\n",
        "ted_talk_df=pd.read_csv('/content/drive/MyDrive/Almabetter Assignments/Capstone projects/Ted Talk Views Prediction-Prabir Debnath/data_ted_talks.csv')"
      ],
      "metadata": {
        "id": "jD46RoK4uQnq"
      },
      "execution_count": 3,
      "outputs": []
    },
    {
      "cell_type": "markdown",
      "source": [
        "### **2. First Feelings of the Data**\n",
        "\n",
        "Here, the columns are the set of features, showing the way to reach final decoded experience or conclusions.  \n",
        "\n",
        "As there is a huge no. of experiences, we cannot see the whole lot of experiences and therefore we find the features on the **data head**."
      ],
      "metadata": {
        "id": "tl1Yj-HoJ0f8"
      }
    },
    {
      "cell_type": "code",
      "source": [
        "ted_talk_df.head(2)"
      ],
      "metadata": {
        "colab": {
          "base_uri": "https://localhost:8080/",
          "height": 0
        },
        "id": "4sDdhmu1unwe",
        "outputId": "8fdb2a08-16b3-4f8a-9436-b671a412e5f4"
      },
      "execution_count": 4,
      "outputs": [
        {
          "output_type": "execute_result",
          "data": {
            "text/html": [
              "\n",
              "  <div id=\"df-5dfaea72-0cd8-48d3-9062-a43f97a80fb2\">\n",
              "    <div class=\"colab-df-container\">\n",
              "      <div>\n",
              "<style scoped>\n",
              "    .dataframe tbody tr th:only-of-type {\n",
              "        vertical-align: middle;\n",
              "    }\n",
              "\n",
              "    .dataframe tbody tr th {\n",
              "        vertical-align: top;\n",
              "    }\n",
              "\n",
              "    .dataframe thead th {\n",
              "        text-align: right;\n",
              "    }\n",
              "</style>\n",
              "<table border=\"1\" class=\"dataframe\">\n",
              "  <thead>\n",
              "    <tr style=\"text-align: right;\">\n",
              "      <th></th>\n",
              "      <th>talk_id</th>\n",
              "      <th>title</th>\n",
              "      <th>speaker_1</th>\n",
              "      <th>all_speakers</th>\n",
              "      <th>occupations</th>\n",
              "      <th>about_speakers</th>\n",
              "      <th>views</th>\n",
              "      <th>recorded_date</th>\n",
              "      <th>published_date</th>\n",
              "      <th>event</th>\n",
              "      <th>native_lang</th>\n",
              "      <th>available_lang</th>\n",
              "      <th>comments</th>\n",
              "      <th>duration</th>\n",
              "      <th>topics</th>\n",
              "      <th>related_talks</th>\n",
              "      <th>url</th>\n",
              "      <th>description</th>\n",
              "      <th>transcript</th>\n",
              "    </tr>\n",
              "  </thead>\n",
              "  <tbody>\n",
              "    <tr>\n",
              "      <th>0</th>\n",
              "      <td>1</td>\n",
              "      <td>Averting the climate crisis</td>\n",
              "      <td>Al Gore</td>\n",
              "      <td>{0: 'Al Gore'}</td>\n",
              "      <td>{0: ['climate advocate']}</td>\n",
              "      <td>{0: 'Nobel Laureate Al Gore focused the world’...</td>\n",
              "      <td>3523392</td>\n",
              "      <td>2006-02-25</td>\n",
              "      <td>2006-06-27</td>\n",
              "      <td>TED2006</td>\n",
              "      <td>en</td>\n",
              "      <td>['ar', 'bg', 'cs', 'de', 'el', 'en', 'es', 'fa...</td>\n",
              "      <td>272.0</td>\n",
              "      <td>977</td>\n",
              "      <td>['alternative energy', 'cars', 'climate change...</td>\n",
              "      <td>{243: 'New thinking on the climate crisis', 54...</td>\n",
              "      <td>https://www.ted.com/talks/al_gore_averting_the...</td>\n",
              "      <td>With the same humor and humanity he exuded in ...</td>\n",
              "      <td>Thank you so much, Chris. And it's truly a gre...</td>\n",
              "    </tr>\n",
              "    <tr>\n",
              "      <th>1</th>\n",
              "      <td>92</td>\n",
              "      <td>The best stats you've ever seen</td>\n",
              "      <td>Hans Rosling</td>\n",
              "      <td>{0: 'Hans Rosling'}</td>\n",
              "      <td>{0: ['global health expert; data visionary']}</td>\n",
              "      <td>{0: 'In Hans Rosling’s hands, data sings. Glob...</td>\n",
              "      <td>14501685</td>\n",
              "      <td>2006-02-22</td>\n",
              "      <td>2006-06-27</td>\n",
              "      <td>TED2006</td>\n",
              "      <td>en</td>\n",
              "      <td>['ar', 'az', 'bg', 'bn', 'bs', 'cs', 'da', 'de...</td>\n",
              "      <td>628.0</td>\n",
              "      <td>1190</td>\n",
              "      <td>['Africa', 'Asia', 'Google', 'demo', 'economic...</td>\n",
              "      <td>{2056: \"Own your body's data\", 2296: 'A visual...</td>\n",
              "      <td>https://www.ted.com/talks/hans_rosling_the_bes...</td>\n",
              "      <td>You've never seen data presented like this. Wi...</td>\n",
              "      <td>About 10 years ago, I took on the task to teac...</td>\n",
              "    </tr>\n",
              "  </tbody>\n",
              "</table>\n",
              "</div>\n",
              "      <button class=\"colab-df-convert\" onclick=\"convertToInteractive('df-5dfaea72-0cd8-48d3-9062-a43f97a80fb2')\"\n",
              "              title=\"Convert this dataframe to an interactive table.\"\n",
              "              style=\"display:none;\">\n",
              "        \n",
              "  <svg xmlns=\"http://www.w3.org/2000/svg\" height=\"24px\"viewBox=\"0 0 24 24\"\n",
              "       width=\"24px\">\n",
              "    <path d=\"M0 0h24v24H0V0z\" fill=\"none\"/>\n",
              "    <path d=\"M18.56 5.44l.94 2.06.94-2.06 2.06-.94-2.06-.94-.94-2.06-.94 2.06-2.06.94zm-11 1L8.5 8.5l.94-2.06 2.06-.94-2.06-.94L8.5 2.5l-.94 2.06-2.06.94zm10 10l.94 2.06.94-2.06 2.06-.94-2.06-.94-.94-2.06-.94 2.06-2.06.94z\"/><path d=\"M17.41 7.96l-1.37-1.37c-.4-.4-.92-.59-1.43-.59-.52 0-1.04.2-1.43.59L10.3 9.45l-7.72 7.72c-.78.78-.78 2.05 0 2.83L4 21.41c.39.39.9.59 1.41.59.51 0 1.02-.2 1.41-.59l7.78-7.78 2.81-2.81c.8-.78.8-2.07 0-2.86zM5.41 20L4 18.59l7.72-7.72 1.47 1.35L5.41 20z\"/>\n",
              "  </svg>\n",
              "      </button>\n",
              "      \n",
              "  <style>\n",
              "    .colab-df-container {\n",
              "      display:flex;\n",
              "      flex-wrap:wrap;\n",
              "      gap: 12px;\n",
              "    }\n",
              "\n",
              "    .colab-df-convert {\n",
              "      background-color: #E8F0FE;\n",
              "      border: none;\n",
              "      border-radius: 50%;\n",
              "      cursor: pointer;\n",
              "      display: none;\n",
              "      fill: #1967D2;\n",
              "      height: 32px;\n",
              "      padding: 0 0 0 0;\n",
              "      width: 32px;\n",
              "    }\n",
              "\n",
              "    .colab-df-convert:hover {\n",
              "      background-color: #E2EBFA;\n",
              "      box-shadow: 0px 1px 2px rgba(60, 64, 67, 0.3), 0px 1px 3px 1px rgba(60, 64, 67, 0.15);\n",
              "      fill: #174EA6;\n",
              "    }\n",
              "\n",
              "    [theme=dark] .colab-df-convert {\n",
              "      background-color: #3B4455;\n",
              "      fill: #D2E3FC;\n",
              "    }\n",
              "\n",
              "    [theme=dark] .colab-df-convert:hover {\n",
              "      background-color: #434B5C;\n",
              "      box-shadow: 0px 1px 3px 1px rgba(0, 0, 0, 0.15);\n",
              "      filter: drop-shadow(0px 1px 2px rgba(0, 0, 0, 0.3));\n",
              "      fill: #FFFFFF;\n",
              "    }\n",
              "  </style>\n",
              "\n",
              "      <script>\n",
              "        const buttonEl =\n",
              "          document.querySelector('#df-5dfaea72-0cd8-48d3-9062-a43f97a80fb2 button.colab-df-convert');\n",
              "        buttonEl.style.display =\n",
              "          google.colab.kernel.accessAllowed ? 'block' : 'none';\n",
              "\n",
              "        async function convertToInteractive(key) {\n",
              "          const element = document.querySelector('#df-5dfaea72-0cd8-48d3-9062-a43f97a80fb2');\n",
              "          const dataTable =\n",
              "            await google.colab.kernel.invokeFunction('convertToInteractive',\n",
              "                                                     [key], {});\n",
              "          if (!dataTable) return;\n",
              "\n",
              "          const docLinkHtml = 'Like what you see? Visit the ' +\n",
              "            '<a target=\"_blank\" href=https://colab.research.google.com/notebooks/data_table.ipynb>data table notebook</a>'\n",
              "            + ' to learn more about interactive tables.';\n",
              "          element.innerHTML = '';\n",
              "          dataTable['output_type'] = 'display_data';\n",
              "          await google.colab.output.renderOutput(dataTable, element);\n",
              "          const docLink = document.createElement('div');\n",
              "          docLink.innerHTML = docLinkHtml;\n",
              "          element.appendChild(docLink);\n",
              "        }\n",
              "      </script>\n",
              "    </div>\n",
              "  </div>\n",
              "  "
            ],
            "text/plain": [
              "   talk_id  ...                                         transcript\n",
              "0        1  ...  Thank you so much, Chris. And it's truly a gre...\n",
              "1       92  ...  About 10 years ago, I took on the task to teac...\n",
              "\n",
              "[2 rows x 19 columns]"
            ]
          },
          "metadata": {},
          "execution_count": 4
        }
      ]
    },
    {
      "cell_type": "markdown",
      "source": [
        "### **3. Deeper Understanding of the Data**\n",
        "\n",
        "As there is a huge no. of experiences, we take the help of **statistics to measure** each and every features in different dimensions and thus step by step, we find the most important features or the exact way to decode the experiences."
      ],
      "metadata": {
        "id": "jqyafqW9eeYB"
      }
    },
    {
      "cell_type": "code",
      "source": [
        "ted_talk_df.info()"
      ],
      "metadata": {
        "colab": {
          "base_uri": "https://localhost:8080/"
        },
        "id": "rfGcqaKXusJd",
        "outputId": "25f9ddd8-b325-4d7f-c658-1ff53ab57304"
      },
      "execution_count": 5,
      "outputs": [
        {
          "output_type": "stream",
          "name": "stdout",
          "text": [
            "<class 'pandas.core.frame.DataFrame'>\n",
            "RangeIndex: 4005 entries, 0 to 4004\n",
            "Data columns (total 19 columns):\n",
            " #   Column          Non-Null Count  Dtype  \n",
            "---  ------          --------------  -----  \n",
            " 0   talk_id         4005 non-null   int64  \n",
            " 1   title           4005 non-null   object \n",
            " 2   speaker_1       4005 non-null   object \n",
            " 3   all_speakers    4001 non-null   object \n",
            " 4   occupations     3483 non-null   object \n",
            " 5   about_speakers  3502 non-null   object \n",
            " 6   views           4005 non-null   int64  \n",
            " 7   recorded_date   4004 non-null   object \n",
            " 8   published_date  4005 non-null   object \n",
            " 9   event           4005 non-null   object \n",
            " 10  native_lang     4005 non-null   object \n",
            " 11  available_lang  4005 non-null   object \n",
            " 12  comments        3350 non-null   float64\n",
            " 13  duration        4005 non-null   int64  \n",
            " 14  topics          4005 non-null   object \n",
            " 15  related_talks   4005 non-null   object \n",
            " 16  url             4005 non-null   object \n",
            " 17  description     4005 non-null   object \n",
            " 18  transcript      4005 non-null   object \n",
            "dtypes: float64(1), int64(3), object(15)\n",
            "memory usage: 594.6+ KB\n"
          ]
        }
      ]
    },
    {
      "cell_type": "code",
      "source": [
        "ted_talk_df.describe()"
      ],
      "metadata": {
        "colab": {
          "base_uri": "https://localhost:8080/",
          "height": 0
        },
        "id": "SEb4cr7juznI",
        "outputId": "07d090d2-21ea-406c-a545-72e07a4446eb"
      },
      "execution_count": 6,
      "outputs": [
        {
          "output_type": "execute_result",
          "data": {
            "text/html": [
              "\n",
              "  <div id=\"df-2470f573-4788-460e-b0e2-21772367752b\">\n",
              "    <div class=\"colab-df-container\">\n",
              "      <div>\n",
              "<style scoped>\n",
              "    .dataframe tbody tr th:only-of-type {\n",
              "        vertical-align: middle;\n",
              "    }\n",
              "\n",
              "    .dataframe tbody tr th {\n",
              "        vertical-align: top;\n",
              "    }\n",
              "\n",
              "    .dataframe thead th {\n",
              "        text-align: right;\n",
              "    }\n",
              "</style>\n",
              "<table border=\"1\" class=\"dataframe\">\n",
              "  <thead>\n",
              "    <tr style=\"text-align: right;\">\n",
              "      <th></th>\n",
              "      <th>talk_id</th>\n",
              "      <th>views</th>\n",
              "      <th>comments</th>\n",
              "      <th>duration</th>\n",
              "    </tr>\n",
              "  </thead>\n",
              "  <tbody>\n",
              "    <tr>\n",
              "      <th>count</th>\n",
              "      <td>4005.000000</td>\n",
              "      <td>4.005000e+03</td>\n",
              "      <td>3350.000000</td>\n",
              "      <td>4005.000000</td>\n",
              "    </tr>\n",
              "    <tr>\n",
              "      <th>mean</th>\n",
              "      <td>12432.538327</td>\n",
              "      <td>2.148006e+06</td>\n",
              "      <td>161.997015</td>\n",
              "      <td>724.011236</td>\n",
              "    </tr>\n",
              "    <tr>\n",
              "      <th>std</th>\n",
              "      <td>17447.576262</td>\n",
              "      <td>3.451226e+06</td>\n",
              "      <td>268.838922</td>\n",
              "      <td>361.775462</td>\n",
              "    </tr>\n",
              "    <tr>\n",
              "      <th>min</th>\n",
              "      <td>1.000000</td>\n",
              "      <td>0.000000e+00</td>\n",
              "      <td>0.000000</td>\n",
              "      <td>60.000000</td>\n",
              "    </tr>\n",
              "    <tr>\n",
              "      <th>25%</th>\n",
              "      <td>1252.000000</td>\n",
              "      <td>8.820690e+05</td>\n",
              "      <td>38.000000</td>\n",
              "      <td>393.000000</td>\n",
              "    </tr>\n",
              "    <tr>\n",
              "      <th>50%</th>\n",
              "      <td>2333.000000</td>\n",
              "      <td>1.375508e+06</td>\n",
              "      <td>89.000000</td>\n",
              "      <td>738.000000</td>\n",
              "    </tr>\n",
              "    <tr>\n",
              "      <th>75%</th>\n",
              "      <td>23777.000000</td>\n",
              "      <td>2.133110e+06</td>\n",
              "      <td>188.000000</td>\n",
              "      <td>974.000000</td>\n",
              "    </tr>\n",
              "    <tr>\n",
              "      <th>max</th>\n",
              "      <td>62794.000000</td>\n",
              "      <td>6.505195e+07</td>\n",
              "      <td>6449.000000</td>\n",
              "      <td>3922.000000</td>\n",
              "    </tr>\n",
              "  </tbody>\n",
              "</table>\n",
              "</div>\n",
              "      <button class=\"colab-df-convert\" onclick=\"convertToInteractive('df-2470f573-4788-460e-b0e2-21772367752b')\"\n",
              "              title=\"Convert this dataframe to an interactive table.\"\n",
              "              style=\"display:none;\">\n",
              "        \n",
              "  <svg xmlns=\"http://www.w3.org/2000/svg\" height=\"24px\"viewBox=\"0 0 24 24\"\n",
              "       width=\"24px\">\n",
              "    <path d=\"M0 0h24v24H0V0z\" fill=\"none\"/>\n",
              "    <path d=\"M18.56 5.44l.94 2.06.94-2.06 2.06-.94-2.06-.94-.94-2.06-.94 2.06-2.06.94zm-11 1L8.5 8.5l.94-2.06 2.06-.94-2.06-.94L8.5 2.5l-.94 2.06-2.06.94zm10 10l.94 2.06.94-2.06 2.06-.94-2.06-.94-.94-2.06-.94 2.06-2.06.94z\"/><path d=\"M17.41 7.96l-1.37-1.37c-.4-.4-.92-.59-1.43-.59-.52 0-1.04.2-1.43.59L10.3 9.45l-7.72 7.72c-.78.78-.78 2.05 0 2.83L4 21.41c.39.39.9.59 1.41.59.51 0 1.02-.2 1.41-.59l7.78-7.78 2.81-2.81c.8-.78.8-2.07 0-2.86zM5.41 20L4 18.59l7.72-7.72 1.47 1.35L5.41 20z\"/>\n",
              "  </svg>\n",
              "      </button>\n",
              "      \n",
              "  <style>\n",
              "    .colab-df-container {\n",
              "      display:flex;\n",
              "      flex-wrap:wrap;\n",
              "      gap: 12px;\n",
              "    }\n",
              "\n",
              "    .colab-df-convert {\n",
              "      background-color: #E8F0FE;\n",
              "      border: none;\n",
              "      border-radius: 50%;\n",
              "      cursor: pointer;\n",
              "      display: none;\n",
              "      fill: #1967D2;\n",
              "      height: 32px;\n",
              "      padding: 0 0 0 0;\n",
              "      width: 32px;\n",
              "    }\n",
              "\n",
              "    .colab-df-convert:hover {\n",
              "      background-color: #E2EBFA;\n",
              "      box-shadow: 0px 1px 2px rgba(60, 64, 67, 0.3), 0px 1px 3px 1px rgba(60, 64, 67, 0.15);\n",
              "      fill: #174EA6;\n",
              "    }\n",
              "\n",
              "    [theme=dark] .colab-df-convert {\n",
              "      background-color: #3B4455;\n",
              "      fill: #D2E3FC;\n",
              "    }\n",
              "\n",
              "    [theme=dark] .colab-df-convert:hover {\n",
              "      background-color: #434B5C;\n",
              "      box-shadow: 0px 1px 3px 1px rgba(0, 0, 0, 0.15);\n",
              "      filter: drop-shadow(0px 1px 2px rgba(0, 0, 0, 0.3));\n",
              "      fill: #FFFFFF;\n",
              "    }\n",
              "  </style>\n",
              "\n",
              "      <script>\n",
              "        const buttonEl =\n",
              "          document.querySelector('#df-2470f573-4788-460e-b0e2-21772367752b button.colab-df-convert');\n",
              "        buttonEl.style.display =\n",
              "          google.colab.kernel.accessAllowed ? 'block' : 'none';\n",
              "\n",
              "        async function convertToInteractive(key) {\n",
              "          const element = document.querySelector('#df-2470f573-4788-460e-b0e2-21772367752b');\n",
              "          const dataTable =\n",
              "            await google.colab.kernel.invokeFunction('convertToInteractive',\n",
              "                                                     [key], {});\n",
              "          if (!dataTable) return;\n",
              "\n",
              "          const docLinkHtml = 'Like what you see? Visit the ' +\n",
              "            '<a target=\"_blank\" href=https://colab.research.google.com/notebooks/data_table.ipynb>data table notebook</a>'\n",
              "            + ' to learn more about interactive tables.';\n",
              "          element.innerHTML = '';\n",
              "          dataTable['output_type'] = 'display_data';\n",
              "          await google.colab.output.renderOutput(dataTable, element);\n",
              "          const docLink = document.createElement('div');\n",
              "          docLink.innerHTML = docLinkHtml;\n",
              "          element.appendChild(docLink);\n",
              "        }\n",
              "      </script>\n",
              "    </div>\n",
              "  </div>\n",
              "  "
            ],
            "text/plain": [
              "            talk_id         views     comments     duration\n",
              "count   4005.000000  4.005000e+03  3350.000000  4005.000000\n",
              "mean   12432.538327  2.148006e+06   161.997015   724.011236\n",
              "std    17447.576262  3.451226e+06   268.838922   361.775462\n",
              "min        1.000000  0.000000e+00     0.000000    60.000000\n",
              "25%     1252.000000  8.820690e+05    38.000000   393.000000\n",
              "50%     2333.000000  1.375508e+06    89.000000   738.000000\n",
              "75%    23777.000000  2.133110e+06   188.000000   974.000000\n",
              "max    62794.000000  6.505195e+07  6449.000000  3922.000000"
            ]
          },
          "metadata": {},
          "execution_count": 6
        }
      ]
    },
    {
      "cell_type": "code",
      "source": [
        "# Checking the unique values for each column\n",
        "for column_name in ted_talk_df.columns:\n",
        "  print(colored(f\"Unique values for {column_name}:\",'blue', attrs=['bold']))\n",
        "  print(ted_talk_df[column_name].unique())"
      ],
      "metadata": {
        "id": "5kd4aDdau5i8",
        "colab": {
          "base_uri": "https://localhost:8080/"
        },
        "outputId": "a8d27591-cdbc-4b6a-d39c-40c1d8bd4161"
      },
      "execution_count": 7,
      "outputs": [
        {
          "output_type": "stream",
          "name": "stdout",
          "text": [
            "\u001b[1m\u001b[34mUnique values for talk_id:\u001b[0m\n",
            "[    1    92     7 ... 62263 62784 62794]\n",
            "\u001b[1m\u001b[34mUnique values for title:\u001b[0m\n",
            "['Averting the climate crisis' \"The best stats you've ever seen\"\n",
            " 'Simplicity sells' ... 'How \"policing for profit\" undermines your rights'\n",
            " 'The electrifying speeches of Sojourner Truth'\n",
            " 'The most important anus in the ocean']\n",
            "\u001b[1m\u001b[34mUnique values for speaker_1:\u001b[0m\n",
            "['Al Gore' 'Hans Rosling' 'David Pogue' ... 'Dick M. Carpenter II'\n",
            " 'Daina Ramey Berry' 'Cella Wright']\n",
            "\u001b[1m\u001b[34mUnique values for all_speakers:\u001b[0m\n",
            "[\"{0: 'Al Gore'}\" \"{0: 'Hans Rosling'}\" \"{0: 'David Pogue'}\" ...\n",
            " \"{0: 'Dick M. Carpenter II'}\" \"{0: 'Daina Ramey Berry'}\"\n",
            " \"{0: 'Cella Wright'}\"]\n",
            "\u001b[1m\u001b[34mUnique values for occupations:\u001b[0m\n",
            "[\"{0: ['climate advocate']}\"\n",
            " \"{0: ['global health expert; data visionary']}\"\n",
            " \"{0: ['technology columnist']}\" ...\n",
            " \"{0: ['psychotherapist', 'psychosomatic psychiatrist']}\"\n",
            " \"{0: ['epidemiologist', 'philanthropist'], 1: ['head of ted']}\"\n",
            " \"{0: ['law researcher']}\"]\n",
            "\u001b[1m\u001b[34mUnique values for about_speakers:\u001b[0m\n",
            "[\"{0: 'Nobel Laureate Al Gore focused the world’s attention on the global climate crisis. Now he’s showing us how we’re moving towards real solutions.\\\\r\\\\n'}\"\n",
            " \"{0: 'In Hans Rosling’s hands, data sings. Global trends in health and economics come to vivid life. And the big picture of global development -- with some surprisingly good news -- snaps into sharp focus.'}\"\n",
            " '{0: \\'David Pogue is the personal technology columnist for the <em>New York Times</em> and a tech correspondent for CBS News. He\\\\\\'s also one of the world\\\\\\'s bestselling how-to authors, with titles in the For Dummies series and his own line of \"Missing Manual\" books. \\'}'\n",
            " ...\n",
            " \"{0: 'Arturs is a certified doctor and works at the Rigas Stradins University, Clinic of Psychosomatic Medicine and Psychotherapy department. With a specialization in psychotherapy and psychosomatics, he works mainly with children and family matters.\\\\nApart from practicing as a doctor, Arturs both develops his existing professional knowledge, as well as proactively broadens his experiences further. He lectures students in different study courses, including medical psychology, mental health, psychosomatic medicine, psychosomatics and many others, and has been recognized by students as one of the most interesting lecturers at RSU. In addition to lecturing, Arturs has published various research articles, participated in numerous seminars and conferences, both locally and outside the borders of Latvia.'}\"\n",
            " '{0: \"TED Prize winner Larry Brilliant has spent his career solving the world\\'s biggest problems, from overseeing the last smallpox cases to saving millions from blindness.\", 1: \\'After a long career in journalism and publishing, Chris Anderson became the curator of the TED Conference in 2002 and has developed it as a platform for identifying and disseminating ideas worth spreading.\\'}'\n",
            " \"{0: 'Dick M. Carpenter II studies cutting edge issues at the intersection of social science and constitutional law. '}\"]\n",
            "\u001b[1m\u001b[34mUnique values for views:\u001b[0m\n",
            "[ 3523392 14501685  1920832 ...   307187   464414    56582]\n",
            "\u001b[1m\u001b[34mUnique values for recorded_date:\u001b[0m\n",
            "['2006-02-25' '2006-02-22' '2006-02-24' ... '2020-04-27' '2020-04-28'\n",
            " '2020-04-30']\n",
            "\u001b[1m\u001b[34mUnique values for published_date:\u001b[0m\n",
            "['2006-06-27' '2006-07-10' '2006-07-18' ... '2020-04-27' '2020-04-28'\n",
            " '2020-04-30']\n",
            "\u001b[1m\u001b[34mUnique values for event:\u001b[0m\n",
            "['TED2006' 'TED2004' 'TED2005' 'TEDGlobal 2005' 'TEDSalon 2006' 'TED2003'\n",
            " 'TED2007' 'TED2002' 'TEDGlobal 2007' 'TED2001'\n",
            " 'TEDSalon 2007 Hot Science' 'Skoll World Forum 2007' 'TED2008' 'TED1984'\n",
            " 'TED1990' 'DLD 2007' 'EG 2007' 'TED1998' 'LIFT 2007' 'TED Prize Wish'\n",
            " 'TEDSalon 2009 Compassion' 'Chautauqua Institution' 'Serious Play 2008'\n",
            " 'Taste3 2008' 'TED in the Field' 'TED2009' 'EG 2008'\n",
            " 'Elizabeth G. Anderson School' 'TEDxUSC' 'TED@State' 'TEDGlobal 2009'\n",
            " 'TEDxKC' 'TEDIndia 2009' 'TEDSalon London 2009' 'TEDxTC' 'TEDMED 2009'\n",
            " 'TEDxSMU' 'TEDxBoston 2009' 'TEDxBerlin' 'TED2010' 'TEDxAmsterdam'\n",
            " 'TEDxNASA' 'Mission Blue Voyage' 'TEDxPuget Sound' 'TEDxNYED'\n",
            " 'TEDSalon London 2010' 'TEDxEdmonton' 'TED@Cannes' 'TEDxAtlanta'\n",
            " 'TEDxEast' 'TEDxOilSpill' 'TEDGlobal 2010' 'TEDxBoston 2010'\n",
            " 'Business Innovation Factory' 'TEDxYYC' 'TEDxChange'\n",
            " 'TED Senior Fellows at TEDGlobal 2010' 'TEDxTelAviv 2010' 'TEDxDU 2010'\n",
            " 'TEDxMidwest' 'TEDxHouston' 'TEDxNextGenerationAsheville'\n",
            " 'TEDxRotterdam 2010' 'TEDWomen 2010' 'TEDxMidAtlantic' 'TEDxSydney'\n",
            " 'TEDSalon NY2011' 'TEDxRainier' 'TEDxToronto 2010' 'TEDxPSU'\n",
            " 'TEDMED 2010' 'TEDxGreatPacificGarbagePatch' 'TEDxGöteborg 2010'\n",
            " 'TEDxToronto 2011' 'TED@MotorCity' 'TEDxPennQuarter' 'TEDPrize@UN'\n",
            " 'TED2011' 'TEDxPeachtree' 'TEDxDubai' 'TEDActive 2011' 'INK Conference'\n",
            " 'TEDxCaltech' 'TEDxWarwick' 'TEDxSiliconValley' 'TEDxNorthwesternU'\n",
            " 'TEDxMaastricht' 'TEDxBG' 'Full Spectrum Auditions'\n",
            " 'TEDSalon London Spring 2011' 'TEDGlobal 2011' 'TEDxBoston 2011'\n",
            " 'TEDxParis 2010' 'TEDxUIUC' 'TEDxThessaloniki' \"TEDxO'Porto\"\n",
            " 'TEDxBloomington' 'TEDxSantaCruz' 'TEDxWaterloo' 'TEDxManhattanBeach'\n",
            " 'TEDxKids@Brussels' 'TEDxTeen' 'TEDxBoulder 2011' 'TEDxManhattan'\n",
            " 'TEDxOrangeCoast' 'TEDxBrussels' 'TEDMED 2011' 'TEDxKrakow' 'TEDxCMU'\n",
            " 'TEDxVienna' 'TEDxDU 2011' 'TEDxDirigo' 'TEDxCanberra' 'TEDxRC2'\n",
            " 'TEDxWomen 2011' 'TEDxZurich 2011' 'TEDSalon NY2012' 'TEDxMIA'\n",
            " 'TEDxNASA@SiliconValley' 'TEDxYouth@Manchester' 'TED1994'\n",
            " 'TEDxSanMigueldeAllende' 'TEDxVancouver' 'TEDSalon London Fall 2011'\n",
            " 'TEDxIslay' 'TEDxAmericanRiviera' 'TEDxDublin' 'TEDxVictoria'\n",
            " 'TEDxPhoenix' 'TEDxAsheville' 'TEDYouth 2011' 'TED2012' 'TEDxUW' 'TED-Ed'\n",
            " 'TEDxCambridge' 'TEDxPortofSpain' 'TEDxNewy' 'TEDxPittsburgh' 'TEDxOslo'\n",
            " 'TEDxConcordiaUPortland' 'TEDxAthens' 'TED@SXSWi' 'TEDxAustin'\n",
            " 'TEDxMonterey' 'TEDxSummit' 'TEDxBerkeley' 'TEDxHogeschoolUtrecht'\n",
            " 'TEDxSanJoseCA' 'TEDxSussexUniversity' 'TEDMED 2012'\n",
            " 'TEDSalon London Spring 2012' 'TEDxGrandRapids' 'TEDxABQ' 'TEDxSanDiego'\n",
            " 'TEDxLondonBusinessSchool' 'TEDGlobal 2012' 'TEDxStanford'\n",
            " 'TEDxImperialCollege' 'TEDxBoston 2012' 'TEDxObserver' 'TEDxUCL'\n",
            " 'TEDxExeter' 'TEDxMaui' 'TEDxHousesOfParliament' 'TED@London'\n",
            " 'TEDxWinnipeg' 'TED@Bangalore' 'TED@New York' 'TEDxCHUV' 'TEDxSF'\n",
            " 'TEDxEQChCh' 'TEDxHelvetia' 'TED@Nairobi' 'TEDxGeorgetown'\n",
            " 'TED@Johannesburg' 'TEDxZurich 2012' 'TEDSalon London Fall 2012'\n",
            " 'TEDxWitsUniversity' 'TEDxJaffa 2012' 'TEDxWomen 2012'\n",
            " 'TEDxHampshireCollege' 'TEDxGoodenoughCollege' 'TEDxGlasgow'\n",
            " 'TEDxBeaconStreet' 'TEDxDelft' 'TEDSalon NY2013' 'TEDxSeoul'\n",
            " 'TEDxConcorde' 'TED2013' 'TEDYouth 2012' 'TEDxSeattleU'\n",
            " 'TEDxRiodelaPlata' 'TED@Intel' 'TEDActive 2013' 'TED Talks Education'\n",
            " 'TEDxMiamiUniversity' 'TEDxFiDiWomen' 'TEDxDeExtinction' 'TEDMED 2013'\n",
            " 'TEDGlobal 2013' 'TEDxCERN' 'TEDxNijmegen' 'TEDxColbyCollege'\n",
            " 'TEDxDanubia' 'TEDxTokyo' 'TEDxBoston' 'TEDxKids@Ambleside' 'TEDCity2.0'\n",
            " 'TEDxUdeM' 'TED@BCG Singapore' 'TED@NYC' 'TEDWomen 2013' 'TEDYouth 2013'\n",
            " 'TEDxBratislava' 'TED@BCG San Francisco' 'TEDxMet' 'TEDxMarin'\n",
            " 'TEDxBeirut' 'TED@State Street Boston' 'TEDxCaFoscariU' 'TEDxJaffa 2013'\n",
            " 'TEDxZurich 2013' 'TED Fellows Retreat 2013' 'TEDxParis 2012'\n",
            " 'TEDxBoulder' 'TED2014' 'TED Studio' 'TEDxMidAtlantic 2013' 'TEDxPerth'\n",
            " 'TEDxUMKC' 'TEDxLeuvenSalon' 'TEDActive 2014' 'TEDSalon NY2014'\n",
            " 'TEDxUofM' 'TEDxColumbus' 'TEDSalon Berlin 2014' 'TEDxKyoto'\n",
            " 'TEDxClaremontColleges' 'TEDxMonroeCorrectionalComplex' 'TEDxBrighton'\n",
            " 'TEDxSonomaCounty' 'TEDxAmazonia' 'TED@Unilever' 'TEDMED 2014'\n",
            " 'TEDGlobal 2014' 'TED@IBM' 'TEDxNewYork' 'TED@BCG Berlin' 'TEDxArendal'\n",
            " 'TEDxNorrkoping' 'TEDYouth 2014' 'TED@State Street London'\n",
            " 'TEDxPlaceDesNations' 'TEDxBinghamtonUniversity' 'TEDxLinnaeusUniversity'\n",
            " 'TEDxSBU' 'TED2015' 'TEDxMuncyStatePrison' 'TEDxSouthBank'\n",
            " 'TEDWomen 2015' 'TEDSalon NY2015' 'TEDGlobalLondon' 'TEDxIndianapolis'\n",
            " 'TED@BCG London' 'TEDxChapmanU' 'TEDxGoldenGatePark 2012' 'TEDxUF'\n",
            " 'TEDxBend' 'TEDGlobal>London' 'TEDxPenn' 'TEDxProvidence'\n",
            " 'TED Fellows Retreat 2015' 'TED Fellows 2015' 'TEDxCannes'\n",
            " 'Mission Blue II' 'TED@UPS' 'TEDxToulouse' 'TEDYouth 2015'\n",
            " 'TEDxGroningen' 'TEDGlobal>Geneva' 'TEDxYouth@Sydney'\n",
            " 'TEDxAmoskeagMillyard' 'TEDMED 2015' 'TEDxUM' 'TEDxCreativeCoast'\n",
            " 'TED2016' 'TED Talks Live' 'Global Witness' 'TEDActive 2015'\n",
            " 'TEDxGatewayWomen' 'TEDxEastEnd' 'TED@BCG Paris' 'TEDSummit'\n",
            " 'TEDxDesMoines' 'TEDxColoradoSprings' 'TEDNYC' 'TEDxUniversityofNevada'\n",
            " 'TEDxMontreal' 'TEDxIndianaUniversity' 'TEDWomen 2016' 'TED Residency'\n",
            " 'TEDxToronto' 'TEDxMtHood' 'TEDxGhent' 'TEDxSaltLakeCity' 'TEDxOmaha'\n",
            " 'TEDxSFU' 'TEDMED 2016' 'TEDxPortland' 'TEDxManchester' 'TEDxMileHigh'\n",
            " 'TED Dialogues' 'TEDxNatick' 'TEDxFrankfurt' 'TED-Ed Weekend'\n",
            " 'TEDxColumbusWomen' 'TEDxEuston' 'TEDxSanQuentin' 'TEDLagos Ideas Search'\n",
            " 'TEDxVirginiaTech' 'TED2017' 'TEDxSkoll' 'TEDNairobi Ideas Search'\n",
            " 'TEDxFulbrightDublin' 'TEDxOrcasIsland' 'TEDxPennsylvaniaAvenue'\n",
            " 'TEDxCrenshaw' 'TEDxHamburg' 'TEDGlobal 2017' 'TEDxZurich'\n",
            " 'TEDGlobal>NYC' 'TEDxCharlottesville' 'TED@BCG Milan' 'TEDWomen 2017'\n",
            " 'TEDxPasadena' 'TEDxMileHighWomen' 'TED Salon Brightline Initiative'\n",
            " 'TEDxYouth@Bath' 'TEDxStormontWomen' 'TED@Tommy' 'TEDxLeuven'\n",
            " 'TED Talks India' 'TED@Merck KGaA, Darmstadt, Germany'\n",
            " 'TEDxVermilionStreet' 'TED@Westpac' 'TEDxPaloAlto' 'TEDxYorkU'\n",
            " 'TEDxOhioStateUniversity' 'TEDMED 2017' 'TEDxSnoIsleLibraries'\n",
            " 'TEDxUppsalaUniversity' 'TEDxUniversityofMississippi'\n",
            " 'Small Thing Big Idea' 'TEDxMalagueta' 'TEDxCoconutGrove' 'TEDxTysons'\n",
            " 'TEDxBerkleeValencia' 'TEDxHull' 'Torchbearers' 'TED2018'\n",
            " 'TEDxMidAtlantic 2017' 'TEDxLincolnSquare' 'TEDxMadrid' 'TEDxParis'\n",
            " 'TEDxLSU' 'TED en Español en NYC' 'DIY Neuroscience' 'TEDxAustinWomen'\n",
            " 'TEDxFIU' 'TEDxUCDavis' 'TEDxUIdaho' 'TEDxVCU' 'TEDxLondon'\n",
            " 'TEDxKakumaCamp' 'TEDxOrlando' 'TEDxYouth@Beaconstreet' 'TEDxKlagenfurt'\n",
            " 'TED Salon Optum' 'TEDxFondduLac' 'TEDxMemphis' 'TEDxLivoniaCCLibrary'\n",
            " 'TEDxGalway' 'TEDxBroadway' 'TED Salon Verizon' 'TEDxDePaulUniversity'\n",
            " 'TED Salon Samsung' 'We the Future' 'TEDxUofT' 'TED@BCG Toronto'\n",
            " 'TEDxVeniceBeach' 'TEDxGateway' 'TEDxUWLaCrosse' 'TEDxSanFrancisco'\n",
            " 'TED Salon Zebra Technologies' 'TED Salon: Radical Craft' 'TEDWomen 2018'\n",
            " 'TEDxUGA' 'TEDxBrisbane' 'TED Salon: Belonging' 'TEDxPurdueU'\n",
            " 'TEDxStockholm' 'TEDxSalford' 'TEDxCoventGardenWomen' 'The Way We Work'\n",
            " 'TEDMED 2018' 'TED Salon Doha Debates' 'TEDxNantes'\n",
            " 'TED Salon: Education Everywhere' 'TED Salon U.S. Air Force'\n",
            " 'TEDxUHasselt' 'TEDxProvincetown' 'TEDxAmsterdamWomen' 'TEDxAarhus'\n",
            " 'TEDxSeattle' 'TEDxAuckland' 'TEDxShimizu' 'TED2019' 'Arbejdsglaede Live'\n",
            " 'TEDxCreightonU' 'TEDxAlbertopolis' 'TEDxRapidCity' 'TEDxCuauhtémoc'\n",
            " 'TEDxTaipei' 'TEDxBeaconStreetSalon' 'TEDxJacksonHole'\n",
            " 'TED Salon The Macallan' 'TEDxMünchen' 'TEDSummit 2019' 'TEDxWanChai'\n",
            " 'TEDxYouth@München' 'TEDxFergusonLibrary' 'TED Salon Border Stories'\n",
            " 'TEDxYouth@Valladolid' 'TED@DuPont' 'TEDxBasel' 'TEDxJacksonville'\n",
            " 'TED@BCG Mumbai' 'TEDxRiga' 'TED Talks India: Nayi Baat'\n",
            " 'TED Masterclass' 'TED@NAS' 'TEDxSantaClaraUniversity' 'TEDWomen 2019'\n",
            " 'Countdown' 'TEDxChristchurch' 'TEDxNashville' 'TED@WellsFargo'\n",
            " 'Currently' 'TEDxUCLA' 'TEDxEasthamptonWomen' 'TEDxCordoba'\n",
            " 'The TED Interview' 'TEDxStCloud' 'TED Connects' 'TEDxEindhoven'\n",
            " 'TEDxQueensU' 'TEDxDetroit' 'TEDxTufts' 'TED2020: The Prequel']\n",
            "\u001b[1m\u001b[34mUnique values for native_lang:\u001b[0m\n",
            "['en' 'fr' 'de' 'pt' 'ko' 'zh-cn' 'ar' 'pt-br' 'es' 'ja' 'it' 'hi']\n",
            "\u001b[1m\u001b[34mUnique values for available_lang:\u001b[0m\n",
            "[\"['ar', 'bg', 'cs', 'de', 'el', 'en', 'es', 'fa', 'fr', 'fr-ca', 'gl', 'gu', 'he', 'hi', 'hr', 'hu', 'id', 'it', 'ja', 'ko', 'lt', 'lv', 'mk', 'nl', 'pl', 'pt', 'pt-br', 'ro', 'ru', 'sk', 'sl', 'sq', 'sr', 'sv', 'sw', 'th', 'tl', 'tr', 'uk', 'ur', 'vi', 'zh-cn', 'zh-tw']\"\n",
            " \"['ar', 'az', 'bg', 'bn', 'bs', 'cs', 'da', 'de', 'el', 'en', 'es', 'et', 'fa', 'fi', 'fr', 'he', 'hi', 'hr', 'hu', 'id', 'is', 'it', 'ja', 'kn', 'ko', 'ku', 'lv', 'mk', 'ml', 'mn', 'nl', 'pl', 'pt', 'pt-br', 'ro', 'ru', 'sk', 'sr', 'sv', 'sw', 'ta', 'te', 'th', 'tr', 'uk', 'ur', 'vi', 'zh-cn', 'zh-tw']\"\n",
            " \"['ar', 'bg', 'de', 'el', 'en', 'es', 'fa', 'fr', 'he', 'hr', 'hu', 'it', 'ja', 'ko', 'nb', 'nl', 'pl', 'pt', 'pt-br', 'ro', 'ru', 'sr', 'tr', 'vi', 'zh-cn', 'zh-tw']\"\n",
            " ... \"['en', 'es', 'lv']\" \"['en', 'fr', 'my', 'tr']\"\n",
            " \"['en', 'es', 'my', 'pt-br']\"]\n",
            "\u001b[1m\u001b[34mUnique values for comments:\u001b[0m\n",
            "[2.720e+02 6.280e+02 1.240e+02 2.190e+02 4.931e+03 4.800e+01 9.800e+02\n",
            " 9.190e+02 9.300e+02 5.900e+01 8.400e+01 8.100e+01 1.030e+02 2.420e+02\n",
            " 3.160e+02 3.390e+02 1.010e+02 1.680e+02 8.900e+01 1.090e+02 1.930e+02\n",
            " 5.200e+01 6.050e+02 1.210e+02 5.330e+02 2.060e+02 3.690e+02 9.800e+01\n",
            " 1.051e+03 1.065e+03 2.270e+02 6.240e+02 6.000e+01 7.700e+01 7.500e+01\n",
            " 4.300e+01 1.960e+02 6.400e+01 3.300e+01 1.130e+02 5.300e+02 1.600e+02\n",
            " 2.470e+02 5.400e+01 9.900e+01 2.090e+02 6.420e+02 8.800e+01 5.290e+02\n",
            " 3.980e+02 6.200e+01 2.070e+02 1.400e+02 1.000e+02 1.140e+02 2.800e+01\n",
            " 6.500e+01 2.550e+02 1.180e+02 9.000e+01 1.060e+02 1.340e+02 1.290e+02\n",
            " 3.000e+01 1.380e+02 5.100e+01 1.330e+02 1.540e+02 4.400e+01 9.500e+01\n",
            " 3.460e+02 1.070e+02 3.500e+01 2.370e+02 1.650e+02 3.900e+01 3.400e+01\n",
            " 5.350e+02 3.210e+02 2.350e+02 5.800e+01 5.000e+01 6.449e+03 6.010e+02\n",
            " 4.200e+01 6.900e+01 6.300e+01 3.590e+02 2.440e+02 9.200e+01 2.970e+02\n",
            " 2.600e+02 1.250e+02 2.310e+02 1.500e+01 3.070e+02 2.300e+01 2.680e+02\n",
            " 2.490e+02 4.050e+02 1.550e+02 1.480e+02 1.370e+02 2.920e+02 1.350e+02\n",
            " 8.200e+01 1.900e+02 1.190e+02 1.520e+02 8.000e+01 1.110e+02 1.620e+02\n",
            " 1.420e+02 3.090e+02 1.310e+02 7.200e+02 1.800e+02 7.400e+01 8.600e+01\n",
            " 3.100e+01 2.360e+02 4.610e+02 3.180e+02 4.360e+02 2.940e+02 4.900e+01\n",
            " 1.910e+02 1.640e+02 6.400e+02 1.860e+02 4.570e+02 4.980e+02 5.820e+02\n",
            " 2.150e+02 6.700e+01 1.710e+02 5.300e+01 2.700e+01 7.000e+01 1.410e+02\n",
            " 2.984e+03 9.000e+00 4.660e+02 1.690e+02 8.300e+01 5.990e+02 6.720e+02\n",
            " 2.620e+02 9.400e+01 1.580e+02 5.550e+02 3.020e+02 3.200e+01 7.200e+01\n",
            " 3.080e+02 2.290e+02 1.970e+02 6.800e+01 7.900e+01 1.440e+02 3.660e+02\n",
            " 1.830e+02 2.300e+02 1.430e+02 6.830e+02 2.050e+02 4.100e+01 1.760e+02\n",
            " 6.100e+01 8.070e+02 6.110e+02 6.870e+02 1.600e+01 1.450e+02 3.600e+01\n",
            " 9.600e+01 1.700e+01 2.800e+02 9.300e+01 1.500e+02 5.700e+01 1.820e+02\n",
            " 1.020e+02 5.500e+01 7.600e+01 7.300e+01 1.200e+01 1.004e+03 4.000e+01\n",
            " 2.990e+02 8.500e+01 1.730e+02 1.840e+02 2.850e+02 2.600e+01 1.260e+02\n",
            " 2.900e+01 2.220e+02 3.800e+01 1.100e+02 1.630e+02 4.700e+01 2.610e+02\n",
            " 3.700e+01 1.320e+02 1.900e+01 1.040e+02 4.600e+01 1.160e+02 2.400e+01\n",
            " 2.200e+01 1.170e+02 5.600e+01 4.930e+02 1.713e+03 2.100e+01 5.270e+02\n",
            " 4.490e+02 1.360e+02 2.040e+02 2.570e+02 2.140e+02 2.560e+02 4.160e+02\n",
            " 7.740e+02 1.880e+02 2.750e+02 2.930e+02 2.460e+02 1.200e+02 1.230e+02\n",
            " 2.780e+02 1.800e+01 3.010e+02 2.670e+02 4.400e+02 1.460e+02 2.810e+02\n",
            " 6.600e+01 2.000e+01 2.100e+02 1.080e+02 8.620e+02 2.860e+02 4.030e+02\n",
            " 6.160e+02 3.350e+02 6.080e+02 2.880e+02 3.240e+02 1.490e+02 1.810e+02\n",
            " 1.920e+02 3.570e+02 7.620e+02 1.150e+02 9.700e+01 4.110e+02 4.250e+02\n",
            " 5.140e+02 1.590e+02 3.110e+02 5.180e+02 5.170e+02 6.250e+02 7.790e+02\n",
            " 4.060e+02 1.570e+02 1.164e+03 9.100e+01 4.040e+02 2.280e+02 3.540e+02\n",
            " 3.300e+02 1.850e+02 3.360e+02 7.100e+01 1.356e+03 2.510e+02 2.960e+02\n",
            " 3.520e+02 1.890e+02 2.160e+02 2.380e+02 3.130e+02 7.800e+01 1.336e+03\n",
            " 4.910e+02 1.530e+02 6.200e+02 4.180e+02 2.020e+02 5.680e+02 1.750e+02\n",
            " 1.700e+02 3.890e+02 3.270e+02 3.260e+02 4.810e+02 2.590e+02 1.222e+03\n",
            " 2.110e+02 2.580e+02 1.027e+03 4.070e+02 1.940e+02 4.790e+02 2.030e+02\n",
            " 2.120e+02 3.370e+02 1.469e+03 1.050e+02 3.424e+03 2.740e+02 8.500e+02\n",
            " 2.760e+02 1.950e+02 2.366e+03 1.635e+03 2.830e+02 2.079e+03 3.550e+02\n",
            " 4.680e+02 6.900e+02 5.840e+02 1.274e+03 3.140e+02 1.502e+03 2.320e+02\n",
            " 3.530e+02 4.840e+02 1.470e+02 3.950e+02 4.990e+02 9.350e+02 1.510e+02\n",
            " 1.008e+03 2.390e+02 7.110e+02 3.780e+02 1.390e+02 6.380e+02 3.820e+02\n",
            " 4.650e+02 1.244e+03 9.400e+02 8.160e+02 5.950e+02 9.760e+02 1.870e+02\n",
            " 5.470e+02 2.910e+02 3.030e+02 2.430e+02 4.130e+02 5.910e+02 6.430e+02\n",
            " 6.340e+02 3.380e+02 4.950e+02 2.180e+02 3.790e+02 1.610e+02 2.340e+02\n",
            " 4.230e+02 3.770e+02 5.230e+02 9.660e+02 3.290e+02 7.400e+02 2.690e+02\n",
            " 3.490e+02 8.380e+02 8.850e+02 3.100e+02 6.230e+02 8.050e+02 3.730e+02\n",
            " 3.150e+02 9.460e+02 2.260e+02 9.270e+02 2.209e+03 4.580e+02 2.463e+03\n",
            " 2.130e+02 6.060e+02 6.600e+02 3.610e+02 1.023e+03 3.320e+02 2.000e+02\n",
            " 2.450e+02 2.820e+02 5.600e+02 1.660e+02 3.880e+02 5.750e+02 1.300e+02\n",
            " 6.730e+02 7.850e+02 2.230e+02 3.050e+02 2.080e+02 2.870e+02 5.370e+02\n",
            " 5.150e+02 3.000e+02 5.250e+02 3.060e+02 4.350e+02 3.330e+02 1.740e+02\n",
            " 2.529e+03 3.450e+02 2.890e+02 9.160e+02 2.170e+02 1.990e+02 6.700e+02\n",
            " 3.040e+02 4.530e+02 3.900e+02 4.170e+02 6.860e+02 3.120e+02 3.850e+02\n",
            " 2.480e+02 6.130e+02 3.230e+02 5.540e+02 3.250e+02 6.570e+02 2.710e+02\n",
            " 3.650e+02 1.081e+03 2.730e+02 5.120e+02 3.340e+02 2.210e+02 8.700e+01\n",
            "       nan 3.410e+02 1.366e+03 1.120e+02 6.950e+02 4.150e+02 2.330e+02\n",
            " 5.240e+02 6.370e+02 9.780e+02 3.720e+02 4.500e+01 7.910e+02 4.600e+02\n",
            " 3.940e+02 1.303e+03 8.010e+02 8.950e+02 2.250e+02 3.310e+02 1.002e+03\n",
            " 4.540e+02 5.100e+02 3.680e+02 5.360e+02 1.280e+02 6.510e+02 4.430e+02\n",
            " 6.490e+02 6.660e+02 4.320e+02 2.520e+02 4.340e+02 5.160e+02 2.630e+02\n",
            " 3.920e+02 3.170e+02 5.850e+02 4.640e+02 1.670e+02 2.010e+02 2.900e+02\n",
            " 4.090e+02 4.830e+02 5.420e+02 4.670e+02 4.710e+02 1.720e+02 2.633e+03\n",
            " 3.580e+02 3.280e+02 6.930e+02 8.300e+02 8.330e+02 3.930e+02 1.780e+02\n",
            " 9.170e+02 6.750e+02 8.430e+02 8.660e+02 4.410e+02 3.190e+02 3.510e+02\n",
            " 5.660e+02 2.790e+02 8.600e+02 1.755e+03 1.450e+03 7.420e+02 1.510e+03\n",
            " 4.190e+02 1.790e+02 4.440e+02 9.590e+02 3.220e+02 7.430e+02 3.750e+02\n",
            " 4.890e+02 7.150e+02 4.760e+02 8.130e+02 6.640e+02 1.005e+03 3.400e+02\n",
            " 1.024e+03 5.380e+02 3.420e+02 1.020e+03 1.706e+03 6.350e+02 1.220e+02\n",
            " 6.940e+02 8.260e+02 5.920e+02 5.040e+02 5.610e+02 4.750e+02 2.700e+02\n",
            " 1.980e+02 2.650e+02 5.200e+02 8.730e+02 1.770e+02 2.660e+02 1.050e+03\n",
            " 2.240e+02 8.410e+02 4.010e+02 7.030e+02 3.640e+02 5.530e+02 1.270e+02\n",
            " 4.290e+02 4.480e+02 3.440e+02 4.020e+02 4.730e+02 1.260e+03 3.630e+02\n",
            " 3.006e+03 1.055e+03 5.650e+02 4.300e+02 2.500e+01 3.500e+02 1.557e+03\n",
            " 4.390e+02 4.220e+02 4.900e+02 2.530e+02 4.550e+02 4.380e+02 9.620e+02\n",
            " 3.470e+02 5.780e+02 6.780e+02 8.840e+02 4.080e+02 1.560e+02 5.590e+02\n",
            " 2.400e+02 2.640e+02 1.400e+01 6.000e+00 1.000e+01 2.500e+02 4.460e+02\n",
            " 2.840e+02 1.100e+01 1.300e+01 7.000e+00 5.000e+00 8.000e+00 4.000e+00\n",
            " 3.000e+00 2.000e+00 1.000e+00 5.020e+02 4.620e+02 7.610e+02 0.000e+00]\n",
            "\u001b[1m\u001b[34mUnique values for duration:\u001b[0m\n",
            "[ 977 1190 1286 ... 3740 3007 3160]\n",
            "\u001b[1m\u001b[34mUnique values for topics:\u001b[0m\n",
            "[\"['alternative energy', 'cars', 'climate change', 'culture', 'environment', 'global issues', 'science', 'sustainability', 'technology']\"\n",
            " \"['Africa', 'Asia', 'Google', 'demo', 'economics', 'global issues', 'health', 'statistics', 'global development', 'visualizations', 'math']\"\n",
            " \"['computers', 'entertainment', 'interface design', 'media', 'music', 'performance', 'simplicity', 'software', 'technology']\"\n",
            " ... \"['society', 'law', 'policy', 'justice system', 'TEDx']\"\n",
            " \"['TED-Ed', 'education', 'animation', 'United States', 'women', 'feminism', 'Slavery', 'race', 'history', 'activism', 'speech', 'war', 'religion', 'storytelling']\"\n",
            " \"['animals', 'TED-Ed', 'animation', 'oceans', 'science', 'education', 'biology', 'climate change']\"]\n",
            "\u001b[1m\u001b[34mUnique values for related_talks:\u001b[0m\n",
            "['{243: \\'New thinking on the climate crisis\\', 547: \\'The business logic of sustainability\\', 2093: \\'The state of the climate — and what we might do about it\\', 54715: \\'How we can turn the tide on climate\\', 29968: \\'The most important thing you can do to fight climate change: talk about it\\', 2339: \"Climate change is happening. Here\\'s how we adapt\"}'\n",
            " '{2056: \"Own your body\\'s data\", 2296: \\'A visual history of human knowledge\\', 620: \\'Let my dataset change your mindset\\', 2806: \"Doesn\\'t everyone deserve a chance at a good life?\", 2560: \\'How Africa can keep rising\\', 1418: \"Let\\'s put birth control back on the agenda\"}'\n",
            " \"{1725: '10 top time-saving tech tips', 2274: 'The first secret of design is ... noticing', 172: 'Designing for simplicity', 2664: 'Meet the inventor of the electronic spreadsheet', 2464: 'The mind behind Linux', 1347: 'The secret structure of great talks'}\"\n",
            " ...\n",
            " '{2406: \\'I love being a police officer, but we need reform\\', 60315: \\'How forgiveness can create a more just legal system\\', 8421: \"How to put the power of law in people\\'s hands\", 2675: \\'How jails extort the poor\\', 2149: \\'The small and surprisingly dangerous detail the police track about you\\', 2453: \"A prosecutor\\'s vision for a better justice system\"}'\n",
            " '{20973: \\'The breathtaking courage of Harriet Tubman\\', 36408: \"The historic women\\'s suffrage march on Washington\", 31780: \\'How one journalist risked her life to hold murderers accountable\\', 2219: \\'A tale of two Americas. And the mini-mart where they collided\\', 4873: \\'Get comfortable with being uncomfortable\\', 2451: \\'The gospel of doubt\\'}'\n",
            " '{62347: \\'The bug that poops candy\\', 29159: \\'Inside the killer whale matriarchy\\', 45539: \\'How turtle shells evolved... twice\\', 17733: \"Let\\'s turn the high seas into the world\\'s largest nature reserve\", 1011: \\'Making law on the high seas\\', 41226: \\'The lovable (and lethal) sea lion\\'}']\n",
            "\u001b[1m\u001b[34mUnique values for url:\u001b[0m\n",
            "['https://www.ted.com/talks/al_gore_averting_the_climate_crisis/'\n",
            " 'https://www.ted.com/talks/hans_rosling_the_best_stats_you_ve_ever_seen/'\n",
            " 'https://www.ted.com/talks/david_pogue_simplicity_sells/' ...\n",
            " 'https://www.ted.com/talks/dick_m_carpenter_ii_how_policing_for_profit_undermines_your_rights/'\n",
            " 'https://www.ted.com/talks/daina_ramey_berry_the_electrifying_speeches_of_sojourner_truth/'\n",
            " 'https://www.ted.com/talks/cella_wright_the_most_important_anus_in_the_ocean/']\n",
            "\u001b[1m\u001b[34mUnique values for description:\u001b[0m\n",
            "['With the same humor and humanity he exuded in \"An Inconvenient Truth,\" Al Gore spells out 15 ways that individuals can address climate change immediately, from buying a hybrid to inventing a new, hotter brand name for global warming.'\n",
            " 'You\\'ve never seen data presented like this. With the drama and urgency of a sportscaster, statistics guru Hans Rosling debunks myths about the so-called \"developing world.\"'\n",
            " 'New York Times columnist David Pogue takes aim at technology’s worst interface-design offenders, and provides encouraging examples of products that get it right. To funny things up, he bursts into song.'\n",
            " ...\n",
            " 'Many countries have an active, centuries-old law that allows government agencies to take your things -- your house, your car, your business -- without ever convicting you of a crime. Law researcher Dick M. Carpenter II exposes how this practice of civil forfeiture threatens your rights and creates a huge monetary incentive for law enforcement to pocket your possessions -- and he lays out a path to end \"policing for profit\" once and for all.'\n",
            " 'Isabella Baumfree was born into slavery in late 18th century New York. Fleeing bondage with her youngest daughter, she renamed herself Sojourner Truth and embarked on a legendary speaking tour. She became known as an electrifying orator and her speeches impacted thousands of people in communities across the United States. Daina Ramey Berry details the life of the outspoken activist. [Directed by WOW-HOW Studio, narrated by Christina Greer, music by Stephen LaRosa].'\n",
            " \"Is it a fuzzy sock? An overripe banana? A moldy tube of toothpaste? In fact, it's a humble sea cucumber: a brainless, fleshy form surrounding a digestive tract, and bookended by a mouth and an anus. And while it might look odd, its daily toil paves the way for entire ecosystems to thrive. Cella Wright journeys to the bottom of the ocean to explore the lives of these sausage-shaped wonders. [Directed by Guto BR, Flávia Godoy and Lívia Serri Francoio, narrated by Bethany Cutmore-Scott, music by Jarrett Farkas].\"]\n",
            "\u001b[1m\u001b[34mUnique values for transcript:\u001b[0m\n",
            "['Thank you so much, Chris. And it\\'s truly a great honor to have the opportunity to come to this stage twice; I\\'m extremely grateful. I have been blown away by this conference, and I want to thank all of you for the many nice comments about what I had to say the other night. And I say that sincerely, partly because (Mock sob) I need that. (Laughter) Put yourselves in my position. (Laughter) I flew on Air Force Two for eight years. (Laughter) Now I have to take off my shoes or boots to get on an airplane! (Laughter) (Applause) I\\'ll tell you one quick story to illustrate what that\\'s been like for me. (Laughter) It\\'s a true story — every bit of this is true. Soon after Tipper and I left the — (Mock sob) White House — (Laughter) we were driving from our home in Nashville to a little farm we have 50 miles east of Nashville. Driving ourselves. (Laughter) I know it sounds like a little thing to you, but — (Laughter) I looked in the rear-view mirror and all of a sudden it just hit me. There was no motorcade back there. (Laughter) You\\'ve heard of phantom limb pain? (Laughter) This was a rented Ford Taurus. (Laughter) It was dinnertime, and we started looking for a place to eat. We were on I-40. We got to Exit 238, Lebanon, Tennessee. We got off the exit, we found a Shoney\\'s restaurant. Low-cost family restaurant chain, for those of you who don\\'t know it. We went in and sat down at the booth, and the waitress came over, made a big commotion over Tipper. (Laughter) She took our order, and then went to the couple in the booth next to us, and she lowered her voice so much, I had to really strain to hear what she was saying. And she said \"Yes, that\\'s former Vice President Al Gore and his wife, Tipper.\" And the man said, \"He\\'s come down a long way, hasn\\'t he?\" (Laughter) (Applause) There\\'s been kind of a series of epiphanies. (Laughter) The very next day, continuing the totally true story, I got on a G-V to fly to Africa to make a speech in Nigeria, in the city of Lagos, on the topic of energy. And I began the speech by telling them the story of what had just happened the day before in Nashville. And I told it pretty much the same way I\\'ve just shared it with you: Tipper and I were driving ourselves, Shoney\\'s, low-cost family restaurant chain, what the man said — they laughed. I gave my speech, then went back out to the airport to fly back home. I fell asleep on the plane until, during the middle of the night, we landed on the Azores Islands for refueling. I woke up, they opened the door, I went out to get some fresh air, and I looked, and there was a man running across the runway. And he was waving a piece of paper, and he was yelling, \"Call Washington! Call Washington!\" And I thought to myself, in the middle of the night, in the middle of the Atlantic, what in the world could be wrong in Washington? Then I remembered it could be a bunch of things. (Laughter) But what it turned out to be, was that my staff was extremely upset because one of the wire services in Nigeria had already written a story about my speech, and it had already been printed in cities all across the United States of America. It was printed in Monterey, I checked. (Laughter) And the story began, \"Former Vice President Al Gore announced in Nigeria yesterday,\" quote: \\'My wife Tipper and I have opened a low-cost family restaurant\\'\" — (Laughter) \"\\'named Shoney\\'s, and we are running it ourselves.\\'\" (Laughter) Before I could get back to U.S. soil, David Letterman and Jay Leno had already started in on — one of them had me in a big white chef\\'s hat, Tipper was saying, \"One more burger with fries!\" (Laughter) Three days later, I got a nice, long, handwritten letter from my friend and partner and colleague Bill Clinton, saying, \"Congratulations on the new restaurant, Al!\" (Laughter) We like to celebrate each other\\'s successes in life. (Laughter) I was going to talk about information ecology. But I was thinking that, since I plan to make a lifelong habit of coming back to TED, that maybe I could talk about that another time. (Applause) Chris Anderson: It\\'s a deal! (Applause) Al Gore: I want to focus on what many of you have said you would like me to elaborate on: What can you do about the climate crisis? I want to start with a couple of — I\\'m going to show some new images, and I\\'m going to recapitulate just four or five. Now, the slide show. I update the slide show every time I give it. I add new images, because I learn more about it every time I give it. It\\'s like beach-combing, you know? Every time the tide comes in and out, you find some more shells. Just in the last two days, we got the new temperature records in January. This is just for the United States of America. Historical average for Januarys is 31 degrees; last month was 39.5 degrees. Now, I know that you wanted some more bad news about the environment — I\\'m kidding. But these are the recapitulation slides, and then I\\'m going to go into new material about what you can do. But I wanted to elaborate on a couple of these. First of all, this is where we\\'re projected to go with the U.S. contribution to global warming, under business as usual. Efficiency in end-use electricity and end-use of all energy is the low-hanging fruit. Efficiency and conservation — it\\'s not a cost; it\\'s a profit. The sign is wrong. It\\'s not negative; it\\'s positive. These are investments that pay for themselves. But they are also very effective in deflecting our path. Cars and trucks — I talked about that in the slideshow, but I want you to put it in perspective. It\\'s an easy, visible target of concern — and it should be — but there is more global warming pollution that comes from buildings than from cars and trucks. Cars and trucks are very significant, and we have the lowest standards in the world. And so we should address that. But it\\'s part of the puzzle. Other transportation efficiency is as important as cars and trucks. Renewables at the current levels of technological efficiency can make this much difference. And with what Vinod, and John Doerr and others, many of you here — there are a lot of people directly involved in this — this wedge is going to grow much more rapidly than the current projection shows it. Carbon Capture and Sequestration — that\\'s what CCS stands for — is likely to become the killer app that will enable us to continue to use fossil fuels in a way that is safe. Not quite there yet. OK. Now, what can you do? Reduce emissions in your home. Most of these expenditures are also profitable. Insulation, better design. Buy green electricity where you can. I mentioned automobiles — buy a hybrid. Use light rail. Figure out some of the other options that are much better. It\\'s important. Be a green consumer. You have choices with everything you buy, between things that have a harsh effect, or a much less harsh effect on the global climate crisis. Consider this: Make a decision to live a carbon-neutral life. Those of you who are good at branding, I\\'d love to get your advice and help on how to say this in a way that connects with the most people. It is easier than you think. It really is. A lot of us in here have made that decision, and it is really pretty easy. It means reduce your carbon dioxide emissions with the full range of choices that you make, and then purchase or acquire offsets for the remainder that you have not completely reduced. And what it means is elaborated at climatecrisis.net. There is a carbon calculator. Participant Productions convened — with my active involvement — the leading software writers in the world, on this arcane science of carbon calculation, to construct a consumer-friendly carbon calculator. You can very precisely calculate what your CO2 emissions are, and then you will be given options to reduce. And by the time the movie comes out in May, this will be updated to 2.0, and we will have click-through purchases of offsets. Next, consider making your business carbon-neutral. Again, some of us have done that, and it\\'s not as hard as you think. Integrate climate solutions into all of your innovations, whether you are from the technology, or entertainment, or design and architecture community. Invest sustainably. Majora mentioned this. Listen, if you have invested money with managers who you compensate on the basis of their annual performance, don\\'t ever again complain about quarterly report CEO management. Over time, people do what you pay them to do. And if they judge how much they\\'re going to get paid on your capital that they\\'ve invested, based on the short-term returns, you\\'re going to get short-term decisions. A lot more to be said about that. Become a catalyst of change. Teach others, learn about it, talk about it. The movie is a movie version of the slideshow I gave two nights ago, except it\\'s a lot more entertaining. And it comes out in May. Many of you here have the opportunity to ensure that a lot of people see it. Consider sending somebody to Nashville. Pick well. And I am personally going to train people to give this slideshow — re-purposed, with some of the personal stories obviously replaced with a generic approach, and it\\'s not just the slides, it\\'s what they mean. And it\\'s how they link together. And so I\\'m going to be conducting a course this summer for a group of people that are nominated by different folks to come and then give it en masse, in communities all across the country, and we\\'re going to update the slideshow for all of them every single week, to keep it right on the cutting edge. Working with Larry Lessig, it will be, somewhere in that process, posted with tools and limited-use copyrights, so that young people can remix it and do it in their own way. (Applause) Where did anybody get the idea that you ought to stay arm\\'s length from politics? It doesn\\'t mean that if you\\'re a Republican, that I\\'m trying to convince you to be a Democrat. We need Republicans as well. This used to be a bipartisan issue, and I know that in this group it really is. Become politically active. Make our democracy work the way it\\'s supposed to work. Support the idea of capping carbon dioxide emissions — global warming pollution — and trading it. Here\\'s why: as long as the United States is out of the world system, it\\'s not a closed system. Once it becomes a closed system, with U.S. participation, then everybody who\\'s on a board of directors — how many people here serve on the board of directors of a corporation? Once it\\'s a closed system, you will have legal liability if you do not urge your CEO to get the maximum income from reducing and trading the carbon emissions that can be avoided. The market will work to solve this problem — if we can accomplish this. Help with the mass persuasion campaign that will start this spring. We have to change the minds of the American people. Because presently, the politicians do not have permission to do what needs to be done. And in our modern country, the role of logic and reason no longer includes mediating between wealth and power the way it once did. It\\'s now repetition of short, hot-button, 30-second, 28-second television ads. We have to buy a lot of those ads. Let\\'s re-brand global warming, as many of you have suggested. I like \"climate crisis\" instead of \"climate collapse,\" but again, those of you who are good at branding, I need your help on this. Somebody said the test we\\'re facing now, a scientist told me, is whether the combination of an opposable thumb and a neocortex is a viable combination. (Laughter) That\\'s really true. I said the other night, and I\\'ll repeat now: this is not a political issue. Again, the Republicans here — this shouldn\\'t be partisan. You have more influence than some of us who are Democrats do. This is an opportunity. Not just this, but connected to the ideas that are here, to bring more coherence to them. We are one. Thank you very much, I appreciate it. (Applause)'\n",
            " 'About 10 years ago, I took on the task to teach global development to Swedish undergraduate students. That was after having spent about 20 years, together with African institutions, studying hunger in Africa. So I was sort of expected to know a little about the world. And I started, in our medical university, Karolinska Institute, an undergraduate course called Global Health. But when you get that opportunity, you get a little nervous. I thought, these students coming to us actually have the highest grade you can get in the Swedish college system, so I thought, maybe they know everything I\\'m going to teach them about. So I did a pretest when they came. And one of the questions from which I learned a lot was this one: \"Which country has the highest child mortality of these five pairs?\" And I put them together so that in each pair of countries, one has twice the child mortality of the other. And this means that it\\'s much bigger, the difference, than the uncertainty of the data. I won\\'t put you at a test here, but it\\'s Turkey, which is highest there, Poland, Russia, Pakistan and South Africa. And these were the results of the Swedish students. I did it so I got the confidence interval, which is pretty narrow. And I got happy, of course — a 1.8 right answer out of five possible. That means there was a place for a professor of international health and for my course. (Laughter) But one late night, when I was compiling the report, I really realized my discovery. I have shown that Swedish top students know, statistically, significantly less about the world than the chimpanzees. (Laughter) Because the chimpanzee would score half right if I gave them two bananas with Sri Lanka and Turkey. They would be right half of the cases. But the students are not there. The problem for me was not ignorance; it was preconceived ideas. I did also an unethical study of the professors of the Karolinska Institute, which hands out the Nobel Prize in Medicine, and they are on par with the chimpanzee there. (Laughter) This is where I realized that there was really a need to communicate, because the data of what\\'s happening in the world and the child health of every country is very well aware. So we did this software, which displays it like this. Every bubble here is a country. This country over here is China. This is India. The size of the bubble is the population, and on this axis here, I put fertility rate. Because my students, what they said when they looked upon the world, and I asked them, \"What do you really think about the world?\" Well, I first discovered that the textbook was Tintin, mainly. (Laughter) And they said, \"The world is still \\'we\\' and \\'them.\\' And \\'we\\' is the Western world and \\'them\\' is the Third World.\" \"And what do you mean with \\'Western world?\\'\" I said. \"Well, that\\'s long life and small family. And \\'Third World\\' is short life and large family.\" So this is what I could display here. I put fertility rate here — number of children per woman: one, two, three, four, up to about eight children per woman. We have very good data since 1962, 1960, about, on the size of families in all countries. The error margin is narrow. Here, I put life expectancy at birth, from 30 years in some countries, up to about 70 years. And in 1962, there was really a group of countries here that were industrialized countries, and they had small families and long lives. And these were the developing countries. They had large families and they had relatively short lives. Now, what has happened since 1962? We want to see the change. Are the students right? It\\'s still two types of countries? Or have these developing countries got smaller families and they live here? Or have they got longer lives and live up there? Let\\'s see. We stopped the world then. This is all UN statistics that have been available. Here we go. Can you see there? It\\'s China there, moving against better health there, improving there. All the green Latin American countries are moving towards smaller families. Your yellow ones here are the Arabic countries, and they get longer life, but not larger families. The Africans are the green here. They still remain here. This is India; Indonesia is moving on pretty fast. In the \\'80s here, you have Bangladesh still among the African countries. But now, Bangladesh — it\\'s a miracle that happens in the \\'80s — the imams start to promote family planning, and they move up into that corner. And in the \\'90s, we have the terrible HIV epidemic that takes down the life expectancy of the African countries. And the rest of them all move up into the corner, where we have long lives and small family, and we have a completely new world. (Applause) (Applause ends) Let me make a comparison directly between the United States of America and Vietnam. 1964: America had small families and long life; Vietnam had large families and short lives. And this is what happens. The data during the war indicate that even with all the death, there was an improvement of life expectancy. By the end of the year, family planning started in Vietnam, and they went for smaller families. And the United States up there is getting longer life, keeping family size. And in the \\'80s now, they give up Communist planning and they go for market economy, and it moves faster even than social life. And today, we have in Vietnam the same life expectancy and the same family size here in Vietnam, 2003, as in United States, 1974, by the end of the war. I think we all, if we don\\'t look at the data, we underestimate the tremendous change in Asia, which was in social change before we saw the economic change. So let\\'s move over to another way here in which we could display the distribution in the world of income. This is the world distribution of income of people. One dollar, 10 dollars or 100 dollars per day. There\\'s no gap between rich and poor any longer. This is a myth. There\\'s a little hump here. But there are people all the way. And if we look where the income ends up, this is 100 percent of the world\\'s annual income. And the richest 20 percent, they take out of that about 74 percent. And the poorest 20 percent, they take about two percent. And this shows that the concept of developing countries is extremely doubtful. We think about aid, like these people here giving aid to these people here. But in the middle, we have most of the world population, and they have now 24 percent of the income. We heard it in other forms. And who are these? Where are the different countries? I can show you Africa. This is Africa. Ten percent of the world population, most in poverty. This is OECD — the rich countries, the country club of the UN. And they are over here on this side. Quite an overlap between Africa and OECD. And this is Latin America. It has everything on this earth, from the poorest to the richest in Latin America. And on top of that, we can put East Europe, we can put East Asia, and we put South Asia. And what did it look like if we go back in time, to about 1970? Then, there was more of a hump. And most who lived in absolute poverty were Asians. The problem in the world was the poverty in Asia. And if I now let the world move forward, you will see that while population increases, there are hundreds of millions in Asia getting out of poverty, and some others getting into poverty, and this is the pattern we have today. And the best projection from the World Bank is that this will happen, and we will not have a divided world. We\\'ll have most people in the middle. Of course it\\'s a logarithmic scale here, but our concept of economy is growth with percent. We look upon it as a possibility of percentile increase. If I change this and take GDP per capita instead of family income, and I turn these individual data into regional data of gross domestic product, and I take the regions down here, the size of the bubble is still the population. And you have the OECD there, and you have sub-Saharan Africa there, and we take off the Arab states there, coming both from Africa and from Asia, and we put them separately, and we can expand this axis, and I can give it a new dimension here, by adding the social values there, child survival. Now I have money on that axis, and I have the possibility of children to survive there. In some countries, 99.7% of children survive to five years of age; others, only 70. And here, it seems, there is a gap between OECD, Latin America, East Europe, East Asia, Arab states, South Asia and sub-Saharan Africa. The linearity is very strong between child survival and money. But let me split sub-Saharan Africa. Health is there and better health is up there. I can go here, and I can split sub-Saharan Africa into its countries. And when it bursts, the size of each country bubble is the size of the population. Sierra Leone down there, Mauritius is up there. Mauritius was the first country to get away with trade barriers, and they could sell their sugar, they could sell their textiles, on equal terms as the people in Europe and North America. There\\'s a huge difference [within] Africa. And Ghana is here in the middle. In Sierra Leone, humanitarian aid. Here in Uganda, development aid. Here, time to invest; there, you can go for a holiday. There\\'s tremendous variation within Africa, which we very often make that it\\'s equal everything. I can split South Asia here. India\\'s the big bubble in the middle. But there\\'s a huge difference between Afghanistan and Sri Lanka. I can split Arab states. How are they? Same climate, same culture, same religion — huge difference. Even between neighbors — Yemen, civil war; United Arab Emirates, money, which was quite equally and well-used. Not as the myth is. And that includes all the children of the foreign workers who are in the country. Data is often better than you think. Many people say data is bad. There is an uncertainty margin, but we can see the difference here: Cambodia, Singapore. The differences are much bigger than the weakness of the data. East Europe: Soviet economy for a long time, but they come out after 10 years very, very differently. And there is Latin America. Today, we don\\'t have to go to Cuba to find a healthy country in Latin America. Chile will have a lower child mortality than Cuba within some few years from now. Here, we have high-income countries in the OECD. And we get the whole pattern here of the world, which is more or less like this. And if we look at it, how the world looks, in 1960, it starts to move. This is Mao Zedong. He brought health to China. And then he died. And then Deng Xiaoping came and brought money to China, and brought them into the mainstream again. And we have seen how countries move in different directions like this, so it\\'s sort of difficult to get an example country which shows the pattern of the world. But I would like to bring you back to about here, at 1960. I would like to compare South Korea, which is this one, with Brazil, which is this one. The label went away for me here. And I would like to compare Uganda, which is there. I can run it forward, like this. And you can see how South Korea is making a very, very fast advancement, whereas Brazil is much slower. And if we move back again, here, and we put trails on them, like this, you can see again that the speed of development is very, very different, and the countries are moving more or less at the same rate as money and health, but it seems you can move much faster if you are healthy first than if you are wealthy first. And to show that, you can put on the way of United Arab Emirates. They came from here, a mineral country. They cached all the oil; they got all the money; but health cannot be bought at the supermarket. You have to invest in health. You have to get kids into schooling. You have to train health staff. You have to educate the population. And Sheikh Zayed did that in a fairly good way. In spite of falling oil prices, he brought this country up here. So we\\'ve got a much more mainstream appearance of the world, where all countries tend to use their money better than they used it in the past. Now, this is, more or less, if you look at the average data of the countries — they are like this. That\\'s dangerous, to use average data, because there is such a lot of difference within countries. So if I go and look here, we can see that Uganda today is where South Korea was in 1960. If I split Uganda, there\\'s quite a difference within Uganda. These are the quintiles of Uganda. The richest 20 percent of Ugandans are there. The poorest are down there. If I split South Africa, it\\'s like this. And if I go down and look at Niger, where there was such a terrible famine [recently], it\\'s like this. The 20 percent poorest of Niger is out here, and the 20 percent richest of South Africa is there, and yet we tend to discuss what solutions there should be in Africa. Everything in this world exists in Africa. And you can\\'t discuss universal access to HIV [treatment] for that quintile up here with the same strategy as down here. The improvement of the world must be highly contextualized, and it\\'s not relevant to have it on a regional level. We must be much more detailed. We find that students get very excited when they can use this. And even more, policy makers and the corporate sectors would like to see how the world is changing. Now, why doesn\\'t this take place? Why are we not using the data we have? We have data in the United Nations, in the national statistical agencies and in universities and other nongovernmental organizations. Because the data is hidden down in the databases. And the public is there, and the internet is there, but we have still not used it effectively. All that information we saw changing in the world does not include publicly funded statistics. There are some web pages like this, you know, but they take some nourishment down from the databases, but people put prices on them, stupid passwords and boring statistics. (Laughter) And this won\\'t work. (Applause) So what is needed? We have the databases. It\\'s not a new database that you need. We have wonderful design tools and more and more are added up here. So we started a nonprofit venture linking data to design, we called \"Gapminder,\" from the London Underground, where they warn you, \"Mind the gap.\" So we thought Gapminder was appropriate. And we started to write software which could link the data like this. And it wasn\\'t that difficult. It took some person years, and we have produced animations. You can take a data set and put it there. We are liberating UN data, some few UN organization. Some countries accept that their databases can go out on the world. But what we really need is, of course, a search function, a search function where we can copy the data up to a searchable format and get it out in the world. And what do we hear when we go around? I\\'ve done anthropology on the main statistical units. Everyone says, \"It\\'s impossible. This can\\'t be done. Our information is so peculiar in detail, so that cannot be searched as others can be searched. We cannot give the data free to the students, free to the entrepreneurs of the world.\" But this is what we would like to see, isn\\'t it? The publicly funded data is down here. And we would like flowers to grow out on the net. One of the crucial points is to make them searchable, and then people can use the different design tools to animate it there. And I have pretty good news for you. I have good news that the [current], new head of UN statistics doesn\\'t say it\\'s impossible. He only says, \"We can\\'t do it.\" (Laughter) And that\\'s a quite clever guy, huh? (Laughter) So we can see a lot happening in data in the coming years. We will be able to look at income distributions in completely new ways. This is the income distribution of China, 1970. This is the income distribution of the United States, 1970. Almost no overlap. Almost no overlap. And what has happened? What has happened is this: that China is growing, it\\'s not so equal any longer, and it\\'s appearing here, overlooking the United States, almost like a ghost, isn\\'t it? (Laughter) It\\'s pretty scary. (Laughter) But I think it\\'s very important to have all this information. We need really to see it. And instead of looking at this, I would like to end up by showing the internet users per 1,000. In this software, we access about 500 variables from all the countries quite easily. It takes some time to change for this, but on the axes, you can quite easily get any variable you would like to have. And the thing would be to get up the databases free, to get them searchable, and with a second click, to get them into the graphic formats, where you can instantly understand them. Now, statisticians don\\'t like it, because they say that this will not show the reality; we have to have statistical, analytical methods. But this is hypothesis-generating. I end now with the world. There, the internet is coming. The number of internet users are going up like this. This is the GDP per capita. And it\\'s a new technology coming in, but then amazingly, how well it fits to the economy of the countries. That\\'s why the $100 computer will be so important. But it\\'s a nice tendency. It\\'s as if the world is flattening off, isn\\'t it? These countries are lifting more than the economy, and it will be very interesting to follow this over the year, as I would like you to be able to do with all the publicly funded data. Thank you very much. (Applause)'\n",
            " '(Music: \"The Sound of Silence,\" Simon & Garfunkel) Hello voice mail, my old friend. (Laughter) I\\'ve called for tech support again. I ignored my boss\\'s warning. I called on a Monday morning. Now it\\'s evening, and my dinner first grew cold, and then grew mold. I\\'m still on hold. I\\'m listening to the sounds of silence. I don\\'t think you understand. I think your phone lines are unmanned. I punched every touch tone I was told, but I\\'ve still spent 18 hours on hold. It\\'s not enough your software crashed my Mac, and it constantly hangs and bombs — it erased my ROMs! Now the Mac makes the sounds of silence. In my dreams I fantasize of wreaking vengeance on you guys. Say your motorcycle crashes. Blood comes gushing from your gashes. With your fading strength, you call 9-1-1 and you pray for a trained MD. But you get me. (Laughter) And you listen to the sounds of silence. (Music) (Applause) Thank you. Good evening and welcome to: \"Spot the TED Presenter Who Used to Be a Broadway Accompanist.\" (Laughter) When I was offered the Times column six years ago, the deal was like this: you\\'ll be sent the coolest, hottest, slickest new gadgets. Every week, it\\'ll arrive at your door. You get to try them out, play with them, evaluate them until the novelty wears out, before you have to send them back, and you\\'ll get paid for it. You can think about it, if you want. So, I\\'ve always been a technology nut, and I absolutely love it. The job, though, came with one small downside, and that is, they intended to publish my email address at the end of every column. And what I\\'ve noticed is — first of all, you get an incredible amount of email. If you ever are feeling lonely, get a New York Times column, because you will get hundreds and hundreds and hundreds of emails. And the email I\\'m getting a lot today is about frustration. People are feeling like things — Ok, I just had an alarm come up on my screen. Lucky you can\\'t see it. People are feeling overwhelmed. They\\'re feeling like it\\'s too much technology, too fast. It may be good technology, but I feel like there\\'s not enough of a support structure. There\\'s not enough help. There\\'s not enough thought put into the design of it to make it easy and enjoyable to use. One time I wrote a column about my efforts to reach Dell Technical Support, and within 12 hours, there were 700 messages from readers on the feedback boards on the Times website, from users saying, \"\"Me too, and here\\'s my tale of woe.\" I call it \"software rage.\" And man, let me tell you, whoever figures out how to make money off of this frustration will — Oh, how did that get up there? Just kidding. (Laughter) Ok, so why is the problem accelerating? And part of the problem is, ironically, because the industry has put so much thought into making things easier to use. I\\'ll show you what I mean. This is what the computer interface used to look like, DOS. Over the years, it\\'s gotten easier to use. This is the original Mac operating system. Reagan was President. Madonna was still a brunette. And the entire operating system — this is the good part — the entire operating system fit in 211 k. You couldn\\'t put the Mac OS X logo in 211 k! (Laughter) So the irony is, that as these things became easier to use, a less technical, broader audience was coming into contact with this equipment for the first time. I once had the distinct privilege of sitting in on the Apple call center for a day. The guy had a duplicate headset for me to listen to. And the calls that — you know how they say, \"Your call may be recorded for quality assurance?\" Uh-uh. Your call may be recorded so that they can collect the funniest dumb user stories and pass them around on a CD. (Laughter) Which they do. (Laughter) And I have a copy. (Laughter) It\\'s in your gift bag. No, no. With your voices on it! So, some of the stories are just so classic, and yet so understandable. A woman called Apple to complain that her mouse was squeaking. Making a squeaking noise. And the technician said, \"Well, ma\\'am, what do you mean your mouse is squeaking?\" She says, \"All I can tell you is that it squeaks louder, the faster I move it across the screen.\" (Laughter) And the technician\\'s like, \"Ma\\'am, you\\'ve got the mouse up against the screen?\" She goes, \"Well, the message said, \\'Click here to continue.\\'\" (Laughter) Well, if you like that one — how much time have we got? Another one, a guy called — this is absolutely true — his computer had crashed, and he told the technician he couldn\\'t restart it, no matter how many times he typed \"11.\" And the technician said, \"What? Why are you typing 11?\" He said, \"The message says, \\'Error Type 11.\\'\" (Laughter) So, we must admit that some of the blame falls squarely at the feet of the users. But why is the technical overload crisis, the complexity crisis, accelerating now? In the hardware world, it\\'s because we the consumers want everything to be smaller, smaller, smaller. So the gadgets are getting tinier and tinier, but our fingers are essentially staying the same size. So it gets to be more and more of a challenge. Software is subject to another primal force: the mandate to release more and more versions. When you buy a piece of software, it\\'s not like buying a vase or a candy bar, where you own it. It\\'s more like joining a club, where you pay dues every year, and every year, they say, \"We\\'ve added more features, and we\\'ll sell it to you for $99.\" I know one guy who\\'s spent $4,000 just on Photoshop over the years. And software companies make 35 percent of their revenue from just these software upgrades. I call it the Software Upgrade Paradox — which is that if you improve a piece of software enough times, you eventually ruin it. I mean, Microsoft Word was last just a word processor in, you know, the Eisenhower administration. (Laughter) But what\\'s the alternative? Microsoft actually did this experiment. They said, \"Well, wait a minute. Everyone complains that we\\'re adding so many features. Let\\'s create a word processor that\\'s just a word processor: Simple, pure; does not do web pages, is not a database.\" And it came out, and it was called Microsoft Write. And none of you are nodding in acknowledgment, because it died. It tanked. No one ever bought it. I call this the Sport Utility Principle. People like to surround themselves with unnecessary power, right? They don\\'t need the database and the website, but they\\'re like, \"Well, I\\'ll upgrade, because, I might, you know, I might need that someday.\" So the problem is: as you add more features, where are they going to go? Where are you going to stick them? You only have so many design tools. You can do buttons, you can do sliders, pop-up menus, sub-menus. But if you\\'re not careful about how you choose, you wind up with this. (Laughter) This is an un-retouched — this is not a joke — un-retouched photo of Microsoft Word, the copy that you have, with all the toolbars open. You\\'ve obviously never opened all the toolbars, but all you have to type in is this little, teeny window down here. (Laughter) And we\\'ve arrived at the age of interface matrices, where there are so many features and options, you have to do two dimensions, you know: a vertical and a horizontal. You guys all complain about how Microsoft Word is always bulleting your lists and underlining your links automatically. The off switch is in there somewhere. I\\'m telling you — it\\'s there. Part of the art of designing a simple, good interface, is knowing when to use which one of these features. So, here is the log-off dialogue box for Windows 2000. There are only four choices, so why are they in a pop-up menu? It\\'s not like the rest of the screen is so full of other components that you need to collapse the choices. They could have put them all out in view. Here\\'s Apple\\'s take on the exact same dialogue box. (Applause) Thank you — yes, I designed the dialogue box. No, no. Already, we can see that Apple and Microsoft have a severely divergent approach to software design. Microsoft\\'s approach to simplicity tends to be: let\\'s break it down; let\\'s just make it more steps. There are these \"wizards\" everywhere. And you know, there\\'s a new version of Windows coming out this fall. If they continue at this pace, there\\'s absolutely no telling where they might wind up. [Welcome to the Type a Word Wizard] (Laughter) (Applause) \"Welcome to the Type a Word Wizard.\" Ok, I\\'ll bite. Let\\'s click \"Next\" to continue. (Laughter) (Applause) From the drop-down menu, choose the first letter you want to type. Ok. (Laughter) So there is a limit that we don\\'t want to cross. So what is the answer? How do you pack in all these features in a simple, intelligent way? I believe in consistency, when possible, real-world equivalents, trash can folder, when possible, label things, mostly. But I beg of the designers here to break all those rules if they violate the biggest rule of all, which is intelligence. Now what do I mean by that? I\\'m going to give you some examples where intelligence makes something not consistent, but it\\'s better. If you are buying something on the web, you\\'re supposed to put in your address, and you\\'re supposed to choose what country you\\'re from, ok? There are 200 countries in the world. We like to think of the Internet as a global village. I\\'m sorry; it\\'s not one yet. It\\'s mainly like, the United States, Europe, and Japan. So why is \"United States\" in the \"U\"s? (Laughter) You have to scroll, like, seven screensful to get to it. Now, it would be inconsistent to put \"United States\" first, but it would be intelligent. This one\\'s been touched on before, but why in God\\'s name do you shut down a Windows PC by clicking a button called \"Start?\" (Laughter) Here\\'s another pet one of mine: you have a printer. Most of the time, you want to print one copy of your document, in page order, on that printer. So why in God\\'s name do you see this every time you print? It\\'s like a 747 shuttle cockpit. (Laughter) And one of the buttons at the bottom, you\\'ll notice, is not \"Print.\" (Laughter) (Applause) Now, I\\'m not saying that Apple is the only company who has embraced the cult of simplicity. Palm is also, especially in the old days, wonderful about this. I actually got to speak to Palm when they were flying high in the \\'90s, and after the talk, I met one of the employees. He says, \"Nice talk.\" And I said, \"Thank you. What do you do here?\" He said, \"I\\'m a tap counter.\" I\\'m like, \"You\\'re a what?\" He goes, \"Well Jeff Hawkins, the CEO, says, \\'If any task on the Palm Pilot takes more than three taps of the stylus, it\\'s too long, and it has to be redesigned.\\' So I\\'m the tap counter.\" So, I\\'m going to show you an example of a company that does not have a tap counter. (Laughter) This is Microsoft Word. Ok, when you want to create a new blank document in Word — it could happen. (Laughter) You go up to the \"File\" menu and you choose \"New.\" Now, what happens when you choose \"New?\" Do you get a new blank document? You do not. On the opposite side of the monitor, a task bar appears, and somewhere in those links — by the way, not at the top — somewhere in those links is a button that makes you a new document. Ok, so that is a company not counting taps. You know, I don\\'t want to just stand here and make fun of Microsoft ... Yes, I do. (Laughter) (Applause) The Bill Gates song! (Piano music) I\\'ve been a geek forever and I wrote the very first DOS. I put my software and IBM together; I got profit and they got the loss. (Laughter) I write the code that makes the whole world run. I\\'m getting royalties from everyone. Sometimes it\\'s garbage, but the press is snowed. You buy the box; I\\'ll sell the code. Every software company is doing Microsoft\\'s R&D. You can\\'t keep a good idea down these days. Even Windows is a hack. We\\'re kind of based loosely on the Mac. So it\\'s big, so it\\'s slow. You\\'ve got nowhere to go. I\\'m not doing this for praise. I write the code that fits the world today. Big mediocrity in every way. We\\'ve entered planet domination mode. You\\'ll have no choice; you\\'ll buy my code. I am Bill Gates and I write the code. (Applause) But actually, I believe there are really two Microsofts. There\\'s the old one, responsible for Windows and Office. They\\'re dying to throw the whole thing out and start fresh, but they can\\'t. They\\'re locked in, because so many add-ons and other company stuff locks into the old 1982 chassis. But there\\'s also a new Microsoft, that\\'s really doing good, simple interface designs. I liked the Media Center PC. I liked the Microsoft SPOT Watch. The Wireless Watch flopped miserably in the market, but it wasn\\'t because it wasn\\'t simply and beautifully designed. But let\\'s put it this way: would you pay $10 a month to have a watch that has to be recharged every night like your cell phone, and stops working when you leave your area code? (Laughter) So, the signs might indicate that the complexity crunch is only going to get worse. So is there any hope? The screens are getting smaller, people are illuminating, putting manuals in the boxes, things are coming out at a faster pace. It\\'s funny — when Steve Jobs came back to Apple in 1997, after 12 years away, it was the MacWorld Expo — he came to the stage in that black turtleneck and jeans, and he sort of did this. The crowd went wild, but I had just seen — I\\'m like, where have I seen this before? I had just seen the movie \"Evita\" — (Laughter) with Madonna, and I\\'m like, you know what? I\\'ve got to do one about Steve Jobs. (Music) It won\\'t be easy. You\\'ll think I\\'m strange. (Laughter) When I try to explain why I\\'m back, after telling the press Apple\\'s future is black. You won\\'t believe me. All that you see is a kid in his teens who started out in a garage with only a buddy named Woz. (Laughter) You try rhyming with garage! (Laughter) Don\\'t cry for me, Cupertino. (Laughter) The truth is, I never left you. I know the ropes now, know what the tricks are. I made a fortune over at Pixar. (Laughter) Don\\'t cry for me, Cupertino. I\\'ve still got the drive and vision. I still wear sandals in any weather. It\\'s just that these days, they\\'re Gucci leather. (Laughter) (Applause) Thank you. So Steve Jobs had always believed in simplicity and elegance and beauty. And the truth is, for years I was a little depressed, because Americans obviously did not value it, because the Mac had three percent market share, Windows had 95 percent market share — people did not think it was worth putting a price on it. So I was a little depressed. And then I heard Al Gore\\'s talk, and I realized I didn\\'t know the meaning of depressed. (Laughter) But it turns out I was wrong, right? Because the iPod came out, and it violated every bit of common wisdom. Other products cost less; other products had more features, they had voice recorders and FM transmitters. The other products were backed by Microsoft, with an open standard, not Apple\\'s propriety standard. But the iPod won — this is the one they wanted. The lesson was: simplicity sells. And there are signs that the industry is getting the message. This is a little company that\\'s done very well with simplicity and elegance. The Sonos thing — it\\'s catching on. I\\'ve got just a couple examples. Physically, a really cool, elegant thinking coming along lately. When you have a digital camera, how do you get the pictures back to your computer? Well, you either haul around a USB cable, or you buy a card reader and haul that around. Either one, you\\'re going to lose. What I do is, I take out the memory card, and I fold it in half, revealing USB contacts. I just stick it in the computer, offload the pictures, put it right back in the camera. I never have to lose anything. Here\\'s another example. Chris, you\\'re the source of all power. Will you be my power plug? Chris Anderson: Oh yeah. DP: Hold that and don\\'t let go. You might\\'ve seen this, this is Apple\\'s new laptop. This the power cord. It hooks on like this. And I\\'m sure every one of you has done this at some point in your lives, or one of your children. You walk along — and I\\'m about to pull this onto the floor. I don\\'t care. It\\'s a loaner. Here we go. Whoa! It\\'s magnetic — it doesn\\'t pull the laptop onto the floor. (Applause) In my very last example — I do a lot of my work using speech recognition software. And I\\'ll just — you have to be kind of quiet because the software is nervous. Speech recognition software is really great for doing emails very quickly; period. Like, I get hundreds of them a day; period. And it\\'s not just what I dictate that it writes down; period. I also use this feature called voice macros; period. Correct \"dissuade.\" Not \"just.\" Ok, this is not an ideal situation, because it\\'s getting the echo from the hall and stuff. The point is, I can respond to people very quickly by saying a short word, and having it write out a much longer thing. So if somebody sends me a fan letter, I\\'ll say, \"Thanks for that.\" [Thank you so much for taking the time to write ...] (Laughter) (Applause) And conversely, if somebody sends me hate mail — which happens daily — I say, \"Piss off.\" (Laughter) [I admire your frankness ...] (Laughter) (Applause) So that\\'s my dirty little secret. Don\\'t tell anyone. (Laughter) So the point is — this is a really interesting story. This is version eight of this software, and do you know what they put in version eight? No new features. It\\'s never happened before in software! The company put no new features. They just said, \"We\\'ll make this software work right.\" Right? Because for years, people had bought this software, tried it out — 95 percent accuracy was all they got, which means one in 20 words is wrong — and they\\'d put it in their drawer. And the company got sick of that, so they said, \"This version, we\\'re not going to do anything, but make sure it\\'s darned accurate.\" And so that\\'s what they did. This cult of doing things right is starting to spread. So, my final advice for those of you who are consumers of this technology: remember, if it doesn\\'t work, it\\'s not necessarily you, ok? It could be the design of the thing you\\'re using. Be aware in life of good design and bad design. And if you\\'re among the people who create this stuff: Easy is hard. Pre-sweat the details for your audience. Count the taps. Remember, the hard part is not deciding what features to add, it\\'s deciding what to leave out. And best of all, your motivation is: simplicity sells. CA: Bravo. DP: Thank you very much. CA: Hear, hear! (Applause)'\n",
            " ...\n",
            " 'Picture yourself driving down the road tomorrow, heading somewhere to buy an item you found on Craigslist, perhaps a nice mountain bike for 3,000 dollars. At that price, it\\'s probably one of those bikes with a little electric motor on it — (Laughter) maybe some streamers from the handlebars. (Laughter) The seller has declared this a cash-only deal, so you have, in the console of your car, 3,000 dollars. Suddenly, you are pulled over. During the stop, the officer asks, \"Do you have any drugs, weapons or large amounts of cash in your car?\" You truthfully answer, \"Yes,\" not to the drugs or to the weapons, but to the cash. In the blink of an eye, you are ordered out of your car. The officer searches it and finds your cash. On the spot, he seizes it, and he says he suspects it\\'s part of a drug crime. A few days later, the local district attorney files paperwork to keep your money — permanently. And all of this happens without you ever being charged or convicted of any crime. Now, you might be saying, \"Ah, this would never happen in the United States.\" (Laughter) Incidents like this occur every day in our country. It\\'s one of the most significant threats to your property rights most people have never even heard of. It\\'s called \"civil forfeiture.\" Most of you are generally aware of criminal forfeiture, although the term itself might be a little unfamiliar, so let\\'s begin with forfeiture. When we forfeit something, we give up that thing, or we\\'re forced to give it up. In criminal forfeiture, someone is charged and convicted of a crime, and therefore, they have to give up property related to that crime. For example, suppose you use your car to transport and deal drugs. You\\'re caught and convicted; now you have to give up or forfeit your car as part of the sentencing. That\\'s criminal forfeiture. But in civil forfeiture, no person is charged with a crime — the property is charged and convicted of a crime. (Laughter) You heard that correctly: the government actually convicts an inanimate object with a crime. It\\'s as if that thing itself committed the crime. That\\'s why civil forfeiture cases have these really peculiar names, like, \"The United States of America v. One 1990 Ford Thunderbird.\" (Laughter) Or \"The State of Oklahoma v. 53,234 Dollars in Cash.\" (Laughter) Or my personal favorite: \"The United States of America v. One Solid Gold Object in the Form of a Rooster.\" (Laughter) Now, you\\'re thinking: How does something like this happen? That\\'s exactly what I said when I first learned about civil forfeiture while on a road trip with my wife. No, we did not get pulled over. (Laughter) I was reading about the history of civil forfeiture as part of my work as a research director at the law firm, and I came across one of the cases I just mentioned, \"The United States of America v. One 1990 Ford Thunderbird.\" In that case, Carol Thomas loaned her car to her son. While in the car, her son committed a minor drug crime. Carol didn\\'t commit any crime, so law enforcement couldn\\'t convict her and take the car, but they could — and did — use civil forfeiture to \"convict the car\" and take it. Carol was completely innocent, but she lost her car nonetheless. In other words, she was punished for a crime she did not commit. When I read this, I was gobsmacked. How could this occur? How is this even legal? It turns out, it began in our country with maritime law. Early in our republic, the government sought to fight piracy — yes, actual pirates. The problem was the government often couldn\\'t catch the pirates, so instead it used civil forfeiture to convict the pirates\\' property and take it, and therefore deny the pirates their illegal profits. Of course, the government could\\'ve simply taken and kept the booty without necessarily using civil forfeiture, but doing so would have violated our most basic due process and property rights. Now, the government rarely used civil forfeiture until the 1980s and the war on drugs. We expanded civil forfeiture law to cover drug crimes and then later, other types of crime. Canada and the European Union adopted similar provisions so that now all kinds of people are ensnared in the forfeiture web, people like Russ Caswell. Russ Caswell owned a small budget motel in Tewksbury, Massachusetts. His father built the motel in 1955, and Russ took it over in the 1980s. During the years that Russ owned the motel, from time to time, people would rent rooms, and they would commit drug crimes. Russ didn\\'t condone the activities — in fact, whenever he found out about it, he would immediately call police. Russ was entirely innocent of any crime, but that did not stop the US Department of Justice from seizing his motel simply because other people committed crimes there. But Russ\\'s case was not alone. Between 1997 and 2016, the US Department of Justice took more than 635,000 properties. This means each year, tens of thousands of people lose their properties in cases in which they\\'re never charged or convicted of any crime. And we\\'re not necessarily talking about major drug kingpins or headline-grabbing financial fraudsters whose cases involve hundreds of thousands if not millions of dollars. Many of these seizures and forfeitures involve just everyday people like Russ Caswell or you or me. But it gets worse. Are you wondering: Where does all this cash and property end up? In most places, law enforcement keeps it. And they use it to buy equipment or pay for building repairs or even pay salaries and overtime. This is a clear conflict of interest. It creates a perverse profit incentive that can distort law enforcement. And this is a problem that\\'s not lost on those in law enforcement, either. Former chief of police in Rochester, Minnesota, Roger Peterson, described the choice that police officers often face. As he described it: suppose I\\'m a police officer, and I see a drug deal. Now I face a choice: Do I go after the buyer and remove from the street illegal drugs, or do I go after the seller and get cash for my agency to use? So it\\'s easy to see why a police officer might go for the cash. It was just such a circumstance that compelled police officers in Philadelphia to seize an entire house. In 2014, Chris and Markela Sourovelis\\' son sold 40 dollars worth of drugs down the street from their house. Forty dollars. The police watched the deal go down. They could\\'ve arrested the buyer and confiscated the drugs, but they didn\\'t. They could\\'ve arrested the Sourovelises\\' son right there on the street and grabbed 40 dollars. But they didn\\'t. They waited to arrest him at home, because then they could seize their entire house. The house was worth 350,000 dollars. That is what I mean by a perverse profit incentive. But the Sourovelises\\' case was no outlier. Philadelphia, the \"City of Brotherly Love,\" the \"Athens of America,\" the \"Cradle of Liberty,\" birthplace to the Constitution, home to the Liberty Bell and Independence Hall, the \"City that Loves you Back\" — (Laughter) that Philadelphia was running a forfeiture machine. Between 2002 and 2016, Philadelphia took more than 77 million dollars through forfeiture, including 1,200 homes. Cars, jewelry, electronics — all of it they sold, the proceeds they kept. And they would have kept right on doing it, had it not been for a class-action lawsuit — our team\\'s class-action lawsuit — (Applause and cheers) Thank you. We forced them to change their forfeiture practices and to compensate victims. (Applause and cheers) When our team first began researching forfeiture in 2007, we had no idea how much forfeiture revenue there was. In fact, no one knew. It wasn\\'t until our groundbreaking study, \"Policing for Profit,\" that we found federal law enforcement agencies have taken in almost 40 billion dollars — billion with a B — since 2001, more than 80 percent of that through civil forfeiture. Unfortunately, we have no idea how much state and local agencies have taken in, because in many states, they don\\'t have to report it. So until we reform forfeiture, we\\'ll never know how much forfeiture activity actually occurs in the United States. And we desperately need reform. Legislatures should abolish civil forfeiture and replace it with criminal forfeiture. And all forfeiture proceeds should go to a neutral fund such as a general fund. When forfeiture proceeds stop hitting law enforcement budgets directly, that is when we will end policing for profit. (Applause) Now, as you can imagine, law enforcement officials don\\'t love these recommendations. (Laughter) They stand to lose a lot of money, and they believe civil forfeiture is an effective crime-fighting tool. The trouble is, it\\'s not. In June 2019, we released a study that found forfeiture does not improve crime-fighting. And the report also found that law enforcement agencies pursue more forfeiture money during economic downturns. So when city and county budgets are tight, law enforcement will use forfeiture to find the money. So it\\'s no wonder, then, that law enforcement officials predict a criminal apocalypse — (Laughter) if these reforms are adopted. But some states have already implemented them, and we\\'re pushing for reform all across the country, because until we reform forfeiture, this is something that could happen to any of us. It can happen in the United States, it can happen in the United Kingdom, it can happen in countries throughout the European Union and beyond. People like you and me and the Sourovelises and Russ Caswell, just doing the everyday stuff of life, can be caught in a scheme we never thought possible. It is time we end policing for profit once and for all. Thank you. (Applause and cheers)'\n",
            " 'In early 1828, Sojourner Truth approached the Grand Jury of Kingston, New York. She had no experience with the legal system, no money, and no power in the eyes of the court. Ignoring the jury’s scorn, Truth said she was there to fight for custody of her five-year-old son Peter, who’d been illegally sold to an enslaver in Alabama. As the trial played out over the next several months, Truth raised funds, strategized with lawyers, and held her faith. Finally in the spring of 1828, Peter was returned to her care— but Truth’s work was far from over. She would dedicate the rest of her life to pursuing justice and spiritual understanding. Truth was born into slavery as Isabella Baumfree in the late 18th century in Ulster County, New York. Although New York state had announced the abolition of slavery in 1799, the emancipation act was gradual. Those who were currently enslaved were forced to serve a period of indentured servitude until their mid-20s. Throughout this period, enslavers repeatedly sold Baumfree, tearing her from her loved ones. Often, she was explicitly prevented from pursuing new relationships. Eventually, she married an enslaved man named Thomas, with whom she had three children. She was desperate to keep her new family together— but the slow progress of abolition threatened this hope. Baumfree’s enslaver, John Dumont, had promised to free her by 1826. When he failed to keep his word, Baumfree fled for her safety. During the escape, she was only able to rescue her youngest daughter Sophia, while her other children remained in bondage. It would be two years before she regained custody of Peter. After that, she would wait another two years before she saw any of her other children. During this time, Baumfree found solace in her faith and became increasingly dedicated to religious reflection. After settling in Kingston, New York, she joined a Methodist community that shared her political views. She continued her practice of speaking aloud to God in private, and one night, her evening prayers took on even more sacred significance. Baumfree claimed to hear the voice of God, telling her to leave Kingston, and share her holy message with others. Though she never learned to read or write, Baumfree became known as an electrifying orator, whose speeches drew on Biblical references, spiritual ideals, and her experience of slavery. Her sermons denounced the oppression of African Americans and women in general, and became prominent in campaigns for both abolition and women’s rights. In 1843, she renamed herself Sojourner Truth and embarked on a legendary speaking tour. Truth saw her journey as a mission from God. Her faith often led her to the nation’s most hostile regions, where she spoke to bigoted audiences as the only Black woman in the crowd. Truth was confident God would protect her, but some crowds responded to her bravery with violence. During one of her sermons, a mob of white mean threatened to set fire to the tent where she was speaking. In her memoir, Truth recalled steeling herself to confront them: “Have I not faith enough to go out and quell that mob… I felt as if I had three hearts! And that they were so large, my body could hardly hold them!” She placated the men with song and prayer, until they had no desire to harm her. Truth’s speeches impacted thousands of people in communities across the nation, but her activism went far beyond public speaking. During the Civil War, she became involved with the Union Army, recruiting soldiers and organizing supplies for Black troops. Her work was so well regarded that she was invited to meet President Lincoln. She took the occasion to argue that all formerly enslaved people should be granted land by the government. Truth continued to travel and speak well into her 80s. Until her death in 1883, she remained an outspoken critic who fought for her right to be heard in a hostile world. As Truth once said, “I feel safe even in the midst of my enemies; for the truth is powerful and will prevail.\"'\n",
            " 'Can you guess what you’re looking at? Is it a fuzzy sock? An overripe banana? A moldy tube of toothpaste? In fact, this is the humble sea cucumber, and while it might look odd, its daily toil paves the way for entire ecosystems to thrive. Sea cucumbers are members of the phylum Echinodermata, along with sea urchins, starfish and other radially symmetrical, “spiny-skinned” marine invertebrates. Some sea cucumbers have feathery tentacles flowing from their mouths, some are puffed like bloated balloons, and others simply look like Headless Chicken Monsters— the actual name given to a rare deep-sea species. But they are generally characterized by their long, cylindrical shape. A sea cucumber is essentially a brainless, fleshy form surrounding a digestive tract, bookended by a mouth and an anus. Adhesive tube feet run the length of their bodies and allow them to scoot along the seafloor. Specialized tube feet can be used for feeding and respiration, though many sea cucumbers actually breathe through their anuses. Rhythmically contracting and relaxing their muscles, they draw water in and out over an internal lung-like structure called a respiratory tree that extracts oxygen from seawater. Certain species of crabs and pearlfish take advantage of this rhythmic action and, once the sea cucumber’s anus is dilated, they shimmy in and take shelter. The rear end of a single sea cucumber can harbor up to fifteen pearlfish at a time. However, it seems that not all sea cucumbers put up with this intrusive behavior. Some species are equipped with five teeth around their anus, suggesting that they may have taken an evolutionary stand against unwanted guests. But even sea cucumbers that lack anal teeth are outfitted with tools to defend themselves. They evade threats and launch counter-attacks using their mutable collagenous tissue, or MCT. This gel-like tissue contains bundles of collagen, called “fibrils.” Proteins can interact with these fibrils to slide them together, stiffening the tissue, or apart, softening it. This versatile tissue has many advantages: it aids in efficient locomotion, enables sea cucumbers to fit into small spaces, and allows them to reproduce asexually by splitting apart. But MCT’s most explosive application is employed when a predator attacks. By loosening the attachments of internal tissues then quickly softening and contracting their muscles, many species are capable of shooting a wide range of organs out of their anuses. This act is called “evisceration” and it’s a surprisingly effective defense mechanism. In addition to startling and distracting predators, the innards of some sea cucumber species are sticky and toxic. Evisceration may seem drastic, but sea cucumbers are able to regenerate what they’ve lost to their gut reaction in just a few weeks’ time. Aside from the few species that have evolved to swim and those that feed without moving, many of these cumbersome creatures pass their time grazing the seabed. Sea cucumbers are found everywhere from shallow shores to abyssal trenches 6,000 meters below sea level. On the deep sea floor, they comprise the majority of animal biomass, reaching up to 95% in some areas. As these sausage-shaped wonders trudge along, they vacuum up sand, digest the organic matter it contains, and excrete the byproduct. In this process, sea cucumbers clean and oxygenate the seafloor by breaking down detritus and recycling nutrients. This creates the conditions for sea grass beds and shellfish to thrive. Sea cucumber excretions can also aid in coral formation and may play a role in buffering marine environments from ocean acidification. As the ocean’s vacuum cleaners, they are very good at their job: about half of the sandy seafloor is thought to have passed through the digestive tract of a sea cucumber. So next time you’re rejoicing in the feeling of sand crunching between your toes, consider this: those very grains of sand might have, at one point or another, been excreted by a pickle that breathes through its butt.']\n"
          ]
        }
      ]
    },
    {
      "cell_type": "code",
      "source": [
        "# Checking the no. of unique values in each column\n",
        "print(ted_talk_df.nunique())"
      ],
      "metadata": {
        "colab": {
          "base_uri": "https://localhost:8080/"
        },
        "id": "ZJ4LAYrgfTGM",
        "outputId": "60126953-9c20-40f1-a23d-1cad7c2b7200"
      },
      "execution_count": 8,
      "outputs": [
        {
          "output_type": "stream",
          "name": "stdout",
          "text": [
            "talk_id           4005\n",
            "title             4005\n",
            "speaker_1         3274\n",
            "all_speakers      3306\n",
            "occupations       2049\n",
            "about_speakers    2977\n",
            "views             3996\n",
            "recorded_date     1334\n",
            "published_date    2962\n",
            "event              459\n",
            "native_lang         12\n",
            "available_lang    3902\n",
            "comments           601\n",
            "duration          1188\n",
            "topics            3977\n",
            "related_talks     4005\n",
            "url               4005\n",
            "description       4005\n",
            "transcript        4005\n",
            "dtype: int64\n"
          ]
        }
      ]
    },
    {
      "cell_type": "code",
      "source": [
        "ted_talk_df.columns"
      ],
      "metadata": {
        "colab": {
          "base_uri": "https://localhost:8080/"
        },
        "id": "HuPgAz2BBTvz",
        "outputId": "5d3736ec-18cf-4501-ae97-e2fd326aaeb7"
      },
      "execution_count": 9,
      "outputs": [
        {
          "output_type": "execute_result",
          "data": {
            "text/plain": [
              "Index(['talk_id', 'title', 'speaker_1', 'all_speakers', 'occupations',\n",
              "       'about_speakers', 'views', 'recorded_date', 'published_date', 'event',\n",
              "       'native_lang', 'available_lang', 'comments', 'duration', 'topics',\n",
              "       'related_talks', 'url', 'description', 'transcript'],\n",
              "      dtype='object')"
            ]
          },
          "metadata": {},
          "execution_count": 9
        }
      ]
    },
    {
      "cell_type": "markdown",
      "source": [
        "### **4. Cleaning the Data**\n",
        "\n",
        "In this step, we treat null, missing, \"?\" or duplicate values.\n",
        "\n",
        "When there is any string containing a Python literal in any of the important feature, we also evaluate them.\n",
        "\n",
        "We do encoding of categorical features to make it usuable in the model.\n",
        "\n",
        "We also create new feature when found important during the analysis.\n",
        "\n",
        "Thus, we get a clean experience set with important features. \n",
        "\n",
        "We check the statistics further on clean data."
      ],
      "metadata": {
        "id": "tsf4VakRe6BG"
      }
    },
    {
      "cell_type": "code",
      "source": [
        "# Finding out the relavant features from the deeper understanding of the data\n",
        "relavant_features=['occupations', 'views', 'published_date',\n",
        "                   'native_lang', 'comments', 'duration', 'topics']"
      ],
      "metadata": {
        "id": "kTtsPdL3e5Gx"
      },
      "execution_count": 10,
      "outputs": []
    },
    {
      "cell_type": "code",
      "source": [
        "# Creating new df with relavant features\n",
        "ted_talk_df_clean=ted_talk_df[relavant_features]"
      ],
      "metadata": {
        "id": "gTfcJbmyhbSe"
      },
      "execution_count": 11,
      "outputs": []
    },
    {
      "cell_type": "code",
      "source": [
        "# Checking is there any duplicate value\n",
        "len(ted_talk_df_clean[ted_talk_df_clean.duplicated()]) "
      ],
      "metadata": {
        "colab": {
          "base_uri": "https://localhost:8080/"
        },
        "id": "8b8Nhv6THX6e",
        "outputId": "c27e2dc6-4473-4baa-c522-bed0b81a88dc"
      },
      "execution_count": 12,
      "outputs": [
        {
          "output_type": "execute_result",
          "data": {
            "text/plain": [
              "0"
            ]
          },
          "metadata": {},
          "execution_count": 12
        }
      ]
    },
    {
      "cell_type": "code",
      "source": [
        "# checking the no. of null values in each column\n",
        "print(ted_talk_df_clean.isnull().sum())"
      ],
      "metadata": {
        "colab": {
          "base_uri": "https://localhost:8080/"
        },
        "id": "Co6yd8ivJ5s7",
        "outputId": "e58e9a16-4a39-45a3-edc4-48ee4524b0dc"
      },
      "execution_count": 13,
      "outputs": [
        {
          "output_type": "stream",
          "name": "stdout",
          "text": [
            "occupations       522\n",
            "views               0\n",
            "published_date      0\n",
            "native_lang         0\n",
            "comments          655\n",
            "duration            0\n",
            "topics              0\n",
            "dtype: int64\n"
          ]
        }
      ]
    },
    {
      "cell_type": "code",
      "source": [
        "# Imputation of 'comments' with median may mislead the model\n",
        "# Imputation of 'occupations' with mode may mislead the model\n",
        "# Thus dropping the rows with null values\n",
        "ted_talk_df_clean = ted_talk_df_clean.dropna(axis=0)"
      ],
      "metadata": {
        "id": "Jy47aJ64qLC3"
      },
      "execution_count": 14,
      "outputs": []
    },
    {
      "cell_type": "code",
      "source": [
        "print(ted_talk_df_clean.isnull().sum())"
      ],
      "metadata": {
        "colab": {
          "base_uri": "https://localhost:8080/"
        },
        "id": "gwPcjidVScGd",
        "outputId": "6447dfc6-c1b6-4b62-e90a-74b68b121c21"
      },
      "execution_count": 15,
      "outputs": [
        {
          "output_type": "stream",
          "name": "stdout",
          "text": [
            "occupations       0\n",
            "views             0\n",
            "published_date    0\n",
            "native_lang       0\n",
            "comments          0\n",
            "duration          0\n",
            "topics            0\n",
            "dtype: int64\n"
          ]
        }
      ]
    },
    {
      "cell_type": "code",
      "source": [
        "ted_talk_df_clean.shape"
      ],
      "metadata": {
        "colab": {
          "base_uri": "https://localhost:8080/"
        },
        "id": "U8X9EMVaqvn9",
        "outputId": "03e5e94c-d514-4042-a382-a146071eb9a3"
      },
      "execution_count": 16,
      "outputs": [
        {
          "output_type": "execute_result",
          "data": {
            "text/plain": [
              "(3344, 7)"
            ]
          },
          "metadata": {},
          "execution_count": 16
        }
      ]
    },
    {
      "cell_type": "code",
      "source": [
        "# numerical_features\n",
        "ted_talk_df_clean.describe().columns"
      ],
      "metadata": {
        "colab": {
          "base_uri": "https://localhost:8080/"
        },
        "id": "amtmyYmxG8gx",
        "outputId": "c5e4d58b-af2a-4d46-cde3-9ead72fe78ac"
      },
      "execution_count": 17,
      "outputs": [
        {
          "output_type": "execute_result",
          "data": {
            "text/plain": [
              "Index(['views', 'comments', 'duration'], dtype='object')"
            ]
          },
          "metadata": {},
          "execution_count": 17
        }
      ]
    },
    {
      "cell_type": "code",
      "source": [
        "# categorical_features\n",
        "ted_talk_df_clean.describe(include=['object','category']).columns"
      ],
      "metadata": {
        "colab": {
          "base_uri": "https://localhost:8080/"
        },
        "id": "a_bcUY1rGdI2",
        "outputId": "38754ad4-5ff3-4fa2-9d1e-8d9916ad83c8"
      },
      "execution_count": 18,
      "outputs": [
        {
          "output_type": "execute_result",
          "data": {
            "text/plain": [
              "Index(['occupations', 'published_date', 'native_lang', 'topics'], dtype='object')"
            ]
          },
          "metadata": {},
          "execution_count": 18
        }
      ]
    },
    {
      "cell_type": "code",
      "source": [
        "print(ted_talk_df_clean.occupations.values[0])\n",
        "print(ted_talk_df_clean.published_date.values[0])\n",
        "print(ted_talk_df_clean.native_lang.values[0])\n",
        "print(ted_talk_df_clean.topics.values[0])"
      ],
      "metadata": {
        "colab": {
          "base_uri": "https://localhost:8080/"
        },
        "id": "cXClVhGOpGzo",
        "outputId": "7bf16280-2b44-4d9e-db01-c9cbf7527b67"
      },
      "execution_count": 19,
      "outputs": [
        {
          "output_type": "stream",
          "name": "stdout",
          "text": [
            "{0: ['climate advocate']}\n",
            "2006-06-27\n",
            "en\n",
            "['alternative energy', 'cars', 'climate change', 'culture', 'environment', 'global issues', 'science', 'sustainability', 'technology']\n"
          ]
        }
      ]
    },
    {
      "cell_type": "code",
      "source": [
        "print(type(ted_talk_df_clean.occupations.values[0]))\n",
        "print(type(ted_talk_df_clean.published_date.values[0]))\n",
        "print(type(ted_talk_df_clean.native_lang.values[0]))\n",
        "print(type(ted_talk_df_clean.topics.values[0]))"
      ],
      "metadata": {
        "colab": {
          "base_uri": "https://localhost:8080/"
        },
        "id": "6q0VL4Z_tqf1",
        "outputId": "8e80459e-c33a-4dfe-da3a-d659c61c3478"
      },
      "execution_count": 20,
      "outputs": [
        {
          "output_type": "stream",
          "name": "stdout",
          "text": [
            "<class 'str'>\n",
            "<class 'str'>\n",
            "<class 'str'>\n",
            "<class 'str'>\n"
          ]
        }
      ]
    },
    {
      "cell_type": "code",
      "source": [
        "# There are python literals as string in the categorical columns which need to be treated\n",
        "for col in ['occupations', 'topics']:\n",
        "  ted_talk_df_clean[col]=[ast.literal_eval(i) for i in ted_talk_df_clean[col]]"
      ],
      "metadata": {
        "id": "rA0g7V6lojLP"
      },
      "execution_count": 21,
      "outputs": []
    },
    {
      "cell_type": "code",
      "source": [
        "print(type(ted_talk_df_clean.occupations.values[0]))\n",
        "print(type(ted_talk_df_clean.published_date.values[0]))\n",
        "print(type(ted_talk_df_clean.native_lang.values[0]))\n",
        "print(type(ted_talk_df_clean.topics.values[0]))"
      ],
      "metadata": {
        "colab": {
          "base_uri": "https://localhost:8080/"
        },
        "id": "EKEnXh2ItLst",
        "outputId": "a5d7f9e5-d958-4c4f-ad3f-60e0b124b472"
      },
      "execution_count": 22,
      "outputs": [
        {
          "output_type": "stream",
          "name": "stdout",
          "text": [
            "<class 'dict'>\n",
            "<class 'str'>\n",
            "<class 'str'>\n",
            "<class 'list'>\n"
          ]
        }
      ]
    },
    {
      "cell_type": "code",
      "source": [
        "# extracting the list from the dict of occupations\n",
        "ted_talk_df_clean['occupations']=[i.get(0) for i in ted_talk_df_clean['occupations']]"
      ],
      "metadata": {
        "id": "E0gu-b0PuhC-"
      },
      "execution_count": 23,
      "outputs": []
    },
    {
      "cell_type": "code",
      "source": [
        "print(type(ted_talk_df_clean.occupations.values[0]))"
      ],
      "metadata": {
        "colab": {
          "base_uri": "https://localhost:8080/"
        },
        "id": "vpyUEOg8vZWI",
        "outputId": "e6f0345e-aaaf-411c-80a1-1823489f8a96"
      },
      "execution_count": 24,
      "outputs": [
        {
          "output_type": "stream",
          "name": "stdout",
          "text": [
            "<class 'list'>\n"
          ]
        }
      ]
    },
    {
      "cell_type": "code",
      "source": [
        "# Datetime is appearing as string and we are converting to datetime\n",
        "ted_talk_df_clean['published_date']=ted_talk_df_clean['published_date'].apply(lambda x : datetime.strptime(x,'%Y-%m-%d'))"
      ],
      "metadata": {
        "id": "xPplvoEpumBA"
      },
      "execution_count": 25,
      "outputs": []
    },
    {
      "cell_type": "code",
      "source": [
        "# Feature engineering on published date to to extract years run\n",
        "ted_talk_df_clean['published_year']=ted_talk_df_clean['published_date'].apply(lambda x : x.year)\n",
        "ted_talk_df_clean['base_year']=2021\n",
        "ted_talk_df_clean['years_run']=(ted_talk_df_clean['base_year']-ted_talk_df_clean['published_year'])"
      ],
      "metadata": {
        "id": "yHoQhRFDk9_N"
      },
      "execution_count": 26,
      "outputs": []
    },
    {
      "cell_type": "code",
      "source": [
        "ted_talk_df_clean.drop(['published_date','base_year','published_year'], axis = 1, inplace=True)"
      ],
      "metadata": {
        "id": "6ajH81Pwlb2I"
      },
      "execution_count": 27,
      "outputs": []
    },
    {
      "cell_type": "code",
      "source": [
        "ted_talk_df_clean.head(2)"
      ],
      "metadata": {
        "colab": {
          "base_uri": "https://localhost:8080/",
          "height": 0
        },
        "id": "zsxLOoy83gYA",
        "outputId": "5937e806-f494-4255-b588-eb77ee8aa590"
      },
      "execution_count": 28,
      "outputs": [
        {
          "output_type": "execute_result",
          "data": {
            "text/html": [
              "\n",
              "  <div id=\"df-11d0614b-d16a-48e2-b68a-2d640aa70c33\">\n",
              "    <div class=\"colab-df-container\">\n",
              "      <div>\n",
              "<style scoped>\n",
              "    .dataframe tbody tr th:only-of-type {\n",
              "        vertical-align: middle;\n",
              "    }\n",
              "\n",
              "    .dataframe tbody tr th {\n",
              "        vertical-align: top;\n",
              "    }\n",
              "\n",
              "    .dataframe thead th {\n",
              "        text-align: right;\n",
              "    }\n",
              "</style>\n",
              "<table border=\"1\" class=\"dataframe\">\n",
              "  <thead>\n",
              "    <tr style=\"text-align: right;\">\n",
              "      <th></th>\n",
              "      <th>occupations</th>\n",
              "      <th>views</th>\n",
              "      <th>native_lang</th>\n",
              "      <th>comments</th>\n",
              "      <th>duration</th>\n",
              "      <th>topics</th>\n",
              "      <th>years_run</th>\n",
              "    </tr>\n",
              "  </thead>\n",
              "  <tbody>\n",
              "    <tr>\n",
              "      <th>0</th>\n",
              "      <td>[climate advocate]</td>\n",
              "      <td>3523392</td>\n",
              "      <td>en</td>\n",
              "      <td>272.0</td>\n",
              "      <td>977</td>\n",
              "      <td>[alternative energy, cars, climate change, cul...</td>\n",
              "      <td>15</td>\n",
              "    </tr>\n",
              "    <tr>\n",
              "      <th>1</th>\n",
              "      <td>[global health expert; data visionary]</td>\n",
              "      <td>14501685</td>\n",
              "      <td>en</td>\n",
              "      <td>628.0</td>\n",
              "      <td>1190</td>\n",
              "      <td>[Africa, Asia, Google, demo, economics, global...</td>\n",
              "      <td>15</td>\n",
              "    </tr>\n",
              "  </tbody>\n",
              "</table>\n",
              "</div>\n",
              "      <button class=\"colab-df-convert\" onclick=\"convertToInteractive('df-11d0614b-d16a-48e2-b68a-2d640aa70c33')\"\n",
              "              title=\"Convert this dataframe to an interactive table.\"\n",
              "              style=\"display:none;\">\n",
              "        \n",
              "  <svg xmlns=\"http://www.w3.org/2000/svg\" height=\"24px\"viewBox=\"0 0 24 24\"\n",
              "       width=\"24px\">\n",
              "    <path d=\"M0 0h24v24H0V0z\" fill=\"none\"/>\n",
              "    <path d=\"M18.56 5.44l.94 2.06.94-2.06 2.06-.94-2.06-.94-.94-2.06-.94 2.06-2.06.94zm-11 1L8.5 8.5l.94-2.06 2.06-.94-2.06-.94L8.5 2.5l-.94 2.06-2.06.94zm10 10l.94 2.06.94-2.06 2.06-.94-2.06-.94-.94-2.06-.94 2.06-2.06.94z\"/><path d=\"M17.41 7.96l-1.37-1.37c-.4-.4-.92-.59-1.43-.59-.52 0-1.04.2-1.43.59L10.3 9.45l-7.72 7.72c-.78.78-.78 2.05 0 2.83L4 21.41c.39.39.9.59 1.41.59.51 0 1.02-.2 1.41-.59l7.78-7.78 2.81-2.81c.8-.78.8-2.07 0-2.86zM5.41 20L4 18.59l7.72-7.72 1.47 1.35L5.41 20z\"/>\n",
              "  </svg>\n",
              "      </button>\n",
              "      \n",
              "  <style>\n",
              "    .colab-df-container {\n",
              "      display:flex;\n",
              "      flex-wrap:wrap;\n",
              "      gap: 12px;\n",
              "    }\n",
              "\n",
              "    .colab-df-convert {\n",
              "      background-color: #E8F0FE;\n",
              "      border: none;\n",
              "      border-radius: 50%;\n",
              "      cursor: pointer;\n",
              "      display: none;\n",
              "      fill: #1967D2;\n",
              "      height: 32px;\n",
              "      padding: 0 0 0 0;\n",
              "      width: 32px;\n",
              "    }\n",
              "\n",
              "    .colab-df-convert:hover {\n",
              "      background-color: #E2EBFA;\n",
              "      box-shadow: 0px 1px 2px rgba(60, 64, 67, 0.3), 0px 1px 3px 1px rgba(60, 64, 67, 0.15);\n",
              "      fill: #174EA6;\n",
              "    }\n",
              "\n",
              "    [theme=dark] .colab-df-convert {\n",
              "      background-color: #3B4455;\n",
              "      fill: #D2E3FC;\n",
              "    }\n",
              "\n",
              "    [theme=dark] .colab-df-convert:hover {\n",
              "      background-color: #434B5C;\n",
              "      box-shadow: 0px 1px 3px 1px rgba(0, 0, 0, 0.15);\n",
              "      filter: drop-shadow(0px 1px 2px rgba(0, 0, 0, 0.3));\n",
              "      fill: #FFFFFF;\n",
              "    }\n",
              "  </style>\n",
              "\n",
              "      <script>\n",
              "        const buttonEl =\n",
              "          document.querySelector('#df-11d0614b-d16a-48e2-b68a-2d640aa70c33 button.colab-df-convert');\n",
              "        buttonEl.style.display =\n",
              "          google.colab.kernel.accessAllowed ? 'block' : 'none';\n",
              "\n",
              "        async function convertToInteractive(key) {\n",
              "          const element = document.querySelector('#df-11d0614b-d16a-48e2-b68a-2d640aa70c33');\n",
              "          const dataTable =\n",
              "            await google.colab.kernel.invokeFunction('convertToInteractive',\n",
              "                                                     [key], {});\n",
              "          if (!dataTable) return;\n",
              "\n",
              "          const docLinkHtml = 'Like what you see? Visit the ' +\n",
              "            '<a target=\"_blank\" href=https://colab.research.google.com/notebooks/data_table.ipynb>data table notebook</a>'\n",
              "            + ' to learn more about interactive tables.';\n",
              "          element.innerHTML = '';\n",
              "          dataTable['output_type'] = 'display_data';\n",
              "          await google.colab.output.renderOutput(dataTable, element);\n",
              "          const docLink = document.createElement('div');\n",
              "          docLink.innerHTML = docLinkHtml;\n",
              "          element.appendChild(docLink);\n",
              "        }\n",
              "      </script>\n",
              "    </div>\n",
              "  </div>\n",
              "  "
            ],
            "text/plain": [
              "                              occupations  ...  years_run\n",
              "0                      [climate advocate]  ...         15\n",
              "1  [global health expert; data visionary]  ...         15\n",
              "\n",
              "[2 rows x 7 columns]"
            ]
          },
          "metadata": {},
          "execution_count": 28
        }
      ]
    },
    {
      "cell_type": "code",
      "source": [
        "# Checking value counts in categorical features\n",
        "for column_name in ted_talk_df_clean.describe(include=['object','category']).columns:\n",
        "  print(colored(f\"Value counts for {column_name}:\", attrs=['bold']))\n",
        "  print(ted_talk_df_clean[column_name].value_counts())"
      ],
      "metadata": {
        "id": "wwB2AImZJ5gi",
        "colab": {
          "base_uri": "https://localhost:8080/"
        },
        "outputId": "e5ea9906-ac4e-4f9e-dc86-485d40bc3094"
      },
      "execution_count": 29,
      "outputs": [
        {
          "output_type": "stream",
          "name": "stdout",
          "text": [
            "\u001b[1mValue counts for occupations:\u001b[0m\n",
            "[writer]                             54\n",
            "[journalist]                         44\n",
            "[entrepreneur]                       43\n",
            "[artist]                             41\n",
            "[designer]                           37\n",
            "                                     ..\n",
            "[sci-fi author]                       1\n",
            "[former prime minister of greece]     1\n",
            "[graphic artist, director]            1\n",
            "[dolphin researcher]                  1\n",
            "[law researcher]                      1\n",
            "Name: occupations, Length: 1929, dtype: int64\n",
            "\u001b[1mValue counts for native_lang:\u001b[0m\n",
            "en       3312\n",
            "es         15\n",
            "fr          7\n",
            "hi          2\n",
            "de          1\n",
            "pt          1\n",
            "ko          1\n",
            "zh-cn       1\n",
            "ar          1\n",
            "pt-br       1\n",
            "ja          1\n",
            "it          1\n",
            "Name: native_lang, dtype: int64\n",
            "\u001b[1mValue counts for topics:\u001b[0m\n",
            "[charter for compassion, compassion, global issues, religion]                                                                                                                              2\n",
            "[art, creativity]                                                                                                                                                                          2\n",
            "[creativity, entertainment, live music, music, performance]                                                                                                                                2\n",
            "[culture, love, relationships, sex]                                                                                                                                                        2\n",
            "[cities, culture, design, transportation]                                                                                                                                                  2\n",
            "                                                                                                                                                                                          ..\n",
            "[TED-Ed, education, mind, science, philosophy, space, Planets, consciousness, math, physics, extraterrestrial life, curiosity, cosmos, universe, String theory, dark matter, nanoscale]    1\n",
            "[TED-Ed, biology, deextinction, exploration, science, oceans, submarine, environment, ecology, marine biology]                                                                             1\n",
            "[TED-Ed, creativity, education, science, simplicity, technology, exploration, Nobel Prize, ancient world, curiosity, innovation, space, physics, Planets, history, math]                   1\n",
            "[culture, evolution, religion, evolutionary psychology]                                                                                                                                    1\n",
            "[society, law, policy, justice system, TEDx]                                                                                                                                               1\n",
            "Name: topics, Length: 3335, dtype: int64\n"
          ]
        }
      ]
    },
    {
      "cell_type": "code",
      "source": [
        "# Apart from english(en), there are very few experiences (only 1-15) as compared to 'en' with count 3312. \n",
        "# So, we are removing the exceptions in 'native_lang' category and creating a conditional df only for 'en'\n",
        "ted_talk_df_clean=ted_talk_df_clean.loc[(ted_talk_df_clean['native_lang']=='en')]\n"
      ],
      "metadata": {
        "id": "hCpEGf8X0cav"
      },
      "execution_count": 30,
      "outputs": []
    },
    {
      "cell_type": "markdown",
      "source": [
        "**Now english has become the main feature of our dataset. Thus our model will predict the ted talk views only for english language**"
      ],
      "metadata": {
        "id": "hT9uf8qxuWxj"
      }
    },
    {
      "cell_type": "code",
      "source": [
        "# Thus we are dropping the 'native_lang' column\n",
        "ted_talk_df_clean.drop('native_lang', axis = 1, inplace=True)"
      ],
      "metadata": {
        "id": "_u5aDAlFuV28",
        "colab": {
          "base_uri": "https://localhost:8080/"
        },
        "outputId": "407e6253-f15b-48fd-98d8-f1494be83db8"
      },
      "execution_count": 31,
      "outputs": [
        {
          "output_type": "stream",
          "name": "stderr",
          "text": [
            "/usr/local/lib/python3.7/dist-packages/pandas/core/frame.py:4913: SettingWithCopyWarning: \n",
            "A value is trying to be set on a copy of a slice from a DataFrame\n",
            "\n",
            "See the caveats in the documentation: https://pandas.pydata.org/pandas-docs/stable/user_guide/indexing.html#returning-a-view-versus-a-copy\n",
            "  errors=errors,\n"
          ]
        }
      ]
    },
    {
      "cell_type": "code",
      "source": [
        "ted_talk_df_clean.shape"
      ],
      "metadata": {
        "colab": {
          "base_uri": "https://localhost:8080/"
        },
        "id": "OplymWQbu-r-",
        "outputId": "1a29ee6b-5533-41f1-d259-d0fbea27402d"
      },
      "execution_count": 32,
      "outputs": [
        {
          "output_type": "execute_result",
          "data": {
            "text/plain": [
              "(3312, 6)"
            ]
          },
          "metadata": {},
          "execution_count": 32
        }
      ]
    },
    {
      "cell_type": "code",
      "source": [
        "ted_talk_df_clean.head(2)"
      ],
      "metadata": {
        "colab": {
          "base_uri": "https://localhost:8080/",
          "height": 0
        },
        "id": "EhY_f5FZ6ncg",
        "outputId": "41e0925f-a687-4b66-c1a6-91263efa57e1"
      },
      "execution_count": 33,
      "outputs": [
        {
          "output_type": "execute_result",
          "data": {
            "text/html": [
              "\n",
              "  <div id=\"df-33449681-14e5-47cf-a66f-d6f469a90c67\">\n",
              "    <div class=\"colab-df-container\">\n",
              "      <div>\n",
              "<style scoped>\n",
              "    .dataframe tbody tr th:only-of-type {\n",
              "        vertical-align: middle;\n",
              "    }\n",
              "\n",
              "    .dataframe tbody tr th {\n",
              "        vertical-align: top;\n",
              "    }\n",
              "\n",
              "    .dataframe thead th {\n",
              "        text-align: right;\n",
              "    }\n",
              "</style>\n",
              "<table border=\"1\" class=\"dataframe\">\n",
              "  <thead>\n",
              "    <tr style=\"text-align: right;\">\n",
              "      <th></th>\n",
              "      <th>occupations</th>\n",
              "      <th>views</th>\n",
              "      <th>comments</th>\n",
              "      <th>duration</th>\n",
              "      <th>topics</th>\n",
              "      <th>years_run</th>\n",
              "    </tr>\n",
              "  </thead>\n",
              "  <tbody>\n",
              "    <tr>\n",
              "      <th>0</th>\n",
              "      <td>[climate advocate]</td>\n",
              "      <td>3523392</td>\n",
              "      <td>272.0</td>\n",
              "      <td>977</td>\n",
              "      <td>[alternative energy, cars, climate change, cul...</td>\n",
              "      <td>15</td>\n",
              "    </tr>\n",
              "    <tr>\n",
              "      <th>1</th>\n",
              "      <td>[global health expert; data visionary]</td>\n",
              "      <td>14501685</td>\n",
              "      <td>628.0</td>\n",
              "      <td>1190</td>\n",
              "      <td>[Africa, Asia, Google, demo, economics, global...</td>\n",
              "      <td>15</td>\n",
              "    </tr>\n",
              "  </tbody>\n",
              "</table>\n",
              "</div>\n",
              "      <button class=\"colab-df-convert\" onclick=\"convertToInteractive('df-33449681-14e5-47cf-a66f-d6f469a90c67')\"\n",
              "              title=\"Convert this dataframe to an interactive table.\"\n",
              "              style=\"display:none;\">\n",
              "        \n",
              "  <svg xmlns=\"http://www.w3.org/2000/svg\" height=\"24px\"viewBox=\"0 0 24 24\"\n",
              "       width=\"24px\">\n",
              "    <path d=\"M0 0h24v24H0V0z\" fill=\"none\"/>\n",
              "    <path d=\"M18.56 5.44l.94 2.06.94-2.06 2.06-.94-2.06-.94-.94-2.06-.94 2.06-2.06.94zm-11 1L8.5 8.5l.94-2.06 2.06-.94-2.06-.94L8.5 2.5l-.94 2.06-2.06.94zm10 10l.94 2.06.94-2.06 2.06-.94-2.06-.94-.94-2.06-.94 2.06-2.06.94z\"/><path d=\"M17.41 7.96l-1.37-1.37c-.4-.4-.92-.59-1.43-.59-.52 0-1.04.2-1.43.59L10.3 9.45l-7.72 7.72c-.78.78-.78 2.05 0 2.83L4 21.41c.39.39.9.59 1.41.59.51 0 1.02-.2 1.41-.59l7.78-7.78 2.81-2.81c.8-.78.8-2.07 0-2.86zM5.41 20L4 18.59l7.72-7.72 1.47 1.35L5.41 20z\"/>\n",
              "  </svg>\n",
              "      </button>\n",
              "      \n",
              "  <style>\n",
              "    .colab-df-container {\n",
              "      display:flex;\n",
              "      flex-wrap:wrap;\n",
              "      gap: 12px;\n",
              "    }\n",
              "\n",
              "    .colab-df-convert {\n",
              "      background-color: #E8F0FE;\n",
              "      border: none;\n",
              "      border-radius: 50%;\n",
              "      cursor: pointer;\n",
              "      display: none;\n",
              "      fill: #1967D2;\n",
              "      height: 32px;\n",
              "      padding: 0 0 0 0;\n",
              "      width: 32px;\n",
              "    }\n",
              "\n",
              "    .colab-df-convert:hover {\n",
              "      background-color: #E2EBFA;\n",
              "      box-shadow: 0px 1px 2px rgba(60, 64, 67, 0.3), 0px 1px 3px 1px rgba(60, 64, 67, 0.15);\n",
              "      fill: #174EA6;\n",
              "    }\n",
              "\n",
              "    [theme=dark] .colab-df-convert {\n",
              "      background-color: #3B4455;\n",
              "      fill: #D2E3FC;\n",
              "    }\n",
              "\n",
              "    [theme=dark] .colab-df-convert:hover {\n",
              "      background-color: #434B5C;\n",
              "      box-shadow: 0px 1px 3px 1px rgba(0, 0, 0, 0.15);\n",
              "      filter: drop-shadow(0px 1px 2px rgba(0, 0, 0, 0.3));\n",
              "      fill: #FFFFFF;\n",
              "    }\n",
              "  </style>\n",
              "\n",
              "      <script>\n",
              "        const buttonEl =\n",
              "          document.querySelector('#df-33449681-14e5-47cf-a66f-d6f469a90c67 button.colab-df-convert');\n",
              "        buttonEl.style.display =\n",
              "          google.colab.kernel.accessAllowed ? 'block' : 'none';\n",
              "\n",
              "        async function convertToInteractive(key) {\n",
              "          const element = document.querySelector('#df-33449681-14e5-47cf-a66f-d6f469a90c67');\n",
              "          const dataTable =\n",
              "            await google.colab.kernel.invokeFunction('convertToInteractive',\n",
              "                                                     [key], {});\n",
              "          if (!dataTable) return;\n",
              "\n",
              "          const docLinkHtml = 'Like what you see? Visit the ' +\n",
              "            '<a target=\"_blank\" href=https://colab.research.google.com/notebooks/data_table.ipynb>data table notebook</a>'\n",
              "            + ' to learn more about interactive tables.';\n",
              "          element.innerHTML = '';\n",
              "          dataTable['output_type'] = 'display_data';\n",
              "          await google.colab.output.renderOutput(dataTable, element);\n",
              "          const docLink = document.createElement('div');\n",
              "          docLink.innerHTML = docLinkHtml;\n",
              "          element.appendChild(docLink);\n",
              "        }\n",
              "      </script>\n",
              "    </div>\n",
              "  </div>\n",
              "  "
            ],
            "text/plain": [
              "                              occupations  ...  years_run\n",
              "0                      [climate advocate]  ...         15\n",
              "1  [global health expert; data visionary]  ...         15\n",
              "\n",
              "[2 rows x 6 columns]"
            ]
          },
          "metadata": {},
          "execution_count": 33
        }
      ]
    },
    {
      "cell_type": "code",
      "source": [
        "\n",
        "# label_encoder = LabelEncoder()\n",
        "# X = ted_talk_df_clean.native_lang.values\n",
        "# y = label_encoder.fit_transform(X)\n",
        "# ted_talk_df_clean['native_lang']=y"
      ],
      "metadata": {
        "id": "aZLvB_pbxYWH"
      },
      "execution_count": 34,
      "outputs": []
    },
    {
      "cell_type": "code",
      "source": [
        "# Checking value counts for the categorical variables\n",
        "for col in ted_talk_df_clean.describe(include=['object','category']).columns:\n",
        "  ted_talk_df_clean[col][:10].value_counts().sort_index().plot.bar(figsize=(7,7),color='firebrick')\n",
        "  plt.title(col + ' counts')\n",
        "  plt.ylabel('Frequency')\n",
        "  plt.xlabel(col)\n",
        "\n",
        "plt.show()"
      ],
      "metadata": {
        "id": "2GcZuyTpYhWd",
        "colab": {
          "base_uri": "https://localhost:8080/",
          "height": 0
        },
        "outputId": "ca7b4d7a-cf32-4bd5-ec30-5865803632f1"
      },
      "execution_count": 35,
      "outputs": [
        {
          "output_type": "display_data",
          "data": {
            "image/png": "[encoded data removed]",
            "text/plain": [
              "<Figure size 504x504 with 1 Axes>"
            ]
          },
          "metadata": {
            "needs_background": "light"
          }
        }
      ]
    },
    {
      "cell_type": "markdown",
      "source": [
        "### **5. Treating Anomalies in the Data**\n",
        "\n",
        "While, we are finding out the **general formula** from the experiences, we should identify the outlier or **exceptional observations** for all the important features and keep them aside during the analysis."
      ],
      "metadata": {
        "id": "BpdOLUa_fNL8"
      }
    },
    {
      "cell_type": "code",
      "source": [
        "# Checking outliers in the features\n",
        "for col in ted_talk_df_clean.describe().columns[1:]:\n",
        "  fig = plt.figure(figsize=(7, 7))\n",
        "  sns.boxplot(ted_talk_df_clean[col])\n",
        "plt.show()"
      ],
      "metadata": {
        "colab": {
          "base_uri": "https://localhost:8080/",
          "height": 0
        },
        "id": "kJQzEXGdE8LZ",
        "outputId": "992727c2-2053-4d33-cf37-acd59410ca73"
      },
      "execution_count": 36,
      "outputs": [
        {
          "output_type": "stream",
          "name": "stderr",
          "text": [
            "/usr/local/lib/python3.7/dist-packages/seaborn/_decorators.py:43: FutureWarning: Pass the following variable as a keyword arg: x. From version 0.12, the only valid positional argument will be `data`, and passing other arguments without an explicit keyword will result in an error or misinterpretation.\n",
            "  FutureWarning\n",
            "/usr/local/lib/python3.7/dist-packages/seaborn/_decorators.py:43: FutureWarning: Pass the following variable as a keyword arg: x. From version 0.12, the only valid positional argument will be `data`, and passing other arguments without an explicit keyword will result in an error or misinterpretation.\n",
            "  FutureWarning\n",
            "/usr/local/lib/python3.7/dist-packages/seaborn/_decorators.py:43: FutureWarning: Pass the following variable as a keyword arg: x. From version 0.12, the only valid positional argument will be `data`, and passing other arguments without an explicit keyword will result in an error or misinterpretation.\n",
            "  FutureWarning\n"
          ]
        },
        {
          "output_type": "display_data",
          "data": {
            "image/png": "[encoded data removed]",
            "text/plain": [
              "<Figure size 504x504 with 1 Axes>"
            ]
          },
          "metadata": {
            "needs_background": "light"
          }
        },
        {
          "output_type": "display_data",
          "data": {
            "image/png": "[encoded data removed]",
            "text/plain": [
              "<Figure size 504x504 with 1 Axes>"
            ]
          },
          "metadata": {
            "needs_background": "light"
          }
        },
        {
          "output_type": "display_data",
          "data": {
            "image/png": "[encoded data removed]",
            "text/plain": [
              "<Figure size 504x504 with 1 Axes>"
            ]
          },
          "metadata": {
            "needs_background": "light"
          }
        }
      ]
    },
    {
      "cell_type": "code",
      "source": [
        "# Boxplot is showing too many outliers in comments and duration, so they are not actually the exceptions.\n",
        "# Thus we are not treating them."
      ],
      "metadata": {
        "id": "2gYLOCtrvYrT"
      },
      "execution_count": 37,
      "outputs": []
    },
    {
      "cell_type": "markdown",
      "source": [
        "### **6. Final Feature Selection from the Data**\n",
        "\n",
        "Now we need to understand the distribution of the features and the relationship among the features for the decision of transformation, scaling and final selection of features."
      ],
      "metadata": {
        "id": "e8K2-gCifJbO"
      }
    },
    {
      "cell_type": "code",
      "source": [
        "# Checking the distribution of dependent variable\n",
        "plt.figure(figsize=(7,7))\n",
        "sns.histplot(ted_talk_df_clean['views'], kde=True)\n",
        "plt.show()"
      ],
      "metadata": {
        "id": "VtISk1grOh-y",
        "colab": {
          "base_uri": "https://localhost:8080/",
          "height": 442
        },
        "outputId": "a42ace7e-121c-495c-ab65-dea1e0a3a4cf"
      },
      "execution_count": 38,
      "outputs": [
        {
          "output_type": "display_data",
          "data": {
            "image/png": "[encoded data removed]",
            "text/plain": [
              "<Figure size 504x504 with 1 Axes>"
            ]
          },
          "metadata": {
            "needs_background": "light"
          }
        }
      ]
    },
    {
      "cell_type": "code",
      "source": [
        "# Views is extreamly positively scewed, so need log transformation"
      ],
      "metadata": {
        "id": "ZMww53zUJShy"
      },
      "execution_count": 39,
      "outputs": []
    },
    {
      "cell_type": "code",
      "source": [
        "# Checking log transformation\n",
        "plt.figure(figsize=(7,7))\n",
        "sns.histplot(np.log10(ted_talk_df_clean['views']), kde=True)\n",
        "plt.show()"
      ],
      "metadata": {
        "id": "qPStYALaNHkb",
        "colab": {
          "base_uri": "https://localhost:8080/",
          "height": 442
        },
        "outputId": "f3363070-1dfe-4be7-a10f-4010fba399b5"
      },
      "execution_count": 40,
      "outputs": [
        {
          "output_type": "display_data",
          "data": {
            "image/png": "[encoded data removed]",
            "text/plain": [
              "<Figure size 504x504 with 1 Axes>"
            ]
          },
          "metadata": {
            "needs_background": "light"
          }
        }
      ]
    },
    {
      "cell_type": "code",
      "source": [
        "# Checking distribution of all numerical independent variables (except views)\n",
        "for col in ted_talk_df_clean.describe().columns[1:]:\n",
        "    fig = plt.figure(figsize=(7, 7))\n",
        "    ax = fig.gca()\n",
        "    feature = ted_talk_df_clean[col]\n",
        "    sns.histplot(feature, kde=True)\n",
        "    ax.axvline(feature.mean(), color='magenta', linestyle='dashed', linewidth=2)\n",
        "    ax.axvline(feature.median(), color='cyan', linestyle='dashed', linewidth=2)    \n",
        "plt.show()"
      ],
      "metadata": {
        "id": "J3a1C9NYQRTe",
        "colab": {
          "base_uri": "https://localhost:8080/",
          "height": 1000
        },
        "outputId": "e83c7b02-088a-4c3c-8b79-a43654692bc6"
      },
      "execution_count": 41,
      "outputs": [
        {
          "output_type": "display_data",
          "data": {
            "image/png": "[encoded data removed]",
            "text/plain": [
              "<Figure size 504x504 with 1 Axes>"
            ]
          },
          "metadata": {
            "needs_background": "light"
          }
        },
        {
          "output_type": "display_data",
          "data": {
            "image/png": "[encoded data removed]",
            "text/plain": [
              "<Figure size 504x504 with 1 Axes>"
            ]
          },
          "metadata": {
            "needs_background": "light"
          }
        },
        {
          "output_type": "display_data",
          "data": {
            "image/png": "[encoded data removed]",
            "text/plain": [
              "<Figure size 504x504 with 1 Axes>"
            ]
          },
          "metadata": {
            "needs_background": "light"
          }
        }
      ]
    },
    {
      "cell_type": "code",
      "source": [
        "# We can see the 'comments' and 'duration' are also positively skewed. Thus need log transformation\n",
        "# days old is not positively or negatively sckewed."
      ],
      "metadata": {
        "id": "7zuGyGk0TkSr"
      },
      "execution_count": 42,
      "outputs": []
    },
    {
      "cell_type": "code",
      "source": [
        "# Checking distribution after log transformation\n",
        "for col in ted_talk_df_clean.describe().columns[1:]:\n",
        "    fig = plt.figure(figsize=(7, 7))\n",
        "    ax = fig.gca()\n",
        "    feature = np.log10(ted_talk_df_clean[col])\n",
        "    sns.histplot(feature, kde=True)\n",
        "    ax.axvline(feature.mean(), color='magenta', linestyle='dashed', linewidth=2)\n",
        "    ax.axvline(feature.median(), color='cyan', linestyle='dashed', linewidth=2)    \n",
        "plt.show()"
      ],
      "metadata": {
        "colab": {
          "base_uri": "https://localhost:8080/",
          "height": 1000
        },
        "id": "-01JfsDeTMez",
        "outputId": "5c084ea8-1b61-45c3-ea89-77d5b209407a"
      },
      "execution_count": 43,
      "outputs": [
        {
          "output_type": "stream",
          "name": "stderr",
          "text": [
            "/usr/local/lib/python3.7/dist-packages/pandas/core/arraylike.py:364: RuntimeWarning: divide by zero encountered in log10\n",
            "  result = getattr(ufunc, method)(*inputs, **kwargs)\n"
          ]
        },
        {
          "output_type": "display_data",
          "data": {
            "image/png": "[encoded data removed]",
            "text/plain": [
              "<Figure size 504x504 with 1 Axes>"
            ]
          },
          "metadata": {
            "needs_background": "light"
          }
        },
        {
          "output_type": "display_data",
          "data": {
            "image/png": "[encoded data removed]",
            "text/plain": [
              "<Figure size 504x504 with 1 Axes>"
            ]
          },
          "metadata": {
            "needs_background": "light"
          }
        },
        {
          "output_type": "display_data",
          "data": {
            "image/png": "[encoded data removed]",
            "text/plain": [
              "<Figure size 504x504 with 1 Axes>"
            ]
          },
          "metadata": {
            "needs_background": "light"
          }
        }
      ]
    },
    {
      "cell_type": "code",
      "source": [
        "# Checking correlation of independent variables with dependent variables\n",
        "for col in ted_talk_df_clean.describe().columns[1:]:\n",
        "    fig = plt.figure(figsize=(7, 7))\n",
        "    ax = fig.gca()\n",
        "    feature = ted_talk_df_clean[col]\n",
        "    label = ted_talk_df_clean['views']\n",
        "    correlation = feature.corr(label)\n",
        "    plt.scatter(x=feature, y=label)\n",
        "    plt.xlabel(col)\n",
        "    plt.ylabel('Views')\n",
        "    ax.set_title('Views vs ' + col + '- correlation: ' + str(correlation))\n",
        "    fit = np.polyfit(feature, label, deg=1) \n",
        "    p = np.poly1d(fit) \n",
        "    plt.plot(feature,p(feature),\"r--\") \n",
        "plt.show()"
      ],
      "metadata": {
        "id": "p5QmlzIWT-qE",
        "colab": {
          "base_uri": "https://localhost:8080/",
          "height": 1000
        },
        "outputId": "6e3b02f3-5b3c-4fc9-ba18-90682cb4cd20"
      },
      "execution_count": 44,
      "outputs": [
        {
          "output_type": "display_data",
          "data": {
            "image/png": "[encoded data removed]",
            "text/plain": [
              "<Figure size 504x504 with 1 Axes>"
            ]
          },
          "metadata": {
            "needs_background": "light"
          }
        },
        {
          "output_type": "display_data",
          "data": {
            "image/png": "[encoded data removed]",
            "text/plain": [
              "<Figure size 504x504 with 1 Axes>"
            ]
          },
          "metadata": {
            "needs_background": "light"
          }
        },
        {
          "output_type": "display_data",
          "data": {
            "image/png": "[encoded data removed]",
            "text/plain": [
              "<Figure size 504x504 with 1 Axes>"
            ]
          },
          "metadata": {
            "needs_background": "light"
          }
        }
      ]
    },
    {
      "cell_type": "code",
      "source": [
        "# Checking multicolinearity\n",
        "plt.figure(figsize=(10,8))\n",
        "sns.heatmap(ted_talk_df_clean.corr(), vmin=-1, cmap='Greens', annot=True)\n",
        "plt.title('Correlation between Variables')\n",
        "plt.show()"
      ],
      "metadata": {
        "id": "K36wHSH4ZpET",
        "colab": {
          "base_uri": "https://localhost:8080/",
          "height": 499
        },
        "outputId": "f2ef835f-013c-4f20-e5d4-c79d96dcac90"
      },
      "execution_count": 45,
      "outputs": [
        {
          "output_type": "display_data",
          "data": {
            "image/png": "[encoded data removed]",
            "text/plain": [
              "<Figure size 720x576 with 2 Axes>"
            ]
          },
          "metadata": {
            "needs_background": "light"
          }
        }
      ]
    },
    {
      "cell_type": "code",
      "source": [
        "# Creating function for checking VIF\n",
        "from statsmodels.stats.outliers_influence import variance_inflation_factor\n",
        "def calc_vif(X):\n",
        "\n",
        "    # Calculating VIF\n",
        "    vif = pd.DataFrame()\n",
        "    vif[\"variables\"] = X.columns\n",
        "    vif[\"VIF\"] = [variance_inflation_factor(X.values, i) for i in range(X.shape[1])]\n",
        "\n",
        "    return(vif)"
      ],
      "metadata": {
        "id": "663N6vkCbp24",
        "colab": {
          "base_uri": "https://localhost:8080/"
        },
        "outputId": "d07d3951-7006-4781-e44f-791eba1791f7"
      },
      "execution_count": 46,
      "outputs": [
        {
          "output_type": "stream",
          "name": "stderr",
          "text": [
            "/usr/local/lib/python3.7/dist-packages/statsmodels/tools/_testing.py:19: FutureWarning: pandas.util.testing is deprecated. Use the functions in the public API at pandas.testing instead.\n",
            "  import pandas.util.testing as tm\n"
          ]
        }
      ]
    },
    {
      "cell_type": "code",
      "source": [
        "calc_vif(ted_talk_df_clean[[i for i in ted_talk_df_clean.describe().columns if i not in ['views']]])"
      ],
      "metadata": {
        "id": "MwJpHOWWb_Hu",
        "colab": {
          "base_uri": "https://localhost:8080/",
          "height": 143
        },
        "outputId": "494f334e-0148-4943-aaa4-b661949d3783"
      },
      "execution_count": 47,
      "outputs": [
        {
          "output_type": "execute_result",
          "data": {
            "text/html": [
              "\n",
              "  <div id=\"df-84d10697-e9de-4811-8b23-bb10a5be24a5\">\n",
              "    <div class=\"colab-df-container\">\n",
              "      <div>\n",
              "<style scoped>\n",
              "    .dataframe tbody tr th:only-of-type {\n",
              "        vertical-align: middle;\n",
              "    }\n",
              "\n",
              "    .dataframe tbody tr th {\n",
              "        vertical-align: top;\n",
              "    }\n",
              "\n",
              "    .dataframe thead th {\n",
              "        text-align: right;\n",
              "    }\n",
              "</style>\n",
              "<table border=\"1\" class=\"dataframe\">\n",
              "  <thead>\n",
              "    <tr style=\"text-align: right;\">\n",
              "      <th></th>\n",
              "      <th>variables</th>\n",
              "      <th>VIF</th>\n",
              "    </tr>\n",
              "  </thead>\n",
              "  <tbody>\n",
              "    <tr>\n",
              "      <th>0</th>\n",
              "      <td>comments</td>\n",
              "      <td>1.520811</td>\n",
              "    </tr>\n",
              "    <tr>\n",
              "      <th>1</th>\n",
              "      <td>duration</td>\n",
              "      <td>3.554742</td>\n",
              "    </tr>\n",
              "    <tr>\n",
              "      <th>2</th>\n",
              "      <td>years_run</td>\n",
              "      <td>3.824933</td>\n",
              "    </tr>\n",
              "  </tbody>\n",
              "</table>\n",
              "</div>\n",
              "      <button class=\"colab-df-convert\" onclick=\"convertToInteractive('df-84d10697-e9de-4811-8b23-bb10a5be24a5')\"\n",
              "              title=\"Convert this dataframe to an interactive table.\"\n",
              "              style=\"display:none;\">\n",
              "        \n",
              "  <svg xmlns=\"http://www.w3.org/2000/svg\" height=\"24px\"viewBox=\"0 0 24 24\"\n",
              "       width=\"24px\">\n",
              "    <path d=\"M0 0h24v24H0V0z\" fill=\"none\"/>\n",
              "    <path d=\"M18.56 5.44l.94 2.06.94-2.06 2.06-.94-2.06-.94-.94-2.06-.94 2.06-2.06.94zm-11 1L8.5 8.5l.94-2.06 2.06-.94-2.06-.94L8.5 2.5l-.94 2.06-2.06.94zm10 10l.94 2.06.94-2.06 2.06-.94-2.06-.94-.94-2.06-.94 2.06-2.06.94z\"/><path d=\"M17.41 7.96l-1.37-1.37c-.4-.4-.92-.59-1.43-.59-.52 0-1.04.2-1.43.59L10.3 9.45l-7.72 7.72c-.78.78-.78 2.05 0 2.83L4 21.41c.39.39.9.59 1.41.59.51 0 1.02-.2 1.41-.59l7.78-7.78 2.81-2.81c.8-.78.8-2.07 0-2.86zM5.41 20L4 18.59l7.72-7.72 1.47 1.35L5.41 20z\"/>\n",
              "  </svg>\n",
              "      </button>\n",
              "      \n",
              "  <style>\n",
              "    .colab-df-container {\n",
              "      display:flex;\n",
              "      flex-wrap:wrap;\n",
              "      gap: 12px;\n",
              "    }\n",
              "\n",
              "    .colab-df-convert {\n",
              "      background-color: #E8F0FE;\n",
              "      border: none;\n",
              "      border-radius: 50%;\n",
              "      cursor: pointer;\n",
              "      display: none;\n",
              "      fill: #1967D2;\n",
              "      height: 32px;\n",
              "      padding: 0 0 0 0;\n",
              "      width: 32px;\n",
              "    }\n",
              "\n",
              "    .colab-df-convert:hover {\n",
              "      background-color: #E2EBFA;\n",
              "      box-shadow: 0px 1px 2px rgba(60, 64, 67, 0.3), 0px 1px 3px 1px rgba(60, 64, 67, 0.15);\n",
              "      fill: #174EA6;\n",
              "    }\n",
              "\n",
              "    [theme=dark] .colab-df-convert {\n",
              "      background-color: #3B4455;\n",
              "      fill: #D2E3FC;\n",
              "    }\n",
              "\n",
              "    [theme=dark] .colab-df-convert:hover {\n",
              "      background-color: #434B5C;\n",
              "      box-shadow: 0px 1px 3px 1px rgba(0, 0, 0, 0.15);\n",
              "      filter: drop-shadow(0px 1px 2px rgba(0, 0, 0, 0.3));\n",
              "      fill: #FFFFFF;\n",
              "    }\n",
              "  </style>\n",
              "\n",
              "      <script>\n",
              "        const buttonEl =\n",
              "          document.querySelector('#df-84d10697-e9de-4811-8b23-bb10a5be24a5 button.colab-df-convert');\n",
              "        buttonEl.style.display =\n",
              "          google.colab.kernel.accessAllowed ? 'block' : 'none';\n",
              "\n",
              "        async function convertToInteractive(key) {\n",
              "          const element = document.querySelector('#df-84d10697-e9de-4811-8b23-bb10a5be24a5');\n",
              "          const dataTable =\n",
              "            await google.colab.kernel.invokeFunction('convertToInteractive',\n",
              "                                                     [key], {});\n",
              "          if (!dataTable) return;\n",
              "\n",
              "          const docLinkHtml = 'Like what you see? Visit the ' +\n",
              "            '<a target=\"_blank\" href=https://colab.research.google.com/notebooks/data_table.ipynb>data table notebook</a>'\n",
              "            + ' to learn more about interactive tables.';\n",
              "          element.innerHTML = '';\n",
              "          dataTable['output_type'] = 'display_data';\n",
              "          await google.colab.output.renderOutput(dataTable, element);\n",
              "          const docLink = document.createElement('div');\n",
              "          docLink.innerHTML = docLinkHtml;\n",
              "          element.appendChild(docLink);\n",
              "        }\n",
              "      </script>\n",
              "    </div>\n",
              "  </div>\n",
              "  "
            ],
            "text/plain": [
              "   variables       VIF\n",
              "0   comments  1.520811\n",
              "1   duration  3.554742\n",
              "2  years_run  3.824933"
            ]
          },
          "metadata": {},
          "execution_count": 47
        }
      ]
    },
    {
      "cell_type": "code",
      "source": [
        "# All the VIF are below 10, thus there is no problem of multicolinearity"
      ],
      "metadata": {
        "id": "bW7XNkmdks6L"
      },
      "execution_count": 48,
      "outputs": []
    },
    {
      "cell_type": "markdown",
      "source": [
        "### **7. Preparation of Input and Output Data**"
      ],
      "metadata": {
        "id": "buQvXzTAL-zk"
      }
    },
    {
      "cell_type": "code",
      "source": [
        "# Creating dependent(output) and independent(input) variable\n",
        "dependent_variable='views'\n",
        "independent_variables=list(set(ted_talk_df_clean.describe().columns)-{dependent_variable})\n",
        "independent_variables"
      ],
      "metadata": {
        "id": "-77YARCeTMq4",
        "colab": {
          "base_uri": "https://localhost:8080/"
        },
        "outputId": "5ebd2ddb-0733-419a-f4b9-6a0d1eedc389"
      },
      "execution_count": 49,
      "outputs": [
        {
          "output_type": "execute_result",
          "data": {
            "text/plain": [
              "['duration', 'comments', 'years_run']"
            ]
          },
          "metadata": {},
          "execution_count": 49
        }
      ]
    },
    {
      "cell_type": "code",
      "source": [
        "# Creating normalized input and output dataset\n",
        "X = np.log10(ted_talk_df_clean[['duration', 'comments']])\n",
        "X[['years_run']]=ted_talk_df_clean[['years_run']]\n",
        "\n",
        "y = np.log10(ted_talk_df_clean[dependent_variable])"
      ],
      "metadata": {
        "id": "L5oJS69fMhKk"
      },
      "execution_count": 50,
      "outputs": []
    },
    {
      "cell_type": "code",
      "source": [
        "# Checking is there any infinite values after normalization\n",
        "X.describe()"
      ],
      "metadata": {
        "colab": {
          "base_uri": "https://localhost:8080/",
          "height": 300
        },
        "id": "YV-1tsa2oqEb",
        "outputId": "8531f14a-5381-430c-8be4-fc1e543710c3"
      },
      "execution_count": 51,
      "outputs": [
        {
          "output_type": "execute_result",
          "data": {
            "text/html": [
              "\n",
              "  <div id=\"df-095d6a1e-1649-45b9-b03f-572e3742f70e\">\n",
              "    <div class=\"colab-df-container\">\n",
              "      <div>\n",
              "<style scoped>\n",
              "    .dataframe tbody tr th:only-of-type {\n",
              "        vertical-align: middle;\n",
              "    }\n",
              "\n",
              "    .dataframe tbody tr th {\n",
              "        vertical-align: top;\n",
              "    }\n",
              "\n",
              "    .dataframe thead th {\n",
              "        text-align: right;\n",
              "    }\n",
              "</style>\n",
              "<table border=\"1\" class=\"dataframe\">\n",
              "  <thead>\n",
              "    <tr style=\"text-align: right;\">\n",
              "      <th></th>\n",
              "      <th>duration</th>\n",
              "      <th>comments</th>\n",
              "      <th>years_run</th>\n",
              "    </tr>\n",
              "  </thead>\n",
              "  <tbody>\n",
              "    <tr>\n",
              "      <th>count</th>\n",
              "      <td>3312.000000</td>\n",
              "      <td>3312.000000</td>\n",
              "      <td>3312.000000</td>\n",
              "    </tr>\n",
              "    <tr>\n",
              "      <th>mean</th>\n",
              "      <td>2.858282</td>\n",
              "      <td>-inf</td>\n",
              "      <td>7.245471</td>\n",
              "    </tr>\n",
              "    <tr>\n",
              "      <th>std</th>\n",
              "      <td>0.204715</td>\n",
              "      <td>NaN</td>\n",
              "      <td>3.852123</td>\n",
              "    </tr>\n",
              "    <tr>\n",
              "      <th>min</th>\n",
              "      <td>2.130334</td>\n",
              "      <td>-inf</td>\n",
              "      <td>1.000000</td>\n",
              "    </tr>\n",
              "    <tr>\n",
              "      <th>25%</th>\n",
              "      <td>2.760422</td>\n",
              "      <td>1.579784</td>\n",
              "      <td>4.000000</td>\n",
              "    </tr>\n",
              "    <tr>\n",
              "      <th>50%</th>\n",
              "      <td>2.903090</td>\n",
              "      <td>1.949390</td>\n",
              "      <td>7.000000</td>\n",
              "    </tr>\n",
              "    <tr>\n",
              "      <th>75%</th>\n",
              "      <td>3.004321</td>\n",
              "      <td>2.276462</td>\n",
              "      <td>10.000000</td>\n",
              "    </tr>\n",
              "    <tr>\n",
              "      <th>max</th>\n",
              "      <td>3.593508</td>\n",
              "      <td>3.809492</td>\n",
              "      <td>15.000000</td>\n",
              "    </tr>\n",
              "  </tbody>\n",
              "</table>\n",
              "</div>\n",
              "      <button class=\"colab-df-convert\" onclick=\"convertToInteractive('df-095d6a1e-1649-45b9-b03f-572e3742f70e')\"\n",
              "              title=\"Convert this dataframe to an interactive table.\"\n",
              "              style=\"display:none;\">\n",
              "        \n",
              "  <svg xmlns=\"http://www.w3.org/2000/svg\" height=\"24px\"viewBox=\"0 0 24 24\"\n",
              "       width=\"24px\">\n",
              "    <path d=\"M0 0h24v24H0V0z\" fill=\"none\"/>\n",
              "    <path d=\"M18.56 5.44l.94 2.06.94-2.06 2.06-.94-2.06-.94-.94-2.06-.94 2.06-2.06.94zm-11 1L8.5 8.5l.94-2.06 2.06-.94-2.06-.94L8.5 2.5l-.94 2.06-2.06.94zm10 10l.94 2.06.94-2.06 2.06-.94-2.06-.94-.94-2.06-.94 2.06-2.06.94z\"/><path d=\"M17.41 7.96l-1.37-1.37c-.4-.4-.92-.59-1.43-.59-.52 0-1.04.2-1.43.59L10.3 9.45l-7.72 7.72c-.78.78-.78 2.05 0 2.83L4 21.41c.39.39.9.59 1.41.59.51 0 1.02-.2 1.41-.59l7.78-7.78 2.81-2.81c.8-.78.8-2.07 0-2.86zM5.41 20L4 18.59l7.72-7.72 1.47 1.35L5.41 20z\"/>\n",
              "  </svg>\n",
              "      </button>\n",
              "      \n",
              "  <style>\n",
              "    .colab-df-container {\n",
              "      display:flex;\n",
              "      flex-wrap:wrap;\n",
              "      gap: 12px;\n",
              "    }\n",
              "\n",
              "    .colab-df-convert {\n",
              "      background-color: #E8F0FE;\n",
              "      border: none;\n",
              "      border-radius: 50%;\n",
              "      cursor: pointer;\n",
              "      display: none;\n",
              "      fill: #1967D2;\n",
              "      height: 32px;\n",
              "      padding: 0 0 0 0;\n",
              "      width: 32px;\n",
              "    }\n",
              "\n",
              "    .colab-df-convert:hover {\n",
              "      background-color: #E2EBFA;\n",
              "      box-shadow: 0px 1px 2px rgba(60, 64, 67, 0.3), 0px 1px 3px 1px rgba(60, 64, 67, 0.15);\n",
              "      fill: #174EA6;\n",
              "    }\n",
              "\n",
              "    [theme=dark] .colab-df-convert {\n",
              "      background-color: #3B4455;\n",
              "      fill: #D2E3FC;\n",
              "    }\n",
              "\n",
              "    [theme=dark] .colab-df-convert:hover {\n",
              "      background-color: #434B5C;\n",
              "      box-shadow: 0px 1px 3px 1px rgba(0, 0, 0, 0.15);\n",
              "      filter: drop-shadow(0px 1px 2px rgba(0, 0, 0, 0.3));\n",
              "      fill: #FFFFFF;\n",
              "    }\n",
              "  </style>\n",
              "\n",
              "      <script>\n",
              "        const buttonEl =\n",
              "          document.querySelector('#df-095d6a1e-1649-45b9-b03f-572e3742f70e button.colab-df-convert');\n",
              "        buttonEl.style.display =\n",
              "          google.colab.kernel.accessAllowed ? 'block' : 'none';\n",
              "\n",
              "        async function convertToInteractive(key) {\n",
              "          const element = document.querySelector('#df-095d6a1e-1649-45b9-b03f-572e3742f70e');\n",
              "          const dataTable =\n",
              "            await google.colab.kernel.invokeFunction('convertToInteractive',\n",
              "                                                     [key], {});\n",
              "          if (!dataTable) return;\n",
              "\n",
              "          const docLinkHtml = 'Like what you see? Visit the ' +\n",
              "            '<a target=\"_blank\" href=https://colab.research.google.com/notebooks/data_table.ipynb>data table notebook</a>'\n",
              "            + ' to learn more about interactive tables.';\n",
              "          element.innerHTML = '';\n",
              "          dataTable['output_type'] = 'display_data';\n",
              "          await google.colab.output.renderOutput(dataTable, element);\n",
              "          const docLink = document.createElement('div');\n",
              "          docLink.innerHTML = docLinkHtml;\n",
              "          element.appendChild(docLink);\n",
              "        }\n",
              "      </script>\n",
              "    </div>\n",
              "  </div>\n",
              "  "
            ],
            "text/plain": [
              "          duration     comments    years_run\n",
              "count  3312.000000  3312.000000  3312.000000\n",
              "mean      2.858282         -inf     7.245471\n",
              "std       0.204715          NaN     3.852123\n",
              "min       2.130334         -inf     1.000000\n",
              "25%       2.760422     1.579784     4.000000\n",
              "50%       2.903090     1.949390     7.000000\n",
              "75%       3.004321     2.276462    10.000000\n",
              "max       3.593508     3.809492    15.000000"
            ]
          },
          "metadata": {},
          "execution_count": 51
        }
      ]
    },
    {
      "cell_type": "code",
      "source": [
        "y.describe()"
      ],
      "metadata": {
        "colab": {
          "base_uri": "https://localhost:8080/"
        },
        "id": "kdIVtfWsoyMb",
        "outputId": "611fedde-5e45-4df6-b3a3-878073ff909e"
      },
      "execution_count": 52,
      "outputs": [
        {
          "output_type": "execute_result",
          "data": {
            "text/plain": [
              "count    3312.000000\n",
              "mean        6.169861\n",
              "std         0.345000\n",
              "min         5.027533\n",
              "25%         5.986160\n",
              "50%         6.153214\n",
              "75%         6.326664\n",
              "max         7.813260\n",
              "Name: views, dtype: float64"
            ]
          },
          "metadata": {},
          "execution_count": 52
        }
      ]
    },
    {
      "cell_type": "code",
      "source": [
        "# Imputation of infinite values with zero\n",
        "for col in X.columns:\n",
        "  X[col].replace([np.inf, -np.inf], 0, inplace=True)\n",
        "\n",
        "y.replace([np.inf, -np.inf], 0, inplace=True)"
      ],
      "metadata": {
        "id": "hOYOt_k8lDq7"
      },
      "execution_count": 53,
      "outputs": []
    },
    {
      "cell_type": "code",
      "source": [
        "X.describe()"
      ],
      "metadata": {
        "colab": {
          "base_uri": "https://localhost:8080/",
          "height": 300
        },
        "id": "Pqo0C5PvnSsz",
        "outputId": "135e51b9-775e-4ec5-a9a8-8c28869bbdac"
      },
      "execution_count": 54,
      "outputs": [
        {
          "output_type": "execute_result",
          "data": {
            "text/html": [
              "\n",
              "  <div id=\"df-a59a0adc-6f3c-464d-8b11-02cfdd9451e3\">\n",
              "    <div class=\"colab-df-container\">\n",
              "      <div>\n",
              "<style scoped>\n",
              "    .dataframe tbody tr th:only-of-type {\n",
              "        vertical-align: middle;\n",
              "    }\n",
              "\n",
              "    .dataframe tbody tr th {\n",
              "        vertical-align: top;\n",
              "    }\n",
              "\n",
              "    .dataframe thead th {\n",
              "        text-align: right;\n",
              "    }\n",
              "</style>\n",
              "<table border=\"1\" class=\"dataframe\">\n",
              "  <thead>\n",
              "    <tr style=\"text-align: right;\">\n",
              "      <th></th>\n",
              "      <th>duration</th>\n",
              "      <th>comments</th>\n",
              "      <th>years_run</th>\n",
              "    </tr>\n",
              "  </thead>\n",
              "  <tbody>\n",
              "    <tr>\n",
              "      <th>count</th>\n",
              "      <td>3312.000000</td>\n",
              "      <td>3312.000000</td>\n",
              "      <td>3312.000000</td>\n",
              "    </tr>\n",
              "    <tr>\n",
              "      <th>mean</th>\n",
              "      <td>2.858282</td>\n",
              "      <td>1.922193</td>\n",
              "      <td>7.245471</td>\n",
              "    </tr>\n",
              "    <tr>\n",
              "      <th>std</th>\n",
              "      <td>0.204715</td>\n",
              "      <td>0.519449</td>\n",
              "      <td>3.852123</td>\n",
              "    </tr>\n",
              "    <tr>\n",
              "      <th>min</th>\n",
              "      <td>2.130334</td>\n",
              "      <td>0.000000</td>\n",
              "      <td>1.000000</td>\n",
              "    </tr>\n",
              "    <tr>\n",
              "      <th>25%</th>\n",
              "      <td>2.760422</td>\n",
              "      <td>1.579784</td>\n",
              "      <td>4.000000</td>\n",
              "    </tr>\n",
              "    <tr>\n",
              "      <th>50%</th>\n",
              "      <td>2.903090</td>\n",
              "      <td>1.949390</td>\n",
              "      <td>7.000000</td>\n",
              "    </tr>\n",
              "    <tr>\n",
              "      <th>75%</th>\n",
              "      <td>3.004321</td>\n",
              "      <td>2.276462</td>\n",
              "      <td>10.000000</td>\n",
              "    </tr>\n",
              "    <tr>\n",
              "      <th>max</th>\n",
              "      <td>3.593508</td>\n",
              "      <td>3.809492</td>\n",
              "      <td>15.000000</td>\n",
              "    </tr>\n",
              "  </tbody>\n",
              "</table>\n",
              "</div>\n",
              "      <button class=\"colab-df-convert\" onclick=\"convertToInteractive('df-a59a0adc-6f3c-464d-8b11-02cfdd9451e3')\"\n",
              "              title=\"Convert this dataframe to an interactive table.\"\n",
              "              style=\"display:none;\">\n",
              "        \n",
              "  <svg xmlns=\"http://www.w3.org/2000/svg\" height=\"24px\"viewBox=\"0 0 24 24\"\n",
              "       width=\"24px\">\n",
              "    <path d=\"M0 0h24v24H0V0z\" fill=\"none\"/>\n",
              "    <path d=\"M18.56 5.44l.94 2.06.94-2.06 2.06-.94-2.06-.94-.94-2.06-.94 2.06-2.06.94zm-11 1L8.5 8.5l.94-2.06 2.06-.94-2.06-.94L8.5 2.5l-.94 2.06-2.06.94zm10 10l.94 2.06.94-2.06 2.06-.94-2.06-.94-.94-2.06-.94 2.06-2.06.94z\"/><path d=\"M17.41 7.96l-1.37-1.37c-.4-.4-.92-.59-1.43-.59-.52 0-1.04.2-1.43.59L10.3 9.45l-7.72 7.72c-.78.78-.78 2.05 0 2.83L4 21.41c.39.39.9.59 1.41.59.51 0 1.02-.2 1.41-.59l7.78-7.78 2.81-2.81c.8-.78.8-2.07 0-2.86zM5.41 20L4 18.59l7.72-7.72 1.47 1.35L5.41 20z\"/>\n",
              "  </svg>\n",
              "      </button>\n",
              "      \n",
              "  <style>\n",
              "    .colab-df-container {\n",
              "      display:flex;\n",
              "      flex-wrap:wrap;\n",
              "      gap: 12px;\n",
              "    }\n",
              "\n",
              "    .colab-df-convert {\n",
              "      background-color: #E8F0FE;\n",
              "      border: none;\n",
              "      border-radius: 50%;\n",
              "      cursor: pointer;\n",
              "      display: none;\n",
              "      fill: #1967D2;\n",
              "      height: 32px;\n",
              "      padding: 0 0 0 0;\n",
              "      width: 32px;\n",
              "    }\n",
              "\n",
              "    .colab-df-convert:hover {\n",
              "      background-color: #E2EBFA;\n",
              "      box-shadow: 0px 1px 2px rgba(60, 64, 67, 0.3), 0px 1px 3px 1px rgba(60, 64, 67, 0.15);\n",
              "      fill: #174EA6;\n",
              "    }\n",
              "\n",
              "    [theme=dark] .colab-df-convert {\n",
              "      background-color: #3B4455;\n",
              "      fill: #D2E3FC;\n",
              "    }\n",
              "\n",
              "    [theme=dark] .colab-df-convert:hover {\n",
              "      background-color: #434B5C;\n",
              "      box-shadow: 0px 1px 3px 1px rgba(0, 0, 0, 0.15);\n",
              "      filter: drop-shadow(0px 1px 2px rgba(0, 0, 0, 0.3));\n",
              "      fill: #FFFFFF;\n",
              "    }\n",
              "  </style>\n",
              "\n",
              "      <script>\n",
              "        const buttonEl =\n",
              "          document.querySelector('#df-a59a0adc-6f3c-464d-8b11-02cfdd9451e3 button.colab-df-convert');\n",
              "        buttonEl.style.display =\n",
              "          google.colab.kernel.accessAllowed ? 'block' : 'none';\n",
              "\n",
              "        async function convertToInteractive(key) {\n",
              "          const element = document.querySelector('#df-a59a0adc-6f3c-464d-8b11-02cfdd9451e3');\n",
              "          const dataTable =\n",
              "            await google.colab.kernel.invokeFunction('convertToInteractive',\n",
              "                                                     [key], {});\n",
              "          if (!dataTable) return;\n",
              "\n",
              "          const docLinkHtml = 'Like what you see? Visit the ' +\n",
              "            '<a target=\"_blank\" href=https://colab.research.google.com/notebooks/data_table.ipynb>data table notebook</a>'\n",
              "            + ' to learn more about interactive tables.';\n",
              "          element.innerHTML = '';\n",
              "          dataTable['output_type'] = 'display_data';\n",
              "          await google.colab.output.renderOutput(dataTable, element);\n",
              "          const docLink = document.createElement('div');\n",
              "          docLink.innerHTML = docLinkHtml;\n",
              "          element.appendChild(docLink);\n",
              "        }\n",
              "      </script>\n",
              "    </div>\n",
              "  </div>\n",
              "  "
            ],
            "text/plain": [
              "          duration     comments    years_run\n",
              "count  3312.000000  3312.000000  3312.000000\n",
              "mean      2.858282     1.922193     7.245471\n",
              "std       0.204715     0.519449     3.852123\n",
              "min       2.130334     0.000000     1.000000\n",
              "25%       2.760422     1.579784     4.000000\n",
              "50%       2.903090     1.949390     7.000000\n",
              "75%       3.004321     2.276462    10.000000\n",
              "max       3.593508     3.809492    15.000000"
            ]
          },
          "metadata": {},
          "execution_count": 54
        }
      ]
    },
    {
      "cell_type": "code",
      "source": [
        "y.describe()"
      ],
      "metadata": {
        "colab": {
          "base_uri": "https://localhost:8080/"
        },
        "id": "Kv2IHzGvn8au",
        "outputId": "f19f7d38-c45e-4032-bb91-84d575b20eff"
      },
      "execution_count": 55,
      "outputs": [
        {
          "output_type": "execute_result",
          "data": {
            "text/plain": [
              "count    3312.000000\n",
              "mean        6.169861\n",
              "std         0.345000\n",
              "min         5.027533\n",
              "25%         5.986160\n",
              "50%         6.153214\n",
              "75%         6.326664\n",
              "max         7.813260\n",
              "Name: views, dtype: float64"
            ]
          },
          "metadata": {},
          "execution_count": 55
        }
      ]
    },
    {
      "cell_type": "code",
      "source": [
        "# Splitting of the data into Train and Test\n",
        "X_train, X_test, y_train, y_test = train_test_split(X, y, test_size = 0.2, random_state = 0)"
      ],
      "metadata": {
        "id": "es9xqKX8MkoP"
      },
      "execution_count": 56,
      "outputs": []
    },
    {
      "cell_type": "code",
      "source": [
        "# Standardization of Input Data\n",
        "scaler = StandardScaler()\n",
        "X_train = scaler.fit_transform(X_train)\n",
        "X_test = scaler.transform(X_test)"
      ],
      "metadata": {
        "id": "uwxSNS42MoA4"
      },
      "execution_count": 57,
      "outputs": []
    },
    {
      "cell_type": "code",
      "source": [
        "X_train.shape"
      ],
      "metadata": {
        "colab": {
          "base_uri": "https://localhost:8080/"
        },
        "id": "Ulix3x90gPTu",
        "outputId": "176c80b7-185b-43f1-c8ed-f080b10ad508"
      },
      "execution_count": 58,
      "outputs": [
        {
          "output_type": "execute_result",
          "data": {
            "text/plain": [
              "(2649, 3)"
            ]
          },
          "metadata": {},
          "execution_count": 58
        }
      ]
    },
    {
      "cell_type": "markdown",
      "source": [
        "# **Building and Evaluation of Model-1**"
      ],
      "metadata": {
        "id": "fFauWJecL-2q"
      }
    },
    {
      "cell_type": "code",
      "source": [
        "# Model training and hyper parameter tunning\n",
        "model_rf = RandomForestRegressor(random_state=0)\n",
        "parameters = {'n_estimators':[int(x) for x in np.linspace(2,20,num=10)], \n",
        "              'max_depth':[int(x) for x in np.linspace(5,30,num=6)],\n",
        "              'max_features':['auto','sqrt'],\n",
        "              'min_samples_split':[2,5,10,15,100],\n",
        "              'min_samples_leaf':[1,2,5,10]}\n",
        "model_rf_cv = RandomizedSearchCV(model_rf, param_distributions=parameters, scoring='r2', cv=3, random_state=0)\n",
        "model_rf_cv.fit(X_train,y_train)"
      ],
      "metadata": {
        "id": "WMGHL4WGp5oe",
        "colab": {
          "base_uri": "https://localhost:8080/"
        },
        "outputId": "9e002d07-265f-4815-9d0e-3a196a9faadd"
      },
      "execution_count": 59,
      "outputs": [
        {
          "output_type": "execute_result",
          "data": {
            "text/plain": [
              "RandomizedSearchCV(cv=3, estimator=RandomForestRegressor(random_state=0),\n",
              "                   param_distributions={'max_depth': [5, 10, 15, 20, 25, 30],\n",
              "                                        'max_features': ['auto', 'sqrt'],\n",
              "                                        'min_samples_leaf': [1, 2, 5, 10],\n",
              "                                        'min_samples_split': [2, 5, 10, 15,\n",
              "                                                              100],\n",
              "                                        'n_estimators': [2, 4, 6, 8, 10, 12, 14,\n",
              "                                                         16, 18, 20]},\n",
              "                   random_state=0, scoring='r2')"
            ]
          },
          "metadata": {},
          "execution_count": 59
        }
      ]
    },
    {
      "cell_type": "code",
      "source": [
        "model_rf_cv.best_params_"
      ],
      "metadata": {
        "id": "FNsmYGohuund",
        "colab": {
          "base_uri": "https://localhost:8080/"
        },
        "outputId": "64cb818a-ce14-4cd9-a5a7-c5aef4e6a65d"
      },
      "execution_count": 60,
      "outputs": [
        {
          "output_type": "execute_result",
          "data": {
            "text/plain": [
              "{'max_depth': 25,\n",
              " 'max_features': 'auto',\n",
              " 'min_samples_leaf': 10,\n",
              " 'min_samples_split': 10,\n",
              " 'n_estimators': 18}"
            ]
          },
          "metadata": {},
          "execution_count": 60
        }
      ]
    },
    {
      "cell_type": "code",
      "source": [
        "model_rf_cv.best_score_"
      ],
      "metadata": {
        "id": "yI8jp0PnuyFy",
        "colab": {
          "base_uri": "https://localhost:8080/"
        },
        "outputId": "4aae08f5-6971-4917-f292-40e8bbc62b81"
      },
      "execution_count": 61,
      "outputs": [
        {
          "output_type": "execute_result",
          "data": {
            "text/plain": [
              "0.45096417293342667"
            ]
          },
          "metadata": {},
          "execution_count": 61
        }
      ]
    },
    {
      "cell_type": "code",
      "source": [
        "# Checking model performance for train set\n",
        "y_train_preds = model_rf_cv.predict(X_train)\n",
        "rmse=math.sqrt(mean_squared_error(y_train, y_train_preds))\n",
        "print(\"RMSE:\",rmse)\n",
        "r2=r2_score(y_train, y_train_preds)\n",
        "print(\"R2:\",r2)"
      ],
      "metadata": {
        "id": "zKdSDAdwyta0",
        "colab": {
          "base_uri": "https://localhost:8080/"
        },
        "outputId": "18065953-9bab-4ec0-f800-997bf628cd43"
      },
      "execution_count": 62,
      "outputs": [
        {
          "output_type": "stream",
          "name": "stdout",
          "text": [
            "RMSE: 0.21898850042078474\n",
            "R2: 0.5900007335964355\n"
          ]
        }
      ]
    },
    {
      "cell_type": "code",
      "source": [
        "# Checking model performance for test set\n",
        "y_test_preds = model_rf_cv.predict(X_test)\n",
        "rmse=math.sqrt(mean_squared_error(y_test, y_test_preds))\n",
        "print(\"RMSE:\",rmse)\n",
        "r2=r2_score(y_test, y_test_preds)\n",
        "print(\"R2:\",r2)"
      ],
      "metadata": {
        "colab": {
          "base_uri": "https://localhost:8080/"
        },
        "id": "ffijATS3RSnL",
        "outputId": "2fb5b053-86a7-4c7f-b224-be3233ebe26e"
      },
      "execution_count": 63,
      "outputs": [
        {
          "output_type": "stream",
          "name": "stdout",
          "text": [
            "RMSE: 0.2623382243274445\n",
            "R2: 0.45758394958011017\n"
          ]
        }
      ]
    },
    {
      "cell_type": "code",
      "source": [
        "# Checking the distribution of error in prediction\n",
        "plt.figure(figsize=(7, 7))\n",
        "sns.distplot(y_test-y_test_preds)\n",
        "plt.axvline(0, 0, 1, color ='green', linestyle =\"--\", linewidth = 1)\n",
        "\n",
        "plt.title('distribution of error in prediction')\n",
        "plt.xlabel('error in prediction')\n",
        "plt.show()"
      ],
      "metadata": {
        "colab": {
          "base_uri": "https://localhost:8080/",
          "height": 513
        },
        "id": "8p2vG2icbveA",
        "outputId": "f355be52-d698-4152-eb57-48d9ae051e53"
      },
      "execution_count": 64,
      "outputs": [
        {
          "output_type": "stream",
          "name": "stderr",
          "text": [
            "/usr/local/lib/python3.7/dist-packages/seaborn/distributions.py:2619: FutureWarning: `distplot` is a deprecated function and will be removed in a future version. Please adapt your code to use either `displot` (a figure-level function with similar flexibility) or `histplot` (an axes-level function for histograms).\n",
            "  warnings.warn(msg, FutureWarning)\n"
          ]
        },
        {
          "output_type": "display_data",
          "data": {
            "image/png": "[encoded data removed]",
            "text/plain": [
              "<Figure size 504x504 with 1 Axes>"
            ]
          },
          "metadata": {
            "needs_background": "light"
          }
        }
      ]
    },
    {
      "cell_type": "code",
      "source": [
        "# Error in prediction is normally distributed, thus we can conclude our model as good"
      ],
      "metadata": {
        "id": "GbmTul-mQhdv"
      },
      "execution_count": null,
      "outputs": []
    },
    {
      "cell_type": "code",
      "source": [
        "# Checking actual vs predictions\n",
        "plt.figure(figsize=(7, 7))\n",
        "sns.set_style(\"darkgrid\")\n",
        "plt.scatter(y_test, y_test_preds)\n",
        "\n",
        "fit = np.polyfit(y_test, y_test_preds, deg=1) \n",
        "p = np.poly1d(fit) \n",
        "plt.plot(y_test,p(y_test),\"r--\",linewidth = 1) \n",
        "\n",
        "plt.plot([y_test.min(),y_test.mean(),y_test.max()], [y_test.min(),y_test.mean(),y_test.max()],\"g--\",linewidth = 1) \n",
        "\n",
        "plt.title('actual vs predictions')\n",
        "plt.ylabel('prediction')\n",
        "plt.xlabel('actual')\n",
        "plt.show()"
      ],
      "metadata": {
        "id": "iG5yJ5btckV-",
        "colab": {
          "base_uri": "https://localhost:8080/",
          "height": 458
        },
        "outputId": "aa0e8706-2cdd-4406-f6a9-1b723875f254"
      },
      "execution_count": 68,
      "outputs": [
        {
          "output_type": "display_data",
          "data": {
            "image/png": "[encoded data removed]",
            "text/plain": [
              "<Figure size 504x504 with 1 Axes>"
            ]
          },
          "metadata": {
            "needs_background": "light"
          }
        }
      ]
    },
    {
      "cell_type": "code",
      "source": [
        "# Means in lower side of views, our model is predicting high and in higher side of views, our model is predicting less"
      ],
      "metadata": {
        "id": "VebuLAA2PylS"
      },
      "execution_count": null,
      "outputs": []
    },
    {
      "cell_type": "code",
      "source": [
        "# Checking feature importances\n",
        "from sklearn.ensemble import ExtraTreesRegressor\n",
        "my_model=ExtraTreesRegressor()\n",
        "my_model.fit(X_train,y_train)\n",
        "list(zip(X.columns,my_model.feature_importances_))"
      ],
      "metadata": {
        "colab": {
          "base_uri": "https://localhost:8080/"
        },
        "id": "2dxdzbdqh5pX",
        "outputId": "dbd9462f-7e93-41e0-e1d6-a5209abf85e8"
      },
      "execution_count": 69,
      "outputs": [
        {
          "output_type": "execute_result",
          "data": {
            "text/plain": [
              "[('duration', 0.26360787725489165),\n",
              " ('comments', 0.5253874025190072),\n",
              " ('years_run', 0.21100472022610103)]"
            ]
          },
          "metadata": {},
          "execution_count": 69
        }
      ]
    },
    {
      "cell_type": "markdown",
      "source": [
        "# **Building  and Evaluation of Model-2**"
      ],
      "metadata": {
        "id": "uA42WKi0yZiJ"
      }
    },
    {
      "cell_type": "code",
      "source": [
        ""
      ],
      "metadata": {
        "id": "HbOr7zryrLOo"
      },
      "execution_count": 69,
      "outputs": []
    },
    {
      "cell_type": "markdown",
      "source": [
        "# **Building  and Evaluation of Model-3**"
      ],
      "metadata": {
        "id": "ZDtdj4YZx5Bs"
      }
    },
    {
      "cell_type": "code",
      "source": [
        ""
      ],
      "metadata": {
        "id": "SjtYXCY4x2eu"
      },
      "execution_count": 69,
      "outputs": []
    },
    {
      "cell_type": "markdown",
      "source": [
        "# **Conclusion**"
      ],
      "metadata": {
        "id": "2PDccmBmx7jY"
      }
    },
    {
      "cell_type": "markdown",
      "source": [
        ""
      ],
      "metadata": {
        "id": "m23nXx_gyC3S"
      }
    }
  ]
}