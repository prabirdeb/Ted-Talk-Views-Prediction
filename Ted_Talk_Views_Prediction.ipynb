{
  "cells": [
    {
      "cell_type": "markdown",
      "metadata": {
        "id": "view-in-github",
        "colab_type": "text"
      },
      "source": [
        "<a href=\"https://colab.research.google.com/github/prabirdeb/Ted-Talk-Views-Prediction/blob/main/Ted_Talk_Views_Prediction.ipynb\" target=\"_parent\"><img src=\"https://colab.research.google.com/assets/colab-badge.svg\" alt=\"Open In Colab\"/></a>"
      ]
    },
    {
      "cell_type": "markdown",
      "metadata": {
        "id": "oKKZnwRgt1V9"
      },
      "source": [
        "**Ted Talk Views Prediction**"
      ]
    },
    {
      "cell_type": "markdown",
      "metadata": {
        "id": "xWvWiLmjuWOn"
      },
      "source": [
        "**The performance of a machine learning model depends on three factors:**\n",
        "\n",
        "i. Quality of Data \n",
        "\n",
        "(for training and testing)\n",
        "\n",
        "ii. Quantity of Data \n",
        "\n",
        "(more the experiences better will be the learning)\n",
        "\n",
        "iii. Quality of Model \n",
        "\n",
        "(proper model selection and hyperparameter tuning)\n",
        "\n"
      ]
    },
    {
      "cell_type": "markdown",
      "metadata": {
        "id": "zdyLFL8QePAR"
      },
      "source": [
        "# **Exploration and Pre-processing of Data**"
      ]
    },
    {
      "cell_type": "markdown",
      "metadata": {
        "id": "K3OkgEhmsx2c"
      },
      "source": [
        "This involves following steps to transform raw data into a quality data for the ml model "
      ]
    },
    {
      "cell_type": "markdown",
      "metadata": {
        "id": "P1_aQ_OKeUIB"
      },
      "source": [
        "### **1. Connection with the Data**\n",
        "\n",
        "Here, we are provided with a dataset of Ted Talk Views.\n",
        "\n",
        "Thus, the dataset is actually a collection of experiences about different Ted Talk videos. \n",
        "\n",
        "Now, we need to **decode the set of experiences** to build a model for Ted Talk Videos Views Prediction.\n",
        "\n",
        "At first, we import the libraries or functions for **making our journey easy** and then **get connected** to the set of experiences."
      ]
    },
    {
      "cell_type": "code",
      "execution_count": 102,
      "metadata": {
        "colab": {
          "base_uri": "https://localhost:8080/"
        },
        "id": "ag_J2iydtniR",
        "outputId": "7a951d7e-593a-43fe-a453-034e893ac0a4"
      },
      "outputs": [
        {
          "output_type": "stream",
          "name": "stdout",
          "text": [
            "Using matplotlib backend: agg\n"
          ]
        }
      ],
      "source": [
        "# Importing libraries\n",
        "import numpy as np\n",
        "import pandas as pd\n",
        "from numpy import math\n",
        "import ast\n",
        "from datetime import datetime\n",
        "from datetime import date\n",
        "import re\n",
        "\n",
        "from termcolor import colored\n",
        "import matplotlib.pyplot as plt\n",
        "import seaborn as sns\n",
        "%matplotlib\n",
        "\n",
        "from sklearn.preprocessing import StandardScaler\n",
        "from sklearn.model_selection import train_test_split\n",
        "from sklearn.ensemble import RandomForestRegressor\n",
        "from sklearn.model_selection import RandomizedSearchCV\n",
        "from sklearn.metrics import r2_score\n",
        "from sklearn.metrics import mean_squared_error\n",
        "from sklearn.metrics import mean_absolute_percentage_error "
      ]
    },
    {
      "cell_type": "code",
      "execution_count": 2,
      "metadata": {
        "colab": {
          "base_uri": "https://localhost:8080/"
        },
        "id": "wcyl8GMQuOgU",
        "outputId": "1467fc50-5826-4237-f2f6-d364b2229a8c"
      },
      "outputs": [
        {
          "output_type": "stream",
          "name": "stdout",
          "text": [
            "Drive already mounted at /content/drive; to attempt to forcibly remount, call drive.mount(\"/content/drive\", force_remount=True).\n"
          ]
        }
      ],
      "source": [
        "from google.colab import drive\n",
        "drive.mount('/content/drive')"
      ]
    },
    {
      "cell_type": "code",
      "execution_count": 3,
      "metadata": {
        "id": "jD46RoK4uQnq"
      },
      "outputs": [],
      "source": [
        "# Reading the data as pandas dataframe\n",
        "ted_talk_df=pd.read_csv('/content/drive/MyDrive/Almabetter Assignments/Capstone projects/Ted Talk Views Prediction-Prabir Debnath/data_ted_talks.csv')"
      ]
    },
    {
      "cell_type": "markdown",
      "metadata": {
        "id": "tl1Yj-HoJ0f8"
      },
      "source": [
        "### **2. First Feelings of the Data**\n",
        "\n",
        "Here, the columns are the set of features, showing the way to reach final decoded experience or conclusions.  \n",
        "\n",
        "As there is a huge no. of experiences, we cannot see the whole lot of experiences and therefore we find the features on the **data head**."
      ]
    },
    {
      "cell_type": "code",
      "execution_count": 4,
      "metadata": {
        "colab": {
          "base_uri": "https://localhost:8080/",
          "height": 0
        },
        "id": "4sDdhmu1unwe",
        "outputId": "da783638-e585-43b7-cd6e-22b9b1c4e5f5"
      },
      "outputs": [
        {
          "output_type": "execute_result",
          "data": {
            "text/html": [
              "\n",
              "  <div id=\"df-f85f80eb-17c4-4932-95da-589ab46b1e4b\">\n",
              "    <div class=\"colab-df-container\">\n",
              "      <div>\n",
              "<style scoped>\n",
              "    .dataframe tbody tr th:only-of-type {\n",
              "        vertical-align: middle;\n",
              "    }\n",
              "\n",
              "    .dataframe tbody tr th {\n",
              "        vertical-align: top;\n",
              "    }\n",
              "\n",
              "    .dataframe thead th {\n",
              "        text-align: right;\n",
              "    }\n",
              "</style>\n",
              "<table border=\"1\" class=\"dataframe\">\n",
              "  <thead>\n",
              "    <tr style=\"text-align: right;\">\n",
              "      <th></th>\n",
              "      <th>talk_id</th>\n",
              "      <th>title</th>\n",
              "      <th>speaker_1</th>\n",
              "      <th>all_speakers</th>\n",
              "      <th>occupations</th>\n",
              "      <th>about_speakers</th>\n",
              "      <th>views</th>\n",
              "      <th>recorded_date</th>\n",
              "      <th>published_date</th>\n",
              "      <th>event</th>\n",
              "      <th>native_lang</th>\n",
              "      <th>available_lang</th>\n",
              "      <th>comments</th>\n",
              "      <th>duration</th>\n",
              "      <th>topics</th>\n",
              "      <th>related_talks</th>\n",
              "      <th>url</th>\n",
              "      <th>description</th>\n",
              "      <th>transcript</th>\n",
              "    </tr>\n",
              "  </thead>\n",
              "  <tbody>\n",
              "    <tr>\n",
              "      <th>0</th>\n",
              "      <td>1</td>\n",
              "      <td>Averting the climate crisis</td>\n",
              "      <td>Al Gore</td>\n",
              "      <td>{0: 'Al Gore'}</td>\n",
              "      <td>{0: ['climate advocate']}</td>\n",
              "      <td>{0: 'Nobel Laureate Al Gore focused the world’...</td>\n",
              "      <td>3523392</td>\n",
              "      <td>2006-02-25</td>\n",
              "      <td>2006-06-27</td>\n",
              "      <td>TED2006</td>\n",
              "      <td>en</td>\n",
              "      <td>['ar', 'bg', 'cs', 'de', 'el', 'en', 'es', 'fa...</td>\n",
              "      <td>272.0</td>\n",
              "      <td>977</td>\n",
              "      <td>['alternative energy', 'cars', 'climate change...</td>\n",
              "      <td>{243: 'New thinking on the climate crisis', 54...</td>\n",
              "      <td>https://www.ted.com/talks/al_gore_averting_the...</td>\n",
              "      <td>With the same humor and humanity he exuded in ...</td>\n",
              "      <td>Thank you so much, Chris. And it's truly a gre...</td>\n",
              "    </tr>\n",
              "    <tr>\n",
              "      <th>1</th>\n",
              "      <td>92</td>\n",
              "      <td>The best stats you've ever seen</td>\n",
              "      <td>Hans Rosling</td>\n",
              "      <td>{0: 'Hans Rosling'}</td>\n",
              "      <td>{0: ['global health expert; data visionary']}</td>\n",
              "      <td>{0: 'In Hans Rosling’s hands, data sings. Glob...</td>\n",
              "      <td>14501685</td>\n",
              "      <td>2006-02-22</td>\n",
              "      <td>2006-06-27</td>\n",
              "      <td>TED2006</td>\n",
              "      <td>en</td>\n",
              "      <td>['ar', 'az', 'bg', 'bn', 'bs', 'cs', 'da', 'de...</td>\n",
              "      <td>628.0</td>\n",
              "      <td>1190</td>\n",
              "      <td>['Africa', 'Asia', 'Google', 'demo', 'economic...</td>\n",
              "      <td>{2056: \"Own your body's data\", 2296: 'A visual...</td>\n",
              "      <td>https://www.ted.com/talks/hans_rosling_the_bes...</td>\n",
              "      <td>You've never seen data presented like this. Wi...</td>\n",
              "      <td>About 10 years ago, I took on the task to teac...</td>\n",
              "    </tr>\n",
              "  </tbody>\n",
              "</table>\n",
              "</div>\n",
              "      <button class=\"colab-df-convert\" onclick=\"convertToInteractive('df-f85f80eb-17c4-4932-95da-589ab46b1e4b')\"\n",
              "              title=\"Convert this dataframe to an interactive table.\"\n",
              "              style=\"display:none;\">\n",
              "        \n",
              "  <svg xmlns=\"http://www.w3.org/2000/svg\" height=\"24px\"viewBox=\"0 0 24 24\"\n",
              "       width=\"24px\">\n",
              "    <path d=\"M0 0h24v24H0V0z\" fill=\"none\"/>\n",
              "    <path d=\"M18.56 5.44l.94 2.06.94-2.06 2.06-.94-2.06-.94-.94-2.06-.94 2.06-2.06.94zm-11 1L8.5 8.5l.94-2.06 2.06-.94-2.06-.94L8.5 2.5l-.94 2.06-2.06.94zm10 10l.94 2.06.94-2.06 2.06-.94-2.06-.94-.94-2.06-.94 2.06-2.06.94z\"/><path d=\"M17.41 7.96l-1.37-1.37c-.4-.4-.92-.59-1.43-.59-.52 0-1.04.2-1.43.59L10.3 9.45l-7.72 7.72c-.78.78-.78 2.05 0 2.83L4 21.41c.39.39.9.59 1.41.59.51 0 1.02-.2 1.41-.59l7.78-7.78 2.81-2.81c.8-.78.8-2.07 0-2.86zM5.41 20L4 18.59l7.72-7.72 1.47 1.35L5.41 20z\"/>\n",
              "  </svg>\n",
              "      </button>\n",
              "      \n",
              "  <style>\n",
              "    .colab-df-container {\n",
              "      display:flex;\n",
              "      flex-wrap:wrap;\n",
              "      gap: 12px;\n",
              "    }\n",
              "\n",
              "    .colab-df-convert {\n",
              "      background-color: #E8F0FE;\n",
              "      border: none;\n",
              "      border-radius: 50%;\n",
              "      cursor: pointer;\n",
              "      display: none;\n",
              "      fill: #1967D2;\n",
              "      height: 32px;\n",
              "      padding: 0 0 0 0;\n",
              "      width: 32px;\n",
              "    }\n",
              "\n",
              "    .colab-df-convert:hover {\n",
              "      background-color: #E2EBFA;\n",
              "      box-shadow: 0px 1px 2px rgba(60, 64, 67, 0.3), 0px 1px 3px 1px rgba(60, 64, 67, 0.15);\n",
              "      fill: #174EA6;\n",
              "    }\n",
              "\n",
              "    [theme=dark] .colab-df-convert {\n",
              "      background-color: #3B4455;\n",
              "      fill: #D2E3FC;\n",
              "    }\n",
              "\n",
              "    [theme=dark] .colab-df-convert:hover {\n",
              "      background-color: #434B5C;\n",
              "      box-shadow: 0px 1px 3px 1px rgba(0, 0, 0, 0.15);\n",
              "      filter: drop-shadow(0px 1px 2px rgba(0, 0, 0, 0.3));\n",
              "      fill: #FFFFFF;\n",
              "    }\n",
              "  </style>\n",
              "\n",
              "      <script>\n",
              "        const buttonEl =\n",
              "          document.querySelector('#df-f85f80eb-17c4-4932-95da-589ab46b1e4b button.colab-df-convert');\n",
              "        buttonEl.style.display =\n",
              "          google.colab.kernel.accessAllowed ? 'block' : 'none';\n",
              "\n",
              "        async function convertToInteractive(key) {\n",
              "          const element = document.querySelector('#df-f85f80eb-17c4-4932-95da-589ab46b1e4b');\n",
              "          const dataTable =\n",
              "            await google.colab.kernel.invokeFunction('convertToInteractive',\n",
              "                                                     [key], {});\n",
              "          if (!dataTable) return;\n",
              "\n",
              "          const docLinkHtml = 'Like what you see? Visit the ' +\n",
              "            '<a target=\"_blank\" href=https://colab.research.google.com/notebooks/data_table.ipynb>data table notebook</a>'\n",
              "            + ' to learn more about interactive tables.';\n",
              "          element.innerHTML = '';\n",
              "          dataTable['output_type'] = 'display_data';\n",
              "          await google.colab.output.renderOutput(dataTable, element);\n",
              "          const docLink = document.createElement('div');\n",
              "          docLink.innerHTML = docLinkHtml;\n",
              "          element.appendChild(docLink);\n",
              "        }\n",
              "      </script>\n",
              "    </div>\n",
              "  </div>\n",
              "  "
            ],
            "text/plain": [
              "   talk_id  ...                                         transcript\n",
              "0        1  ...  Thank you so much, Chris. And it's truly a gre...\n",
              "1       92  ...  About 10 years ago, I took on the task to teac...\n",
              "\n",
              "[2 rows x 19 columns]"
            ]
          },
          "metadata": {},
          "execution_count": 4
        }
      ],
      "source": [
        "ted_talk_df.head(2)"
      ]
    },
    {
      "cell_type": "markdown",
      "metadata": {
        "id": "jqyafqW9eeYB"
      },
      "source": [
        "### **3. Deeper Understanding of the Data**\n",
        "\n",
        "As there is a huge no. of experiences, we take the help of **statistics to measure** each and every features in different dimensions and thus step by step, we find the most important features or the exact way to decode the experiences."
      ]
    },
    {
      "cell_type": "code",
      "execution_count": 5,
      "metadata": {
        "colab": {
          "base_uri": "https://localhost:8080/"
        },
        "id": "rfGcqaKXusJd",
        "outputId": "059b4f12-ede1-4366-dfed-45b8d337f727"
      },
      "outputs": [
        {
          "output_type": "stream",
          "name": "stdout",
          "text": [
            "<class 'pandas.core.frame.DataFrame'>\n",
            "RangeIndex: 4005 entries, 0 to 4004\n",
            "Data columns (total 19 columns):\n",
            " #   Column          Non-Null Count  Dtype  \n",
            "---  ------          --------------  -----  \n",
            " 0   talk_id         4005 non-null   int64  \n",
            " 1   title           4005 non-null   object \n",
            " 2   speaker_1       4005 non-null   object \n",
            " 3   all_speakers    4001 non-null   object \n",
            " 4   occupations     3483 non-null   object \n",
            " 5   about_speakers  3502 non-null   object \n",
            " 6   views           4005 non-null   int64  \n",
            " 7   recorded_date   4004 non-null   object \n",
            " 8   published_date  4005 non-null   object \n",
            " 9   event           4005 non-null   object \n",
            " 10  native_lang     4005 non-null   object \n",
            " 11  available_lang  4005 non-null   object \n",
            " 12  comments        3350 non-null   float64\n",
            " 13  duration        4005 non-null   int64  \n",
            " 14  topics          4005 non-null   object \n",
            " 15  related_talks   4005 non-null   object \n",
            " 16  url             4005 non-null   object \n",
            " 17  description     4005 non-null   object \n",
            " 18  transcript      4005 non-null   object \n",
            "dtypes: float64(1), int64(3), object(15)\n",
            "memory usage: 594.6+ KB\n"
          ]
        }
      ],
      "source": [
        "ted_talk_df.info()"
      ]
    },
    {
      "cell_type": "code",
      "execution_count": 6,
      "metadata": {
        "colab": {
          "base_uri": "https://localhost:8080/",
          "height": 0
        },
        "id": "SEb4cr7juznI",
        "outputId": "2898897e-53f9-4c52-cebc-194cf7b8adb3"
      },
      "outputs": [
        {
          "output_type": "execute_result",
          "data": {
            "text/html": [
              "\n",
              "  <div id=\"df-2d790616-c16e-4d0f-aed1-5d4bd52f1ca5\">\n",
              "    <div class=\"colab-df-container\">\n",
              "      <div>\n",
              "<style scoped>\n",
              "    .dataframe tbody tr th:only-of-type {\n",
              "        vertical-align: middle;\n",
              "    }\n",
              "\n",
              "    .dataframe tbody tr th {\n",
              "        vertical-align: top;\n",
              "    }\n",
              "\n",
              "    .dataframe thead th {\n",
              "        text-align: right;\n",
              "    }\n",
              "</style>\n",
              "<table border=\"1\" class=\"dataframe\">\n",
              "  <thead>\n",
              "    <tr style=\"text-align: right;\">\n",
              "      <th></th>\n",
              "      <th>talk_id</th>\n",
              "      <th>views</th>\n",
              "      <th>comments</th>\n",
              "      <th>duration</th>\n",
              "    </tr>\n",
              "  </thead>\n",
              "  <tbody>\n",
              "    <tr>\n",
              "      <th>count</th>\n",
              "      <td>4005.000000</td>\n",
              "      <td>4.005000e+03</td>\n",
              "      <td>3350.000000</td>\n",
              "      <td>4005.000000</td>\n",
              "    </tr>\n",
              "    <tr>\n",
              "      <th>mean</th>\n",
              "      <td>12432.538327</td>\n",
              "      <td>2.148006e+06</td>\n",
              "      <td>161.997015</td>\n",
              "      <td>724.011236</td>\n",
              "    </tr>\n",
              "    <tr>\n",
              "      <th>std</th>\n",
              "      <td>17447.576262</td>\n",
              "      <td>3.451226e+06</td>\n",
              "      <td>268.838922</td>\n",
              "      <td>361.775462</td>\n",
              "    </tr>\n",
              "    <tr>\n",
              "      <th>min</th>\n",
              "      <td>1.000000</td>\n",
              "      <td>0.000000e+00</td>\n",
              "      <td>0.000000</td>\n",
              "      <td>60.000000</td>\n",
              "    </tr>\n",
              "    <tr>\n",
              "      <th>25%</th>\n",
              "      <td>1252.000000</td>\n",
              "      <td>8.820690e+05</td>\n",
              "      <td>38.000000</td>\n",
              "      <td>393.000000</td>\n",
              "    </tr>\n",
              "    <tr>\n",
              "      <th>50%</th>\n",
              "      <td>2333.000000</td>\n",
              "      <td>1.375508e+06</td>\n",
              "      <td>89.000000</td>\n",
              "      <td>738.000000</td>\n",
              "    </tr>\n",
              "    <tr>\n",
              "      <th>75%</th>\n",
              "      <td>23777.000000</td>\n",
              "      <td>2.133110e+06</td>\n",
              "      <td>188.000000</td>\n",
              "      <td>974.000000</td>\n",
              "    </tr>\n",
              "    <tr>\n",
              "      <th>max</th>\n",
              "      <td>62794.000000</td>\n",
              "      <td>6.505195e+07</td>\n",
              "      <td>6449.000000</td>\n",
              "      <td>3922.000000</td>\n",
              "    </tr>\n",
              "  </tbody>\n",
              "</table>\n",
              "</div>\n",
              "      <button class=\"colab-df-convert\" onclick=\"convertToInteractive('df-2d790616-c16e-4d0f-aed1-5d4bd52f1ca5')\"\n",
              "              title=\"Convert this dataframe to an interactive table.\"\n",
              "              style=\"display:none;\">\n",
              "        \n",
              "  <svg xmlns=\"http://www.w3.org/2000/svg\" height=\"24px\"viewBox=\"0 0 24 24\"\n",
              "       width=\"24px\">\n",
              "    <path d=\"M0 0h24v24H0V0z\" fill=\"none\"/>\n",
              "    <path d=\"M18.56 5.44l.94 2.06.94-2.06 2.06-.94-2.06-.94-.94-2.06-.94 2.06-2.06.94zm-11 1L8.5 8.5l.94-2.06 2.06-.94-2.06-.94L8.5 2.5l-.94 2.06-2.06.94zm10 10l.94 2.06.94-2.06 2.06-.94-2.06-.94-.94-2.06-.94 2.06-2.06.94z\"/><path d=\"M17.41 7.96l-1.37-1.37c-.4-.4-.92-.59-1.43-.59-.52 0-1.04.2-1.43.59L10.3 9.45l-7.72 7.72c-.78.78-.78 2.05 0 2.83L4 21.41c.39.39.9.59 1.41.59.51 0 1.02-.2 1.41-.59l7.78-7.78 2.81-2.81c.8-.78.8-2.07 0-2.86zM5.41 20L4 18.59l7.72-7.72 1.47 1.35L5.41 20z\"/>\n",
              "  </svg>\n",
              "      </button>\n",
              "      \n",
              "  <style>\n",
              "    .colab-df-container {\n",
              "      display:flex;\n",
              "      flex-wrap:wrap;\n",
              "      gap: 12px;\n",
              "    }\n",
              "\n",
              "    .colab-df-convert {\n",
              "      background-color: #E8F0FE;\n",
              "      border: none;\n",
              "      border-radius: 50%;\n",
              "      cursor: pointer;\n",
              "      display: none;\n",
              "      fill: #1967D2;\n",
              "      height: 32px;\n",
              "      padding: 0 0 0 0;\n",
              "      width: 32px;\n",
              "    }\n",
              "\n",
              "    .colab-df-convert:hover {\n",
              "      background-color: #E2EBFA;\n",
              "      box-shadow: 0px 1px 2px rgba(60, 64, 67, 0.3), 0px 1px 3px 1px rgba(60, 64, 67, 0.15);\n",
              "      fill: #174EA6;\n",
              "    }\n",
              "\n",
              "    [theme=dark] .colab-df-convert {\n",
              "      background-color: #3B4455;\n",
              "      fill: #D2E3FC;\n",
              "    }\n",
              "\n",
              "    [theme=dark] .colab-df-convert:hover {\n",
              "      background-color: #434B5C;\n",
              "      box-shadow: 0px 1px 3px 1px rgba(0, 0, 0, 0.15);\n",
              "      filter: drop-shadow(0px 1px 2px rgba(0, 0, 0, 0.3));\n",
              "      fill: #FFFFFF;\n",
              "    }\n",
              "  </style>\n",
              "\n",
              "      <script>\n",
              "        const buttonEl =\n",
              "          document.querySelector('#df-2d790616-c16e-4d0f-aed1-5d4bd52f1ca5 button.colab-df-convert');\n",
              "        buttonEl.style.display =\n",
              "          google.colab.kernel.accessAllowed ? 'block' : 'none';\n",
              "\n",
              "        async function convertToInteractive(key) {\n",
              "          const element = document.querySelector('#df-2d790616-c16e-4d0f-aed1-5d4bd52f1ca5');\n",
              "          const dataTable =\n",
              "            await google.colab.kernel.invokeFunction('convertToInteractive',\n",
              "                                                     [key], {});\n",
              "          if (!dataTable) return;\n",
              "\n",
              "          const docLinkHtml = 'Like what you see? Visit the ' +\n",
              "            '<a target=\"_blank\" href=https://colab.research.google.com/notebooks/data_table.ipynb>data table notebook</a>'\n",
              "            + ' to learn more about interactive tables.';\n",
              "          element.innerHTML = '';\n",
              "          dataTable['output_type'] = 'display_data';\n",
              "          await google.colab.output.renderOutput(dataTable, element);\n",
              "          const docLink = document.createElement('div');\n",
              "          docLink.innerHTML = docLinkHtml;\n",
              "          element.appendChild(docLink);\n",
              "        }\n",
              "      </script>\n",
              "    </div>\n",
              "  </div>\n",
              "  "
            ],
            "text/plain": [
              "            talk_id         views     comments     duration\n",
              "count   4005.000000  4.005000e+03  3350.000000  4005.000000\n",
              "mean   12432.538327  2.148006e+06   161.997015   724.011236\n",
              "std    17447.576262  3.451226e+06   268.838922   361.775462\n",
              "min        1.000000  0.000000e+00     0.000000    60.000000\n",
              "25%     1252.000000  8.820690e+05    38.000000   393.000000\n",
              "50%     2333.000000  1.375508e+06    89.000000   738.000000\n",
              "75%    23777.000000  2.133110e+06   188.000000   974.000000\n",
              "max    62794.000000  6.505195e+07  6449.000000  3922.000000"
            ]
          },
          "metadata": {},
          "execution_count": 6
        }
      ],
      "source": [
        "ted_talk_df.describe()"
      ]
    },
    {
      "cell_type": "code",
      "execution_count": 7,
      "metadata": {
        "colab": {
          "base_uri": "https://localhost:8080/"
        },
        "id": "5kd4aDdau5i8",
        "outputId": "5ed2b350-a147-42e4-8adc-30b0d5b67607"
      },
      "outputs": [
        {
          "output_type": "stream",
          "name": "stdout",
          "text": [
            "\u001b[1m\u001b[34mUnique values for talk_id:\u001b[0m\n",
            "[    1    92     7 ... 62263 62784 62794]\n",
            "\u001b[1m\u001b[34mUnique values for title:\u001b[0m\n",
            "['Averting the climate crisis' \"The best stats you've ever seen\"\n",
            " 'Simplicity sells' ... 'How \"policing for profit\" undermines your rights'\n",
            " 'The electrifying speeches of Sojourner Truth'\n",
            " 'The most important anus in the ocean']\n",
            "\u001b[1m\u001b[34mUnique values for speaker_1:\u001b[0m\n",
            "['Al Gore' 'Hans Rosling' 'David Pogue' ... 'Dick M. Carpenter II'\n",
            " 'Daina Ramey Berry' 'Cella Wright']\n",
            "\u001b[1m\u001b[34mUnique values for all_speakers:\u001b[0m\n",
            "[\"{0: 'Al Gore'}\" \"{0: 'Hans Rosling'}\" \"{0: 'David Pogue'}\" ...\n",
            " \"{0: 'Dick M. Carpenter II'}\" \"{0: 'Daina Ramey Berry'}\"\n",
            " \"{0: 'Cella Wright'}\"]\n",
            "\u001b[1m\u001b[34mUnique values for occupations:\u001b[0m\n",
            "[\"{0: ['climate advocate']}\"\n",
            " \"{0: ['global health expert; data visionary']}\"\n",
            " \"{0: ['technology columnist']}\" ...\n",
            " \"{0: ['psychotherapist', 'psychosomatic psychiatrist']}\"\n",
            " \"{0: ['epidemiologist', 'philanthropist'], 1: ['head of ted']}\"\n",
            " \"{0: ['law researcher']}\"]\n",
            "\u001b[1m\u001b[34mUnique values for about_speakers:\u001b[0m\n",
            "[\"{0: 'Nobel Laureate Al Gore focused the world’s attention on the global climate crisis. Now he’s showing us how we’re moving towards real solutions.\\\\r\\\\n'}\"\n",
            " \"{0: 'In Hans Rosling’s hands, data sings. Global trends in health and economics come to vivid life. And the big picture of global development -- with some surprisingly good news -- snaps into sharp focus.'}\"\n",
            " '{0: \\'David Pogue is the personal technology columnist for the <em>New York Times</em> and a tech correspondent for CBS News. He\\\\\\'s also one of the world\\\\\\'s bestselling how-to authors, with titles in the For Dummies series and his own line of \"Missing Manual\" books. \\'}'\n",
            " ...\n",
            " \"{0: 'Arturs is a certified doctor and works at the Rigas Stradins University, Clinic of Psychosomatic Medicine and Psychotherapy department. With a specialization in psychotherapy and psychosomatics, he works mainly with children and family matters.\\\\nApart from practicing as a doctor, Arturs both develops his existing professional knowledge, as well as proactively broadens his experiences further. He lectures students in different study courses, including medical psychology, mental health, psychosomatic medicine, psychosomatics and many others, and has been recognized by students as one of the most interesting lecturers at RSU. In addition to lecturing, Arturs has published various research articles, participated in numerous seminars and conferences, both locally and outside the borders of Latvia.'}\"\n",
            " '{0: \"TED Prize winner Larry Brilliant has spent his career solving the world\\'s biggest problems, from overseeing the last smallpox cases to saving millions from blindness.\", 1: \\'After a long career in journalism and publishing, Chris Anderson became the curator of the TED Conference in 2002 and has developed it as a platform for identifying and disseminating ideas worth spreading.\\'}'\n",
            " \"{0: 'Dick M. Carpenter II studies cutting edge issues at the intersection of social science and constitutional law. '}\"]\n",
            "\u001b[1m\u001b[34mUnique values for views:\u001b[0m\n",
            "[ 3523392 14501685  1920832 ...   307187   464414    56582]\n",
            "\u001b[1m\u001b[34mUnique values for recorded_date:\u001b[0m\n",
            "['2006-02-25' '2006-02-22' '2006-02-24' ... '2020-04-27' '2020-04-28'\n",
            " '2020-04-30']\n",
            "\u001b[1m\u001b[34mUnique values for published_date:\u001b[0m\n",
            "['2006-06-27' '2006-07-10' '2006-07-18' ... '2020-04-27' '2020-04-28'\n",
            " '2020-04-30']\n",
            "\u001b[1m\u001b[34mUnique values for event:\u001b[0m\n",
            "['TED2006' 'TED2004' 'TED2005' 'TEDGlobal 2005' 'TEDSalon 2006' 'TED2003'\n",
            " 'TED2007' 'TED2002' 'TEDGlobal 2007' 'TED2001'\n",
            " 'TEDSalon 2007 Hot Science' 'Skoll World Forum 2007' 'TED2008' 'TED1984'\n",
            " 'TED1990' 'DLD 2007' 'EG 2007' 'TED1998' 'LIFT 2007' 'TED Prize Wish'\n",
            " 'TEDSalon 2009 Compassion' 'Chautauqua Institution' 'Serious Play 2008'\n",
            " 'Taste3 2008' 'TED in the Field' 'TED2009' 'EG 2008'\n",
            " 'Elizabeth G. Anderson School' 'TEDxUSC' 'TED@State' 'TEDGlobal 2009'\n",
            " 'TEDxKC' 'TEDIndia 2009' 'TEDSalon London 2009' 'TEDxTC' 'TEDMED 2009'\n",
            " 'TEDxSMU' 'TEDxBoston 2009' 'TEDxBerlin' 'TED2010' 'TEDxAmsterdam'\n",
            " 'TEDxNASA' 'Mission Blue Voyage' 'TEDxPuget Sound' 'TEDxNYED'\n",
            " 'TEDSalon London 2010' 'TEDxEdmonton' 'TED@Cannes' 'TEDxAtlanta'\n",
            " 'TEDxEast' 'TEDxOilSpill' 'TEDGlobal 2010' 'TEDxBoston 2010'\n",
            " 'Business Innovation Factory' 'TEDxYYC' 'TEDxChange'\n",
            " 'TED Senior Fellows at TEDGlobal 2010' 'TEDxTelAviv 2010' 'TEDxDU 2010'\n",
            " 'TEDxMidwest' 'TEDxHouston' 'TEDxNextGenerationAsheville'\n",
            " 'TEDxRotterdam 2010' 'TEDWomen 2010' 'TEDxMidAtlantic' 'TEDxSydney'\n",
            " 'TEDSalon NY2011' 'TEDxRainier' 'TEDxToronto 2010' 'TEDxPSU'\n",
            " 'TEDMED 2010' 'TEDxGreatPacificGarbagePatch' 'TEDxGöteborg 2010'\n",
            " 'TEDxToronto 2011' 'TED@MotorCity' 'TEDxPennQuarter' 'TEDPrize@UN'\n",
            " 'TED2011' 'TEDxPeachtree' 'TEDxDubai' 'TEDActive 2011' 'INK Conference'\n",
            " 'TEDxCaltech' 'TEDxWarwick' 'TEDxSiliconValley' 'TEDxNorthwesternU'\n",
            " 'TEDxMaastricht' 'TEDxBG' 'Full Spectrum Auditions'\n",
            " 'TEDSalon London Spring 2011' 'TEDGlobal 2011' 'TEDxBoston 2011'\n",
            " 'TEDxParis 2010' 'TEDxUIUC' 'TEDxThessaloniki' \"TEDxO'Porto\"\n",
            " 'TEDxBloomington' 'TEDxSantaCruz' 'TEDxWaterloo' 'TEDxManhattanBeach'\n",
            " 'TEDxKids@Brussels' 'TEDxTeen' 'TEDxBoulder 2011' 'TEDxManhattan'\n",
            " 'TEDxOrangeCoast' 'TEDxBrussels' 'TEDMED 2011' 'TEDxKrakow' 'TEDxCMU'\n",
            " 'TEDxVienna' 'TEDxDU 2011' 'TEDxDirigo' 'TEDxCanberra' 'TEDxRC2'\n",
            " 'TEDxWomen 2011' 'TEDxZurich 2011' 'TEDSalon NY2012' 'TEDxMIA'\n",
            " 'TEDxNASA@SiliconValley' 'TEDxYouth@Manchester' 'TED1994'\n",
            " 'TEDxSanMigueldeAllende' 'TEDxVancouver' 'TEDSalon London Fall 2011'\n",
            " 'TEDxIslay' 'TEDxAmericanRiviera' 'TEDxDublin' 'TEDxVictoria'\n",
            " 'TEDxPhoenix' 'TEDxAsheville' 'TEDYouth 2011' 'TED2012' 'TEDxUW' 'TED-Ed'\n",
            " 'TEDxCambridge' 'TEDxPortofSpain' 'TEDxNewy' 'TEDxPittsburgh' 'TEDxOslo'\n",
            " 'TEDxConcordiaUPortland' 'TEDxAthens' 'TED@SXSWi' 'TEDxAustin'\n",
            " 'TEDxMonterey' 'TEDxSummit' 'TEDxBerkeley' 'TEDxHogeschoolUtrecht'\n",
            " 'TEDxSanJoseCA' 'TEDxSussexUniversity' 'TEDMED 2012'\n",
            " 'TEDSalon London Spring 2012' 'TEDxGrandRapids' 'TEDxABQ' 'TEDxSanDiego'\n",
            " 'TEDxLondonBusinessSchool' 'TEDGlobal 2012' 'TEDxStanford'\n",
            " 'TEDxImperialCollege' 'TEDxBoston 2012' 'TEDxObserver' 'TEDxUCL'\n",
            " 'TEDxExeter' 'TEDxMaui' 'TEDxHousesOfParliament' 'TED@London'\n",
            " 'TEDxWinnipeg' 'TED@Bangalore' 'TED@New York' 'TEDxCHUV' 'TEDxSF'\n",
            " 'TEDxEQChCh' 'TEDxHelvetia' 'TED@Nairobi' 'TEDxGeorgetown'\n",
            " 'TED@Johannesburg' 'TEDxZurich 2012' 'TEDSalon London Fall 2012'\n",
            " 'TEDxWitsUniversity' 'TEDxJaffa 2012' 'TEDxWomen 2012'\n",
            " 'TEDxHampshireCollege' 'TEDxGoodenoughCollege' 'TEDxGlasgow'\n",
            " 'TEDxBeaconStreet' 'TEDxDelft' 'TEDSalon NY2013' 'TEDxSeoul'\n",
            " 'TEDxConcorde' 'TED2013' 'TEDYouth 2012' 'TEDxSeattleU'\n",
            " 'TEDxRiodelaPlata' 'TED@Intel' 'TEDActive 2013' 'TED Talks Education'\n",
            " 'TEDxMiamiUniversity' 'TEDxFiDiWomen' 'TEDxDeExtinction' 'TEDMED 2013'\n",
            " 'TEDGlobal 2013' 'TEDxCERN' 'TEDxNijmegen' 'TEDxColbyCollege'\n",
            " 'TEDxDanubia' 'TEDxTokyo' 'TEDxBoston' 'TEDxKids@Ambleside' 'TEDCity2.0'\n",
            " 'TEDxUdeM' 'TED@BCG Singapore' 'TED@NYC' 'TEDWomen 2013' 'TEDYouth 2013'\n",
            " 'TEDxBratislava' 'TED@BCG San Francisco' 'TEDxMet' 'TEDxMarin'\n",
            " 'TEDxBeirut' 'TED@State Street Boston' 'TEDxCaFoscariU' 'TEDxJaffa 2013'\n",
            " 'TEDxZurich 2013' 'TED Fellows Retreat 2013' 'TEDxParis 2012'\n",
            " 'TEDxBoulder' 'TED2014' 'TED Studio' 'TEDxMidAtlantic 2013' 'TEDxPerth'\n",
            " 'TEDxUMKC' 'TEDxLeuvenSalon' 'TEDActive 2014' 'TEDSalon NY2014'\n",
            " 'TEDxUofM' 'TEDxColumbus' 'TEDSalon Berlin 2014' 'TEDxKyoto'\n",
            " 'TEDxClaremontColleges' 'TEDxMonroeCorrectionalComplex' 'TEDxBrighton'\n",
            " 'TEDxSonomaCounty' 'TEDxAmazonia' 'TED@Unilever' 'TEDMED 2014'\n",
            " 'TEDGlobal 2014' 'TED@IBM' 'TEDxNewYork' 'TED@BCG Berlin' 'TEDxArendal'\n",
            " 'TEDxNorrkoping' 'TEDYouth 2014' 'TED@State Street London'\n",
            " 'TEDxPlaceDesNations' 'TEDxBinghamtonUniversity' 'TEDxLinnaeusUniversity'\n",
            " 'TEDxSBU' 'TED2015' 'TEDxMuncyStatePrison' 'TEDxSouthBank'\n",
            " 'TEDWomen 2015' 'TEDSalon NY2015' 'TEDGlobalLondon' 'TEDxIndianapolis'\n",
            " 'TED@BCG London' 'TEDxChapmanU' 'TEDxGoldenGatePark 2012' 'TEDxUF'\n",
            " 'TEDxBend' 'TEDGlobal>London' 'TEDxPenn' 'TEDxProvidence'\n",
            " 'TED Fellows Retreat 2015' 'TED Fellows 2015' 'TEDxCannes'\n",
            " 'Mission Blue II' 'TED@UPS' 'TEDxToulouse' 'TEDYouth 2015'\n",
            " 'TEDxGroningen' 'TEDGlobal>Geneva' 'TEDxYouth@Sydney'\n",
            " 'TEDxAmoskeagMillyard' 'TEDMED 2015' 'TEDxUM' 'TEDxCreativeCoast'\n",
            " 'TED2016' 'TED Talks Live' 'Global Witness' 'TEDActive 2015'\n",
            " 'TEDxGatewayWomen' 'TEDxEastEnd' 'TED@BCG Paris' 'TEDSummit'\n",
            " 'TEDxDesMoines' 'TEDxColoradoSprings' 'TEDNYC' 'TEDxUniversityofNevada'\n",
            " 'TEDxMontreal' 'TEDxIndianaUniversity' 'TEDWomen 2016' 'TED Residency'\n",
            " 'TEDxToronto' 'TEDxMtHood' 'TEDxGhent' 'TEDxSaltLakeCity' 'TEDxOmaha'\n",
            " 'TEDxSFU' 'TEDMED 2016' 'TEDxPortland' 'TEDxManchester' 'TEDxMileHigh'\n",
            " 'TED Dialogues' 'TEDxNatick' 'TEDxFrankfurt' 'TED-Ed Weekend'\n",
            " 'TEDxColumbusWomen' 'TEDxEuston' 'TEDxSanQuentin' 'TEDLagos Ideas Search'\n",
            " 'TEDxVirginiaTech' 'TED2017' 'TEDxSkoll' 'TEDNairobi Ideas Search'\n",
            " 'TEDxFulbrightDublin' 'TEDxOrcasIsland' 'TEDxPennsylvaniaAvenue'\n",
            " 'TEDxCrenshaw' 'TEDxHamburg' 'TEDGlobal 2017' 'TEDxZurich'\n",
            " 'TEDGlobal>NYC' 'TEDxCharlottesville' 'TED@BCG Milan' 'TEDWomen 2017'\n",
            " 'TEDxPasadena' 'TEDxMileHighWomen' 'TED Salon Brightline Initiative'\n",
            " 'TEDxYouth@Bath' 'TEDxStormontWomen' 'TED@Tommy' 'TEDxLeuven'\n",
            " 'TED Talks India' 'TED@Merck KGaA, Darmstadt, Germany'\n",
            " 'TEDxVermilionStreet' 'TED@Westpac' 'TEDxPaloAlto' 'TEDxYorkU'\n",
            " 'TEDxOhioStateUniversity' 'TEDMED 2017' 'TEDxSnoIsleLibraries'\n",
            " 'TEDxUppsalaUniversity' 'TEDxUniversityofMississippi'\n",
            " 'Small Thing Big Idea' 'TEDxMalagueta' 'TEDxCoconutGrove' 'TEDxTysons'\n",
            " 'TEDxBerkleeValencia' 'TEDxHull' 'Torchbearers' 'TED2018'\n",
            " 'TEDxMidAtlantic 2017' 'TEDxLincolnSquare' 'TEDxMadrid' 'TEDxParis'\n",
            " 'TEDxLSU' 'TED en Español en NYC' 'DIY Neuroscience' 'TEDxAustinWomen'\n",
            " 'TEDxFIU' 'TEDxUCDavis' 'TEDxUIdaho' 'TEDxVCU' 'TEDxLondon'\n",
            " 'TEDxKakumaCamp' 'TEDxOrlando' 'TEDxYouth@Beaconstreet' 'TEDxKlagenfurt'\n",
            " 'TED Salon Optum' 'TEDxFondduLac' 'TEDxMemphis' 'TEDxLivoniaCCLibrary'\n",
            " 'TEDxGalway' 'TEDxBroadway' 'TED Salon Verizon' 'TEDxDePaulUniversity'\n",
            " 'TED Salon Samsung' 'We the Future' 'TEDxUofT' 'TED@BCG Toronto'\n",
            " 'TEDxVeniceBeach' 'TEDxGateway' 'TEDxUWLaCrosse' 'TEDxSanFrancisco'\n",
            " 'TED Salon Zebra Technologies' 'TED Salon: Radical Craft' 'TEDWomen 2018'\n",
            " 'TEDxUGA' 'TEDxBrisbane' 'TED Salon: Belonging' 'TEDxPurdueU'\n",
            " 'TEDxStockholm' 'TEDxSalford' 'TEDxCoventGardenWomen' 'The Way We Work'\n",
            " 'TEDMED 2018' 'TED Salon Doha Debates' 'TEDxNantes'\n",
            " 'TED Salon: Education Everywhere' 'TED Salon U.S. Air Force'\n",
            " 'TEDxUHasselt' 'TEDxProvincetown' 'TEDxAmsterdamWomen' 'TEDxAarhus'\n",
            " 'TEDxSeattle' 'TEDxAuckland' 'TEDxShimizu' 'TED2019' 'Arbejdsglaede Live'\n",
            " 'TEDxCreightonU' 'TEDxAlbertopolis' 'TEDxRapidCity' 'TEDxCuauhtémoc'\n",
            " 'TEDxTaipei' 'TEDxBeaconStreetSalon' 'TEDxJacksonHole'\n",
            " 'TED Salon The Macallan' 'TEDxMünchen' 'TEDSummit 2019' 'TEDxWanChai'\n",
            " 'TEDxYouth@München' 'TEDxFergusonLibrary' 'TED Salon Border Stories'\n",
            " 'TEDxYouth@Valladolid' 'TED@DuPont' 'TEDxBasel' 'TEDxJacksonville'\n",
            " 'TED@BCG Mumbai' 'TEDxRiga' 'TED Talks India: Nayi Baat'\n",
            " 'TED Masterclass' 'TED@NAS' 'TEDxSantaClaraUniversity' 'TEDWomen 2019'\n",
            " 'Countdown' 'TEDxChristchurch' 'TEDxNashville' 'TED@WellsFargo'\n",
            " 'Currently' 'TEDxUCLA' 'TEDxEasthamptonWomen' 'TEDxCordoba'\n",
            " 'The TED Interview' 'TEDxStCloud' 'TED Connects' 'TEDxEindhoven'\n",
            " 'TEDxQueensU' 'TEDxDetroit' 'TEDxTufts' 'TED2020: The Prequel']\n",
            "\u001b[1m\u001b[34mUnique values for native_lang:\u001b[0m\n",
            "['en' 'fr' 'de' 'pt' 'ko' 'zh-cn' 'ar' 'pt-br' 'es' 'ja' 'it' 'hi']\n",
            "\u001b[1m\u001b[34mUnique values for available_lang:\u001b[0m\n",
            "[\"['ar', 'bg', 'cs', 'de', 'el', 'en', 'es', 'fa', 'fr', 'fr-ca', 'gl', 'gu', 'he', 'hi', 'hr', 'hu', 'id', 'it', 'ja', 'ko', 'lt', 'lv', 'mk', 'nl', 'pl', 'pt', 'pt-br', 'ro', 'ru', 'sk', 'sl', 'sq', 'sr', 'sv', 'sw', 'th', 'tl', 'tr', 'uk', 'ur', 'vi', 'zh-cn', 'zh-tw']\"\n",
            " \"['ar', 'az', 'bg', 'bn', 'bs', 'cs', 'da', 'de', 'el', 'en', 'es', 'et', 'fa', 'fi', 'fr', 'he', 'hi', 'hr', 'hu', 'id', 'is', 'it', 'ja', 'kn', 'ko', 'ku', 'lv', 'mk', 'ml', 'mn', 'nl', 'pl', 'pt', 'pt-br', 'ro', 'ru', 'sk', 'sr', 'sv', 'sw', 'ta', 'te', 'th', 'tr', 'uk', 'ur', 'vi', 'zh-cn', 'zh-tw']\"\n",
            " \"['ar', 'bg', 'de', 'el', 'en', 'es', 'fa', 'fr', 'he', 'hr', 'hu', 'it', 'ja', 'ko', 'nb', 'nl', 'pl', 'pt', 'pt-br', 'ro', 'ru', 'sr', 'tr', 'vi', 'zh-cn', 'zh-tw']\"\n",
            " ... \"['en', 'es', 'lv']\" \"['en', 'fr', 'my', 'tr']\"\n",
            " \"['en', 'es', 'my', 'pt-br']\"]\n",
            "\u001b[1m\u001b[34mUnique values for comments:\u001b[0m\n",
            "[2.720e+02 6.280e+02 1.240e+02 2.190e+02 4.931e+03 4.800e+01 9.800e+02\n",
            " 9.190e+02 9.300e+02 5.900e+01 8.400e+01 8.100e+01 1.030e+02 2.420e+02\n",
            " 3.160e+02 3.390e+02 1.010e+02 1.680e+02 8.900e+01 1.090e+02 1.930e+02\n",
            " 5.200e+01 6.050e+02 1.210e+02 5.330e+02 2.060e+02 3.690e+02 9.800e+01\n",
            " 1.051e+03 1.065e+03 2.270e+02 6.240e+02 6.000e+01 7.700e+01 7.500e+01\n",
            " 4.300e+01 1.960e+02 6.400e+01 3.300e+01 1.130e+02 5.300e+02 1.600e+02\n",
            " 2.470e+02 5.400e+01 9.900e+01 2.090e+02 6.420e+02 8.800e+01 5.290e+02\n",
            " 3.980e+02 6.200e+01 2.070e+02 1.400e+02 1.000e+02 1.140e+02 2.800e+01\n",
            " 6.500e+01 2.550e+02 1.180e+02 9.000e+01 1.060e+02 1.340e+02 1.290e+02\n",
            " 3.000e+01 1.380e+02 5.100e+01 1.330e+02 1.540e+02 4.400e+01 9.500e+01\n",
            " 3.460e+02 1.070e+02 3.500e+01 2.370e+02 1.650e+02 3.900e+01 3.400e+01\n",
            " 5.350e+02 3.210e+02 2.350e+02 5.800e+01 5.000e+01 6.449e+03 6.010e+02\n",
            " 4.200e+01 6.900e+01 6.300e+01 3.590e+02 2.440e+02 9.200e+01 2.970e+02\n",
            " 2.600e+02 1.250e+02 2.310e+02 1.500e+01 3.070e+02 2.300e+01 2.680e+02\n",
            " 2.490e+02 4.050e+02 1.550e+02 1.480e+02 1.370e+02 2.920e+02 1.350e+02\n",
            " 8.200e+01 1.900e+02 1.190e+02 1.520e+02 8.000e+01 1.110e+02 1.620e+02\n",
            " 1.420e+02 3.090e+02 1.310e+02 7.200e+02 1.800e+02 7.400e+01 8.600e+01\n",
            " 3.100e+01 2.360e+02 4.610e+02 3.180e+02 4.360e+02 2.940e+02 4.900e+01\n",
            " 1.910e+02 1.640e+02 6.400e+02 1.860e+02 4.570e+02 4.980e+02 5.820e+02\n",
            " 2.150e+02 6.700e+01 1.710e+02 5.300e+01 2.700e+01 7.000e+01 1.410e+02\n",
            " 2.984e+03 9.000e+00 4.660e+02 1.690e+02 8.300e+01 5.990e+02 6.720e+02\n",
            " 2.620e+02 9.400e+01 1.580e+02 5.550e+02 3.020e+02 3.200e+01 7.200e+01\n",
            " 3.080e+02 2.290e+02 1.970e+02 6.800e+01 7.900e+01 1.440e+02 3.660e+02\n",
            " 1.830e+02 2.300e+02 1.430e+02 6.830e+02 2.050e+02 4.100e+01 1.760e+02\n",
            " 6.100e+01 8.070e+02 6.110e+02 6.870e+02 1.600e+01 1.450e+02 3.600e+01\n",
            " 9.600e+01 1.700e+01 2.800e+02 9.300e+01 1.500e+02 5.700e+01 1.820e+02\n",
            " 1.020e+02 5.500e+01 7.600e+01 7.300e+01 1.200e+01 1.004e+03 4.000e+01\n",
            " 2.990e+02 8.500e+01 1.730e+02 1.840e+02 2.850e+02 2.600e+01 1.260e+02\n",
            " 2.900e+01 2.220e+02 3.800e+01 1.100e+02 1.630e+02 4.700e+01 2.610e+02\n",
            " 3.700e+01 1.320e+02 1.900e+01 1.040e+02 4.600e+01 1.160e+02 2.400e+01\n",
            " 2.200e+01 1.170e+02 5.600e+01 4.930e+02 1.713e+03 2.100e+01 5.270e+02\n",
            " 4.490e+02 1.360e+02 2.040e+02 2.570e+02 2.140e+02 2.560e+02 4.160e+02\n",
            " 7.740e+02 1.880e+02 2.750e+02 2.930e+02 2.460e+02 1.200e+02 1.230e+02\n",
            " 2.780e+02 1.800e+01 3.010e+02 2.670e+02 4.400e+02 1.460e+02 2.810e+02\n",
            " 6.600e+01 2.000e+01 2.100e+02 1.080e+02 8.620e+02 2.860e+02 4.030e+02\n",
            " 6.160e+02 3.350e+02 6.080e+02 2.880e+02 3.240e+02 1.490e+02 1.810e+02\n",
            " 1.920e+02 3.570e+02 7.620e+02 1.150e+02 9.700e+01 4.110e+02 4.250e+02\n",
            " 5.140e+02 1.590e+02 3.110e+02 5.180e+02 5.170e+02 6.250e+02 7.790e+02\n",
            " 4.060e+02 1.570e+02 1.164e+03 9.100e+01 4.040e+02 2.280e+02 3.540e+02\n",
            " 3.300e+02 1.850e+02 3.360e+02 7.100e+01 1.356e+03 2.510e+02 2.960e+02\n",
            " 3.520e+02 1.890e+02 2.160e+02 2.380e+02 3.130e+02 7.800e+01 1.336e+03\n",
            " 4.910e+02 1.530e+02 6.200e+02 4.180e+02 2.020e+02 5.680e+02 1.750e+02\n",
            " 1.700e+02 3.890e+02 3.270e+02 3.260e+02 4.810e+02 2.590e+02 1.222e+03\n",
            " 2.110e+02 2.580e+02 1.027e+03 4.070e+02 1.940e+02 4.790e+02 2.030e+02\n",
            " 2.120e+02 3.370e+02 1.469e+03 1.050e+02 3.424e+03 2.740e+02 8.500e+02\n",
            " 2.760e+02 1.950e+02 2.366e+03 1.635e+03 2.830e+02 2.079e+03 3.550e+02\n",
            " 4.680e+02 6.900e+02 5.840e+02 1.274e+03 3.140e+02 1.502e+03 2.320e+02\n",
            " 3.530e+02 4.840e+02 1.470e+02 3.950e+02 4.990e+02 9.350e+02 1.510e+02\n",
            " 1.008e+03 2.390e+02 7.110e+02 3.780e+02 1.390e+02 6.380e+02 3.820e+02\n",
            " 4.650e+02 1.244e+03 9.400e+02 8.160e+02 5.950e+02 9.760e+02 1.870e+02\n",
            " 5.470e+02 2.910e+02 3.030e+02 2.430e+02 4.130e+02 5.910e+02 6.430e+02\n",
            " 6.340e+02 3.380e+02 4.950e+02 2.180e+02 3.790e+02 1.610e+02 2.340e+02\n",
            " 4.230e+02 3.770e+02 5.230e+02 9.660e+02 3.290e+02 7.400e+02 2.690e+02\n",
            " 3.490e+02 8.380e+02 8.850e+02 3.100e+02 6.230e+02 8.050e+02 3.730e+02\n",
            " 3.150e+02 9.460e+02 2.260e+02 9.270e+02 2.209e+03 4.580e+02 2.463e+03\n",
            " 2.130e+02 6.060e+02 6.600e+02 3.610e+02 1.023e+03 3.320e+02 2.000e+02\n",
            " 2.450e+02 2.820e+02 5.600e+02 1.660e+02 3.880e+02 5.750e+02 1.300e+02\n",
            " 6.730e+02 7.850e+02 2.230e+02 3.050e+02 2.080e+02 2.870e+02 5.370e+02\n",
            " 5.150e+02 3.000e+02 5.250e+02 3.060e+02 4.350e+02 3.330e+02 1.740e+02\n",
            " 2.529e+03 3.450e+02 2.890e+02 9.160e+02 2.170e+02 1.990e+02 6.700e+02\n",
            " 3.040e+02 4.530e+02 3.900e+02 4.170e+02 6.860e+02 3.120e+02 3.850e+02\n",
            " 2.480e+02 6.130e+02 3.230e+02 5.540e+02 3.250e+02 6.570e+02 2.710e+02\n",
            " 3.650e+02 1.081e+03 2.730e+02 5.120e+02 3.340e+02 2.210e+02 8.700e+01\n",
            "       nan 3.410e+02 1.366e+03 1.120e+02 6.950e+02 4.150e+02 2.330e+02\n",
            " 5.240e+02 6.370e+02 9.780e+02 3.720e+02 4.500e+01 7.910e+02 4.600e+02\n",
            " 3.940e+02 1.303e+03 8.010e+02 8.950e+02 2.250e+02 3.310e+02 1.002e+03\n",
            " 4.540e+02 5.100e+02 3.680e+02 5.360e+02 1.280e+02 6.510e+02 4.430e+02\n",
            " 6.490e+02 6.660e+02 4.320e+02 2.520e+02 4.340e+02 5.160e+02 2.630e+02\n",
            " 3.920e+02 3.170e+02 5.850e+02 4.640e+02 1.670e+02 2.010e+02 2.900e+02\n",
            " 4.090e+02 4.830e+02 5.420e+02 4.670e+02 4.710e+02 1.720e+02 2.633e+03\n",
            " 3.580e+02 3.280e+02 6.930e+02 8.300e+02 8.330e+02 3.930e+02 1.780e+02\n",
            " 9.170e+02 6.750e+02 8.430e+02 8.660e+02 4.410e+02 3.190e+02 3.510e+02\n",
            " 5.660e+02 2.790e+02 8.600e+02 1.755e+03 1.450e+03 7.420e+02 1.510e+03\n",
            " 4.190e+02 1.790e+02 4.440e+02 9.590e+02 3.220e+02 7.430e+02 3.750e+02\n",
            " 4.890e+02 7.150e+02 4.760e+02 8.130e+02 6.640e+02 1.005e+03 3.400e+02\n",
            " 1.024e+03 5.380e+02 3.420e+02 1.020e+03 1.706e+03 6.350e+02 1.220e+02\n",
            " 6.940e+02 8.260e+02 5.920e+02 5.040e+02 5.610e+02 4.750e+02 2.700e+02\n",
            " 1.980e+02 2.650e+02 5.200e+02 8.730e+02 1.770e+02 2.660e+02 1.050e+03\n",
            " 2.240e+02 8.410e+02 4.010e+02 7.030e+02 3.640e+02 5.530e+02 1.270e+02\n",
            " 4.290e+02 4.480e+02 3.440e+02 4.020e+02 4.730e+02 1.260e+03 3.630e+02\n",
            " 3.006e+03 1.055e+03 5.650e+02 4.300e+02 2.500e+01 3.500e+02 1.557e+03\n",
            " 4.390e+02 4.220e+02 4.900e+02 2.530e+02 4.550e+02 4.380e+02 9.620e+02\n",
            " 3.470e+02 5.780e+02 6.780e+02 8.840e+02 4.080e+02 1.560e+02 5.590e+02\n",
            " 2.400e+02 2.640e+02 1.400e+01 6.000e+00 1.000e+01 2.500e+02 4.460e+02\n",
            " 2.840e+02 1.100e+01 1.300e+01 7.000e+00 5.000e+00 8.000e+00 4.000e+00\n",
            " 3.000e+00 2.000e+00 1.000e+00 5.020e+02 4.620e+02 7.610e+02 0.000e+00]\n",
            "\u001b[1m\u001b[34mUnique values for duration:\u001b[0m\n",
            "[ 977 1190 1286 ... 3740 3007 3160]\n",
            "\u001b[1m\u001b[34mUnique values for topics:\u001b[0m\n",
            "[\"['alternative energy', 'cars', 'climate change', 'culture', 'environment', 'global issues', 'science', 'sustainability', 'technology']\"\n",
            " \"['Africa', 'Asia', 'Google', 'demo', 'economics', 'global issues', 'health', 'statistics', 'global development', 'visualizations', 'math']\"\n",
            " \"['computers', 'entertainment', 'interface design', 'media', 'music', 'performance', 'simplicity', 'software', 'technology']\"\n",
            " ... \"['society', 'law', 'policy', 'justice system', 'TEDx']\"\n",
            " \"['TED-Ed', 'education', 'animation', 'United States', 'women', 'feminism', 'Slavery', 'race', 'history', 'activism', 'speech', 'war', 'religion', 'storytelling']\"\n",
            " \"['animals', 'TED-Ed', 'animation', 'oceans', 'science', 'education', 'biology', 'climate change']\"]\n",
            "\u001b[1m\u001b[34mUnique values for related_talks:\u001b[0m\n",
            "['{243: \\'New thinking on the climate crisis\\', 547: \\'The business logic of sustainability\\', 2093: \\'The state of the climate — and what we might do about it\\', 54715: \\'How we can turn the tide on climate\\', 29968: \\'The most important thing you can do to fight climate change: talk about it\\', 2339: \"Climate change is happening. Here\\'s how we adapt\"}'\n",
            " '{2056: \"Own your body\\'s data\", 2296: \\'A visual history of human knowledge\\', 620: \\'Let my dataset change your mindset\\', 2806: \"Doesn\\'t everyone deserve a chance at a good life?\", 2560: \\'How Africa can keep rising\\', 1418: \"Let\\'s put birth control back on the agenda\"}'\n",
            " \"{1725: '10 top time-saving tech tips', 2274: 'The first secret of design is ... noticing', 172: 'Designing for simplicity', 2664: 'Meet the inventor of the electronic spreadsheet', 2464: 'The mind behind Linux', 1347: 'The secret structure of great talks'}\"\n",
            " ...\n",
            " '{2406: \\'I love being a police officer, but we need reform\\', 60315: \\'How forgiveness can create a more just legal system\\', 8421: \"How to put the power of law in people\\'s hands\", 2675: \\'How jails extort the poor\\', 2149: \\'The small and surprisingly dangerous detail the police track about you\\', 2453: \"A prosecutor\\'s vision for a better justice system\"}'\n",
            " '{20973: \\'The breathtaking courage of Harriet Tubman\\', 36408: \"The historic women\\'s suffrage march on Washington\", 31780: \\'How one journalist risked her life to hold murderers accountable\\', 2219: \\'A tale of two Americas. And the mini-mart where they collided\\', 4873: \\'Get comfortable with being uncomfortable\\', 2451: \\'The gospel of doubt\\'}'\n",
            " '{62347: \\'The bug that poops candy\\', 29159: \\'Inside the killer whale matriarchy\\', 45539: \\'How turtle shells evolved... twice\\', 17733: \"Let\\'s turn the high seas into the world\\'s largest nature reserve\", 1011: \\'Making law on the high seas\\', 41226: \\'The lovable (and lethal) sea lion\\'}']\n",
            "\u001b[1m\u001b[34mUnique values for url:\u001b[0m\n",
            "['https://www.ted.com/talks/al_gore_averting_the_climate_crisis/'\n",
            " 'https://www.ted.com/talks/hans_rosling_the_best_stats_you_ve_ever_seen/'\n",
            " 'https://www.ted.com/talks/david_pogue_simplicity_sells/' ...\n",
            " 'https://www.ted.com/talks/dick_m_carpenter_ii_how_policing_for_profit_undermines_your_rights/'\n",
            " 'https://www.ted.com/talks/daina_ramey_berry_the_electrifying_speeches_of_sojourner_truth/'\n",
            " 'https://www.ted.com/talks/cella_wright_the_most_important_anus_in_the_ocean/']\n",
            "\u001b[1m\u001b[34mUnique values for description:\u001b[0m\n",
            "['With the same humor and humanity he exuded in \"An Inconvenient Truth,\" Al Gore spells out 15 ways that individuals can address climate change immediately, from buying a hybrid to inventing a new, hotter brand name for global warming.'\n",
            " 'You\\'ve never seen data presented like this. With the drama and urgency of a sportscaster, statistics guru Hans Rosling debunks myths about the so-called \"developing world.\"'\n",
            " 'New York Times columnist David Pogue takes aim at technology’s worst interface-design offenders, and provides encouraging examples of products that get it right. To funny things up, he bursts into song.'\n",
            " ...\n",
            " 'Many countries have an active, centuries-old law that allows government agencies to take your things -- your house, your car, your business -- without ever convicting you of a crime. Law researcher Dick M. Carpenter II exposes how this practice of civil forfeiture threatens your rights and creates a huge monetary incentive for law enforcement to pocket your possessions -- and he lays out a path to end \"policing for profit\" once and for all.'\n",
            " 'Isabella Baumfree was born into slavery in late 18th century New York. Fleeing bondage with her youngest daughter, she renamed herself Sojourner Truth and embarked on a legendary speaking tour. She became known as an electrifying orator and her speeches impacted thousands of people in communities across the United States. Daina Ramey Berry details the life of the outspoken activist. [Directed by WOW-HOW Studio, narrated by Christina Greer, music by Stephen LaRosa].'\n",
            " \"Is it a fuzzy sock? An overripe banana? A moldy tube of toothpaste? In fact, it's a humble sea cucumber: a brainless, fleshy form surrounding a digestive tract, and bookended by a mouth and an anus. And while it might look odd, its daily toil paves the way for entire ecosystems to thrive. Cella Wright journeys to the bottom of the ocean to explore the lives of these sausage-shaped wonders. [Directed by Guto BR, Flávia Godoy and Lívia Serri Francoio, narrated by Bethany Cutmore-Scott, music by Jarrett Farkas].\"]\n",
            "\u001b[1m\u001b[34mUnique values for transcript:\u001b[0m\n",
            "['Thank you so much, Chris. And it\\'s truly a great honor to have the opportunity to come to this stage twice; I\\'m extremely grateful. I have been blown away by this conference, and I want to thank all of you for the many nice comments about what I had to say the other night. And I say that sincerely, partly because (Mock sob) I need that. (Laughter) Put yourselves in my position. (Laughter) I flew on Air Force Two for eight years. (Laughter) Now I have to take off my shoes or boots to get on an airplane! (Laughter) (Applause) I\\'ll tell you one quick story to illustrate what that\\'s been like for me. (Laughter) It\\'s a true story — every bit of this is true. Soon after Tipper and I left the — (Mock sob) White House — (Laughter) we were driving from our home in Nashville to a little farm we have 50 miles east of Nashville. Driving ourselves. (Laughter) I know it sounds like a little thing to you, but — (Laughter) I looked in the rear-view mirror and all of a sudden it just hit me. There was no motorcade back there. (Laughter) You\\'ve heard of phantom limb pain? (Laughter) This was a rented Ford Taurus. (Laughter) It was dinnertime, and we started looking for a place to eat. We were on I-40. We got to Exit 238, Lebanon, Tennessee. We got off the exit, we found a Shoney\\'s restaurant. Low-cost family restaurant chain, for those of you who don\\'t know it. We went in and sat down at the booth, and the waitress came over, made a big commotion over Tipper. (Laughter) She took our order, and then went to the couple in the booth next to us, and she lowered her voice so much, I had to really strain to hear what she was saying. And she said \"Yes, that\\'s former Vice President Al Gore and his wife, Tipper.\" And the man said, \"He\\'s come down a long way, hasn\\'t he?\" (Laughter) (Applause) There\\'s been kind of a series of epiphanies. (Laughter) The very next day, continuing the totally true story, I got on a G-V to fly to Africa to make a speech in Nigeria, in the city of Lagos, on the topic of energy. And I began the speech by telling them the story of what had just happened the day before in Nashville. And I told it pretty much the same way I\\'ve just shared it with you: Tipper and I were driving ourselves, Shoney\\'s, low-cost family restaurant chain, what the man said — they laughed. I gave my speech, then went back out to the airport to fly back home. I fell asleep on the plane until, during the middle of the night, we landed on the Azores Islands for refueling. I woke up, they opened the door, I went out to get some fresh air, and I looked, and there was a man running across the runway. And he was waving a piece of paper, and he was yelling, \"Call Washington! Call Washington!\" And I thought to myself, in the middle of the night, in the middle of the Atlantic, what in the world could be wrong in Washington? Then I remembered it could be a bunch of things. (Laughter) But what it turned out to be, was that my staff was extremely upset because one of the wire services in Nigeria had already written a story about my speech, and it had already been printed in cities all across the United States of America. It was printed in Monterey, I checked. (Laughter) And the story began, \"Former Vice President Al Gore announced in Nigeria yesterday,\" quote: \\'My wife Tipper and I have opened a low-cost family restaurant\\'\" — (Laughter) \"\\'named Shoney\\'s, and we are running it ourselves.\\'\" (Laughter) Before I could get back to U.S. soil, David Letterman and Jay Leno had already started in on — one of them had me in a big white chef\\'s hat, Tipper was saying, \"One more burger with fries!\" (Laughter) Three days later, I got a nice, long, handwritten letter from my friend and partner and colleague Bill Clinton, saying, \"Congratulations on the new restaurant, Al!\" (Laughter) We like to celebrate each other\\'s successes in life. (Laughter) I was going to talk about information ecology. But I was thinking that, since I plan to make a lifelong habit of coming back to TED, that maybe I could talk about that another time. (Applause) Chris Anderson: It\\'s a deal! (Applause) Al Gore: I want to focus on what many of you have said you would like me to elaborate on: What can you do about the climate crisis? I want to start with a couple of — I\\'m going to show some new images, and I\\'m going to recapitulate just four or five. Now, the slide show. I update the slide show every time I give it. I add new images, because I learn more about it every time I give it. It\\'s like beach-combing, you know? Every time the tide comes in and out, you find some more shells. Just in the last two days, we got the new temperature records in January. This is just for the United States of America. Historical average for Januarys is 31 degrees; last month was 39.5 degrees. Now, I know that you wanted some more bad news about the environment — I\\'m kidding. But these are the recapitulation slides, and then I\\'m going to go into new material about what you can do. But I wanted to elaborate on a couple of these. First of all, this is where we\\'re projected to go with the U.S. contribution to global warming, under business as usual. Efficiency in end-use electricity and end-use of all energy is the low-hanging fruit. Efficiency and conservation — it\\'s not a cost; it\\'s a profit. The sign is wrong. It\\'s not negative; it\\'s positive. These are investments that pay for themselves. But they are also very effective in deflecting our path. Cars and trucks — I talked about that in the slideshow, but I want you to put it in perspective. It\\'s an easy, visible target of concern — and it should be — but there is more global warming pollution that comes from buildings than from cars and trucks. Cars and trucks are very significant, and we have the lowest standards in the world. And so we should address that. But it\\'s part of the puzzle. Other transportation efficiency is as important as cars and trucks. Renewables at the current levels of technological efficiency can make this much difference. And with what Vinod, and John Doerr and others, many of you here — there are a lot of people directly involved in this — this wedge is going to grow much more rapidly than the current projection shows it. Carbon Capture and Sequestration — that\\'s what CCS stands for — is likely to become the killer app that will enable us to continue to use fossil fuels in a way that is safe. Not quite there yet. OK. Now, what can you do? Reduce emissions in your home. Most of these expenditures are also profitable. Insulation, better design. Buy green electricity where you can. I mentioned automobiles — buy a hybrid. Use light rail. Figure out some of the other options that are much better. It\\'s important. Be a green consumer. You have choices with everything you buy, between things that have a harsh effect, or a much less harsh effect on the global climate crisis. Consider this: Make a decision to live a carbon-neutral life. Those of you who are good at branding, I\\'d love to get your advice and help on how to say this in a way that connects with the most people. It is easier than you think. It really is. A lot of us in here have made that decision, and it is really pretty easy. It means reduce your carbon dioxide emissions with the full range of choices that you make, and then purchase or acquire offsets for the remainder that you have not completely reduced. And what it means is elaborated at climatecrisis.net. There is a carbon calculator. Participant Productions convened — with my active involvement — the leading software writers in the world, on this arcane science of carbon calculation, to construct a consumer-friendly carbon calculator. You can very precisely calculate what your CO2 emissions are, and then you will be given options to reduce. And by the time the movie comes out in May, this will be updated to 2.0, and we will have click-through purchases of offsets. Next, consider making your business carbon-neutral. Again, some of us have done that, and it\\'s not as hard as you think. Integrate climate solutions into all of your innovations, whether you are from the technology, or entertainment, or design and architecture community. Invest sustainably. Majora mentioned this. Listen, if you have invested money with managers who you compensate on the basis of their annual performance, don\\'t ever again complain about quarterly report CEO management. Over time, people do what you pay them to do. And if they judge how much they\\'re going to get paid on your capital that they\\'ve invested, based on the short-term returns, you\\'re going to get short-term decisions. A lot more to be said about that. Become a catalyst of change. Teach others, learn about it, talk about it. The movie is a movie version of the slideshow I gave two nights ago, except it\\'s a lot more entertaining. And it comes out in May. Many of you here have the opportunity to ensure that a lot of people see it. Consider sending somebody to Nashville. Pick well. And I am personally going to train people to give this slideshow — re-purposed, with some of the personal stories obviously replaced with a generic approach, and it\\'s not just the slides, it\\'s what they mean. And it\\'s how they link together. And so I\\'m going to be conducting a course this summer for a group of people that are nominated by different folks to come and then give it en masse, in communities all across the country, and we\\'re going to update the slideshow for all of them every single week, to keep it right on the cutting edge. Working with Larry Lessig, it will be, somewhere in that process, posted with tools and limited-use copyrights, so that young people can remix it and do it in their own way. (Applause) Where did anybody get the idea that you ought to stay arm\\'s length from politics? It doesn\\'t mean that if you\\'re a Republican, that I\\'m trying to convince you to be a Democrat. We need Republicans as well. This used to be a bipartisan issue, and I know that in this group it really is. Become politically active. Make our democracy work the way it\\'s supposed to work. Support the idea of capping carbon dioxide emissions — global warming pollution — and trading it. Here\\'s why: as long as the United States is out of the world system, it\\'s not a closed system. Once it becomes a closed system, with U.S. participation, then everybody who\\'s on a board of directors — how many people here serve on the board of directors of a corporation? Once it\\'s a closed system, you will have legal liability if you do not urge your CEO to get the maximum income from reducing and trading the carbon emissions that can be avoided. The market will work to solve this problem — if we can accomplish this. Help with the mass persuasion campaign that will start this spring. We have to change the minds of the American people. Because presently, the politicians do not have permission to do what needs to be done. And in our modern country, the role of logic and reason no longer includes mediating between wealth and power the way it once did. It\\'s now repetition of short, hot-button, 30-second, 28-second television ads. We have to buy a lot of those ads. Let\\'s re-brand global warming, as many of you have suggested. I like \"climate crisis\" instead of \"climate collapse,\" but again, those of you who are good at branding, I need your help on this. Somebody said the test we\\'re facing now, a scientist told me, is whether the combination of an opposable thumb and a neocortex is a viable combination. (Laughter) That\\'s really true. I said the other night, and I\\'ll repeat now: this is not a political issue. Again, the Republicans here — this shouldn\\'t be partisan. You have more influence than some of us who are Democrats do. This is an opportunity. Not just this, but connected to the ideas that are here, to bring more coherence to them. We are one. Thank you very much, I appreciate it. (Applause)'\n",
            " 'About 10 years ago, I took on the task to teach global development to Swedish undergraduate students. That was after having spent about 20 years, together with African institutions, studying hunger in Africa. So I was sort of expected to know a little about the world. And I started, in our medical university, Karolinska Institute, an undergraduate course called Global Health. But when you get that opportunity, you get a little nervous. I thought, these students coming to us actually have the highest grade you can get in the Swedish college system, so I thought, maybe they know everything I\\'m going to teach them about. So I did a pretest when they came. And one of the questions from which I learned a lot was this one: \"Which country has the highest child mortality of these five pairs?\" And I put them together so that in each pair of countries, one has twice the child mortality of the other. And this means that it\\'s much bigger, the difference, than the uncertainty of the data. I won\\'t put you at a test here, but it\\'s Turkey, which is highest there, Poland, Russia, Pakistan and South Africa. And these were the results of the Swedish students. I did it so I got the confidence interval, which is pretty narrow. And I got happy, of course — a 1.8 right answer out of five possible. That means there was a place for a professor of international health and for my course. (Laughter) But one late night, when I was compiling the report, I really realized my discovery. I have shown that Swedish top students know, statistically, significantly less about the world than the chimpanzees. (Laughter) Because the chimpanzee would score half right if I gave them two bananas with Sri Lanka and Turkey. They would be right half of the cases. But the students are not there. The problem for me was not ignorance; it was preconceived ideas. I did also an unethical study of the professors of the Karolinska Institute, which hands out the Nobel Prize in Medicine, and they are on par with the chimpanzee there. (Laughter) This is where I realized that there was really a need to communicate, because the data of what\\'s happening in the world and the child health of every country is very well aware. So we did this software, which displays it like this. Every bubble here is a country. This country over here is China. This is India. The size of the bubble is the population, and on this axis here, I put fertility rate. Because my students, what they said when they looked upon the world, and I asked them, \"What do you really think about the world?\" Well, I first discovered that the textbook was Tintin, mainly. (Laughter) And they said, \"The world is still \\'we\\' and \\'them.\\' And \\'we\\' is the Western world and \\'them\\' is the Third World.\" \"And what do you mean with \\'Western world?\\'\" I said. \"Well, that\\'s long life and small family. And \\'Third World\\' is short life and large family.\" So this is what I could display here. I put fertility rate here — number of children per woman: one, two, three, four, up to about eight children per woman. We have very good data since 1962, 1960, about, on the size of families in all countries. The error margin is narrow. Here, I put life expectancy at birth, from 30 years in some countries, up to about 70 years. And in 1962, there was really a group of countries here that were industrialized countries, and they had small families and long lives. And these were the developing countries. They had large families and they had relatively short lives. Now, what has happened since 1962? We want to see the change. Are the students right? It\\'s still two types of countries? Or have these developing countries got smaller families and they live here? Or have they got longer lives and live up there? Let\\'s see. We stopped the world then. This is all UN statistics that have been available. Here we go. Can you see there? It\\'s China there, moving against better health there, improving there. All the green Latin American countries are moving towards smaller families. Your yellow ones here are the Arabic countries, and they get longer life, but not larger families. The Africans are the green here. They still remain here. This is India; Indonesia is moving on pretty fast. In the \\'80s here, you have Bangladesh still among the African countries. But now, Bangladesh — it\\'s a miracle that happens in the \\'80s — the imams start to promote family planning, and they move up into that corner. And in the \\'90s, we have the terrible HIV epidemic that takes down the life expectancy of the African countries. And the rest of them all move up into the corner, where we have long lives and small family, and we have a completely new world. (Applause) (Applause ends) Let me make a comparison directly between the United States of America and Vietnam. 1964: America had small families and long life; Vietnam had large families and short lives. And this is what happens. The data during the war indicate that even with all the death, there was an improvement of life expectancy. By the end of the year, family planning started in Vietnam, and they went for smaller families. And the United States up there is getting longer life, keeping family size. And in the \\'80s now, they give up Communist planning and they go for market economy, and it moves faster even than social life. And today, we have in Vietnam the same life expectancy and the same family size here in Vietnam, 2003, as in United States, 1974, by the end of the war. I think we all, if we don\\'t look at the data, we underestimate the tremendous change in Asia, which was in social change before we saw the economic change. So let\\'s move over to another way here in which we could display the distribution in the world of income. This is the world distribution of income of people. One dollar, 10 dollars or 100 dollars per day. There\\'s no gap between rich and poor any longer. This is a myth. There\\'s a little hump here. But there are people all the way. And if we look where the income ends up, this is 100 percent of the world\\'s annual income. And the richest 20 percent, they take out of that about 74 percent. And the poorest 20 percent, they take about two percent. And this shows that the concept of developing countries is extremely doubtful. We think about aid, like these people here giving aid to these people here. But in the middle, we have most of the world population, and they have now 24 percent of the income. We heard it in other forms. And who are these? Where are the different countries? I can show you Africa. This is Africa. Ten percent of the world population, most in poverty. This is OECD — the rich countries, the country club of the UN. And they are over here on this side. Quite an overlap between Africa and OECD. And this is Latin America. It has everything on this earth, from the poorest to the richest in Latin America. And on top of that, we can put East Europe, we can put East Asia, and we put South Asia. And what did it look like if we go back in time, to about 1970? Then, there was more of a hump. And most who lived in absolute poverty were Asians. The problem in the world was the poverty in Asia. And if I now let the world move forward, you will see that while population increases, there are hundreds of millions in Asia getting out of poverty, and some others getting into poverty, and this is the pattern we have today. And the best projection from the World Bank is that this will happen, and we will not have a divided world. We\\'ll have most people in the middle. Of course it\\'s a logarithmic scale here, but our concept of economy is growth with percent. We look upon it as a possibility of percentile increase. If I change this and take GDP per capita instead of family income, and I turn these individual data into regional data of gross domestic product, and I take the regions down here, the size of the bubble is still the population. And you have the OECD there, and you have sub-Saharan Africa there, and we take off the Arab states there, coming both from Africa and from Asia, and we put them separately, and we can expand this axis, and I can give it a new dimension here, by adding the social values there, child survival. Now I have money on that axis, and I have the possibility of children to survive there. In some countries, 99.7% of children survive to five years of age; others, only 70. And here, it seems, there is a gap between OECD, Latin America, East Europe, East Asia, Arab states, South Asia and sub-Saharan Africa. The linearity is very strong between child survival and money. But let me split sub-Saharan Africa. Health is there and better health is up there. I can go here, and I can split sub-Saharan Africa into its countries. And when it bursts, the size of each country bubble is the size of the population. Sierra Leone down there, Mauritius is up there. Mauritius was the first country to get away with trade barriers, and they could sell their sugar, they could sell their textiles, on equal terms as the people in Europe and North America. There\\'s a huge difference [within] Africa. And Ghana is here in the middle. In Sierra Leone, humanitarian aid. Here in Uganda, development aid. Here, time to invest; there, you can go for a holiday. There\\'s tremendous variation within Africa, which we very often make that it\\'s equal everything. I can split South Asia here. India\\'s the big bubble in the middle. But there\\'s a huge difference between Afghanistan and Sri Lanka. I can split Arab states. How are they? Same climate, same culture, same religion — huge difference. Even between neighbors — Yemen, civil war; United Arab Emirates, money, which was quite equally and well-used. Not as the myth is. And that includes all the children of the foreign workers who are in the country. Data is often better than you think. Many people say data is bad. There is an uncertainty margin, but we can see the difference here: Cambodia, Singapore. The differences are much bigger than the weakness of the data. East Europe: Soviet economy for a long time, but they come out after 10 years very, very differently. And there is Latin America. Today, we don\\'t have to go to Cuba to find a healthy country in Latin America. Chile will have a lower child mortality than Cuba within some few years from now. Here, we have high-income countries in the OECD. And we get the whole pattern here of the world, which is more or less like this. And if we look at it, how the world looks, in 1960, it starts to move. This is Mao Zedong. He brought health to China. And then he died. And then Deng Xiaoping came and brought money to China, and brought them into the mainstream again. And we have seen how countries move in different directions like this, so it\\'s sort of difficult to get an example country which shows the pattern of the world. But I would like to bring you back to about here, at 1960. I would like to compare South Korea, which is this one, with Brazil, which is this one. The label went away for me here. And I would like to compare Uganda, which is there. I can run it forward, like this. And you can see how South Korea is making a very, very fast advancement, whereas Brazil is much slower. And if we move back again, here, and we put trails on them, like this, you can see again that the speed of development is very, very different, and the countries are moving more or less at the same rate as money and health, but it seems you can move much faster if you are healthy first than if you are wealthy first. And to show that, you can put on the way of United Arab Emirates. They came from here, a mineral country. They cached all the oil; they got all the money; but health cannot be bought at the supermarket. You have to invest in health. You have to get kids into schooling. You have to train health staff. You have to educate the population. And Sheikh Zayed did that in a fairly good way. In spite of falling oil prices, he brought this country up here. So we\\'ve got a much more mainstream appearance of the world, where all countries tend to use their money better than they used it in the past. Now, this is, more or less, if you look at the average data of the countries — they are like this. That\\'s dangerous, to use average data, because there is such a lot of difference within countries. So if I go and look here, we can see that Uganda today is where South Korea was in 1960. If I split Uganda, there\\'s quite a difference within Uganda. These are the quintiles of Uganda. The richest 20 percent of Ugandans are there. The poorest are down there. If I split South Africa, it\\'s like this. And if I go down and look at Niger, where there was such a terrible famine [recently], it\\'s like this. The 20 percent poorest of Niger is out here, and the 20 percent richest of South Africa is there, and yet we tend to discuss what solutions there should be in Africa. Everything in this world exists in Africa. And you can\\'t discuss universal access to HIV [treatment] for that quintile up here with the same strategy as down here. The improvement of the world must be highly contextualized, and it\\'s not relevant to have it on a regional level. We must be much more detailed. We find that students get very excited when they can use this. And even more, policy makers and the corporate sectors would like to see how the world is changing. Now, why doesn\\'t this take place? Why are we not using the data we have? We have data in the United Nations, in the national statistical agencies and in universities and other nongovernmental organizations. Because the data is hidden down in the databases. And the public is there, and the internet is there, but we have still not used it effectively. All that information we saw changing in the world does not include publicly funded statistics. There are some web pages like this, you know, but they take some nourishment down from the databases, but people put prices on them, stupid passwords and boring statistics. (Laughter) And this won\\'t work. (Applause) So what is needed? We have the databases. It\\'s not a new database that you need. We have wonderful design tools and more and more are added up here. So we started a nonprofit venture linking data to design, we called \"Gapminder,\" from the London Underground, where they warn you, \"Mind the gap.\" So we thought Gapminder was appropriate. And we started to write software which could link the data like this. And it wasn\\'t that difficult. It took some person years, and we have produced animations. You can take a data set and put it there. We are liberating UN data, some few UN organization. Some countries accept that their databases can go out on the world. But what we really need is, of course, a search function, a search function where we can copy the data up to a searchable format and get it out in the world. And what do we hear when we go around? I\\'ve done anthropology on the main statistical units. Everyone says, \"It\\'s impossible. This can\\'t be done. Our information is so peculiar in detail, so that cannot be searched as others can be searched. We cannot give the data free to the students, free to the entrepreneurs of the world.\" But this is what we would like to see, isn\\'t it? The publicly funded data is down here. And we would like flowers to grow out on the net. One of the crucial points is to make them searchable, and then people can use the different design tools to animate it there. And I have pretty good news for you. I have good news that the [current], new head of UN statistics doesn\\'t say it\\'s impossible. He only says, \"We can\\'t do it.\" (Laughter) And that\\'s a quite clever guy, huh? (Laughter) So we can see a lot happening in data in the coming years. We will be able to look at income distributions in completely new ways. This is the income distribution of China, 1970. This is the income distribution of the United States, 1970. Almost no overlap. Almost no overlap. And what has happened? What has happened is this: that China is growing, it\\'s not so equal any longer, and it\\'s appearing here, overlooking the United States, almost like a ghost, isn\\'t it? (Laughter) It\\'s pretty scary. (Laughter) But I think it\\'s very important to have all this information. We need really to see it. And instead of looking at this, I would like to end up by showing the internet users per 1,000. In this software, we access about 500 variables from all the countries quite easily. It takes some time to change for this, but on the axes, you can quite easily get any variable you would like to have. And the thing would be to get up the databases free, to get them searchable, and with a second click, to get them into the graphic formats, where you can instantly understand them. Now, statisticians don\\'t like it, because they say that this will not show the reality; we have to have statistical, analytical methods. But this is hypothesis-generating. I end now with the world. There, the internet is coming. The number of internet users are going up like this. This is the GDP per capita. And it\\'s a new technology coming in, but then amazingly, how well it fits to the economy of the countries. That\\'s why the $100 computer will be so important. But it\\'s a nice tendency. It\\'s as if the world is flattening off, isn\\'t it? These countries are lifting more than the economy, and it will be very interesting to follow this over the year, as I would like you to be able to do with all the publicly funded data. Thank you very much. (Applause)'\n",
            " '(Music: \"The Sound of Silence,\" Simon & Garfunkel) Hello voice mail, my old friend. (Laughter) I\\'ve called for tech support again. I ignored my boss\\'s warning. I called on a Monday morning. Now it\\'s evening, and my dinner first grew cold, and then grew mold. I\\'m still on hold. I\\'m listening to the sounds of silence. I don\\'t think you understand. I think your phone lines are unmanned. I punched every touch tone I was told, but I\\'ve still spent 18 hours on hold. It\\'s not enough your software crashed my Mac, and it constantly hangs and bombs — it erased my ROMs! Now the Mac makes the sounds of silence. In my dreams I fantasize of wreaking vengeance on you guys. Say your motorcycle crashes. Blood comes gushing from your gashes. With your fading strength, you call 9-1-1 and you pray for a trained MD. But you get me. (Laughter) And you listen to the sounds of silence. (Music) (Applause) Thank you. Good evening and welcome to: \"Spot the TED Presenter Who Used to Be a Broadway Accompanist.\" (Laughter) When I was offered the Times column six years ago, the deal was like this: you\\'ll be sent the coolest, hottest, slickest new gadgets. Every week, it\\'ll arrive at your door. You get to try them out, play with them, evaluate them until the novelty wears out, before you have to send them back, and you\\'ll get paid for it. You can think about it, if you want. So, I\\'ve always been a technology nut, and I absolutely love it. The job, though, came with one small downside, and that is, they intended to publish my email address at the end of every column. And what I\\'ve noticed is — first of all, you get an incredible amount of email. If you ever are feeling lonely, get a New York Times column, because you will get hundreds and hundreds and hundreds of emails. And the email I\\'m getting a lot today is about frustration. People are feeling like things — Ok, I just had an alarm come up on my screen. Lucky you can\\'t see it. People are feeling overwhelmed. They\\'re feeling like it\\'s too much technology, too fast. It may be good technology, but I feel like there\\'s not enough of a support structure. There\\'s not enough help. There\\'s not enough thought put into the design of it to make it easy and enjoyable to use. One time I wrote a column about my efforts to reach Dell Technical Support, and within 12 hours, there were 700 messages from readers on the feedback boards on the Times website, from users saying, \"\"Me too, and here\\'s my tale of woe.\" I call it \"software rage.\" And man, let me tell you, whoever figures out how to make money off of this frustration will — Oh, how did that get up there? Just kidding. (Laughter) Ok, so why is the problem accelerating? And part of the problem is, ironically, because the industry has put so much thought into making things easier to use. I\\'ll show you what I mean. This is what the computer interface used to look like, DOS. Over the years, it\\'s gotten easier to use. This is the original Mac operating system. Reagan was President. Madonna was still a brunette. And the entire operating system — this is the good part — the entire operating system fit in 211 k. You couldn\\'t put the Mac OS X logo in 211 k! (Laughter) So the irony is, that as these things became easier to use, a less technical, broader audience was coming into contact with this equipment for the first time. I once had the distinct privilege of sitting in on the Apple call center for a day. The guy had a duplicate headset for me to listen to. And the calls that — you know how they say, \"Your call may be recorded for quality assurance?\" Uh-uh. Your call may be recorded so that they can collect the funniest dumb user stories and pass them around on a CD. (Laughter) Which they do. (Laughter) And I have a copy. (Laughter) It\\'s in your gift bag. No, no. With your voices on it! So, some of the stories are just so classic, and yet so understandable. A woman called Apple to complain that her mouse was squeaking. Making a squeaking noise. And the technician said, \"Well, ma\\'am, what do you mean your mouse is squeaking?\" She says, \"All I can tell you is that it squeaks louder, the faster I move it across the screen.\" (Laughter) And the technician\\'s like, \"Ma\\'am, you\\'ve got the mouse up against the screen?\" She goes, \"Well, the message said, \\'Click here to continue.\\'\" (Laughter) Well, if you like that one — how much time have we got? Another one, a guy called — this is absolutely true — his computer had crashed, and he told the technician he couldn\\'t restart it, no matter how many times he typed \"11.\" And the technician said, \"What? Why are you typing 11?\" He said, \"The message says, \\'Error Type 11.\\'\" (Laughter) So, we must admit that some of the blame falls squarely at the feet of the users. But why is the technical overload crisis, the complexity crisis, accelerating now? In the hardware world, it\\'s because we the consumers want everything to be smaller, smaller, smaller. So the gadgets are getting tinier and tinier, but our fingers are essentially staying the same size. So it gets to be more and more of a challenge. Software is subject to another primal force: the mandate to release more and more versions. When you buy a piece of software, it\\'s not like buying a vase or a candy bar, where you own it. It\\'s more like joining a club, where you pay dues every year, and every year, they say, \"We\\'ve added more features, and we\\'ll sell it to you for $99.\" I know one guy who\\'s spent $4,000 just on Photoshop over the years. And software companies make 35 percent of their revenue from just these software upgrades. I call it the Software Upgrade Paradox — which is that if you improve a piece of software enough times, you eventually ruin it. I mean, Microsoft Word was last just a word processor in, you know, the Eisenhower administration. (Laughter) But what\\'s the alternative? Microsoft actually did this experiment. They said, \"Well, wait a minute. Everyone complains that we\\'re adding so many features. Let\\'s create a word processor that\\'s just a word processor: Simple, pure; does not do web pages, is not a database.\" And it came out, and it was called Microsoft Write. And none of you are nodding in acknowledgment, because it died. It tanked. No one ever bought it. I call this the Sport Utility Principle. People like to surround themselves with unnecessary power, right? They don\\'t need the database and the website, but they\\'re like, \"Well, I\\'ll upgrade, because, I might, you know, I might need that someday.\" So the problem is: as you add more features, where are they going to go? Where are you going to stick them? You only have so many design tools. You can do buttons, you can do sliders, pop-up menus, sub-menus. But if you\\'re not careful about how you choose, you wind up with this. (Laughter) This is an un-retouched — this is not a joke — un-retouched photo of Microsoft Word, the copy that you have, with all the toolbars open. You\\'ve obviously never opened all the toolbars, but all you have to type in is this little, teeny window down here. (Laughter) And we\\'ve arrived at the age of interface matrices, where there are so many features and options, you have to do two dimensions, you know: a vertical and a horizontal. You guys all complain about how Microsoft Word is always bulleting your lists and underlining your links automatically. The off switch is in there somewhere. I\\'m telling you — it\\'s there. Part of the art of designing a simple, good interface, is knowing when to use which one of these features. So, here is the log-off dialogue box for Windows 2000. There are only four choices, so why are they in a pop-up menu? It\\'s not like the rest of the screen is so full of other components that you need to collapse the choices. They could have put them all out in view. Here\\'s Apple\\'s take on the exact same dialogue box. (Applause) Thank you — yes, I designed the dialogue box. No, no. Already, we can see that Apple and Microsoft have a severely divergent approach to software design. Microsoft\\'s approach to simplicity tends to be: let\\'s break it down; let\\'s just make it more steps. There are these \"wizards\" everywhere. And you know, there\\'s a new version of Windows coming out this fall. If they continue at this pace, there\\'s absolutely no telling where they might wind up. [Welcome to the Type a Word Wizard] (Laughter) (Applause) \"Welcome to the Type a Word Wizard.\" Ok, I\\'ll bite. Let\\'s click \"Next\" to continue. (Laughter) (Applause) From the drop-down menu, choose the first letter you want to type. Ok. (Laughter) So there is a limit that we don\\'t want to cross. So what is the answer? How do you pack in all these features in a simple, intelligent way? I believe in consistency, when possible, real-world equivalents, trash can folder, when possible, label things, mostly. But I beg of the designers here to break all those rules if they violate the biggest rule of all, which is intelligence. Now what do I mean by that? I\\'m going to give you some examples where intelligence makes something not consistent, but it\\'s better. If you are buying something on the web, you\\'re supposed to put in your address, and you\\'re supposed to choose what country you\\'re from, ok? There are 200 countries in the world. We like to think of the Internet as a global village. I\\'m sorry; it\\'s not one yet. It\\'s mainly like, the United States, Europe, and Japan. So why is \"United States\" in the \"U\"s? (Laughter) You have to scroll, like, seven screensful to get to it. Now, it would be inconsistent to put \"United States\" first, but it would be intelligent. This one\\'s been touched on before, but why in God\\'s name do you shut down a Windows PC by clicking a button called \"Start?\" (Laughter) Here\\'s another pet one of mine: you have a printer. Most of the time, you want to print one copy of your document, in page order, on that printer. So why in God\\'s name do you see this every time you print? It\\'s like a 747 shuttle cockpit. (Laughter) And one of the buttons at the bottom, you\\'ll notice, is not \"Print.\" (Laughter) (Applause) Now, I\\'m not saying that Apple is the only company who has embraced the cult of simplicity. Palm is also, especially in the old days, wonderful about this. I actually got to speak to Palm when they were flying high in the \\'90s, and after the talk, I met one of the employees. He says, \"Nice talk.\" And I said, \"Thank you. What do you do here?\" He said, \"I\\'m a tap counter.\" I\\'m like, \"You\\'re a what?\" He goes, \"Well Jeff Hawkins, the CEO, says, \\'If any task on the Palm Pilot takes more than three taps of the stylus, it\\'s too long, and it has to be redesigned.\\' So I\\'m the tap counter.\" So, I\\'m going to show you an example of a company that does not have a tap counter. (Laughter) This is Microsoft Word. Ok, when you want to create a new blank document in Word — it could happen. (Laughter) You go up to the \"File\" menu and you choose \"New.\" Now, what happens when you choose \"New?\" Do you get a new blank document? You do not. On the opposite side of the monitor, a task bar appears, and somewhere in those links — by the way, not at the top — somewhere in those links is a button that makes you a new document. Ok, so that is a company not counting taps. You know, I don\\'t want to just stand here and make fun of Microsoft ... Yes, I do. (Laughter) (Applause) The Bill Gates song! (Piano music) I\\'ve been a geek forever and I wrote the very first DOS. I put my software and IBM together; I got profit and they got the loss. (Laughter) I write the code that makes the whole world run. I\\'m getting royalties from everyone. Sometimes it\\'s garbage, but the press is snowed. You buy the box; I\\'ll sell the code. Every software company is doing Microsoft\\'s R&D. You can\\'t keep a good idea down these days. Even Windows is a hack. We\\'re kind of based loosely on the Mac. So it\\'s big, so it\\'s slow. You\\'ve got nowhere to go. I\\'m not doing this for praise. I write the code that fits the world today. Big mediocrity in every way. We\\'ve entered planet domination mode. You\\'ll have no choice; you\\'ll buy my code. I am Bill Gates and I write the code. (Applause) But actually, I believe there are really two Microsofts. There\\'s the old one, responsible for Windows and Office. They\\'re dying to throw the whole thing out and start fresh, but they can\\'t. They\\'re locked in, because so many add-ons and other company stuff locks into the old 1982 chassis. But there\\'s also a new Microsoft, that\\'s really doing good, simple interface designs. I liked the Media Center PC. I liked the Microsoft SPOT Watch. The Wireless Watch flopped miserably in the market, but it wasn\\'t because it wasn\\'t simply and beautifully designed. But let\\'s put it this way: would you pay $10 a month to have a watch that has to be recharged every night like your cell phone, and stops working when you leave your area code? (Laughter) So, the signs might indicate that the complexity crunch is only going to get worse. So is there any hope? The screens are getting smaller, people are illuminating, putting manuals in the boxes, things are coming out at a faster pace. It\\'s funny — when Steve Jobs came back to Apple in 1997, after 12 years away, it was the MacWorld Expo — he came to the stage in that black turtleneck and jeans, and he sort of did this. The crowd went wild, but I had just seen — I\\'m like, where have I seen this before? I had just seen the movie \"Evita\" — (Laughter) with Madonna, and I\\'m like, you know what? I\\'ve got to do one about Steve Jobs. (Music) It won\\'t be easy. You\\'ll think I\\'m strange. (Laughter) When I try to explain why I\\'m back, after telling the press Apple\\'s future is black. You won\\'t believe me. All that you see is a kid in his teens who started out in a garage with only a buddy named Woz. (Laughter) You try rhyming with garage! (Laughter) Don\\'t cry for me, Cupertino. (Laughter) The truth is, I never left you. I know the ropes now, know what the tricks are. I made a fortune over at Pixar. (Laughter) Don\\'t cry for me, Cupertino. I\\'ve still got the drive and vision. I still wear sandals in any weather. It\\'s just that these days, they\\'re Gucci leather. (Laughter) (Applause) Thank you. So Steve Jobs had always believed in simplicity and elegance and beauty. And the truth is, for years I was a little depressed, because Americans obviously did not value it, because the Mac had three percent market share, Windows had 95 percent market share — people did not think it was worth putting a price on it. So I was a little depressed. And then I heard Al Gore\\'s talk, and I realized I didn\\'t know the meaning of depressed. (Laughter) But it turns out I was wrong, right? Because the iPod came out, and it violated every bit of common wisdom. Other products cost less; other products had more features, they had voice recorders and FM transmitters. The other products were backed by Microsoft, with an open standard, not Apple\\'s propriety standard. But the iPod won — this is the one they wanted. The lesson was: simplicity sells. And there are signs that the industry is getting the message. This is a little company that\\'s done very well with simplicity and elegance. The Sonos thing — it\\'s catching on. I\\'ve got just a couple examples. Physically, a really cool, elegant thinking coming along lately. When you have a digital camera, how do you get the pictures back to your computer? Well, you either haul around a USB cable, or you buy a card reader and haul that around. Either one, you\\'re going to lose. What I do is, I take out the memory card, and I fold it in half, revealing USB contacts. I just stick it in the computer, offload the pictures, put it right back in the camera. I never have to lose anything. Here\\'s another example. Chris, you\\'re the source of all power. Will you be my power plug? Chris Anderson: Oh yeah. DP: Hold that and don\\'t let go. You might\\'ve seen this, this is Apple\\'s new laptop. This the power cord. It hooks on like this. And I\\'m sure every one of you has done this at some point in your lives, or one of your children. You walk along — and I\\'m about to pull this onto the floor. I don\\'t care. It\\'s a loaner. Here we go. Whoa! It\\'s magnetic — it doesn\\'t pull the laptop onto the floor. (Applause) In my very last example — I do a lot of my work using speech recognition software. And I\\'ll just — you have to be kind of quiet because the software is nervous. Speech recognition software is really great for doing emails very quickly; period. Like, I get hundreds of them a day; period. And it\\'s not just what I dictate that it writes down; period. I also use this feature called voice macros; period. Correct \"dissuade.\" Not \"just.\" Ok, this is not an ideal situation, because it\\'s getting the echo from the hall and stuff. The point is, I can respond to people very quickly by saying a short word, and having it write out a much longer thing. So if somebody sends me a fan letter, I\\'ll say, \"Thanks for that.\" [Thank you so much for taking the time to write ...] (Laughter) (Applause) And conversely, if somebody sends me hate mail — which happens daily — I say, \"Piss off.\" (Laughter) [I admire your frankness ...] (Laughter) (Applause) So that\\'s my dirty little secret. Don\\'t tell anyone. (Laughter) So the point is — this is a really interesting story. This is version eight of this software, and do you know what they put in version eight? No new features. It\\'s never happened before in software! The company put no new features. They just said, \"We\\'ll make this software work right.\" Right? Because for years, people had bought this software, tried it out — 95 percent accuracy was all they got, which means one in 20 words is wrong — and they\\'d put it in their drawer. And the company got sick of that, so they said, \"This version, we\\'re not going to do anything, but make sure it\\'s darned accurate.\" And so that\\'s what they did. This cult of doing things right is starting to spread. So, my final advice for those of you who are consumers of this technology: remember, if it doesn\\'t work, it\\'s not necessarily you, ok? It could be the design of the thing you\\'re using. Be aware in life of good design and bad design. And if you\\'re among the people who create this stuff: Easy is hard. Pre-sweat the details for your audience. Count the taps. Remember, the hard part is not deciding what features to add, it\\'s deciding what to leave out. And best of all, your motivation is: simplicity sells. CA: Bravo. DP: Thank you very much. CA: Hear, hear! (Applause)'\n",
            " ...\n",
            " 'Picture yourself driving down the road tomorrow, heading somewhere to buy an item you found on Craigslist, perhaps a nice mountain bike for 3,000 dollars. At that price, it\\'s probably one of those bikes with a little electric motor on it — (Laughter) maybe some streamers from the handlebars. (Laughter) The seller has declared this a cash-only deal, so you have, in the console of your car, 3,000 dollars. Suddenly, you are pulled over. During the stop, the officer asks, \"Do you have any drugs, weapons or large amounts of cash in your car?\" You truthfully answer, \"Yes,\" not to the drugs or to the weapons, but to the cash. In the blink of an eye, you are ordered out of your car. The officer searches it and finds your cash. On the spot, he seizes it, and he says he suspects it\\'s part of a drug crime. A few days later, the local district attorney files paperwork to keep your money — permanently. And all of this happens without you ever being charged or convicted of any crime. Now, you might be saying, \"Ah, this would never happen in the United States.\" (Laughter) Incidents like this occur every day in our country. It\\'s one of the most significant threats to your property rights most people have never even heard of. It\\'s called \"civil forfeiture.\" Most of you are generally aware of criminal forfeiture, although the term itself might be a little unfamiliar, so let\\'s begin with forfeiture. When we forfeit something, we give up that thing, or we\\'re forced to give it up. In criminal forfeiture, someone is charged and convicted of a crime, and therefore, they have to give up property related to that crime. For example, suppose you use your car to transport and deal drugs. You\\'re caught and convicted; now you have to give up or forfeit your car as part of the sentencing. That\\'s criminal forfeiture. But in civil forfeiture, no person is charged with a crime — the property is charged and convicted of a crime. (Laughter) You heard that correctly: the government actually convicts an inanimate object with a crime. It\\'s as if that thing itself committed the crime. That\\'s why civil forfeiture cases have these really peculiar names, like, \"The United States of America v. One 1990 Ford Thunderbird.\" (Laughter) Or \"The State of Oklahoma v. 53,234 Dollars in Cash.\" (Laughter) Or my personal favorite: \"The United States of America v. One Solid Gold Object in the Form of a Rooster.\" (Laughter) Now, you\\'re thinking: How does something like this happen? That\\'s exactly what I said when I first learned about civil forfeiture while on a road trip with my wife. No, we did not get pulled over. (Laughter) I was reading about the history of civil forfeiture as part of my work as a research director at the law firm, and I came across one of the cases I just mentioned, \"The United States of America v. One 1990 Ford Thunderbird.\" In that case, Carol Thomas loaned her car to her son. While in the car, her son committed a minor drug crime. Carol didn\\'t commit any crime, so law enforcement couldn\\'t convict her and take the car, but they could — and did — use civil forfeiture to \"convict the car\" and take it. Carol was completely innocent, but she lost her car nonetheless. In other words, she was punished for a crime she did not commit. When I read this, I was gobsmacked. How could this occur? How is this even legal? It turns out, it began in our country with maritime law. Early in our republic, the government sought to fight piracy — yes, actual pirates. The problem was the government often couldn\\'t catch the pirates, so instead it used civil forfeiture to convict the pirates\\' property and take it, and therefore deny the pirates their illegal profits. Of course, the government could\\'ve simply taken and kept the booty without necessarily using civil forfeiture, but doing so would have violated our most basic due process and property rights. Now, the government rarely used civil forfeiture until the 1980s and the war on drugs. We expanded civil forfeiture law to cover drug crimes and then later, other types of crime. Canada and the European Union adopted similar provisions so that now all kinds of people are ensnared in the forfeiture web, people like Russ Caswell. Russ Caswell owned a small budget motel in Tewksbury, Massachusetts. His father built the motel in 1955, and Russ took it over in the 1980s. During the years that Russ owned the motel, from time to time, people would rent rooms, and they would commit drug crimes. Russ didn\\'t condone the activities — in fact, whenever he found out about it, he would immediately call police. Russ was entirely innocent of any crime, but that did not stop the US Department of Justice from seizing his motel simply because other people committed crimes there. But Russ\\'s case was not alone. Between 1997 and 2016, the US Department of Justice took more than 635,000 properties. This means each year, tens of thousands of people lose their properties in cases in which they\\'re never charged or convicted of any crime. And we\\'re not necessarily talking about major drug kingpins or headline-grabbing financial fraudsters whose cases involve hundreds of thousands if not millions of dollars. Many of these seizures and forfeitures involve just everyday people like Russ Caswell or you or me. But it gets worse. Are you wondering: Where does all this cash and property end up? In most places, law enforcement keeps it. And they use it to buy equipment or pay for building repairs or even pay salaries and overtime. This is a clear conflict of interest. It creates a perverse profit incentive that can distort law enforcement. And this is a problem that\\'s not lost on those in law enforcement, either. Former chief of police in Rochester, Minnesota, Roger Peterson, described the choice that police officers often face. As he described it: suppose I\\'m a police officer, and I see a drug deal. Now I face a choice: Do I go after the buyer and remove from the street illegal drugs, or do I go after the seller and get cash for my agency to use? So it\\'s easy to see why a police officer might go for the cash. It was just such a circumstance that compelled police officers in Philadelphia to seize an entire house. In 2014, Chris and Markela Sourovelis\\' son sold 40 dollars worth of drugs down the street from their house. Forty dollars. The police watched the deal go down. They could\\'ve arrested the buyer and confiscated the drugs, but they didn\\'t. They could\\'ve arrested the Sourovelises\\' son right there on the street and grabbed 40 dollars. But they didn\\'t. They waited to arrest him at home, because then they could seize their entire house. The house was worth 350,000 dollars. That is what I mean by a perverse profit incentive. But the Sourovelises\\' case was no outlier. Philadelphia, the \"City of Brotherly Love,\" the \"Athens of America,\" the \"Cradle of Liberty,\" birthplace to the Constitution, home to the Liberty Bell and Independence Hall, the \"City that Loves you Back\" — (Laughter) that Philadelphia was running a forfeiture machine. Between 2002 and 2016, Philadelphia took more than 77 million dollars through forfeiture, including 1,200 homes. Cars, jewelry, electronics — all of it they sold, the proceeds they kept. And they would have kept right on doing it, had it not been for a class-action lawsuit — our team\\'s class-action lawsuit — (Applause and cheers) Thank you. We forced them to change their forfeiture practices and to compensate victims. (Applause and cheers) When our team first began researching forfeiture in 2007, we had no idea how much forfeiture revenue there was. In fact, no one knew. It wasn\\'t until our groundbreaking study, \"Policing for Profit,\" that we found federal law enforcement agencies have taken in almost 40 billion dollars — billion with a B — since 2001, more than 80 percent of that through civil forfeiture. Unfortunately, we have no idea how much state and local agencies have taken in, because in many states, they don\\'t have to report it. So until we reform forfeiture, we\\'ll never know how much forfeiture activity actually occurs in the United States. And we desperately need reform. Legislatures should abolish civil forfeiture and replace it with criminal forfeiture. And all forfeiture proceeds should go to a neutral fund such as a general fund. When forfeiture proceeds stop hitting law enforcement budgets directly, that is when we will end policing for profit. (Applause) Now, as you can imagine, law enforcement officials don\\'t love these recommendations. (Laughter) They stand to lose a lot of money, and they believe civil forfeiture is an effective crime-fighting tool. The trouble is, it\\'s not. In June 2019, we released a study that found forfeiture does not improve crime-fighting. And the report also found that law enforcement agencies pursue more forfeiture money during economic downturns. So when city and county budgets are tight, law enforcement will use forfeiture to find the money. So it\\'s no wonder, then, that law enforcement officials predict a criminal apocalypse — (Laughter) if these reforms are adopted. But some states have already implemented them, and we\\'re pushing for reform all across the country, because until we reform forfeiture, this is something that could happen to any of us. It can happen in the United States, it can happen in the United Kingdom, it can happen in countries throughout the European Union and beyond. People like you and me and the Sourovelises and Russ Caswell, just doing the everyday stuff of life, can be caught in a scheme we never thought possible. It is time we end policing for profit once and for all. Thank you. (Applause and cheers)'\n",
            " 'In early 1828, Sojourner Truth approached the Grand Jury of Kingston, New York. She had no experience with the legal system, no money, and no power in the eyes of the court. Ignoring the jury’s scorn, Truth said she was there to fight for custody of her five-year-old son Peter, who’d been illegally sold to an enslaver in Alabama. As the trial played out over the next several months, Truth raised funds, strategized with lawyers, and held her faith. Finally in the spring of 1828, Peter was returned to her care— but Truth’s work was far from over. She would dedicate the rest of her life to pursuing justice and spiritual understanding. Truth was born into slavery as Isabella Baumfree in the late 18th century in Ulster County, New York. Although New York state had announced the abolition of slavery in 1799, the emancipation act was gradual. Those who were currently enslaved were forced to serve a period of indentured servitude until their mid-20s. Throughout this period, enslavers repeatedly sold Baumfree, tearing her from her loved ones. Often, she was explicitly prevented from pursuing new relationships. Eventually, she married an enslaved man named Thomas, with whom she had three children. She was desperate to keep her new family together— but the slow progress of abolition threatened this hope. Baumfree’s enslaver, John Dumont, had promised to free her by 1826. When he failed to keep his word, Baumfree fled for her safety. During the escape, she was only able to rescue her youngest daughter Sophia, while her other children remained in bondage. It would be two years before she regained custody of Peter. After that, she would wait another two years before she saw any of her other children. During this time, Baumfree found solace in her faith and became increasingly dedicated to religious reflection. After settling in Kingston, New York, she joined a Methodist community that shared her political views. She continued her practice of speaking aloud to God in private, and one night, her evening prayers took on even more sacred significance. Baumfree claimed to hear the voice of God, telling her to leave Kingston, and share her holy message with others. Though she never learned to read or write, Baumfree became known as an electrifying orator, whose speeches drew on Biblical references, spiritual ideals, and her experience of slavery. Her sermons denounced the oppression of African Americans and women in general, and became prominent in campaigns for both abolition and women’s rights. In 1843, she renamed herself Sojourner Truth and embarked on a legendary speaking tour. Truth saw her journey as a mission from God. Her faith often led her to the nation’s most hostile regions, where she spoke to bigoted audiences as the only Black woman in the crowd. Truth was confident God would protect her, but some crowds responded to her bravery with violence. During one of her sermons, a mob of white mean threatened to set fire to the tent where she was speaking. In her memoir, Truth recalled steeling herself to confront them: “Have I not faith enough to go out and quell that mob… I felt as if I had three hearts! And that they were so large, my body could hardly hold them!” She placated the men with song and prayer, until they had no desire to harm her. Truth’s speeches impacted thousands of people in communities across the nation, but her activism went far beyond public speaking. During the Civil War, she became involved with the Union Army, recruiting soldiers and organizing supplies for Black troops. Her work was so well regarded that she was invited to meet President Lincoln. She took the occasion to argue that all formerly enslaved people should be granted land by the government. Truth continued to travel and speak well into her 80s. Until her death in 1883, she remained an outspoken critic who fought for her right to be heard in a hostile world. As Truth once said, “I feel safe even in the midst of my enemies; for the truth is powerful and will prevail.\"'\n",
            " 'Can you guess what you’re looking at? Is it a fuzzy sock? An overripe banana? A moldy tube of toothpaste? In fact, this is the humble sea cucumber, and while it might look odd, its daily toil paves the way for entire ecosystems to thrive. Sea cucumbers are members of the phylum Echinodermata, along with sea urchins, starfish and other radially symmetrical, “spiny-skinned” marine invertebrates. Some sea cucumbers have feathery tentacles flowing from their mouths, some are puffed like bloated balloons, and others simply look like Headless Chicken Monsters— the actual name given to a rare deep-sea species. But they are generally characterized by their long, cylindrical shape. A sea cucumber is essentially a brainless, fleshy form surrounding a digestive tract, bookended by a mouth and an anus. Adhesive tube feet run the length of their bodies and allow them to scoot along the seafloor. Specialized tube feet can be used for feeding and respiration, though many sea cucumbers actually breathe through their anuses. Rhythmically contracting and relaxing their muscles, they draw water in and out over an internal lung-like structure called a respiratory tree that extracts oxygen from seawater. Certain species of crabs and pearlfish take advantage of this rhythmic action and, once the sea cucumber’s anus is dilated, they shimmy in and take shelter. The rear end of a single sea cucumber can harbor up to fifteen pearlfish at a time. However, it seems that not all sea cucumbers put up with this intrusive behavior. Some species are equipped with five teeth around their anus, suggesting that they may have taken an evolutionary stand against unwanted guests. But even sea cucumbers that lack anal teeth are outfitted with tools to defend themselves. They evade threats and launch counter-attacks using their mutable collagenous tissue, or MCT. This gel-like tissue contains bundles of collagen, called “fibrils.” Proteins can interact with these fibrils to slide them together, stiffening the tissue, or apart, softening it. This versatile tissue has many advantages: it aids in efficient locomotion, enables sea cucumbers to fit into small spaces, and allows them to reproduce asexually by splitting apart. But MCT’s most explosive application is employed when a predator attacks. By loosening the attachments of internal tissues then quickly softening and contracting their muscles, many species are capable of shooting a wide range of organs out of their anuses. This act is called “evisceration” and it’s a surprisingly effective defense mechanism. In addition to startling and distracting predators, the innards of some sea cucumber species are sticky and toxic. Evisceration may seem drastic, but sea cucumbers are able to regenerate what they’ve lost to their gut reaction in just a few weeks’ time. Aside from the few species that have evolved to swim and those that feed without moving, many of these cumbersome creatures pass their time grazing the seabed. Sea cucumbers are found everywhere from shallow shores to abyssal trenches 6,000 meters below sea level. On the deep sea floor, they comprise the majority of animal biomass, reaching up to 95% in some areas. As these sausage-shaped wonders trudge along, they vacuum up sand, digest the organic matter it contains, and excrete the byproduct. In this process, sea cucumbers clean and oxygenate the seafloor by breaking down detritus and recycling nutrients. This creates the conditions for sea grass beds and shellfish to thrive. Sea cucumber excretions can also aid in coral formation and may play a role in buffering marine environments from ocean acidification. As the ocean’s vacuum cleaners, they are very good at their job: about half of the sandy seafloor is thought to have passed through the digestive tract of a sea cucumber. So next time you’re rejoicing in the feeling of sand crunching between your toes, consider this: those very grains of sand might have, at one point or another, been excreted by a pickle that breathes through its butt.']\n"
          ]
        }
      ],
      "source": [
        "# Checking the unique values for each column\n",
        "for column_name in ted_talk_df.columns:\n",
        "  print(colored(f\"Unique values for {column_name}:\",'blue', attrs=['bold']))\n",
        "  print(ted_talk_df[column_name].unique())"
      ]
    },
    {
      "cell_type": "code",
      "execution_count": 8,
      "metadata": {
        "colab": {
          "base_uri": "https://localhost:8080/"
        },
        "id": "ZJ4LAYrgfTGM",
        "outputId": "37554740-91cd-4e82-d70f-fc19be5225b2"
      },
      "outputs": [
        {
          "output_type": "stream",
          "name": "stdout",
          "text": [
            "talk_id           4005\n",
            "title             4005\n",
            "speaker_1         3274\n",
            "all_speakers      3306\n",
            "occupations       2049\n",
            "about_speakers    2977\n",
            "views             3996\n",
            "recorded_date     1334\n",
            "published_date    2962\n",
            "event              459\n",
            "native_lang         12\n",
            "available_lang    3902\n",
            "comments           601\n",
            "duration          1188\n",
            "topics            3977\n",
            "related_talks     4005\n",
            "url               4005\n",
            "description       4005\n",
            "transcript        4005\n",
            "dtype: int64\n"
          ]
        }
      ],
      "source": [
        "# Checking the no. of unique values in each column\n",
        "print(ted_talk_df.nunique())"
      ]
    },
    {
      "cell_type": "code",
      "execution_count": 9,
      "metadata": {
        "colab": {
          "base_uri": "https://localhost:8080/"
        },
        "id": "HuPgAz2BBTvz",
        "outputId": "493acc98-f4e4-48ae-aa33-c6f6a40fe679"
      },
      "outputs": [
        {
          "output_type": "execute_result",
          "data": {
            "text/plain": [
              "Index(['talk_id', 'title', 'speaker_1', 'all_speakers', 'occupations',\n",
              "       'about_speakers', 'views', 'recorded_date', 'published_date', 'event',\n",
              "       'native_lang', 'available_lang', 'comments', 'duration', 'topics',\n",
              "       'related_talks', 'url', 'description', 'transcript'],\n",
              "      dtype='object')"
            ]
          },
          "metadata": {},
          "execution_count": 9
        }
      ],
      "source": [
        "ted_talk_df.columns"
      ]
    },
    {
      "cell_type": "markdown",
      "metadata": {
        "id": "tsf4VakRe6BG"
      },
      "source": [
        "### **4. Cleaning the Data**\n",
        "\n",
        "In this step, we treat null, missing, \"?\" or duplicate values.\n",
        "\n",
        "When there is any string containing a Python literal in any of the important feature, we also evaluate them.\n",
        "\n",
        "We do encoding of categorical features to make it usuable in the model.\n",
        "\n",
        "We also create new feature when found important during the analysis.\n",
        "\n",
        "Thus, we get a clean experience set with important features. \n",
        "\n",
        "We check the statistics further on clean data."
      ]
    },
    {
      "cell_type": "code",
      "execution_count": 10,
      "metadata": {
        "id": "kTtsPdL3e5Gx"
      },
      "outputs": [],
      "source": [
        "# Finding out the relavant features from the deeper understanding of the data\n",
        "relavant_features=['occupations', 'views', 'published_date',\n",
        "                   'native_lang', 'comments', 'duration', 'topics','speaker_1']"
      ]
    },
    {
      "cell_type": "code",
      "execution_count": 11,
      "metadata": {
        "id": "gTfcJbmyhbSe"
      },
      "outputs": [],
      "source": [
        "# Creating new df with relavant features\n",
        "ted_talk_df_clean=ted_talk_df[relavant_features]"
      ]
    },
    {
      "cell_type": "code",
      "execution_count": 12,
      "metadata": {
        "colab": {
          "base_uri": "https://localhost:8080/"
        },
        "id": "8b8Nhv6THX6e",
        "outputId": "610b3580-1f2a-4724-9794-74efee3d9e51"
      },
      "outputs": [
        {
          "output_type": "execute_result",
          "data": {
            "text/plain": [
              "0"
            ]
          },
          "metadata": {},
          "execution_count": 12
        }
      ],
      "source": [
        "# Checking is there any duplicate value\n",
        "len(ted_talk_df_clean[ted_talk_df_clean.duplicated()]) "
      ]
    },
    {
      "cell_type": "code",
      "execution_count": 13,
      "metadata": {
        "colab": {
          "base_uri": "https://localhost:8080/"
        },
        "id": "Co6yd8ivJ5s7",
        "outputId": "8ad4e011-2589-4b34-8e86-482c7f553db6"
      },
      "outputs": [
        {
          "output_type": "stream",
          "name": "stdout",
          "text": [
            "occupations       522\n",
            "views               0\n",
            "published_date      0\n",
            "native_lang         0\n",
            "comments          655\n",
            "duration            0\n",
            "topics              0\n",
            "speaker_1           0\n",
            "dtype: int64\n"
          ]
        }
      ],
      "source": [
        "# checking the no. of null values in each column\n",
        "print(ted_talk_df_clean.isnull().sum())"
      ]
    },
    {
      "cell_type": "code",
      "execution_count": 14,
      "metadata": {
        "id": "Jy47aJ64qLC3"
      },
      "outputs": [],
      "source": [
        "# Imputation of 'comments' with median may mislead the model\n",
        "# Imputation of 'occupations' with mode may mislead the model\n",
        "# Thus dropping the rows with null values\n",
        "ted_talk_df_clean = ted_talk_df_clean.dropna(axis=0)"
      ]
    },
    {
      "cell_type": "code",
      "execution_count": 15,
      "metadata": {
        "colab": {
          "base_uri": "https://localhost:8080/"
        },
        "id": "gwPcjidVScGd",
        "outputId": "322eeb99-5a21-483b-d1ae-cc6415704e6b"
      },
      "outputs": [
        {
          "output_type": "stream",
          "name": "stdout",
          "text": [
            "occupations       0\n",
            "views             0\n",
            "published_date    0\n",
            "native_lang       0\n",
            "comments          0\n",
            "duration          0\n",
            "topics            0\n",
            "speaker_1         0\n",
            "dtype: int64\n"
          ]
        }
      ],
      "source": [
        "print(ted_talk_df_clean.isnull().sum())"
      ]
    },
    {
      "cell_type": "code",
      "execution_count": 16,
      "metadata": {
        "colab": {
          "base_uri": "https://localhost:8080/"
        },
        "id": "U8X9EMVaqvn9",
        "outputId": "fb09a80a-a998-4162-e2ad-7ce4358d0652"
      },
      "outputs": [
        {
          "output_type": "execute_result",
          "data": {
            "text/plain": [
              "(3344, 8)"
            ]
          },
          "metadata": {},
          "execution_count": 16
        }
      ],
      "source": [
        "ted_talk_df_clean.shape"
      ]
    },
    {
      "cell_type": "code",
      "execution_count": 17,
      "metadata": {
        "colab": {
          "base_uri": "https://localhost:8080/"
        },
        "id": "amtmyYmxG8gx",
        "outputId": "3ef08195-8b84-445e-c71f-657a496e6c6e"
      },
      "outputs": [
        {
          "output_type": "execute_result",
          "data": {
            "text/plain": [
              "Index(['views', 'comments', 'duration'], dtype='object')"
            ]
          },
          "metadata": {},
          "execution_count": 17
        }
      ],
      "source": [
        "# numerical_features\n",
        "ted_talk_df_clean.describe().columns"
      ]
    },
    {
      "cell_type": "code",
      "execution_count": 18,
      "metadata": {
        "colab": {
          "base_uri": "https://localhost:8080/"
        },
        "id": "a_bcUY1rGdI2",
        "outputId": "ab225880-defc-48d2-a6f0-fdefda1aa92a"
      },
      "outputs": [
        {
          "output_type": "execute_result",
          "data": {
            "text/plain": [
              "Index(['occupations', 'published_date', 'native_lang', 'topics', 'speaker_1'], dtype='object')"
            ]
          },
          "metadata": {},
          "execution_count": 18
        }
      ],
      "source": [
        "# categorical_features\n",
        "ted_talk_df_clean.describe(include=['object','category']).columns"
      ]
    },
    {
      "cell_type": "code",
      "execution_count": 19,
      "metadata": {
        "colab": {
          "base_uri": "https://localhost:8080/"
        },
        "id": "cXClVhGOpGzo",
        "outputId": "034a9152-579e-4630-e83f-cfd26a87dc71"
      },
      "outputs": [
        {
          "output_type": "stream",
          "name": "stdout",
          "text": [
            "{0: ['climate advocate']}\n",
            "2006-06-27\n",
            "en\n",
            "['alternative energy', 'cars', 'climate change', 'culture', 'environment', 'global issues', 'science', 'sustainability', 'technology']\n"
          ]
        }
      ],
      "source": [
        "print(ted_talk_df_clean.occupations.values[0])\n",
        "print(ted_talk_df_clean.published_date.values[0])\n",
        "print(ted_talk_df_clean.native_lang.values[0])\n",
        "print(ted_talk_df_clean.topics.values[0])"
      ]
    },
    {
      "cell_type": "code",
      "execution_count": 20,
      "metadata": {
        "colab": {
          "base_uri": "https://localhost:8080/"
        },
        "id": "6q0VL4Z_tqf1",
        "outputId": "72f71670-b038-403e-ee9a-a2da639a2723"
      },
      "outputs": [
        {
          "output_type": "stream",
          "name": "stdout",
          "text": [
            "<class 'str'>\n",
            "<class 'str'>\n",
            "<class 'str'>\n",
            "<class 'str'>\n"
          ]
        }
      ],
      "source": [
        "print(type(ted_talk_df_clean.occupations.values[0]))\n",
        "print(type(ted_talk_df_clean.published_date.values[0]))\n",
        "print(type(ted_talk_df_clean.native_lang.values[0]))\n",
        "print(type(ted_talk_df_clean.topics.values[0]))"
      ]
    },
    {
      "cell_type": "code",
      "execution_count": 21,
      "metadata": {
        "id": "rA0g7V6lojLP"
      },
      "outputs": [],
      "source": [
        "# There are python literals as string in the categorical columns which need to be treated\n",
        "for col in ['occupations', 'topics']:\n",
        "  ted_talk_df_clean[col]=[ast.literal_eval(i) for i in ted_talk_df_clean[col]]"
      ]
    },
    {
      "cell_type": "code",
      "execution_count": 22,
      "metadata": {
        "colab": {
          "base_uri": "https://localhost:8080/"
        },
        "id": "EKEnXh2ItLst",
        "outputId": "e50da71c-1f3e-4b57-a86b-952a9bd16a0c"
      },
      "outputs": [
        {
          "output_type": "stream",
          "name": "stdout",
          "text": [
            "<class 'dict'>\n",
            "<class 'str'>\n",
            "<class 'str'>\n",
            "<class 'list'>\n"
          ]
        }
      ],
      "source": [
        "print(type(ted_talk_df_clean.occupations.values[0]))\n",
        "print(type(ted_talk_df_clean.published_date.values[0]))\n",
        "print(type(ted_talk_df_clean.native_lang.values[0]))\n",
        "print(type(ted_talk_df_clean.topics.values[0]))"
      ]
    },
    {
      "cell_type": "code",
      "execution_count": 23,
      "metadata": {
        "id": "E0gu-b0PuhC-"
      },
      "outputs": [],
      "source": [
        "# extracting the list from the dict of occupations\n",
        "ted_talk_df_clean['occupations']=[i.get(0) for i in ted_talk_df_clean['occupations']]"
      ]
    },
    {
      "cell_type": "code",
      "execution_count": 24,
      "metadata": {
        "colab": {
          "base_uri": "https://localhost:8080/"
        },
        "id": "vpyUEOg8vZWI",
        "outputId": "9d3329f0-68cc-4b6b-d66d-6a29af6c23f8"
      },
      "outputs": [
        {
          "output_type": "stream",
          "name": "stdout",
          "text": [
            "<class 'list'>\n"
          ]
        }
      ],
      "source": [
        "print(type(ted_talk_df_clean.occupations.values[0]))"
      ]
    },
    {
      "cell_type": "code",
      "execution_count": 25,
      "metadata": {
        "id": "xPplvoEpumBA"
      },
      "outputs": [],
      "source": [
        "# Datetime is appearing as string and we are converting to datetime\n",
        "ted_talk_df_clean['published_date']=ted_talk_df_clean['published_date'].apply(lambda x : datetime.strptime(x,'%Y-%m-%d'))"
      ]
    },
    {
      "cell_type": "code",
      "execution_count": 26,
      "metadata": {
        "id": "yHoQhRFDk9_N"
      },
      "outputs": [],
      "source": [
        "# Feature engineering on published date to to extract years run\n",
        "ted_talk_df_clean['published_year']=ted_talk_df_clean['published_date'].apply(lambda x : x.year)\n",
        "ted_talk_df_clean['base_year']=2021\n",
        "ted_talk_df_clean['years_run']=(ted_talk_df_clean['base_year']-ted_talk_df_clean['published_year'])"
      ]
    },
    {
      "cell_type": "code",
      "execution_count": 27,
      "metadata": {
        "id": "6ajH81Pwlb2I"
      },
      "outputs": [],
      "source": [
        "ted_talk_df_clean.drop(['published_date','base_year','published_year'], axis = 1, inplace=True)"
      ]
    },
    {
      "cell_type": "code",
      "execution_count": 28,
      "metadata": {
        "colab": {
          "base_uri": "https://localhost:8080/",
          "height": 350
        },
        "id": "zsxLOoy83gYA",
        "outputId": "c69a934d-859d-48c6-ff8b-feba79c52a80"
      },
      "outputs": [
        {
          "output_type": "execute_result",
          "data": {
            "text/html": [
              "\n",
              "  <div id=\"df-e98e3445-49a3-45a5-b60c-1c6c45090849\">\n",
              "    <div class=\"colab-df-container\">\n",
              "      <div>\n",
              "<style scoped>\n",
              "    .dataframe tbody tr th:only-of-type {\n",
              "        vertical-align: middle;\n",
              "    }\n",
              "\n",
              "    .dataframe tbody tr th {\n",
              "        vertical-align: top;\n",
              "    }\n",
              "\n",
              "    .dataframe thead th {\n",
              "        text-align: right;\n",
              "    }\n",
              "</style>\n",
              "<table border=\"1\" class=\"dataframe\">\n",
              "  <thead>\n",
              "    <tr style=\"text-align: right;\">\n",
              "      <th></th>\n",
              "      <th>occupations</th>\n",
              "      <th>views</th>\n",
              "      <th>native_lang</th>\n",
              "      <th>comments</th>\n",
              "      <th>duration</th>\n",
              "      <th>topics</th>\n",
              "      <th>speaker_1</th>\n",
              "      <th>years_run</th>\n",
              "    </tr>\n",
              "  </thead>\n",
              "  <tbody>\n",
              "    <tr>\n",
              "      <th>0</th>\n",
              "      <td>[climate advocate]</td>\n",
              "      <td>3523392</td>\n",
              "      <td>en</td>\n",
              "      <td>272.0</td>\n",
              "      <td>977</td>\n",
              "      <td>[alternative energy, cars, climate change, cul...</td>\n",
              "      <td>Al Gore</td>\n",
              "      <td>15</td>\n",
              "    </tr>\n",
              "    <tr>\n",
              "      <th>1</th>\n",
              "      <td>[global health expert; data visionary]</td>\n",
              "      <td>14501685</td>\n",
              "      <td>en</td>\n",
              "      <td>628.0</td>\n",
              "      <td>1190</td>\n",
              "      <td>[Africa, Asia, Google, demo, economics, global...</td>\n",
              "      <td>Hans Rosling</td>\n",
              "      <td>15</td>\n",
              "    </tr>\n",
              "  </tbody>\n",
              "</table>\n",
              "</div>\n",
              "      <button class=\"colab-df-convert\" onclick=\"convertToInteractive('df-e98e3445-49a3-45a5-b60c-1c6c45090849')\"\n",
              "              title=\"Convert this dataframe to an interactive table.\"\n",
              "              style=\"display:none;\">\n",
              "        \n",
              "  <svg xmlns=\"http://www.w3.org/2000/svg\" height=\"24px\"viewBox=\"0 0 24 24\"\n",
              "       width=\"24px\">\n",
              "    <path d=\"M0 0h24v24H0V0z\" fill=\"none\"/>\n",
              "    <path d=\"M18.56 5.44l.94 2.06.94-2.06 2.06-.94-2.06-.94-.94-2.06-.94 2.06-2.06.94zm-11 1L8.5 8.5l.94-2.06 2.06-.94-2.06-.94L8.5 2.5l-.94 2.06-2.06.94zm10 10l.94 2.06.94-2.06 2.06-.94-2.06-.94-.94-2.06-.94 2.06-2.06.94z\"/><path d=\"M17.41 7.96l-1.37-1.37c-.4-.4-.92-.59-1.43-.59-.52 0-1.04.2-1.43.59L10.3 9.45l-7.72 7.72c-.78.78-.78 2.05 0 2.83L4 21.41c.39.39.9.59 1.41.59.51 0 1.02-.2 1.41-.59l7.78-7.78 2.81-2.81c.8-.78.8-2.07 0-2.86zM5.41 20L4 18.59l7.72-7.72 1.47 1.35L5.41 20z\"/>\n",
              "  </svg>\n",
              "      </button>\n",
              "      \n",
              "  <style>\n",
              "    .colab-df-container {\n",
              "      display:flex;\n",
              "      flex-wrap:wrap;\n",
              "      gap: 12px;\n",
              "    }\n",
              "\n",
              "    .colab-df-convert {\n",
              "      background-color: #E8F0FE;\n",
              "      border: none;\n",
              "      border-radius: 50%;\n",
              "      cursor: pointer;\n",
              "      display: none;\n",
              "      fill: #1967D2;\n",
              "      height: 32px;\n",
              "      padding: 0 0 0 0;\n",
              "      width: 32px;\n",
              "    }\n",
              "\n",
              "    .colab-df-convert:hover {\n",
              "      background-color: #E2EBFA;\n",
              "      box-shadow: 0px 1px 2px rgba(60, 64, 67, 0.3), 0px 1px 3px 1px rgba(60, 64, 67, 0.15);\n",
              "      fill: #174EA6;\n",
              "    }\n",
              "\n",
              "    [theme=dark] .colab-df-convert {\n",
              "      background-color: #3B4455;\n",
              "      fill: #D2E3FC;\n",
              "    }\n",
              "\n",
              "    [theme=dark] .colab-df-convert:hover {\n",
              "      background-color: #434B5C;\n",
              "      box-shadow: 0px 1px 3px 1px rgba(0, 0, 0, 0.15);\n",
              "      filter: drop-shadow(0px 1px 2px rgba(0, 0, 0, 0.3));\n",
              "      fill: #FFFFFF;\n",
              "    }\n",
              "  </style>\n",
              "\n",
              "      <script>\n",
              "        const buttonEl =\n",
              "          document.querySelector('#df-e98e3445-49a3-45a5-b60c-1c6c45090849 button.colab-df-convert');\n",
              "        buttonEl.style.display =\n",
              "          google.colab.kernel.accessAllowed ? 'block' : 'none';\n",
              "\n",
              "        async function convertToInteractive(key) {\n",
              "          const element = document.querySelector('#df-e98e3445-49a3-45a5-b60c-1c6c45090849');\n",
              "          const dataTable =\n",
              "            await google.colab.kernel.invokeFunction('convertToInteractive',\n",
              "                                                     [key], {});\n",
              "          if (!dataTable) return;\n",
              "\n",
              "          const docLinkHtml = 'Like what you see? Visit the ' +\n",
              "            '<a target=\"_blank\" href=https://colab.research.google.com/notebooks/data_table.ipynb>data table notebook</a>'\n",
              "            + ' to learn more about interactive tables.';\n",
              "          element.innerHTML = '';\n",
              "          dataTable['output_type'] = 'display_data';\n",
              "          await google.colab.output.renderOutput(dataTable, element);\n",
              "          const docLink = document.createElement('div');\n",
              "          docLink.innerHTML = docLinkHtml;\n",
              "          element.appendChild(docLink);\n",
              "        }\n",
              "      </script>\n",
              "    </div>\n",
              "  </div>\n",
              "  "
            ],
            "text/plain": [
              "                              occupations     views  ...     speaker_1  years_run\n",
              "0                      [climate advocate]   3523392  ...       Al Gore         15\n",
              "1  [global health expert; data visionary]  14501685  ...  Hans Rosling         15\n",
              "\n",
              "[2 rows x 8 columns]"
            ]
          },
          "metadata": {},
          "execution_count": 28
        }
      ],
      "source": [
        "ted_talk_df_clean.head(2)"
      ]
    },
    {
      "cell_type": "code",
      "execution_count": 29,
      "metadata": {
        "colab": {
          "base_uri": "https://localhost:8080/"
        },
        "id": "wwB2AImZJ5gi",
        "outputId": "a2e740a2-518f-4c67-d8dc-e23dae27c97a"
      },
      "outputs": [
        {
          "output_type": "stream",
          "name": "stdout",
          "text": [
            "\u001b[1mValue counts for occupations:\u001b[0m\n",
            "[writer]                             54\n",
            "[journalist]                         44\n",
            "[entrepreneur]                       43\n",
            "[artist]                             41\n",
            "[designer]                           37\n",
            "                                     ..\n",
            "[sci-fi author]                       1\n",
            "[former prime minister of greece]     1\n",
            "[graphic artist, director]            1\n",
            "[dolphin researcher]                  1\n",
            "[law researcher]                      1\n",
            "Name: occupations, Length: 1929, dtype: int64\n",
            "\u001b[1mValue counts for native_lang:\u001b[0m\n",
            "en       3312\n",
            "es         15\n",
            "fr          7\n",
            "hi          2\n",
            "de          1\n",
            "pt          1\n",
            "ko          1\n",
            "zh-cn       1\n",
            "ar          1\n",
            "pt-br       1\n",
            "ja          1\n",
            "it          1\n",
            "Name: native_lang, dtype: int64\n",
            "\u001b[1mValue counts for topics:\u001b[0m\n",
            "[charter for compassion, compassion, global issues, religion]                                                                                                                              2\n",
            "[art, creativity]                                                                                                                                                                          2\n",
            "[creativity, entertainment, live music, music, performance]                                                                                                                                2\n",
            "[culture, love, relationships, sex]                                                                                                                                                        2\n",
            "[cities, culture, design, transportation]                                                                                                                                                  2\n",
            "                                                                                                                                                                                          ..\n",
            "[TED-Ed, education, mind, science, philosophy, space, Planets, consciousness, math, physics, extraterrestrial life, curiosity, cosmos, universe, String theory, dark matter, nanoscale]    1\n",
            "[TED-Ed, biology, deextinction, exploration, science, oceans, submarine, environment, ecology, marine biology]                                                                             1\n",
            "[TED-Ed, creativity, education, science, simplicity, technology, exploration, Nobel Prize, ancient world, curiosity, innovation, space, physics, Planets, history, math]                   1\n",
            "[culture, evolution, religion, evolutionary psychology]                                                                                                                                    1\n",
            "[society, law, policy, justice system, TEDx]                                                                                                                                               1\n",
            "Name: topics, Length: 3335, dtype: int64\n",
            "\u001b[1mValue counts for speaker_1:\u001b[0m\n",
            "Hans Rosling            10\n",
            "Juan Enriquez            9\n",
            "Greg Gage                9\n",
            "Marco Tempest            7\n",
            "Dan Ariely               7\n",
            "                        ..\n",
            "Lemn Sissay              1\n",
            "Doris Kim Sung           1\n",
            "Sanjay Pradhan           1\n",
            "Emma Teeling             1\n",
            "Dick M. Carpenter II     1\n",
            "Name: speaker_1, Length: 2828, dtype: int64\n"
          ]
        }
      ],
      "source": [
        "# Checking value counts in categorical features\n",
        "for column_name in ted_talk_df_clean.describe(include=['object','category']).columns:\n",
        "  print(colored(f\"Value counts for {column_name}:\", attrs=['bold']))\n",
        "  print(ted_talk_df_clean[column_name].value_counts())"
      ]
    },
    {
      "cell_type": "code",
      "execution_count": 30,
      "metadata": {
        "id": "hCpEGf8X0cav"
      },
      "outputs": [],
      "source": [
        "# Apart from english(en), there are very few experiences (only 1-15) as compared to 'en' with count 3312. \n",
        "# So, we are removing the exceptions in 'native_lang' category and creating a conditional df only for 'en'\n",
        "ted_talk_df_clean=ted_talk_df_clean.loc[(ted_talk_df_clean['native_lang']=='en')].reset_index()\n",
        "ted_talk_df_clean.drop('index', axis = 1, inplace=True)\n"
      ]
    },
    {
      "cell_type": "markdown",
      "metadata": {
        "id": "hT9uf8qxuWxj"
      },
      "source": [
        "**Now english has become the main feature of our dataset. Thus our model will predict the ted talk views only for english language**"
      ]
    },
    {
      "cell_type": "code",
      "execution_count": 31,
      "metadata": {
        "id": "_u5aDAlFuV28"
      },
      "outputs": [],
      "source": [
        "# Thus we are dropping the 'native_lang' column\n",
        "ted_talk_df_clean.drop('native_lang', axis = 1, inplace=True)"
      ]
    },
    {
      "cell_type": "code",
      "execution_count": 32,
      "metadata": {
        "colab": {
          "base_uri": "https://localhost:8080/"
        },
        "id": "OplymWQbu-r-",
        "outputId": "cfa5c866-3319-45e3-940f-81c82abfd50a"
      },
      "outputs": [
        {
          "output_type": "execute_result",
          "data": {
            "text/plain": [
              "(3312, 7)"
            ]
          },
          "metadata": {},
          "execution_count": 32
        }
      ],
      "source": [
        "ted_talk_df_clean.shape"
      ]
    },
    {
      "cell_type": "code",
      "execution_count": 33,
      "metadata": {
        "colab": {
          "base_uri": "https://localhost:8080/",
          "height": 226
        },
        "id": "KWjMGRdd43ow",
        "outputId": "25cf78a7-ac03-4be6-ec87-69721d206661"
      },
      "outputs": [
        {
          "output_type": "execute_result",
          "data": {
            "text/html": [
              "\n",
              "  <div id=\"df-6e8c4330-d4f5-4326-8607-a2f8fd2bd985\">\n",
              "    <div class=\"colab-df-container\">\n",
              "      <div>\n",
              "<style scoped>\n",
              "    .dataframe tbody tr th:only-of-type {\n",
              "        vertical-align: middle;\n",
              "    }\n",
              "\n",
              "    .dataframe tbody tr th {\n",
              "        vertical-align: top;\n",
              "    }\n",
              "\n",
              "    .dataframe thead th {\n",
              "        text-align: right;\n",
              "    }\n",
              "</style>\n",
              "<table border=\"1\" class=\"dataframe\">\n",
              "  <thead>\n",
              "    <tr style=\"text-align: right;\">\n",
              "      <th></th>\n",
              "      <th>occupations</th>\n",
              "      <th>views</th>\n",
              "      <th>comments</th>\n",
              "      <th>duration</th>\n",
              "      <th>topics</th>\n",
              "      <th>speaker_1</th>\n",
              "      <th>years_run</th>\n",
              "    </tr>\n",
              "  </thead>\n",
              "  <tbody>\n",
              "    <tr>\n",
              "      <th>0</th>\n",
              "      <td>[climate advocate]</td>\n",
              "      <td>3523392</td>\n",
              "      <td>272.0</td>\n",
              "      <td>977</td>\n",
              "      <td>[alternative energy, cars, climate change, cul...</td>\n",
              "      <td>Al Gore</td>\n",
              "      <td>15</td>\n",
              "    </tr>\n",
              "    <tr>\n",
              "      <th>1</th>\n",
              "      <td>[global health expert; data visionary]</td>\n",
              "      <td>14501685</td>\n",
              "      <td>628.0</td>\n",
              "      <td>1190</td>\n",
              "      <td>[Africa, Asia, Google, demo, economics, global...</td>\n",
              "      <td>Hans Rosling</td>\n",
              "      <td>15</td>\n",
              "    </tr>\n",
              "  </tbody>\n",
              "</table>\n",
              "</div>\n",
              "      <button class=\"colab-df-convert\" onclick=\"convertToInteractive('df-6e8c4330-d4f5-4326-8607-a2f8fd2bd985')\"\n",
              "              title=\"Convert this dataframe to an interactive table.\"\n",
              "              style=\"display:none;\">\n",
              "        \n",
              "  <svg xmlns=\"http://www.w3.org/2000/svg\" height=\"24px\"viewBox=\"0 0 24 24\"\n",
              "       width=\"24px\">\n",
              "    <path d=\"M0 0h24v24H0V0z\" fill=\"none\"/>\n",
              "    <path d=\"M18.56 5.44l.94 2.06.94-2.06 2.06-.94-2.06-.94-.94-2.06-.94 2.06-2.06.94zm-11 1L8.5 8.5l.94-2.06 2.06-.94-2.06-.94L8.5 2.5l-.94 2.06-2.06.94zm10 10l.94 2.06.94-2.06 2.06-.94-2.06-.94-.94-2.06-.94 2.06-2.06.94z\"/><path d=\"M17.41 7.96l-1.37-1.37c-.4-.4-.92-.59-1.43-.59-.52 0-1.04.2-1.43.59L10.3 9.45l-7.72 7.72c-.78.78-.78 2.05 0 2.83L4 21.41c.39.39.9.59 1.41.59.51 0 1.02-.2 1.41-.59l7.78-7.78 2.81-2.81c.8-.78.8-2.07 0-2.86zM5.41 20L4 18.59l7.72-7.72 1.47 1.35L5.41 20z\"/>\n",
              "  </svg>\n",
              "      </button>\n",
              "      \n",
              "  <style>\n",
              "    .colab-df-container {\n",
              "      display:flex;\n",
              "      flex-wrap:wrap;\n",
              "      gap: 12px;\n",
              "    }\n",
              "\n",
              "    .colab-df-convert {\n",
              "      background-color: #E8F0FE;\n",
              "      border: none;\n",
              "      border-radius: 50%;\n",
              "      cursor: pointer;\n",
              "      display: none;\n",
              "      fill: #1967D2;\n",
              "      height: 32px;\n",
              "      padding: 0 0 0 0;\n",
              "      width: 32px;\n",
              "    }\n",
              "\n",
              "    .colab-df-convert:hover {\n",
              "      background-color: #E2EBFA;\n",
              "      box-shadow: 0px 1px 2px rgba(60, 64, 67, 0.3), 0px 1px 3px 1px rgba(60, 64, 67, 0.15);\n",
              "      fill: #174EA6;\n",
              "    }\n",
              "\n",
              "    [theme=dark] .colab-df-convert {\n",
              "      background-color: #3B4455;\n",
              "      fill: #D2E3FC;\n",
              "    }\n",
              "\n",
              "    [theme=dark] .colab-df-convert:hover {\n",
              "      background-color: #434B5C;\n",
              "      box-shadow: 0px 1px 3px 1px rgba(0, 0, 0, 0.15);\n",
              "      filter: drop-shadow(0px 1px 2px rgba(0, 0, 0, 0.3));\n",
              "      fill: #FFFFFF;\n",
              "    }\n",
              "  </style>\n",
              "\n",
              "      <script>\n",
              "        const buttonEl =\n",
              "          document.querySelector('#df-6e8c4330-d4f5-4326-8607-a2f8fd2bd985 button.colab-df-convert');\n",
              "        buttonEl.style.display =\n",
              "          google.colab.kernel.accessAllowed ? 'block' : 'none';\n",
              "\n",
              "        async function convertToInteractive(key) {\n",
              "          const element = document.querySelector('#df-6e8c4330-d4f5-4326-8607-a2f8fd2bd985');\n",
              "          const dataTable =\n",
              "            await google.colab.kernel.invokeFunction('convertToInteractive',\n",
              "                                                     [key], {});\n",
              "          if (!dataTable) return;\n",
              "\n",
              "          const docLinkHtml = 'Like what you see? Visit the ' +\n",
              "            '<a target=\"_blank\" href=https://colab.research.google.com/notebooks/data_table.ipynb>data table notebook</a>'\n",
              "            + ' to learn more about interactive tables.';\n",
              "          element.innerHTML = '';\n",
              "          dataTable['output_type'] = 'display_data';\n",
              "          await google.colab.output.renderOutput(dataTable, element);\n",
              "          const docLink = document.createElement('div');\n",
              "          docLink.innerHTML = docLinkHtml;\n",
              "          element.appendChild(docLink);\n",
              "        }\n",
              "      </script>\n",
              "    </div>\n",
              "  </div>\n",
              "  "
            ],
            "text/plain": [
              "                              occupations     views  ...     speaker_1  years_run\n",
              "0                      [climate advocate]   3523392  ...       Al Gore         15\n",
              "1  [global health expert; data visionary]  14501685  ...  Hans Rosling         15\n",
              "\n",
              "[2 rows x 7 columns]"
            ]
          },
          "metadata": {},
          "execution_count": 33
        }
      ],
      "source": [
        "ted_talk_df_clean.head(2)"
      ]
    },
    {
      "cell_type": "code",
      "source": [
        "# There are mixture of words in topics and occupations column.\n",
        "# Lets find out the main topics\n",
        "main_topics=[]\n",
        "for k in range(len(ted_talk_df_clean.topics)):\n",
        "  common_terms=list(set([i[:5] for i in ted_talk_df_clean.occupations[k]]).intersection(set([i[:5] for i in ted_talk_df_clean.topics[k]])))\n",
        "  \n",
        "  if len(common_terms)!=0:\n",
        "    for i in range(len(common_terms)):\n",
        "      pattern = re.compile(\"%s\" % common_terms[i])\n",
        "      topics=[x for x in ted_talk_df_clean.topics[k] if pattern.match(x)][0]\n",
        "  else:\n",
        "    topics='life experience' # Here we are presenting unknown topic as 'life experience'\n",
        "\n",
        "  main_topics.append(topics)"
      ],
      "metadata": {
        "id": "bG5O5OBf15Tn"
      },
      "execution_count": 34,
      "outputs": []
    },
    {
      "cell_type": "code",
      "execution_count": 35,
      "metadata": {
        "colab": {
          "base_uri": "https://localhost:8080/"
        },
        "id": "PC0rcOhNVqZ1",
        "outputId": "83cdeeef-067b-4e8e-8777-cc61e12c22ac"
      },
      "outputs": [
        {
          "output_type": "stream",
          "name": "stdout",
          "text": [
            "['climate change', 'global issues', 'technology', 'activism', 'education', 'architecture', 'comedy', 'philosophy', 'life experience', 'life experience', 'life experience', 'architecture', 'life experience', 'life experience', 'life experience', 'violin', 'invention', 'industrial design', 'life experience', 'life experience', 'life experience', 'life experience', 'life experience', 'life experience', 'evolution', 'physics', 'life experience', 'economics', 'psychology', 'psychology', 'life experience', 'life experience', 'investment', 'life experience', 'life experience', 'life experience', 'aircraft', 'life experience', 'photography', 'life experience', 'activism', 'life experience', 'life experience', 'life experience', 'future', 'activism', 'performance', 'life experience', 'success', 'life experience', 'life experience', 'anthropology', 'photography', 'astronomy', 'life experience', 'innovation', 'life experience', 'life experience', 'invention', 'life experience', 'life experience', 'photography', 'biology', 'life experience', 'invention', 'biomechanics', 'life experience', 'life experience', 'life experience', 'design', 'philosophy', 'graphic design', 'life experience', 'science', 'nature', 'singer', 'life experience', 'life experience', 'life experience', 'genetics', 'life experience', 'marketing', 'architecture', 'primates', 'life experience', 'life experience', 'life experience', 'music', 'architecture', 'performance', 'life experience', 'life experience', 'life experience', 'life experience', 'life experience', 'music', 'life experience', 'life experience', 'life experience', 'life experience', 'life experience', 'life experience', 'design', 'future', 'computers', 'marine biology', 'life experience', 'software', 'life experience', 'technology', 'life experience', 'architecture', 'military', 'life experience', 'global issues', 'exploration', 'philosophy', 'medicine', 'life experience', 'economics', 'life experience', 'life experience', 'medicine', 'marketing', 'economics', 'life experience', 'economics', 'investment', 'life experience', 'life experience', 'investment', 'activism', 'life experience', 'invention', 'life experience', 'life experience', 'life experience', 'psychology', 'life experience', 'life experience', 'paleontology', 'life experience', 'technology', 'life experience', 'life experience', 'dance', 'entrepreneur', 'robots', 'life experience', 'life experience', 'brain', 'economics', 'life experience', 'photography', 'life experience', 'life experience', 'life experience', 'life experience', 'life experience', 'life experience', 'life experience', 'design', 'physics', 'energy', 'life experience', 'psychology', 'life experience', 'life experience', 'life experience', 'life experience', 'life experience', 'life experience', 'oceans', 'life experience', 'architecture', 'guitar', 'life experience', 'life experience', 'technology', 'life experience', 'life experience', 'transportation', 'life experience', 'life experience', 'life experience', 'life experience', 'life experience', 'history', 'architecture', 'singer', 'life experience', 'life experience', 'life experience', 'life experience', 'life experience', 'genetics', 'life experience', 'life experience', 'architecture', 'education', 'religion', 'education', 'architecture', 'brain', 'education', 'life experience', 'life experience', 'design', 'life experience', 'climate change', 'life experience', 'life experience', 'life experience', 'life experience', 'life experience', 'physics', 'life experience', 'physics', 'life experience', 'life experience', 'evolution', 'life experience', 'life experience', 'life experience', 'life experience', 'oceans', 'design', 'life experience', 'life experience', 'economics', 'life experience', 'life experience', 'anthropology', 'physics', 'life experience', 'history', 'life experience', 'life experience', 'life experience', 'economics', 'conducting', 'life experience', 'singer', 'space', 'photography', 'guitar', 'life experience', 'animals', 'life experience', 'social change', 'life experience', 'physics', 'life experience', 'life experience', 'life experience', 'magic', 'psychology', 'life experience', 'life experience', 'paleontology', 'storytelling', 'architecture', 'life experience', 'origami', 'life experience', 'life experience', 'life experience', 'life experience', 'life experience', 'life experience', 'animals', 'life experience', 'music', 'education', 'life experience', 'life experience', 'life experience', 'space', 'life experience', 'education', 'primates', 'life experience', 'life experience', 'oceans', 'storytelling', 'life experience', 'life experience', 'life experience', 'activism', 'life experience', 'life experience', 'psychology', 'life experience', 'life experience', 'psychology', 'robots', 'life experience', 'life experience', 'design', 'photography', 'life experience', 'history', 'life experience', 'life experience', 'physics', 'life experience', 'life experience', 'life experience', 'life experience', 'life experience', 'life experience', 'photography', 'life experience', 'life experience', 'invention', 'life experience', 'life experience', 'life experience', 'life experience', 'life experience', 'life experience', 'life experience', 'invention', 'life experience', 'life experience', 'design', 'life experience', 'physics', 'politics', 'life experience', 'comedy', 'future', 'fashion', 'life experience', 'astronomy', 'technology', 'life experience', 'life experience', 'life experience', 'life experience', 'entrepreneur', 'life experience', 'invention', 'life experience', 'design', 'life experience', 'entrepreneur', 'psychology', 'life experience', 'life experience', 'life experience', 'life experience', 'life experience', 'life experience', 'life experience', 'paleontology', 'invention', 'design', 'design', 'life experience', 'life experience', 'life experience', 'design', 'life experience', 'life experience', 'entrepreneur', 'life experience', 'invention', 'life experience', 'life experience', 'life experience', 'life experience', 'life experience', 'philanthropy', 'life experience', 'life experience', 'life experience', 'psychology', 'life experience', 'life experience', 'life experience', 'oceans', 'life experience', 'life experience', 'oceans', 'life experience', 'photography', 'life experience', 'design', 'life experience', 'life experience', 'life experience', 'life experience', 'life experience', 'life experience', 'psychology', 'invention', 'life experience', 'life experience', 'life experience', 'humor', 'life experience', 'life experience', 'life experience', 'technology', 'life experience', 'life experience', 'life experience', 'life experience', 'life experience', 'design', 'life experience', 'life experience', 'life experience', 'life experience', 'philosophy', 'life experience', 'green', 'life experience', 'life experience', 'life experience', 'life experience', 'life experience', 'design', 'life experience', 'statistics', 'technology', 'economics', 'life experience', 'life experience', 'life experience', 'physics', 'physics', 'life experience', 'life experience', 'climate change', 'life experience', 'marketing', 'global issues', 'technology', 'life experience', 'sustainability', 'life experience', 'life experience', 'life experience', 'design', 'life experience', 'life experience', 'life experience', 'life experience', 'guitar', 'life experience', 'future', 'photography', 'life experience', 'life experience', 'life experience', 'life experience', 'evolutionary psychology', 'biology', 'success', 'life experience', 'social change', 'life experience', 'life experience', 'psychology', 'life experience', 'life experience', 'life experience', 'life experience', 'life experience', 'architecture', 'life experience', 'design', 'life experience', 'life experience', 'future', 'life experience', 'life experience', 'neuroscience', 'anthropology', 'life experience', 'philosophy', 'life experience', 'life experience', 'life experience', 'invention', 'life experience', 'innovation', 'life experience', 'life experience', 'life experience', 'global development', 'life experience', 'biodiversity', 'life experience', 'social change', 'life experience', 'life experience', 'photography', 'life experience', 'life experience', 'life experience', 'architecture', 'life experience', 'neuroscience', 'music', 'life experience', 'life experience', 'invention', 'life experience', 'life experience', 'global issues', 'design', 'religion', 'astronomy', 'life experience', 'life experience', 'life experience', 'life experience', 'life experience', 'life experience', 'life experience', 'robots', 'advertising', 'neuroscience', 'life experience', 'marketing', 'computers', 'conducting', 'life experience', 'economics', 'physics', 'life experience', 'life experience', 'life experience', 'life experience', 'life experience', 'life experience', 'photography', 'culture', 'life experience', 'design', 'life experience', 'life experience', 'life experience', 'life experience', 'life experience', 'life experience', 'dance', 'politics', 'life experience', 'astronomy', 'environment', 'life experience', 'comedy', 'life experience', 'life experience', 'life experience', 'life experience', 'life experience', 'entrepreneur', 'photography', 'life experience', 'life experience', 'social change', 'physics', 'life experience', 'solar energy', 'brain', 'life experience', 'exploration', 'life experience', 'life experience', 'life experience', 'education', 'life experience', 'comedy', 'life experience', 'life experience', 'life experience', 'health', 'architecture', 'life experience', 'life experience', 'life experience', 'life experience', 'health', 'chemistry', 'cancer', 'life experience', 'life experience', 'life experience', 'life experience', 'politics', 'life experience', 'life experience', 'life experience', 'life experience', 'life experience', 'life experience', 'life experience', 'life experience', 'life experience', 'life experience', 'technology', 'life experience', 'dance', 'life experience', 'life experience', 'life experience', 'magic', 'life experience', 'life experience', 'life experience', 'adventure', 'life experience', 'philosophy', 'biology', 'simplicity', 'life experience', 'life experience', 'education', 'children', 'life experience', 'media', 'life experience', 'life experience', 'robots', 'life experience', 'life experience', 'life experience', 'life experience', 'life experience', 'life experience', 'life experience', 'life experience', 'invention', 'design', 'life experience', 'life experience', 'science', 'chemistry', 'oceans', 'life experience', 'life experience', 'leadership', 'marine biology', 'innovation', 'life experience', 'life experience', 'life experience', 'marine biology', 'education', 'comedy', 'cancer', 'life experience', 'life experience', 'life experience', 'genetics', 'education', 'media', 'life experience', 'life experience', 'life experience', 'interface design', 'photography', 'life experience', 'physics', 'life experience', 'politics', 'life experience', 'life experience', 'environment', 'music', 'life experience', 'life experience', 'life experience', 'entrepreneur', 'dance', 'life experience', 'design', 'innovation', 'neuroscience', 'entrepreneur', 'life experience', 'life experience', 'life experience', 'science', 'design', 'life experience', 'social change', 'life experience', 'global issues', 'life experience', 'life experience', 'life experience', 'novel', 'life experience', 'life experience', 'astronomy', 'life experience', 'life experience', 'psychology', 'oceans', 'life experience', 'life experience', 'life experience', 'life experience', 'life experience', 'life experience', 'comedy', 'entrepreneur', 'life experience', 'life experience', 'life experience', 'life experience', 'life experience', 'happiness', 'life experience', 'life experience', 'life experience', 'photography', 'education', 'life experience', 'life experience', 'life experience', 'oceans', 'life experience', 'life experience', 'life experience', 'music', 'life experience', 'life experience', 'life experience', 'activism', 'design', 'sound', 'life experience', 'life experience', 'life experience', 'life experience', 'green', 'economics', 'life experience', 'global development', 'life experience', 'plants', 'philanthropy', 'life experience', 'life experience', 'life experience', 'life experience', 'life experience', 'life experience', 'life experience', 'life experience', 'life experience', 'life experience', 'life experience', 'life experience', 'life experience', 'gaming', 'life experience', 'life experience', 'oceans', 'music', 'life experience', 'life experience', 'photography', 'life experience', 'life experience', 'life experience', 'life experience', 'education', 'education', 'life experience', 'life experience', 'life experience', 'life experience', 'life experience', 'life experience', 'life experience', 'life experience', 'life experience', 'life experience', 'life experience', 'life experience', 'life experience', 'life experience', 'education', 'life experience', 'trust', 'life experience', 'life experience', 'life experience', 'life experience', 'life experience', 'life experience', 'life experience', 'life experience', 'cancer', 'life experience', 'life experience', 'life experience', 'design', 'life experience', 'life experience', 'activism', 'life experience', 'life experience', 'science', 'robots', 'life experience', 'health', 'life experience', 'science', 'life experience', 'life experience', 'life experience', 'media', 'journalism', 'life experience', 'life experience', 'robots', 'life experience', 'architecture', 'life experience', 'life experience', 'language', 'investment', 'life experience', 'life experience', 'economics', 'life experience', 'life experience', 'life experience', 'life experience', 'life experience', 'life experience', 'life experience', 'life experience', 'life experience', 'life experience', 'education', 'life experience', 'nature', 'life experience', 'life experience', 'life experience', 'life experience', 'life experience', 'life experience', 'life experience', 'life experience', 'life experience', 'life experience', 'language', 'life experience', 'life experience', 'life experience', 'conducting', 'education', 'life experience', 'life experience', 'life experience', 'life experience', 'life experience', 'music', 'history', 'life experience', 'life experience', 'life experience', 'life experience', 'sociology', 'life experience', 'education', 'journalism', 'life experience', 'life experience', 'security', 'biology', 'software', 'life experience', 'life experience', 'life experience', 'life experience', 'design', 'cosmos', 'life experience', 'life experience', 'life experience', 'life experience', 'technology', 'physics', 'neuroscience', 'design', 'life experience', 'life experience', 'life experience', 'life experience', 'life experience', 'life experience', 'life experience', 'life experience', 'life experience', 'life experience', 'physics', 'design', 'philosophy', 'dinosaurs', 'life experience', 'life experience', 'life experience', 'communication', 'life experience', 'life experience', 'life experience', 'photography', 'life experience', 'life experience', 'life experience', 'life experience', 'life experience', 'life experience', 'life experience', 'computers', 'life experience', 'life experience', 'life experience', 'life experience', 'life experience', 'life experience', 'life experience', 'life experience', 'life experience', 'life experience', 'journalism', 'life experience', 'life experience', 'life experience', 'design', 'life experience', 'life experience', 'psychology', 'life experience', 'sound', 'life experience', 'life experience', 'evolution', 'life experience', 'activism', 'life experience', 'life experience', 'life experience', 'peace', 'life experience', 'life experience', 'life experience', 'life experience', 'life experience', 'life experience', 'life experience', 'history', 'life experience', 'life experience', 'politics', 'life experience', 'life experience', 'life experience', 'life experience', 'life experience', 'life experience', 'global issues', 'cancer', 'life experience', 'life experience', 'life experience', 'life experience', 'life experience', 'media', 'life experience', 'life experience', 'plastic', 'conducting', 'children', 'design', 'life experience', 'life experience', 'life experience', 'education', 'science', 'life experience', 'life experience', 'life experience', 'life experience', 'life experience', 'life experience', 'life experience', 'neuroscience', 'invention', 'life experience', 'life experience', 'journalism', 'chemistry', 'life experience', 'life experience', 'brain', 'comedy', 'life experience', 'life experience', 'medical research', 'life experience', 'life experience', 'genetics', 'comedy', 'life experience', 'activism', 'astronomy', 'robots', 'storytelling', 'life experience', 'life experience', 'philosophy', 'science', 'science', 'life experience', 'life experience', 'life experience', 'life experience', 'life experience', 'computers', 'life experience', 'medical research', 'life experience', 'engineering', 'engineering', 'photography', 'life experience', 'life experience', 'life experience', 'life experience', 'garden', 'life experience', 'neuroscience', 'neuroscience', 'behavioral economics', 'life experience', 'life experience', 'life experience', 'life experience', 'life experience', 'life experience', 'life experience', 'economics', 'science', 'life experience', 'life experience', 'nuclear energy', 'life experience', 'water', 'philosophy', 'life experience', 'life experience', 'life experience', 'life experience', 'life experience', 'philosophy', 'life experience', 'life experience', 'life experience', 'life experience', 'life experience', 'life experience', 'life experience', 'psychology', 'life experience', 'computers', 'life experience', 'technology', 'presentation', 'neuroscience', 'life experience', 'life experience', 'dinosaurs', 'photography', 'leadership', 'life experience', 'biology', 'life experience', 'health', 'life experience', 'life experience', 'photography', 'life experience', 'life experience', 'life experience', 'life experience', 'economics', 'life experience', 'computers', 'life experience', 'life experience', 'life experience', 'marine biology', 'life experience', 'life experience', 'robots', 'life experience', 'life experience', 'life experience', 'climate change', 'life experience', 'life experience', 'design', 'life experience', 'neuroscience', 'life experience', 'oceans', 'life experience', 'life experience', 'life experience', 'life experience', 'industrial design', 'architecture', 'life experience', 'physiology', 'nuclear energy', 'life experience', 'life experience', 'life experience', 'life experience', 'life experience', 'peace', 'life experience', 'life experience', 'life experience', 'marine biology', 'culture', 'life experience', 'technology', 'life experience', 'life experience', 'life experience', 'life experience', 'life experience', 'life experience', 'engineering', 'life experience', 'life experience', 'life experience', 'life experience', 'psychology', 'life experience', 'physics', 'life experience', 'life experience', 'life experience', 'health', 'life experience', 'life experience', 'life experience', 'energy', 'life experience', 'advertising', 'life experience', 'photography', 'music', 'life experience', 'nature', 'life experience', 'life experience', 'life experience', 'life experience', 'cognitive science', 'life experience', 'design', 'neuroscience', 'life experience', 'life experience', 'life experience', 'virus', 'global issues', 'life experience', 'life experience', 'comedy', 'life experience', 'robots', 'life experience', 'life experience', 'design', 'life experience', 'astronomy', 'life experience', 'future', 'biology', 'life experience', 'biology', 'life experience', 'life experience', 'journalism', 'health', 'life experience', 'life experience', 'life experience', 'skateboarding', 'life experience', 'death', 'health', 'life experience', 'computers', 'life experience', 'life experience', 'life experience', 'biology', 'life experience', 'life experience', 'life experience', 'mental health', 'quantum physics', 'life experience', 'life experience', 'life experience', 'life experience', 'life experience', 'biology', 'life experience', 'global issues', 'visualizations', 'life experience', 'life experience', 'cancer', 'life experience', 'life experience', 'life experience', 'computers', 'life experience', 'life experience', 'life experience', 'life experience', 'life experience', 'life experience', 'life experience', 'photography', 'life experience', 'life experience', 'education', 'photography', 'composing', 'complexity', 'peace', 'life experience', 'life experience', 'life experience', 'life experience', 'photography', 'life experience', 'life experience', 'disaster relief', 'life experience', 'design', 'life experience', 'life experience', 'life experience', 'life experience', 'science', 'architecture', 'forensics', 'mental health', 'life experience', 'life experience', 'dance', 'life experience', 'life experience', 'cognitive science', 'sound', 'life experience', 'life experience', 'storytelling', 'trust', 'life experience', 'behavioral economics', 'social media', 'life experience', 'life experience', 'life experience', 'life experience', 'life experience', 'life experience', 'violin', 'life experience', 'education', 'museums', 'business', 'life experience', 'comedy', 'communication', 'life experience', 'business', 'life experience', 'neuroscience', 'journalism', 'life experience', 'global issues', 'psychology', 'life experience', 'architecture', 'life experience', 'politics', 'life experience', 'life experience', 'life experience', 'life experience', 'happiness', 'life experience', 'life experience', 'life experience', 'life experience', 'life experience', 'invention', 'life experience', 'design', 'theater', 'life experience', 'life experience', 'life experience', 'life experience', 'life experience', 'life experience', 'transportation', 'life experience', 'life experience', 'design', 'life experience', 'entrepreneur', 'life experience', 'life experience', 'life experience', 'medicine', 'journalism', 'comedy', 'life experience', 'life experience', 'transportation', 'neuroscience', 'life experience', 'life experience', 'life experience', 'life experience', 'biotech', 'life experience', 'life experience', 'performance art', 'life experience', 'life experience', 'mindfulness', 'activism', 'community', 'life experience', 'life experience', 'life experience', 'life experience', 'life experience', 'life experience', 'life experience', 'life experience', 'computers', 'photography', 'life experience', 'life experience', 'science', 'life experience', 'chemistry', 'life experience', 'education', 'life experience', 'complexity', 'relationships', 'neuroscience', 'behavioral economics', 'life experience', 'education', 'biology', 'life experience', 'robots', 'education', 'life experience', 'music', 'life experience', 'marine biology', 'garden', 'education', 'life experience', 'life experience', 'neuroscience', 'life experience', 'activism', 'life experience', 'computers', 'life experience', 'life experience', 'genetics', 'conducting', 'life experience', 'life experience', 'life experience', 'behavioral economics', 'life experience', 'life experience', 'life experience', 'life experience', 'life experience', 'life experience', 'education', 'robots', 'behavioral economics', 'life experience', 'science', 'life experience', 'neuroscience', 'life experience', 'neuroscience', 'life experience', 'life experience', 'life experience', 'economics', 'life experience', 'life experience', 'technology', 'life experience', 'nuclear energy', 'photography', 'life experience', 'education', 'economics', 'life experience', 'teaching', 'education', 'life experience', 'education', 'life experience', 'psychology', 'education', 'life experience', 'life experience', 'invention', 'life experience', 'philosophy', 'life experience', 'life experience', 'design', 'life experience', 'life experience', 'life experience', 'evolution', 'life experience', 'life experience', 'energy', 'life experience', 'life experience', 'life experience', 'life experience', 'life experience', 'life experience', 'life experience', 'women', 'life experience', 'life experience', 'life experience', 'architecture', 'photography', 'life experience', 'life experience', 'life experience', 'paleontology', 'robots', 'life experience', 'health', 'design', 'life experience', 'life experience', 'architecture', 'life experience', 'cancer', 'life experience', 'nature', 'life experience', 'life experience', 'life experience', 'philosophy', 'life experience', 'parenting', 'advertising', 'life experience', 'life experience', 'life experience', 'life experience', 'life experience', 'life experience', 'philosophy', 'life experience', 'life experience', 'life experience', 'music', 'life experience', 'architecture', 'life experience', 'neuroscience', 'life experience', 'life experience', 'health', 'life experience', 'life experience', 'life experience', 'design', 'life experience', 'life experience', 'life experience', 'life experience', 'life experience', 'life experience', 'life experience', 'politics', 'life experience', 'neuroscience', 'philosophy', 'life experience', 'life experience', 'life experience', 'life experience', 'life experience', 'photography', 'life experience', 'business', 'life experience', 'life experience', 'politics', 'life experience', 'life experience', 'life experience', 'life experience', 'life experience', 'privacy', 'life experience', 'life experience', 'life experience', 'literature', 'life experience', 'architecture', 'economics', 'life experience', 'life experience', 'life experience', 'business', 'life experience', 'life experience', 'life experience', 'life experience', 'global issues', 'life experience', 'life experience', 'life experience', 'life experience', 'drones', 'life experience', 'life experience', 'life experience', 'life experience', 'life experience', 'neuroscience', 'life experience', 'social change', 'life experience', 'politics', 'life experience', 'life experience', 'life experience', 'life experience', 'life experience', 'philosophy', 'life experience', 'life experience', 'economics', 'life experience', 'life experience', 'life experience', 'life experience', 'life experience', 'comedy', 'finance', 'neuroscience', 'life experience', 'music', 'life experience', 'life experience', 'life experience', 'life experience', 'robots', 'life experience', 'women', 'life experience', 'life experience', 'education', 'criminal justice', 'life experience', 'animals', 'animation', 'violence', 'life experience', 'architecture', 'science', 'life experience', 'life experience', 'sustainability', 'sustainability', 'speech', 'life experience', 'leadership', 'life experience', 'life experience', 'life experience', 'life experience', 'life experience', 'life experience', 'life experience', 'life experience', 'life experience', 'life experience', 'life experience', 'physics', 'life experience', 'life experience', 'technology', 'life experience', 'philosophy', 'neuroscience', 'life experience', 'life experience', 'life experience', 'life experience', 'life experience', 'education', 'life experience', 'science', 'security', 'bionics', 'life experience', 'life experience', 'life experience', 'philanthropy', 'life experience', 'life experience', 'life experience', 'education', 'life experience', 'life experience', 'life experience', 'life experience', 'life experience', 'life experience', 'life experience', 'life experience', 'life experience', 'life experience', 'oceans', 'interface design', 'life experience', 'genetics', 'sports', 'invention', 'climate change', 'life experience', 'life experience', 'life experience', 'military', 'life experience', 'music', 'life experience', 'life experience', 'life experience', 'life experience', 'life experience', 'leadership', 'oceans', 'life experience', 'life experience', 'life experience', 'journalism', 'life experience', 'life experience', 'life experience', 'life experience', 'future', 'psychology', 'poetry', 'biology', 'life experience', 'activism', 'life experience', 'life experience', 'life experience', 'life experience', 'philosophy', 'language', 'philosophy', 'life experience', 'life experience', 'life experience', 'security', 'history', 'music', 'sound', 'life experience', 'life experience', 'policy', 'psychology', 'life experience', 'life experience', 'life experience', 'life experience', 'life experience', 'philosophy', 'life experience', 'life experience', 'life experience', 'life experience', 'education', 'life experience', 'history', 'molecular biology', 'music', 'statistics', 'life experience', 'prison', 'life experience', 'life experience', 'life experience', 'architecture', 'life experience', 'life experience', 'photography', 'life experience', 'microfinance', 'life experience', 'life experience', 'comedy', 'life experience', 'life experience', 'life experience', 'history', 'peace', 'life experience', 'global issues', 'life experience', 'life experience', 'astronomy', 'children', 'life experience', 'climate change', 'life experience', 'photography', 'life experience', 'architecture', 'sanitation', 'leadership', 'life experience', 'brain', 'life experience', 'economics', 'life experience', 'life experience', 'life experience', 'journalism', 'neuroscience', 'public health', 'cancer', 'life experience', 'life experience', 'life experience', 'life experience', 'life experience', 'oceans', 'science', 'life experience', 'life experience', 'nature', 'life experience', 'activism', 'politics', 'life experience', 'life experience', 'life experience', 'life experience', 'life experience', 'economics', 'life experience', 'life experience', 'music', 'life experience', 'space', 'life experience', 'medicine', 'life experience', 'life experience', 'psychology', 'life experience', 'life experience', 'life experience', 'life experience', 'evolution', 'life experience', 'life experience', 'life experience', 'life experience', 'life experience', 'life experience', 'diversity', 'life experience', 'psychology', 'life experience', 'life experience', 'life experience', 'life experience', 'life experience', 'life experience', 'life experience', 'forensics', 'life experience', 'innovation', 'life experience', 'life experience', 'life experience', 'life experience', 'life experience', 'life experience', 'neuroscience', 'peace', 'life experience', 'creativity', 'technology', 'life experience', 'psychology', 'design', 'biology', 'life experience', 'life experience', 'life experience', 'psychology', 'life experience', 'photography', 'space', 'life experience', 'life experience', 'women', 'life experience', 'magic', 'life experience', 'life experience', 'life experience', 'security', 'life experience', 'entrepreneur', 'architecture', 'prison', 'life experience', 'life experience', 'psychology', 'life experience', 'life experience', 'social media', 'life experience', 'life experience', 'storytelling', 'life experience', 'entrepreneur', 'architecture', 'life experience', 'life experience', 'life experience', 'entrepreneur', 'behavioral economics', 'space', 'photography', 'life experience', 'architecture', 'investment', 'life experience', 'life experience', 'astronomy', 'life experience', 'life experience', 'paleontology', 'philosophy', 'neuroscience', 'neuroscience', 'life experience', 'life experience', 'computers', 'dance', 'life experience', 'life experience', 'photography', 'sustainability', 'life experience', 'life experience', 'life experience', 'life experience', 'animals', 'relationships', 'life experience', 'life experience', 'life experience', 'life experience', 'life experience', 'life experience', 'cognitive science', 'product design', 'life experience', 'life experience', 'life experience', 'life experience', 'cognitive science', 'life experience', 'computers', 'life experience', 'life experience', 'life experience', 'life experience', 'life experience', 'life experience', 'public health', 'life experience', 'life experience', 'peace', 'life experience', 'life experience', 'life experience', 'life experience', 'life experience', 'life experience', 'life experience', 'life experience', 'photography', 'open-source', 'life experience', 'life experience', 'peace', 'life experience', 'life experience', 'history', 'life experience', 'life experience', 'life experience', 'life experience', 'life experience', 'life experience', 'brain', 'life experience', 'life experience', 'quantum physics', 'life experience', 'disaster relief', 'life experience', 'astronomy', 'life experience', 'social media', 'philanthropy', 'life experience', 'psychology', 'life experience', 'life experience', 'life experience', 'life experience', 'life experience', 'life experience', 'life experience', 'education', 'life experience', 'global issues', 'life experience', 'life experience', 'life experience', 'photography', 'life experience', 'life experience', 'climate change', 'cancer', 'design', 'life experience', 'life experience', 'economics', 'robots', 'women', 'journalism', 'life experience', 'life experience', 'life experience', 'design', 'life experience', 'life experience', 'education', 'sound', 'life experience', 'neuroscience', 'life experience', 'life experience', 'life experience', 'communication', 'guitar', 'life experience', 'life experience', 'activism', 'life experience', 'virtual reality', 'life experience', 'life experience', 'life experience', 'life experience', 'life experience', 'performance art', 'coral reefs', 'social change', 'life experience', 'astronomy', 'fashion', 'invention', 'life experience', 'life experience', 'life experience', 'architecture', 'life experience', 'life experience', 'security', 'life experience', 'life experience', 'life experience', 'life experience', 'astronomy', 'life experience', 'comedy', 'life experience', 'life experience', 'life experience', 'architecture', 'life experience', 'life experience', 'life experience', 'green', 'life experience', 'economics', 'marine biology', 'policy', 'robots', 'activism', 'storytelling', 'life experience', 'mindfulness', 'life experience', 'life experience', 'global issues', 'life experience', 'life experience', 'life experience', 'life experience', 'life experience', 'life experience', 'life experience', 'life experience', 'life experience', 'climate change', 'life experience', 'sustainability', 'life experience', 'life experience', 'conservation', 'life experience', 'life experience', 'social change', 'entrepreneur', 'education', 'oceans', 'product design', 'environment', 'life experience', 'design', 'life experience', 'life experience', 'social change', 'life experience', 'life experience', 'life experience', 'life experience', 'life experience', 'invention', 'life experience', 'life experience', 'life experience', 'life experience', 'life experience', 'life experience', 'global issues', 'life experience', 'astronomy', 'life experience', 'global issues', 'humanity', 'technology', 'medicine', 'invention', 'life experience', 'climate change', 'journalism', 'life experience', 'future', 'life experience', 'paleontology', 'life experience', 'mobility', 'composing', 'life experience', 'finance', 'science', 'life experience', 'design', 'life experience', 'life experience', 'entrepreneur', 'science', 'neuroscience', 'life experience', 'life experience', 'life experience', 'life experience', 'journalism', 'life experience', 'life experience', 'life experience', 'neuroscience', 'life experience', 'life experience', 'life experience', 'life experience', 'life experience', 'activism', 'life experience', 'life experience', 'technology', 'entrepreneur', 'education', 'comedy', 'life experience', 'life experience', 'life experience', 'life experience', 'design', 'life experience', 'indigenous peoples', 'education', 'personality', 'design', 'life experience', 'life experience', 'life experience', 'life experience', 'music', 'architecture', 'social change', 'life experience', 'life experience', 'women in business', 'environment', 'life experience', 'life experience', 'life experience', 'life experience', 'life experience', 'neuroscience', 'life experience', 'machine learning', 'life experience', 'design', 'economics', 'life experience', 'climate change', 'life experience', 'life experience', 'life experience', 'industrial design', 'life experience', 'photography', 'life experience', 'life experience', 'life experience', 'media', 'life experience', 'global issues', 'comedy', 'education', 'journalism', 'life experience', 'life experience', 'life experience', 'life experience', 'climate change', 'design', 'life experience', 'life experience', 'life experience', 'education', 'biotech', 'life experience', 'life experience', 'life experience', 'life experience', 'neuroscience', 'anthropology', 'biology', 'immigration', 'life experience', 'life experience', 'life experience', 'life experience', 'activism', 'life experience', 'creativity', 'life experience', 'life experience', 'trust', 'life experience', 'technology', 'life experience', 'life experience', 'transportation', 'politics', 'painting', 'life experience', 'activism', 'music', 'life experience', 'education', 'life experience', 'business', 'life experience', 'music', 'life experience', 'social change', 'technology', 'psychology', 'life experience', 'blockchain', 'life experience', 'education', 'life experience', 'politics', 'future', 'life experience', 'life experience', 'activism', 'life experience', 'urban planning', 'life experience', 'life experience', 'exploration', 'entrepreneur', 'life experience', 'bioethics', 'cancer', 'life experience', 'neuroscience', 'education', 'life experience', 'economics', 'life experience', 'astronomy', 'life experience', 'life experience', 'life experience', 'nuclear energy', 'life experience', 'life experience', 'life experience', 'materials', 'life experience', 'life experience', 'activism', 'life experience', 'activism', 'life experience', 'social change', 'biology', 'architecture', 'life experience', 'life experience', 'invention', 'life experience', 'life experience', 'life experience', 'activism', 'life experience', 'future', 'life experience', 'cancer', 'urban planning', 'humanity', 'activism', 'life experience', 'guitar', 'journalism', 'life experience', 'philosophy', 'history', 'culture', 'robots', 'life experience', 'life experience', 'design', 'entrepreneur', 'entrepreneur', 'life experience', 'life experience', 'singer', 'activism', 'life experience', 'theater', 'life experience', 'life experience', 'life experience', 'asteroid', 'life experience', 'life experience', 'life experience', 'social change', 'global issues', 'policy', 'life experience', 'life experience', 'life experience', 'life experience', 'life experience', 'life experience', 'life experience', 'women', 'life experience', 'public health', 'life experience', 'future', 'life experience', 'life experience', 'women', 'life experience', 'architecture', 'astronomy', 'life experience', 'life experience', 'finance', 'journalism', 'environment', 'life experience', 'neuroscience', 'life experience', 'history', 'life experience', 'entrepreneur', 'education', 'life experience', 'neuroscience', 'life experience', 'oceans', 'life experience', 'life experience', 'climate change', 'sleep', 'health', 'life experience', 'mental health', 'life experience', 'molecular biology', 'life experience', 'chemistry', 'life experience', 'humanity', 'life experience', 'music', 'design', 'philosophy', 'architecture', 'life experience', 'life experience', 'humanity', 'life experience', 'death', 'life experience', 'life experience', 'economics', 'future', 'refugees', 'life experience', 'life experience', 'refugees', 'invention', 'religion', 'life experience', 'psychology', 'climate change', 'cognitive science', 'life experience', 'life experience', 'life experience', 'architecture', 'life experience', 'design', 'physiology', 'coral reefs', 'robots', 'life experience', 'life experience', 'computers', 'life experience', 'cognitive science', 'life experience', 'science', 'microbes', 'life experience', 'life experience', 'life experience', 'life experience', 'entrepreneur', 'life experience', 'urban', 'life experience', 'music', 'life experience', 'life experience', 'life experience', 'future', 'chemistry', 'life experience', 'entrepreneur', 'children', 'life experience', 'life experience', 'surveillance', 'life experience', 'humanity', 'life experience', 'life experience', 'life experience', 'life experience', 'activism', 'life experience', 'economics', 'life experience', 'life experience', 'life experience', 'physics', 'life experience', 'life experience', 'journalism', 'history', 'astrobiology', 'life experience', 'robots', 'life experience', 'education', 'marine biology', 'life experience', 'life experience', 'architecture', 'journalism', 'science', 'life experience', 'photography', 'life experience', 'life experience', 'journalism', 'life experience', 'life experience', 'life experience', 'innovation', 'children', 'life experience', 'entrepreneur', 'glacier', 'life experience', 'life experience', 'life experience', 'life experience', 'culture', 'business', 'journalism', 'activism', 'diversity', 'life experience', 'future', 'technology', 'life experience', 'life experience', 'life experience', 'science fiction', 'life experience', 'education', 'women', 'nature', 'life experience', 'life experience', 'life experience', 'life experience', 'life experience', 'criminal justice', 'activism', 'homelessness', 'life experience', 'life experience', 'life experience', 'life experience', 'music', 'life experience', 'life experience', 'life experience', 'life experience', 'life experience', 'life experience', 'life experience', 'life experience', 'design', 'entrepreneur', 'life experience', 'life experience', 'social change', 'sleep', 'life experience', 'life experience', 'media', 'life experience', 'technology', 'life experience', 'space', 'technology', 'life experience', 'life experience', 'life experience', 'culture', 'life experience', 'life experience', 'photography', 'life experience', 'architecture', 'life experience', 'life experience', 'water', 'life experience', 'life experience', 'future', 'life experience', 'fashion', 'technology', 'conservation', 'music', 'life experience', 'music', 'life experience', 'life experience', 'life experience', 'life experience', 'visualizations', 'politics', 'life experience', 'life experience', 'environment', 'life experience', 'social change', 'life experience', 'life experience', 'plastic', 'life experience', 'life experience', 'psychology', 'life experience', 'life experience', 'life experience', 'space', 'prison', 'life experience', 'life experience', 'life experience', 'agriculture', 'design', 'education', 'politics', 'life experience', 'life experience', 'life experience', 'business', 'life experience', 'life experience', 'design', 'fashion', 'life experience', 'life experience', 'life experience', 'software', 'life experience', 'life experience', 'life experience', 'life experience', 'life experience', 'life experience', 'comedy', 'neuroscience', 'life experience', 'social change', 'life experience', 'life experience', 'life experience', 'life experience', 'life experience', 'fashion', 'life experience', 'activism', 'women', 'life experience', 'life experience', 'life experience', 'education', 'economics', 'fashion', 'design', 'life experience', 'life experience', 'life experience', 'life experience', 'architecture', 'life experience', 'life experience', 'education', 'singer', 'life experience', 'social change', 'life experience', 'urban planning', 'life experience', 'life experience', 'life experience', 'life experience', 'life experience', 'life experience', 'life experience', 'life experience', 'encryption', 'communication', 'life experience', 'social change', 'humanity', 'disability', 'life experience', 'life experience', 'life experience', 'materials', 'life experience', 'life experience', 'life experience', 'life experience', 'cognitive science', 'activism', 'life experience', 'oceans', 'activism', 'life experience', 'health', 'environment', 'life experience', 'life experience', 'public health', 'marine biology', 'life experience', 'education', 'space', 'humanity', 'life experience', 'life experience', 'life experience', 'life experience', 'life experience', 'life experience', 'life experience', 'entrepreneur', 'life experience', 'life experience', 'life experience', 'life experience', 'social change', 'activism', 'life experience', 'robots', 'life experience', 'singer', 'life experience', 'life experience', 'humanity', 'science', 'life experience', 'life experience', 'history', 'life experience', 'design', 'life experience', 'life experience', 'life experience', 'life experience', 'leadership', 'education', 'life experience', 'science', 'bionics', 'life experience', 'forensics', 'life experience', 'theater', 'library', 'activism', 'life experience', 'life experience', 'journalism', 'neuroscience', 'life experience', 'neuroscience', 'neuroscience', 'neuroscience', 'neuroscience', 'neuroscience', 'life experience', 'neuroscience', 'life experience', 'activism', 'life experience', 'life experience', 'primates', 'technology', 'mental health', 'life experience', 'science', 'life experience', 'architecture', 'life experience', 'astronomy', 'engineering', 'life experience', 'flight', 'microbes', 'conservation', 'life experience', 'life experience', 'life experience', 'life experience', 'agriculture', 'life experience', 'life experience', 'technology', 'life experience', 'architecture', 'space', 'life experience', 'technology', 'journalism', 'science', 'life experience', 'life experience', 'social change', 'medicine', 'life experience', 'computers', 'life experience', 'life experience', 'computers', 'education', 'life experience', 'teaching', 'life experience', 'cancer', 'life experience', 'social change', 'anthropology', 'children', 'life experience', 'entrepreneur', 'invention', 'life experience', 'astronomy', 'life experience', 'environment', 'life experience', 'life experience', 'life experience', 'money', 'genetics', 'life experience', 'life experience', 'collaboration', 'life experience', 'life experience', 'life experience', 'morality', 'singer', 'biology', 'design', 'cognitive science', 'life experience', 'life experience', 'life experience', 'cognitive science', 'health care', 'life experience', 'museums', 'singer', 'life experience', 'life experience', 'life experience', 'life experience', 'life experience', 'life experience', 'photography', 'life experience', 'environment', 'life experience', 'life experience', 'life experience', 'life experience', 'life experience', 'life experience', 'entrepreneur', 'creativity', 'health', 'life experience', 'life experience', 'life experience', 'life experience', 'robots', 'sustainability', 'invention', 'music', 'investment', 'global issues', 'children', 'activism', 'life experience', 'life experience', 'science', 'neuroscience', 'technology', 'politics', 'life experience', 'life experience', 'life experience', 'physics', 'life experience', 'life experience', 'life experience', 'economics', 'life experience', 'life experience', 'life experience', 'politics', 'library', 'biotech', 'business', 'exploration', 'life experience', 'life experience', 'life experience', 'synthetic biology', 'life experience', 'life experience', 'life experience', 'life experience', 'life experience', 'politics', 'life experience', 'life experience', 'activism', 'life experience', 'life experience', 'technology', 'business', 'life experience', 'music', 'climate change', 'life experience', 'life experience', 'life experience', 'life experience', 'life experience', 'life experience', 'life experience', 'leadership', 'language', 'religion', 'life experience', 'life experience', 'music', 'life experience', 'quantum physics', 'life experience', 'life experience', 'social change', 'life experience', 'life experience', 'invention', 'activism', 'urban planning', 'life experience', 'architecture', 'science', 'life experience', 'activism', 'climate change', 'life experience', 'children', 'activism', 'life experience', 'activism', 'life experience', 'life experience', 'life experience', 'life experience', 'life experience', 'life experience', 'life experience', 'life experience', 'life experience', 'life experience', 'life experience', 'technology', 'invention', 'women', 'sleep', 'life experience', 'life experience', 'life experience', 'life experience', 'life experience', 'education', 'life experience', 'life experience', 'life experience', 'architecture', 'life experience', 'technology', 'activism', 'paleontology', 'engineering', 'life experience', 'life experience', 'life experience', 'life experience', 'life experience', 'life experience', 'social media', 'life experience', 'astronomy', 'life experience', 'life experience', 'education', 'solar energy', 'life experience', 'neuroscience', 'life experience', 'activism', 'music', 'life experience', 'life experience', 'neuroscience', 'life experience', 'life experience', 'science', 'journalism', 'life experience', 'life experience', 'psychology', 'community', 'education', 'life experience', 'robots', 'entrepreneur', 'astronomy', 'life experience', 'environment', 'happiness', 'life experience', 'life experience', 'neuroscience', 'happiness', 'life experience', 'social change', 'life experience', 'plants', 'design', 'design', 'life experience', 'life experience', 'life experience', 'cognitive science', 'sleep', 'life experience', 'life experience', 'life experience', 'technology', 'relationships', 'life experience', 'life experience', 'life experience', 'life experience', 'life experience', 'justice system', 'life experience', 'activism', 'life experience', 'astronomy', 'marine biology', 'architecture', 'life experience', 'life experience', 'teaching', 'life experience', 'life experience', 'life experience', 'life experience', 'psychology', 'life experience', 'life experience', 'life experience', 'life experience', 'life experience', 'astronomy', 'life experience', 'life experience', 'life experience', 'science', 'life experience', 'life experience', 'life experience', 'social change', 'space', 'life experience', 'life experience', 'biology', 'life experience', 'robots', 'life experience', 'life experience', 'paleontology', 'refugees', 'life experience', 'life experience', 'life experience', 'design', 'urban planning', 'activism', 'life experience', 'politics', 'life experience', 'life experience', 'life experience', 'life experience', 'entrepreneur', 'performance', 'life experience', 'psychology', 'life experience', 'life experience', 'life experience', 'life experience', 'life experience', 'science', 'climate change', 'life experience', 'life experience', 'human rights', 'journalism', 'life experience', 'life experience', 'life experience', 'life experience', 'climate change', 'justice system', 'life experience', 'life experience', 'life experience', 'life experience', 'community', 'life experience', 'life experience', 'life experience', 'life experience', 'life experience', 'life experience', 'life experience', 'water', 'social change', 'environment', 'life experience', 'life experience', 'politics', 'music', 'life experience', 'life experience', 'life experience', 'life experience', 'public health', 'neuroscience', 'language', 'innovation', 'astrobiology', 'journalism', 'life experience', 'entrepreneur', 'life experience', 'life experience', 'life experience', 'dance', 'physics', 'social change', 'social change', 'science', 'oceans', 'life experience', 'life experience', 'biology', 'fashion', 'life experience', 'storytelling', 'public health', 'life experience', 'life experience', 'neuroscience', 'energy', 'biotech', 'life experience', 'life experience', 'evolution', 'life experience', 'psychology', 'life experience', 'life experience', 'life experience', 'life experience', 'life experience', 'history', 'architecture', 'life experience', 'life experience', 'life experience', 'life experience', 'life experience', 'violin', 'life experience', 'life experience', 'education', 'immigration', 'marketing', 'social change', 'behavioral economics', 'health care', 'nuclear weapons', 'life experience', 'language', 'life experience', 'social change', 'life experience', 'entrepreneur', 'life experience', 'life experience', 'life experience', 'life experience', 'astronomy', 'life experience', 'activism', 'life experience', 'history', 'life experience', 'economics', 'business', 'entrepreneur', 'life experience', 'water', 'microbes', 'life experience', 'astronomy', 'life experience', 'philosophy', 'life experience', 'life experience', 'humanity', 'life experience', 'life experience', 'health', 'education', 'astronomy', 'life experience', 'paleontology', 'life experience', 'life experience', 'climate change', 'life experience', 'immigration', 'storytelling', 'life experience', 'life experience', 'health care', 'life experience', 'life experience', 'urban planning', 'life experience', 'economics', 'life experience', 'life experience', 'life experience', 'life experience', 'education', 'life experience', 'life experience', 'life experience', 'life experience', 'life experience', 'medicine', 'life experience', 'urban planning', 'humanity', 'life experience', 'life experience', 'life experience', 'life experience', 'life experience', 'life experience', 'life experience', 'life experience', 'life experience', 'life experience', 'science', 'activism', 'design', 'design', 'science', 'life experience', 'life experience', 'life experience', 'life experience', 'life experience', 'life experience', 'paleontology', 'design', 'life experience', 'life experience', 'technology', 'life experience', 'life experience', 'gender equality', 'life experience', 'life experience', 'social change', 'life experience', 'life experience', 'climate change', 'life experience', 'journalism', 'life experience', 'life experience', 'neuroscience', 'life experience', 'technology', 'life experience', 'neuroscience', 'science', 'history', 'life experience', 'neuroscience', 'global issues', 'life experience', 'life experience', 'life experience', 'life experience', 'life experience', 'life experience', 'life experience', 'life experience', 'life experience', 'life experience', 'life experience', 'environment', 'life experience', 'life experience', 'life experience', 'life experience', 'life experience', 'life experience', 'social change', 'life experience', 'life experience', 'life experience', 'life experience', 'life experience', 'space', 'molecular biology', 'life experience', 'life experience', 'life experience', 'biology', 'life experience', 'life experience', 'life experience', 'epidemiology', 'life experience', 'life experience']\n"
          ]
        }
      ],
      "source": [
        "print(main_topics)"
      ]
    },
    {
      "cell_type": "code",
      "source": [
        "len(list(set(main_topics)))"
      ],
      "metadata": {
        "colab": {
          "base_uri": "https://localhost:8080/"
        },
        "id": "FtbYvsajDEoZ",
        "outputId": "b4424f78-25a6-402d-854a-b291e8711cea"
      },
      "execution_count": 36,
      "outputs": [
        {
          "output_type": "execute_result",
          "data": {
            "text/plain": [
              "191"
            ]
          },
          "metadata": {},
          "execution_count": 36
        }
      ]
    },
    {
      "cell_type": "code",
      "execution_count": 37,
      "metadata": {
        "id": "d09F7aiAqk62"
      },
      "outputs": [],
      "source": [
        "ted_talk_df_clean['main_topics']=main_topics"
      ]
    },
    {
      "cell_type": "code",
      "source": [
        "ted_talk_df_clean[(ted_talk_df_clean['main_topics']=='life experience')][:2]"
      ],
      "metadata": {
        "colab": {
          "base_uri": "https://localhost:8080/",
          "height": 280
        },
        "id": "hm11Ixz8Khcq",
        "outputId": "90a6a5f8-6446-4831-d8a1-4e4c92d1f39e"
      },
      "execution_count": 38,
      "outputs": [
        {
          "output_type": "execute_result",
          "data": {
            "text/html": [
              "\n",
              "  <div id=\"df-819e750e-e77a-49d4-937e-fea446d0c5d6\">\n",
              "    <div class=\"colab-df-container\">\n",
              "      <div>\n",
              "<style scoped>\n",
              "    .dataframe tbody tr th:only-of-type {\n",
              "        vertical-align: middle;\n",
              "    }\n",
              "\n",
              "    .dataframe tbody tr th {\n",
              "        vertical-align: top;\n",
              "    }\n",
              "\n",
              "    .dataframe thead th {\n",
              "        text-align: right;\n",
              "    }\n",
              "</style>\n",
              "<table border=\"1\" class=\"dataframe\">\n",
              "  <thead>\n",
              "    <tr style=\"text-align: right;\">\n",
              "      <th></th>\n",
              "      <th>occupations</th>\n",
              "      <th>views</th>\n",
              "      <th>comments</th>\n",
              "      <th>duration</th>\n",
              "      <th>topics</th>\n",
              "      <th>speaker_1</th>\n",
              "      <th>years_run</th>\n",
              "      <th>main_topics</th>\n",
              "    </tr>\n",
              "  </thead>\n",
              "  <tbody>\n",
              "    <tr>\n",
              "      <th>8</th>\n",
              "      <td>[pastor, author]</td>\n",
              "      <td>3998282</td>\n",
              "      <td>930.0</td>\n",
              "      <td>1262</td>\n",
              "      <td>[Christianity, God, culture, happiness, leader...</td>\n",
              "      <td>Rick Warren</td>\n",
              "      <td>15</td>\n",
              "      <td>life experience</td>\n",
              "    </tr>\n",
              "    <tr>\n",
              "      <th>9</th>\n",
              "      <td>[filmmaker]</td>\n",
              "      <td>460994</td>\n",
              "      <td>59.0</td>\n",
              "      <td>1538</td>\n",
              "      <td>[TED Prize, culture, entertainment, film, glob...</td>\n",
              "      <td>Jehane Noujaim</td>\n",
              "      <td>15</td>\n",
              "      <td>life experience</td>\n",
              "    </tr>\n",
              "  </tbody>\n",
              "</table>\n",
              "</div>\n",
              "      <button class=\"colab-df-convert\" onclick=\"convertToInteractive('df-819e750e-e77a-49d4-937e-fea446d0c5d6')\"\n",
              "              title=\"Convert this dataframe to an interactive table.\"\n",
              "              style=\"display:none;\">\n",
              "        \n",
              "  <svg xmlns=\"http://www.w3.org/2000/svg\" height=\"24px\"viewBox=\"0 0 24 24\"\n",
              "       width=\"24px\">\n",
              "    <path d=\"M0 0h24v24H0V0z\" fill=\"none\"/>\n",
              "    <path d=\"M18.56 5.44l.94 2.06.94-2.06 2.06-.94-2.06-.94-.94-2.06-.94 2.06-2.06.94zm-11 1L8.5 8.5l.94-2.06 2.06-.94-2.06-.94L8.5 2.5l-.94 2.06-2.06.94zm10 10l.94 2.06.94-2.06 2.06-.94-2.06-.94-.94-2.06-.94 2.06-2.06.94z\"/><path d=\"M17.41 7.96l-1.37-1.37c-.4-.4-.92-.59-1.43-.59-.52 0-1.04.2-1.43.59L10.3 9.45l-7.72 7.72c-.78.78-.78 2.05 0 2.83L4 21.41c.39.39.9.59 1.41.59.51 0 1.02-.2 1.41-.59l7.78-7.78 2.81-2.81c.8-.78.8-2.07 0-2.86zM5.41 20L4 18.59l7.72-7.72 1.47 1.35L5.41 20z\"/>\n",
              "  </svg>\n",
              "      </button>\n",
              "      \n",
              "  <style>\n",
              "    .colab-df-container {\n",
              "      display:flex;\n",
              "      flex-wrap:wrap;\n",
              "      gap: 12px;\n",
              "    }\n",
              "\n",
              "    .colab-df-convert {\n",
              "      background-color: #E8F0FE;\n",
              "      border: none;\n",
              "      border-radius: 50%;\n",
              "      cursor: pointer;\n",
              "      display: none;\n",
              "      fill: #1967D2;\n",
              "      height: 32px;\n",
              "      padding: 0 0 0 0;\n",
              "      width: 32px;\n",
              "    }\n",
              "\n",
              "    .colab-df-convert:hover {\n",
              "      background-color: #E2EBFA;\n",
              "      box-shadow: 0px 1px 2px rgba(60, 64, 67, 0.3), 0px 1px 3px 1px rgba(60, 64, 67, 0.15);\n",
              "      fill: #174EA6;\n",
              "    }\n",
              "\n",
              "    [theme=dark] .colab-df-convert {\n",
              "      background-color: #3B4455;\n",
              "      fill: #D2E3FC;\n",
              "    }\n",
              "\n",
              "    [theme=dark] .colab-df-convert:hover {\n",
              "      background-color: #434B5C;\n",
              "      box-shadow: 0px 1px 3px 1px rgba(0, 0, 0, 0.15);\n",
              "      filter: drop-shadow(0px 1px 2px rgba(0, 0, 0, 0.3));\n",
              "      fill: #FFFFFF;\n",
              "    }\n",
              "  </style>\n",
              "\n",
              "      <script>\n",
              "        const buttonEl =\n",
              "          document.querySelector('#df-819e750e-e77a-49d4-937e-fea446d0c5d6 button.colab-df-convert');\n",
              "        buttonEl.style.display =\n",
              "          google.colab.kernel.accessAllowed ? 'block' : 'none';\n",
              "\n",
              "        async function convertToInteractive(key) {\n",
              "          const element = document.querySelector('#df-819e750e-e77a-49d4-937e-fea446d0c5d6');\n",
              "          const dataTable =\n",
              "            await google.colab.kernel.invokeFunction('convertToInteractive',\n",
              "                                                     [key], {});\n",
              "          if (!dataTable) return;\n",
              "\n",
              "          const docLinkHtml = 'Like what you see? Visit the ' +\n",
              "            '<a target=\"_blank\" href=https://colab.research.google.com/notebooks/data_table.ipynb>data table notebook</a>'\n",
              "            + ' to learn more about interactive tables.';\n",
              "          element.innerHTML = '';\n",
              "          dataTable['output_type'] = 'display_data';\n",
              "          await google.colab.output.renderOutput(dataTable, element);\n",
              "          const docLink = document.createElement('div');\n",
              "          docLink.innerHTML = docLinkHtml;\n",
              "          element.appendChild(docLink);\n",
              "        }\n",
              "      </script>\n",
              "    </div>\n",
              "  </div>\n",
              "  "
            ],
            "text/plain": [
              "        occupations    views  ...  years_run      main_topics\n",
              "8  [pastor, author]  3998282  ...         15  life experience\n",
              "9       [filmmaker]   460994  ...         15  life experience\n",
              "\n",
              "[2 rows x 8 columns]"
            ]
          },
          "metadata": {},
          "execution_count": 38
        }
      ]
    },
    {
      "cell_type": "code",
      "source": [
        "ted_talk_df_clean['main_topics'].value_counts()"
      ],
      "metadata": {
        "colab": {
          "base_uri": "https://localhost:8080/"
        },
        "id": "ICF4bxGPJmYJ",
        "outputId": "efde12e2-51c8-41bd-dfbc-b00632c8d8f3"
      },
      "execution_count": 39,
      "outputs": [
        {
          "output_type": "execute_result",
          "data": {
            "text/plain": [
              "life experience       1972\n",
              "design                  61\n",
              "education               58\n",
              "neuroscience            51\n",
              "activism                45\n",
              "                      ... \n",
              "indigenous peoples       1\n",
              "personality              1\n",
              "women in business        1\n",
              "machine learning         1\n",
              "epidemiology             1\n",
              "Name: main_topics, Length: 191, dtype: int64"
            ]
          },
          "metadata": {},
          "execution_count": 39
        }
      ]
    },
    {
      "cell_type": "code",
      "source": [
        "ted_talk_df_clean.drop(['occupations','topics'], axis = 1, inplace=True)"
      ],
      "metadata": {
        "id": "2Zoba5sES7Wd"
      },
      "execution_count": 40,
      "outputs": []
    },
    {
      "cell_type": "code",
      "source": [
        "ted_talk_df_clean.head(2)"
      ],
      "metadata": {
        "colab": {
          "base_uri": "https://localhost:8080/",
          "height": 112
        },
        "id": "mqV9aM9yJFBS",
        "outputId": "07992051-4b26-4491-fc61-677951e38b89"
      },
      "execution_count": 41,
      "outputs": [
        {
          "output_type": "execute_result",
          "data": {
            "text/html": [
              "\n",
              "  <div id=\"df-38944cf1-dc45-4578-9d42-e9ab2b517945\">\n",
              "    <div class=\"colab-df-container\">\n",
              "      <div>\n",
              "<style scoped>\n",
              "    .dataframe tbody tr th:only-of-type {\n",
              "        vertical-align: middle;\n",
              "    }\n",
              "\n",
              "    .dataframe tbody tr th {\n",
              "        vertical-align: top;\n",
              "    }\n",
              "\n",
              "    .dataframe thead th {\n",
              "        text-align: right;\n",
              "    }\n",
              "</style>\n",
              "<table border=\"1\" class=\"dataframe\">\n",
              "  <thead>\n",
              "    <tr style=\"text-align: right;\">\n",
              "      <th></th>\n",
              "      <th>views</th>\n",
              "      <th>comments</th>\n",
              "      <th>duration</th>\n",
              "      <th>speaker_1</th>\n",
              "      <th>years_run</th>\n",
              "      <th>main_topics</th>\n",
              "    </tr>\n",
              "  </thead>\n",
              "  <tbody>\n",
              "    <tr>\n",
              "      <th>0</th>\n",
              "      <td>3523392</td>\n",
              "      <td>272.0</td>\n",
              "      <td>977</td>\n",
              "      <td>Al Gore</td>\n",
              "      <td>15</td>\n",
              "      <td>climate change</td>\n",
              "    </tr>\n",
              "    <tr>\n",
              "      <th>1</th>\n",
              "      <td>14501685</td>\n",
              "      <td>628.0</td>\n",
              "      <td>1190</td>\n",
              "      <td>Hans Rosling</td>\n",
              "      <td>15</td>\n",
              "      <td>global issues</td>\n",
              "    </tr>\n",
              "  </tbody>\n",
              "</table>\n",
              "</div>\n",
              "      <button class=\"colab-df-convert\" onclick=\"convertToInteractive('df-38944cf1-dc45-4578-9d42-e9ab2b517945')\"\n",
              "              title=\"Convert this dataframe to an interactive table.\"\n",
              "              style=\"display:none;\">\n",
              "        \n",
              "  <svg xmlns=\"http://www.w3.org/2000/svg\" height=\"24px\"viewBox=\"0 0 24 24\"\n",
              "       width=\"24px\">\n",
              "    <path d=\"M0 0h24v24H0V0z\" fill=\"none\"/>\n",
              "    <path d=\"M18.56 5.44l.94 2.06.94-2.06 2.06-.94-2.06-.94-.94-2.06-.94 2.06-2.06.94zm-11 1L8.5 8.5l.94-2.06 2.06-.94-2.06-.94L8.5 2.5l-.94 2.06-2.06.94zm10 10l.94 2.06.94-2.06 2.06-.94-2.06-.94-.94-2.06-.94 2.06-2.06.94z\"/><path d=\"M17.41 7.96l-1.37-1.37c-.4-.4-.92-.59-1.43-.59-.52 0-1.04.2-1.43.59L10.3 9.45l-7.72 7.72c-.78.78-.78 2.05 0 2.83L4 21.41c.39.39.9.59 1.41.59.51 0 1.02-.2 1.41-.59l7.78-7.78 2.81-2.81c.8-.78.8-2.07 0-2.86zM5.41 20L4 18.59l7.72-7.72 1.47 1.35L5.41 20z\"/>\n",
              "  </svg>\n",
              "      </button>\n",
              "      \n",
              "  <style>\n",
              "    .colab-df-container {\n",
              "      display:flex;\n",
              "      flex-wrap:wrap;\n",
              "      gap: 12px;\n",
              "    }\n",
              "\n",
              "    .colab-df-convert {\n",
              "      background-color: #E8F0FE;\n",
              "      border: none;\n",
              "      border-radius: 50%;\n",
              "      cursor: pointer;\n",
              "      display: none;\n",
              "      fill: #1967D2;\n",
              "      height: 32px;\n",
              "      padding: 0 0 0 0;\n",
              "      width: 32px;\n",
              "    }\n",
              "\n",
              "    .colab-df-convert:hover {\n",
              "      background-color: #E2EBFA;\n",
              "      box-shadow: 0px 1px 2px rgba(60, 64, 67, 0.3), 0px 1px 3px 1px rgba(60, 64, 67, 0.15);\n",
              "      fill: #174EA6;\n",
              "    }\n",
              "\n",
              "    [theme=dark] .colab-df-convert {\n",
              "      background-color: #3B4455;\n",
              "      fill: #D2E3FC;\n",
              "    }\n",
              "\n",
              "    [theme=dark] .colab-df-convert:hover {\n",
              "      background-color: #434B5C;\n",
              "      box-shadow: 0px 1px 3px 1px rgba(0, 0, 0, 0.15);\n",
              "      filter: drop-shadow(0px 1px 2px rgba(0, 0, 0, 0.3));\n",
              "      fill: #FFFFFF;\n",
              "    }\n",
              "  </style>\n",
              "\n",
              "      <script>\n",
              "        const buttonEl =\n",
              "          document.querySelector('#df-38944cf1-dc45-4578-9d42-e9ab2b517945 button.colab-df-convert');\n",
              "        buttonEl.style.display =\n",
              "          google.colab.kernel.accessAllowed ? 'block' : 'none';\n",
              "\n",
              "        async function convertToInteractive(key) {\n",
              "          const element = document.querySelector('#df-38944cf1-dc45-4578-9d42-e9ab2b517945');\n",
              "          const dataTable =\n",
              "            await google.colab.kernel.invokeFunction('convertToInteractive',\n",
              "                                                     [key], {});\n",
              "          if (!dataTable) return;\n",
              "\n",
              "          const docLinkHtml = 'Like what you see? Visit the ' +\n",
              "            '<a target=\"_blank\" href=https://colab.research.google.com/notebooks/data_table.ipynb>data table notebook</a>'\n",
              "            + ' to learn more about interactive tables.';\n",
              "          element.innerHTML = '';\n",
              "          dataTable['output_type'] = 'display_data';\n",
              "          await google.colab.output.renderOutput(dataTable, element);\n",
              "          const docLink = document.createElement('div');\n",
              "          docLink.innerHTML = docLinkHtml;\n",
              "          element.appendChild(docLink);\n",
              "        }\n",
              "      </script>\n",
              "    </div>\n",
              "  </div>\n",
              "  "
            ],
            "text/plain": [
              "      views  comments  duration     speaker_1  years_run     main_topics\n",
              "0   3523392     272.0       977       Al Gore         15  climate change\n",
              "1  14501685     628.0      1190  Hans Rosling         15   global issues"
            ]
          },
          "metadata": {},
          "execution_count": 41
        }
      ]
    },
    {
      "cell_type": "code",
      "source": [
        "topics_df=pd.DataFrame(ted_talk_df_clean.groupby('main_topics')['views'].mean().sort_values(ascending=False))\n",
        "topics_df.plot.bar()"
      ],
      "metadata": {
        "colab": {
          "base_uri": "https://localhost:8080/",
          "height": 420
        },
        "id": "gDSnsk0jM1YA",
        "outputId": "50f3226e-f0c7-4b5b-b496-34a36bb76804"
      },
      "execution_count": 42,
      "outputs": [
        {
          "output_type": "execute_result",
          "data": {
            "text/plain": [
              "<matplotlib.axes._subplots.AxesSubplot at 0x7efbe6fb4a90>"
            ]
          },
          "metadata": {},
          "execution_count": 42
        },
        {
          "output_type": "display_data",
          "data": {
            "image/png": "[encoded data removed]",
            "text/plain": [
              "<Figure size 432x288 with 1 Axes>"
            ]
          },
          "metadata": {
            "needs_background": "light"
          }
        }
      ]
    },
    {
      "cell_type": "code",
      "source": [
        "# In the above barplot, we can find a strong relation of topics with average views\n",
        "# Converting categorical 'main_topics' column to numerical individual topic columns\n",
        "ted_talk_df_clean = ted_talk_df_clean.join(pd.get_dummies(ted_talk_df_clean['main_topics'],drop_first=True))"
      ],
      "metadata": {
        "id": "8Z7RfbJZO2-P"
      },
      "execution_count": 43,
      "outputs": []
    },
    {
      "cell_type": "code",
      "source": [
        "ted_talk_df_clean.drop(['main_topics'], axis = 1, inplace=True)"
      ],
      "metadata": {
        "id": "sU0x4OA7RMnw"
      },
      "execution_count": 44,
      "outputs": []
    },
    {
      "cell_type": "code",
      "source": [
        "ted_talk_df_clean.head(2)"
      ],
      "metadata": {
        "colab": {
          "base_uri": "https://localhost:8080/",
          "height": 240
        },
        "id": "lkxeCKGrOW5T",
        "outputId": "dbbd9f84-4b6b-4f4b-cd77-79ec3d7d4832"
      },
      "execution_count": 45,
      "outputs": [
        {
          "output_type": "execute_result",
          "data": {
            "text/html": [
              "\n",
              "  <div id=\"df-84be721b-8b10-4cea-a2f2-3ef0ef11013f\">\n",
              "    <div class=\"colab-df-container\">\n",
              "      <div>\n",
              "<style scoped>\n",
              "    .dataframe tbody tr th:only-of-type {\n",
              "        vertical-align: middle;\n",
              "    }\n",
              "\n",
              "    .dataframe tbody tr th {\n",
              "        vertical-align: top;\n",
              "    }\n",
              "\n",
              "    .dataframe thead th {\n",
              "        text-align: right;\n",
              "    }\n",
              "</style>\n",
              "<table border=\"1\" class=\"dataframe\">\n",
              "  <thead>\n",
              "    <tr style=\"text-align: right;\">\n",
              "      <th></th>\n",
              "      <th>views</th>\n",
              "      <th>comments</th>\n",
              "      <th>duration</th>\n",
              "      <th>speaker_1</th>\n",
              "      <th>years_run</th>\n",
              "      <th>adventure</th>\n",
              "      <th>advertising</th>\n",
              "      <th>agriculture</th>\n",
              "      <th>aircraft</th>\n",
              "      <th>animals</th>\n",
              "      <th>animation</th>\n",
              "      <th>anthropology</th>\n",
              "      <th>architecture</th>\n",
              "      <th>asteroid</th>\n",
              "      <th>astrobiology</th>\n",
              "      <th>astronomy</th>\n",
              "      <th>behavioral economics</th>\n",
              "      <th>biodiversity</th>\n",
              "      <th>bioethics</th>\n",
              "      <th>biology</th>\n",
              "      <th>biomechanics</th>\n",
              "      <th>bionics</th>\n",
              "      <th>biotech</th>\n",
              "      <th>blockchain</th>\n",
              "      <th>brain</th>\n",
              "      <th>business</th>\n",
              "      <th>cancer</th>\n",
              "      <th>chemistry</th>\n",
              "      <th>children</th>\n",
              "      <th>climate change</th>\n",
              "      <th>cognitive science</th>\n",
              "      <th>collaboration</th>\n",
              "      <th>comedy</th>\n",
              "      <th>communication</th>\n",
              "      <th>community</th>\n",
              "      <th>complexity</th>\n",
              "      <th>composing</th>\n",
              "      <th>computers</th>\n",
              "      <th>conducting</th>\n",
              "      <th>conservation</th>\n",
              "      <th>...</th>\n",
              "      <th>religion</th>\n",
              "      <th>robots</th>\n",
              "      <th>sanitation</th>\n",
              "      <th>science</th>\n",
              "      <th>science fiction</th>\n",
              "      <th>security</th>\n",
              "      <th>simplicity</th>\n",
              "      <th>singer</th>\n",
              "      <th>skateboarding</th>\n",
              "      <th>sleep</th>\n",
              "      <th>social change</th>\n",
              "      <th>social media</th>\n",
              "      <th>sociology</th>\n",
              "      <th>software</th>\n",
              "      <th>solar energy</th>\n",
              "      <th>sound</th>\n",
              "      <th>space</th>\n",
              "      <th>speech</th>\n",
              "      <th>sports</th>\n",
              "      <th>statistics</th>\n",
              "      <th>storytelling</th>\n",
              "      <th>success</th>\n",
              "      <th>surveillance</th>\n",
              "      <th>sustainability</th>\n",
              "      <th>synthetic biology</th>\n",
              "      <th>teaching</th>\n",
              "      <th>technology</th>\n",
              "      <th>theater</th>\n",
              "      <th>transportation</th>\n",
              "      <th>trust</th>\n",
              "      <th>urban</th>\n",
              "      <th>urban planning</th>\n",
              "      <th>violence</th>\n",
              "      <th>violin</th>\n",
              "      <th>virtual reality</th>\n",
              "      <th>virus</th>\n",
              "      <th>visualizations</th>\n",
              "      <th>water</th>\n",
              "      <th>women</th>\n",
              "      <th>women in business</th>\n",
              "    </tr>\n",
              "  </thead>\n",
              "  <tbody>\n",
              "    <tr>\n",
              "      <th>0</th>\n",
              "      <td>3523392</td>\n",
              "      <td>272.0</td>\n",
              "      <td>977</td>\n",
              "      <td>Al Gore</td>\n",
              "      <td>15</td>\n",
              "      <td>0</td>\n",
              "      <td>0</td>\n",
              "      <td>0</td>\n",
              "      <td>0</td>\n",
              "      <td>0</td>\n",
              "      <td>0</td>\n",
              "      <td>0</td>\n",
              "      <td>0</td>\n",
              "      <td>0</td>\n",
              "      <td>0</td>\n",
              "      <td>0</td>\n",
              "      <td>0</td>\n",
              "      <td>0</td>\n",
              "      <td>0</td>\n",
              "      <td>0</td>\n",
              "      <td>0</td>\n",
              "      <td>0</td>\n",
              "      <td>0</td>\n",
              "      <td>0</td>\n",
              "      <td>0</td>\n",
              "      <td>0</td>\n",
              "      <td>0</td>\n",
              "      <td>0</td>\n",
              "      <td>0</td>\n",
              "      <td>1</td>\n",
              "      <td>0</td>\n",
              "      <td>0</td>\n",
              "      <td>0</td>\n",
              "      <td>0</td>\n",
              "      <td>0</td>\n",
              "      <td>0</td>\n",
              "      <td>0</td>\n",
              "      <td>0</td>\n",
              "      <td>0</td>\n",
              "      <td>0</td>\n",
              "      <td>...</td>\n",
              "      <td>0</td>\n",
              "      <td>0</td>\n",
              "      <td>0</td>\n",
              "      <td>0</td>\n",
              "      <td>0</td>\n",
              "      <td>0</td>\n",
              "      <td>0</td>\n",
              "      <td>0</td>\n",
              "      <td>0</td>\n",
              "      <td>0</td>\n",
              "      <td>0</td>\n",
              "      <td>0</td>\n",
              "      <td>0</td>\n",
              "      <td>0</td>\n",
              "      <td>0</td>\n",
              "      <td>0</td>\n",
              "      <td>0</td>\n",
              "      <td>0</td>\n",
              "      <td>0</td>\n",
              "      <td>0</td>\n",
              "      <td>0</td>\n",
              "      <td>0</td>\n",
              "      <td>0</td>\n",
              "      <td>0</td>\n",
              "      <td>0</td>\n",
              "      <td>0</td>\n",
              "      <td>0</td>\n",
              "      <td>0</td>\n",
              "      <td>0</td>\n",
              "      <td>0</td>\n",
              "      <td>0</td>\n",
              "      <td>0</td>\n",
              "      <td>0</td>\n",
              "      <td>0</td>\n",
              "      <td>0</td>\n",
              "      <td>0</td>\n",
              "      <td>0</td>\n",
              "      <td>0</td>\n",
              "      <td>0</td>\n",
              "      <td>0</td>\n",
              "    </tr>\n",
              "    <tr>\n",
              "      <th>1</th>\n",
              "      <td>14501685</td>\n",
              "      <td>628.0</td>\n",
              "      <td>1190</td>\n",
              "      <td>Hans Rosling</td>\n",
              "      <td>15</td>\n",
              "      <td>0</td>\n",
              "      <td>0</td>\n",
              "      <td>0</td>\n",
              "      <td>0</td>\n",
              "      <td>0</td>\n",
              "      <td>0</td>\n",
              "      <td>0</td>\n",
              "      <td>0</td>\n",
              "      <td>0</td>\n",
              "      <td>0</td>\n",
              "      <td>0</td>\n",
              "      <td>0</td>\n",
              "      <td>0</td>\n",
              "      <td>0</td>\n",
              "      <td>0</td>\n",
              "      <td>0</td>\n",
              "      <td>0</td>\n",
              "      <td>0</td>\n",
              "      <td>0</td>\n",
              "      <td>0</td>\n",
              "      <td>0</td>\n",
              "      <td>0</td>\n",
              "      <td>0</td>\n",
              "      <td>0</td>\n",
              "      <td>0</td>\n",
              "      <td>0</td>\n",
              "      <td>0</td>\n",
              "      <td>0</td>\n",
              "      <td>0</td>\n",
              "      <td>0</td>\n",
              "      <td>0</td>\n",
              "      <td>0</td>\n",
              "      <td>0</td>\n",
              "      <td>0</td>\n",
              "      <td>0</td>\n",
              "      <td>...</td>\n",
              "      <td>0</td>\n",
              "      <td>0</td>\n",
              "      <td>0</td>\n",
              "      <td>0</td>\n",
              "      <td>0</td>\n",
              "      <td>0</td>\n",
              "      <td>0</td>\n",
              "      <td>0</td>\n",
              "      <td>0</td>\n",
              "      <td>0</td>\n",
              "      <td>0</td>\n",
              "      <td>0</td>\n",
              "      <td>0</td>\n",
              "      <td>0</td>\n",
              "      <td>0</td>\n",
              "      <td>0</td>\n",
              "      <td>0</td>\n",
              "      <td>0</td>\n",
              "      <td>0</td>\n",
              "      <td>0</td>\n",
              "      <td>0</td>\n",
              "      <td>0</td>\n",
              "      <td>0</td>\n",
              "      <td>0</td>\n",
              "      <td>0</td>\n",
              "      <td>0</td>\n",
              "      <td>0</td>\n",
              "      <td>0</td>\n",
              "      <td>0</td>\n",
              "      <td>0</td>\n",
              "      <td>0</td>\n",
              "      <td>0</td>\n",
              "      <td>0</td>\n",
              "      <td>0</td>\n",
              "      <td>0</td>\n",
              "      <td>0</td>\n",
              "      <td>0</td>\n",
              "      <td>0</td>\n",
              "      <td>0</td>\n",
              "      <td>0</td>\n",
              "    </tr>\n",
              "  </tbody>\n",
              "</table>\n",
              "<p>2 rows × 195 columns</p>\n",
              "</div>\n",
              "      <button class=\"colab-df-convert\" onclick=\"convertToInteractive('df-84be721b-8b10-4cea-a2f2-3ef0ef11013f')\"\n",
              "              title=\"Convert this dataframe to an interactive table.\"\n",
              "              style=\"display:none;\">\n",
              "        \n",
              "  <svg xmlns=\"http://www.w3.org/2000/svg\" height=\"24px\"viewBox=\"0 0 24 24\"\n",
              "       width=\"24px\">\n",
              "    <path d=\"M0 0h24v24H0V0z\" fill=\"none\"/>\n",
              "    <path d=\"M18.56 5.44l.94 2.06.94-2.06 2.06-.94-2.06-.94-.94-2.06-.94 2.06-2.06.94zm-11 1L8.5 8.5l.94-2.06 2.06-.94-2.06-.94L8.5 2.5l-.94 2.06-2.06.94zm10 10l.94 2.06.94-2.06 2.06-.94-2.06-.94-.94-2.06-.94 2.06-2.06.94z\"/><path d=\"M17.41 7.96l-1.37-1.37c-.4-.4-.92-.59-1.43-.59-.52 0-1.04.2-1.43.59L10.3 9.45l-7.72 7.72c-.78.78-.78 2.05 0 2.83L4 21.41c.39.39.9.59 1.41.59.51 0 1.02-.2 1.41-.59l7.78-7.78 2.81-2.81c.8-.78.8-2.07 0-2.86zM5.41 20L4 18.59l7.72-7.72 1.47 1.35L5.41 20z\"/>\n",
              "  </svg>\n",
              "      </button>\n",
              "      \n",
              "  <style>\n",
              "    .colab-df-container {\n",
              "      display:flex;\n",
              "      flex-wrap:wrap;\n",
              "      gap: 12px;\n",
              "    }\n",
              "\n",
              "    .colab-df-convert {\n",
              "      background-color: #E8F0FE;\n",
              "      border: none;\n",
              "      border-radius: 50%;\n",
              "      cursor: pointer;\n",
              "      display: none;\n",
              "      fill: #1967D2;\n",
              "      height: 32px;\n",
              "      padding: 0 0 0 0;\n",
              "      width: 32px;\n",
              "    }\n",
              "\n",
              "    .colab-df-convert:hover {\n",
              "      background-color: #E2EBFA;\n",
              "      box-shadow: 0px 1px 2px rgba(60, 64, 67, 0.3), 0px 1px 3px 1px rgba(60, 64, 67, 0.15);\n",
              "      fill: #174EA6;\n",
              "    }\n",
              "\n",
              "    [theme=dark] .colab-df-convert {\n",
              "      background-color: #3B4455;\n",
              "      fill: #D2E3FC;\n",
              "    }\n",
              "\n",
              "    [theme=dark] .colab-df-convert:hover {\n",
              "      background-color: #434B5C;\n",
              "      box-shadow: 0px 1px 3px 1px rgba(0, 0, 0, 0.15);\n",
              "      filter: drop-shadow(0px 1px 2px rgba(0, 0, 0, 0.3));\n",
              "      fill: #FFFFFF;\n",
              "    }\n",
              "  </style>\n",
              "\n",
              "      <script>\n",
              "        const buttonEl =\n",
              "          document.querySelector('#df-84be721b-8b10-4cea-a2f2-3ef0ef11013f button.colab-df-convert');\n",
              "        buttonEl.style.display =\n",
              "          google.colab.kernel.accessAllowed ? 'block' : 'none';\n",
              "\n",
              "        async function convertToInteractive(key) {\n",
              "          const element = document.querySelector('#df-84be721b-8b10-4cea-a2f2-3ef0ef11013f');\n",
              "          const dataTable =\n",
              "            await google.colab.kernel.invokeFunction('convertToInteractive',\n",
              "                                                     [key], {});\n",
              "          if (!dataTable) return;\n",
              "\n",
              "          const docLinkHtml = 'Like what you see? Visit the ' +\n",
              "            '<a target=\"_blank\" href=https://colab.research.google.com/notebooks/data_table.ipynb>data table notebook</a>'\n",
              "            + ' to learn more about interactive tables.';\n",
              "          element.innerHTML = '';\n",
              "          dataTable['output_type'] = 'display_data';\n",
              "          await google.colab.output.renderOutput(dataTable, element);\n",
              "          const docLink = document.createElement('div');\n",
              "          docLink.innerHTML = docLinkHtml;\n",
              "          element.appendChild(docLink);\n",
              "        }\n",
              "      </script>\n",
              "    </div>\n",
              "  </div>\n",
              "  "
            ],
            "text/plain": [
              "      views  comments  duration  ... water  women  women in business\n",
              "0   3523392     272.0       977  ...     0      0                  0\n",
              "1  14501685     628.0      1190  ...     0      0                  0\n",
              "\n",
              "[2 rows x 195 columns]"
            ]
          },
          "metadata": {},
          "execution_count": 45
        }
      ]
    },
    {
      "cell_type": "code",
      "source": [
        "speaker_df=pd.DataFrame(ted_talk_df_clean.groupby('speaker_1')['views'].mean().sort_values(ascending=False))\n",
        "speaker_df.plot.bar()"
      ],
      "metadata": {
        "colab": {
          "base_uri": "https://localhost:8080/",
          "height": 590
        },
        "id": "BCiqKA0WyzM-",
        "outputId": "bccd8e3f-9389-460d-d8d7-7952c80c68f7"
      },
      "execution_count": 46,
      "outputs": [
        {
          "output_type": "execute_result",
          "data": {
            "text/plain": [
              "<matplotlib.axes._subplots.AxesSubplot at 0x7efbe67ca890>"
            ]
          },
          "metadata": {},
          "execution_count": 46
        },
        {
          "output_type": "display_data",
          "data": {
            "image/png": "[encoded data removed]",
            "text/plain": [
              "<Figure size 432x288 with 1 Axes>"
            ]
          },
          "metadata": {
            "needs_background": "light"
          }
        }
      ]
    },
    {
      "cell_type": "code",
      "source": [
        "# In the above bar plot, we can find there is a strong relationship of speaker with views.\n",
        "# Thus we can divide speakers into three categories: Highly Famous:2, Medium Famous:1, Least Famous:0\n",
        "speaker_df.rename(columns={'views':'views_mean'},inplace=True)\n",
        "ted_talk_df_clean = ted_talk_df_clean.merge(speaker_df,on = 'speaker_1',how = 'left')\n",
        "ted_talk_df_clean['speaker_cat'] = ted_talk_df_clean['views_mean'].apply(lambda x : 0 if x < 0.4*10**7 else (1 if 0.4*10**7 <= x < 0.8*10**7 else 2))\n"
      ],
      "metadata": {
        "id": "40zQ2sl00SHR"
      },
      "execution_count": 47,
      "outputs": []
    },
    {
      "cell_type": "code",
      "source": [
        "ted_talk_df_clean[\"speaker_cat\"].value_counts()"
      ],
      "metadata": {
        "colab": {
          "base_uri": "https://localhost:8080/"
        },
        "id": "HmdLSwIC2dD4",
        "outputId": "8306c194-8c87-49ce-8529-e78cf04313d6"
      },
      "execution_count": 48,
      "outputs": [
        {
          "output_type": "execute_result",
          "data": {
            "text/plain": [
              "0    2997\n",
              "1     212\n",
              "2     103\n",
              "Name: speaker_cat, dtype: int64"
            ]
          },
          "metadata": {},
          "execution_count": 48
        }
      ]
    },
    {
      "cell_type": "code",
      "source": [
        "ted_talk_df_clean.drop(['speaker_1','views_mean'],axis=1,inplace=True)"
      ],
      "metadata": {
        "id": "n6ZtEKdj2LUg"
      },
      "execution_count": 49,
      "outputs": []
    },
    {
      "cell_type": "code",
      "source": [
        "ted_talk_df_clean.head(2)"
      ],
      "metadata": {
        "colab": {
          "base_uri": "https://localhost:8080/",
          "height": 222
        },
        "id": "wY971-Ns2Z3N",
        "outputId": "19819eaf-6c0a-47f8-a99c-86abe5b4833e"
      },
      "execution_count": 50,
      "outputs": [
        {
          "output_type": "execute_result",
          "data": {
            "text/html": [
              "\n",
              "  <div id=\"df-2a2579b0-6864-4971-8c50-80395aa040f5\">\n",
              "    <div class=\"colab-df-container\">\n",
              "      <div>\n",
              "<style scoped>\n",
              "    .dataframe tbody tr th:only-of-type {\n",
              "        vertical-align: middle;\n",
              "    }\n",
              "\n",
              "    .dataframe tbody tr th {\n",
              "        vertical-align: top;\n",
              "    }\n",
              "\n",
              "    .dataframe thead th {\n",
              "        text-align: right;\n",
              "    }\n",
              "</style>\n",
              "<table border=\"1\" class=\"dataframe\">\n",
              "  <thead>\n",
              "    <tr style=\"text-align: right;\">\n",
              "      <th></th>\n",
              "      <th>views</th>\n",
              "      <th>comments</th>\n",
              "      <th>duration</th>\n",
              "      <th>years_run</th>\n",
              "      <th>adventure</th>\n",
              "      <th>advertising</th>\n",
              "      <th>agriculture</th>\n",
              "      <th>aircraft</th>\n",
              "      <th>animals</th>\n",
              "      <th>animation</th>\n",
              "      <th>anthropology</th>\n",
              "      <th>architecture</th>\n",
              "      <th>asteroid</th>\n",
              "      <th>astrobiology</th>\n",
              "      <th>astronomy</th>\n",
              "      <th>behavioral economics</th>\n",
              "      <th>biodiversity</th>\n",
              "      <th>bioethics</th>\n",
              "      <th>biology</th>\n",
              "      <th>biomechanics</th>\n",
              "      <th>bionics</th>\n",
              "      <th>biotech</th>\n",
              "      <th>blockchain</th>\n",
              "      <th>brain</th>\n",
              "      <th>business</th>\n",
              "      <th>cancer</th>\n",
              "      <th>chemistry</th>\n",
              "      <th>children</th>\n",
              "      <th>climate change</th>\n",
              "      <th>cognitive science</th>\n",
              "      <th>collaboration</th>\n",
              "      <th>comedy</th>\n",
              "      <th>communication</th>\n",
              "      <th>community</th>\n",
              "      <th>complexity</th>\n",
              "      <th>composing</th>\n",
              "      <th>computers</th>\n",
              "      <th>conducting</th>\n",
              "      <th>conservation</th>\n",
              "      <th>coral reefs</th>\n",
              "      <th>...</th>\n",
              "      <th>robots</th>\n",
              "      <th>sanitation</th>\n",
              "      <th>science</th>\n",
              "      <th>science fiction</th>\n",
              "      <th>security</th>\n",
              "      <th>simplicity</th>\n",
              "      <th>singer</th>\n",
              "      <th>skateboarding</th>\n",
              "      <th>sleep</th>\n",
              "      <th>social change</th>\n",
              "      <th>social media</th>\n",
              "      <th>sociology</th>\n",
              "      <th>software</th>\n",
              "      <th>solar energy</th>\n",
              "      <th>sound</th>\n",
              "      <th>space</th>\n",
              "      <th>speech</th>\n",
              "      <th>sports</th>\n",
              "      <th>statistics</th>\n",
              "      <th>storytelling</th>\n",
              "      <th>success</th>\n",
              "      <th>surveillance</th>\n",
              "      <th>sustainability</th>\n",
              "      <th>synthetic biology</th>\n",
              "      <th>teaching</th>\n",
              "      <th>technology</th>\n",
              "      <th>theater</th>\n",
              "      <th>transportation</th>\n",
              "      <th>trust</th>\n",
              "      <th>urban</th>\n",
              "      <th>urban planning</th>\n",
              "      <th>violence</th>\n",
              "      <th>violin</th>\n",
              "      <th>virtual reality</th>\n",
              "      <th>virus</th>\n",
              "      <th>visualizations</th>\n",
              "      <th>water</th>\n",
              "      <th>women</th>\n",
              "      <th>women in business</th>\n",
              "      <th>speaker_cat</th>\n",
              "    </tr>\n",
              "  </thead>\n",
              "  <tbody>\n",
              "    <tr>\n",
              "      <th>0</th>\n",
              "      <td>3523392</td>\n",
              "      <td>272.0</td>\n",
              "      <td>977</td>\n",
              "      <td>15</td>\n",
              "      <td>0</td>\n",
              "      <td>0</td>\n",
              "      <td>0</td>\n",
              "      <td>0</td>\n",
              "      <td>0</td>\n",
              "      <td>0</td>\n",
              "      <td>0</td>\n",
              "      <td>0</td>\n",
              "      <td>0</td>\n",
              "      <td>0</td>\n",
              "      <td>0</td>\n",
              "      <td>0</td>\n",
              "      <td>0</td>\n",
              "      <td>0</td>\n",
              "      <td>0</td>\n",
              "      <td>0</td>\n",
              "      <td>0</td>\n",
              "      <td>0</td>\n",
              "      <td>0</td>\n",
              "      <td>0</td>\n",
              "      <td>0</td>\n",
              "      <td>0</td>\n",
              "      <td>0</td>\n",
              "      <td>0</td>\n",
              "      <td>1</td>\n",
              "      <td>0</td>\n",
              "      <td>0</td>\n",
              "      <td>0</td>\n",
              "      <td>0</td>\n",
              "      <td>0</td>\n",
              "      <td>0</td>\n",
              "      <td>0</td>\n",
              "      <td>0</td>\n",
              "      <td>0</td>\n",
              "      <td>0</td>\n",
              "      <td>0</td>\n",
              "      <td>...</td>\n",
              "      <td>0</td>\n",
              "      <td>0</td>\n",
              "      <td>0</td>\n",
              "      <td>0</td>\n",
              "      <td>0</td>\n",
              "      <td>0</td>\n",
              "      <td>0</td>\n",
              "      <td>0</td>\n",
              "      <td>0</td>\n",
              "      <td>0</td>\n",
              "      <td>0</td>\n",
              "      <td>0</td>\n",
              "      <td>0</td>\n",
              "      <td>0</td>\n",
              "      <td>0</td>\n",
              "      <td>0</td>\n",
              "      <td>0</td>\n",
              "      <td>0</td>\n",
              "      <td>0</td>\n",
              "      <td>0</td>\n",
              "      <td>0</td>\n",
              "      <td>0</td>\n",
              "      <td>0</td>\n",
              "      <td>0</td>\n",
              "      <td>0</td>\n",
              "      <td>0</td>\n",
              "      <td>0</td>\n",
              "      <td>0</td>\n",
              "      <td>0</td>\n",
              "      <td>0</td>\n",
              "      <td>0</td>\n",
              "      <td>0</td>\n",
              "      <td>0</td>\n",
              "      <td>0</td>\n",
              "      <td>0</td>\n",
              "      <td>0</td>\n",
              "      <td>0</td>\n",
              "      <td>0</td>\n",
              "      <td>0</td>\n",
              "      <td>0</td>\n",
              "    </tr>\n",
              "    <tr>\n",
              "      <th>1</th>\n",
              "      <td>14501685</td>\n",
              "      <td>628.0</td>\n",
              "      <td>1190</td>\n",
              "      <td>15</td>\n",
              "      <td>0</td>\n",
              "      <td>0</td>\n",
              "      <td>0</td>\n",
              "      <td>0</td>\n",
              "      <td>0</td>\n",
              "      <td>0</td>\n",
              "      <td>0</td>\n",
              "      <td>0</td>\n",
              "      <td>0</td>\n",
              "      <td>0</td>\n",
              "      <td>0</td>\n",
              "      <td>0</td>\n",
              "      <td>0</td>\n",
              "      <td>0</td>\n",
              "      <td>0</td>\n",
              "      <td>0</td>\n",
              "      <td>0</td>\n",
              "      <td>0</td>\n",
              "      <td>0</td>\n",
              "      <td>0</td>\n",
              "      <td>0</td>\n",
              "      <td>0</td>\n",
              "      <td>0</td>\n",
              "      <td>0</td>\n",
              "      <td>0</td>\n",
              "      <td>0</td>\n",
              "      <td>0</td>\n",
              "      <td>0</td>\n",
              "      <td>0</td>\n",
              "      <td>0</td>\n",
              "      <td>0</td>\n",
              "      <td>0</td>\n",
              "      <td>0</td>\n",
              "      <td>0</td>\n",
              "      <td>0</td>\n",
              "      <td>0</td>\n",
              "      <td>...</td>\n",
              "      <td>0</td>\n",
              "      <td>0</td>\n",
              "      <td>0</td>\n",
              "      <td>0</td>\n",
              "      <td>0</td>\n",
              "      <td>0</td>\n",
              "      <td>0</td>\n",
              "      <td>0</td>\n",
              "      <td>0</td>\n",
              "      <td>0</td>\n",
              "      <td>0</td>\n",
              "      <td>0</td>\n",
              "      <td>0</td>\n",
              "      <td>0</td>\n",
              "      <td>0</td>\n",
              "      <td>0</td>\n",
              "      <td>0</td>\n",
              "      <td>0</td>\n",
              "      <td>0</td>\n",
              "      <td>0</td>\n",
              "      <td>0</td>\n",
              "      <td>0</td>\n",
              "      <td>0</td>\n",
              "      <td>0</td>\n",
              "      <td>0</td>\n",
              "      <td>0</td>\n",
              "      <td>0</td>\n",
              "      <td>0</td>\n",
              "      <td>0</td>\n",
              "      <td>0</td>\n",
              "      <td>0</td>\n",
              "      <td>0</td>\n",
              "      <td>0</td>\n",
              "      <td>0</td>\n",
              "      <td>0</td>\n",
              "      <td>0</td>\n",
              "      <td>0</td>\n",
              "      <td>0</td>\n",
              "      <td>0</td>\n",
              "      <td>0</td>\n",
              "    </tr>\n",
              "  </tbody>\n",
              "</table>\n",
              "<p>2 rows × 195 columns</p>\n",
              "</div>\n",
              "      <button class=\"colab-df-convert\" onclick=\"convertToInteractive('df-2a2579b0-6864-4971-8c50-80395aa040f5')\"\n",
              "              title=\"Convert this dataframe to an interactive table.\"\n",
              "              style=\"display:none;\">\n",
              "        \n",
              "  <svg xmlns=\"http://www.w3.org/2000/svg\" height=\"24px\"viewBox=\"0 0 24 24\"\n",
              "       width=\"24px\">\n",
              "    <path d=\"M0 0h24v24H0V0z\" fill=\"none\"/>\n",
              "    <path d=\"M18.56 5.44l.94 2.06.94-2.06 2.06-.94-2.06-.94-.94-2.06-.94 2.06-2.06.94zm-11 1L8.5 8.5l.94-2.06 2.06-.94-2.06-.94L8.5 2.5l-.94 2.06-2.06.94zm10 10l.94 2.06.94-2.06 2.06-.94-2.06-.94-.94-2.06-.94 2.06-2.06.94z\"/><path d=\"M17.41 7.96l-1.37-1.37c-.4-.4-.92-.59-1.43-.59-.52 0-1.04.2-1.43.59L10.3 9.45l-7.72 7.72c-.78.78-.78 2.05 0 2.83L4 21.41c.39.39.9.59 1.41.59.51 0 1.02-.2 1.41-.59l7.78-7.78 2.81-2.81c.8-.78.8-2.07 0-2.86zM5.41 20L4 18.59l7.72-7.72 1.47 1.35L5.41 20z\"/>\n",
              "  </svg>\n",
              "      </button>\n",
              "      \n",
              "  <style>\n",
              "    .colab-df-container {\n",
              "      display:flex;\n",
              "      flex-wrap:wrap;\n",
              "      gap: 12px;\n",
              "    }\n",
              "\n",
              "    .colab-df-convert {\n",
              "      background-color: #E8F0FE;\n",
              "      border: none;\n",
              "      border-radius: 50%;\n",
              "      cursor: pointer;\n",
              "      display: none;\n",
              "      fill: #1967D2;\n",
              "      height: 32px;\n",
              "      padding: 0 0 0 0;\n",
              "      width: 32px;\n",
              "    }\n",
              "\n",
              "    .colab-df-convert:hover {\n",
              "      background-color: #E2EBFA;\n",
              "      box-shadow: 0px 1px 2px rgba(60, 64, 67, 0.3), 0px 1px 3px 1px rgba(60, 64, 67, 0.15);\n",
              "      fill: #174EA6;\n",
              "    }\n",
              "\n",
              "    [theme=dark] .colab-df-convert {\n",
              "      background-color: #3B4455;\n",
              "      fill: #D2E3FC;\n",
              "    }\n",
              "\n",
              "    [theme=dark] .colab-df-convert:hover {\n",
              "      background-color: #434B5C;\n",
              "      box-shadow: 0px 1px 3px 1px rgba(0, 0, 0, 0.15);\n",
              "      filter: drop-shadow(0px 1px 2px rgba(0, 0, 0, 0.3));\n",
              "      fill: #FFFFFF;\n",
              "    }\n",
              "  </style>\n",
              "\n",
              "      <script>\n",
              "        const buttonEl =\n",
              "          document.querySelector('#df-2a2579b0-6864-4971-8c50-80395aa040f5 button.colab-df-convert');\n",
              "        buttonEl.style.display =\n",
              "          google.colab.kernel.accessAllowed ? 'block' : 'none';\n",
              "\n",
              "        async function convertToInteractive(key) {\n",
              "          const element = document.querySelector('#df-2a2579b0-6864-4971-8c50-80395aa040f5');\n",
              "          const dataTable =\n",
              "            await google.colab.kernel.invokeFunction('convertToInteractive',\n",
              "                                                     [key], {});\n",
              "          if (!dataTable) return;\n",
              "\n",
              "          const docLinkHtml = 'Like what you see? Visit the ' +\n",
              "            '<a target=\"_blank\" href=https://colab.research.google.com/notebooks/data_table.ipynb>data table notebook</a>'\n",
              "            + ' to learn more about interactive tables.';\n",
              "          element.innerHTML = '';\n",
              "          dataTable['output_type'] = 'display_data';\n",
              "          await google.colab.output.renderOutput(dataTable, element);\n",
              "          const docLink = document.createElement('div');\n",
              "          docLink.innerHTML = docLinkHtml;\n",
              "          element.appendChild(docLink);\n",
              "        }\n",
              "      </script>\n",
              "    </div>\n",
              "  </div>\n",
              "  "
            ],
            "text/plain": [
              "      views  comments  duration  ...  women  women in business  speaker_cat\n",
              "0   3523392     272.0       977  ...      0                  0            0\n",
              "1  14501685     628.0      1190  ...      0                  0            0\n",
              "\n",
              "[2 rows x 195 columns]"
            ]
          },
          "metadata": {},
          "execution_count": 50
        }
      ]
    },
    {
      "cell_type": "markdown",
      "metadata": {
        "id": "BpdOLUa_fNL8"
      },
      "source": [
        "### **5. Treating Anomalies in the Data**\n",
        "\n",
        "While, we are finding out the **general formula** from the experiences, we should identify the outlier or **exceptional observations** for all the important features and keep them aside during the analysis."
      ]
    },
    {
      "cell_type": "code",
      "execution_count": 51,
      "metadata": {
        "colab": {
          "base_uri": "https://localhost:8080/",
          "height": 1000
        },
        "id": "kJQzEXGdE8LZ",
        "outputId": "a2eb8fed-0a68-4373-a582-1107c4c7601b"
      },
      "outputs": [
        {
          "output_type": "stream",
          "name": "stderr",
          "text": [
            "/usr/local/lib/python3.7/dist-packages/seaborn/_decorators.py:43: FutureWarning: Pass the following variable as a keyword arg: x. From version 0.12, the only valid positional argument will be `data`, and passing other arguments without an explicit keyword will result in an error or misinterpretation.\n",
            "  FutureWarning\n",
            "/usr/local/lib/python3.7/dist-packages/seaborn/_decorators.py:43: FutureWarning: Pass the following variable as a keyword arg: x. From version 0.12, the only valid positional argument will be `data`, and passing other arguments without an explicit keyword will result in an error or misinterpretation.\n",
            "  FutureWarning\n",
            "/usr/local/lib/python3.7/dist-packages/seaborn/_decorators.py:43: FutureWarning: Pass the following variable as a keyword arg: x. From version 0.12, the only valid positional argument will be `data`, and passing other arguments without an explicit keyword will result in an error or misinterpretation.\n",
            "  FutureWarning\n",
            "/usr/local/lib/python3.7/dist-packages/seaborn/_decorators.py:43: FutureWarning: Pass the following variable as a keyword arg: x. From version 0.12, the only valid positional argument will be `data`, and passing other arguments without an explicit keyword will result in an error or misinterpretation.\n",
            "  FutureWarning\n"
          ]
        },
        {
          "output_type": "display_data",
          "data": {
            "image/png": "[encoded data removed]",
            "text/plain": [
              "<Figure size 504x504 with 1 Axes>"
            ]
          },
          "metadata": {
            "needs_background": "light"
          }
        },
        {
          "output_type": "display_data",
          "data": {
            "image/png": "[encoded data removed]",
            "text/plain": [
              "<Figure size 504x504 with 1 Axes>"
            ]
          },
          "metadata": {
            "needs_background": "light"
          }
        },
        {
          "output_type": "display_data",
          "data": {
            "image/png": "[encoded data removed]",
            "text/plain": [
              "<Figure size 504x504 with 1 Axes>"
            ]
          },
          "metadata": {
            "needs_background": "light"
          }
        },
        {
          "output_type": "display_data",
          "data": {
            "image/png": "[encoded data removed]",
            "text/plain": [
              "<Figure size 504x504 with 1 Axes>"
            ]
          },
          "metadata": {
            "needs_background": "light"
          }
        }
      ],
      "source": [
        "# Checking outliers in the features\n",
        "for col in ted_talk_df_clean.describe().columns[:4]:\n",
        "  fig = plt.figure(figsize=(7, 7))\n",
        "  sns.boxplot(ted_talk_df_clean[col])\n",
        "plt.show()"
      ]
    },
    {
      "cell_type": "code",
      "execution_count": 52,
      "metadata": {
        "colab": {
          "base_uri": "https://localhost:8080/"
        },
        "id": "n1WS2iEZ2xSS",
        "outputId": "de9593d7-1d6b-4b16-cad7-0f61d3b20922"
      },
      "outputs": [
        {
          "output_type": "execute_result",
          "data": {
            "text/plain": [
              "46"
            ]
          },
          "metadata": {},
          "execution_count": 52
        }
      ],
      "source": [
        "len(ted_talk_df_clean[ted_talk_df_clean['views'] > 1.4*10**7])"
      ]
    },
    {
      "cell_type": "code",
      "execution_count": 53,
      "metadata": {
        "id": "jnCVoEPh3PQ6"
      },
      "outputs": [],
      "source": [
        "# There are only few experiences with more than 1.4*10^7 views. Thus we can remove these experiences\n",
        "ted_talk_df_clean=ted_talk_df_clean[ted_talk_df_clean['views'] < 1.4*10**7]"
      ]
    },
    {
      "cell_type": "code",
      "execution_count": 54,
      "metadata": {
        "colab": {
          "base_uri": "https://localhost:8080/"
        },
        "id": "-KoT62Ls9ICD",
        "outputId": "ae1d9baf-69c8-49df-a601-ce9610e1a058"
      },
      "outputs": [
        {
          "output_type": "execute_result",
          "data": {
            "text/plain": [
              "3"
            ]
          },
          "metadata": {},
          "execution_count": 54
        }
      ],
      "source": [
        "len(ted_talk_df_clean[ted_talk_df_clean['comments'] > 2900])"
      ]
    },
    {
      "cell_type": "code",
      "execution_count": 55,
      "metadata": {
        "id": "F1lyb-bN-JJ5"
      },
      "outputs": [],
      "source": [
        "# There are only few experiences with more than 2900 comments. Thus we can remove these experiences\n",
        "ted_talk_df_clean=ted_talk_df_clean[ted_talk_df_clean['comments'] < 2900]"
      ]
    },
    {
      "cell_type": "code",
      "execution_count": 58,
      "metadata": {
        "colab": {
          "base_uri": "https://localhost:8080/"
        },
        "id": "Gf2pRngN_psr",
        "outputId": "58a3bb8e-1f78-42e1-c9ad-9f88cc2e38da"
      },
      "outputs": [
        {
          "output_type": "execute_result",
          "data": {
            "text/plain": [
              "(3263, 195)"
            ]
          },
          "metadata": {},
          "execution_count": 58
        }
      ],
      "source": [
        "ted_talk_df_clean.shape"
      ]
    },
    {
      "cell_type": "markdown",
      "metadata": {
        "id": "e8K2-gCifJbO"
      },
      "source": [
        "### **6. Final Feature Selection from the Data**\n",
        "\n",
        "Now we need to understand the distribution of the features and the relationship among the features for the decision of transformation, scaling and final selection of features."
      ]
    },
    {
      "cell_type": "code",
      "execution_count": 59,
      "metadata": {
        "id": "VtISk1grOh-y",
        "colab": {
          "base_uri": "https://localhost:8080/",
          "height": 442
        },
        "outputId": "7cf87668-c935-43b3-dcb9-9a1949adee39"
      },
      "outputs": [
        {
          "output_type": "display_data",
          "data": {
            "image/png": "[encoded data removed]",
            "text/plain": [
              "<Figure size 504x504 with 1 Axes>"
            ]
          },
          "metadata": {
            "needs_background": "light"
          }
        }
      ],
      "source": [
        "# Checking the distribution of dependent variable\n",
        "plt.figure(figsize=(7,7))\n",
        "sns.histplot(ted_talk_df_clean['views'], kde=True)\n",
        "plt.show()"
      ]
    },
    {
      "cell_type": "code",
      "execution_count": 60,
      "metadata": {
        "id": "ZMww53zUJShy"
      },
      "outputs": [],
      "source": [
        "# Views is extreamly positively scewed, so need log transformation"
      ]
    },
    {
      "cell_type": "code",
      "execution_count": 61,
      "metadata": {
        "id": "qPStYALaNHkb",
        "colab": {
          "base_uri": "https://localhost:8080/",
          "height": 442
        },
        "outputId": "6f8525c2-a79b-4ad5-8766-82fa7999647b"
      },
      "outputs": [
        {
          "output_type": "display_data",
          "data": {
            "image/png": "[encoded data removed]",
            "text/plain": [
              "<Figure size 504x504 with 1 Axes>"
            ]
          },
          "metadata": {
            "needs_background": "light"
          }
        }
      ],
      "source": [
        "# Checking log transformation\n",
        "plt.figure(figsize=(7,7))\n",
        "sns.histplot(np.log10(ted_talk_df_clean['views']), kde=True)\n",
        "plt.show()"
      ]
    },
    {
      "cell_type": "code",
      "execution_count": 62,
      "metadata": {
        "id": "J3a1C9NYQRTe",
        "colab": {
          "base_uri": "https://localhost:8080/",
          "height": 1000
        },
        "outputId": "b3c8ec4b-7a85-4c60-f238-fb4bc054a6d8"
      },
      "outputs": [
        {
          "output_type": "display_data",
          "data": {
            "image/png": "[encoded data removed]",
            "text/plain": [
              "<Figure size 504x504 with 1 Axes>"
            ]
          },
          "metadata": {
            "needs_background": "light"
          }
        },
        {
          "output_type": "display_data",
          "data": {
            "image/png": "[encoded data removed]",
            "text/plain": [
              "<Figure size 504x504 with 1 Axes>"
            ]
          },
          "metadata": {
            "needs_background": "light"
          }
        },
        {
          "output_type": "display_data",
          "data": {
            "image/png": "[encoded data removed]",
            "text/plain": [
              "<Figure size 504x504 with 1 Axes>"
            ]
          },
          "metadata": {
            "needs_background": "light"
          }
        }
      ],
      "source": [
        "# Checking distribution of all numerical independent variables (except views and topics)\n",
        "for col in ted_talk_df_clean.describe().columns[1:4]:\n",
        "    fig = plt.figure(figsize=(7, 7))\n",
        "    ax = fig.gca()\n",
        "    feature = ted_talk_df_clean[col]\n",
        "    sns.histplot(feature, kde=True)\n",
        "    ax.axvline(feature.mean(), color='magenta', linestyle='dashed', linewidth=2)\n",
        "    ax.axvline(feature.median(), color='cyan', linestyle='dashed', linewidth=2)    \n",
        "plt.show()"
      ]
    },
    {
      "cell_type": "code",
      "execution_count": 63,
      "metadata": {
        "id": "7zuGyGk0TkSr"
      },
      "outputs": [],
      "source": [
        "# We can see the 'comments' and 'duration' are also positively skewed. Thus need log transformation\n",
        "# days old is not positively or negatively sckewed."
      ]
    },
    {
      "cell_type": "code",
      "execution_count": 64,
      "metadata": {
        "colab": {
          "base_uri": "https://localhost:8080/",
          "height": 1000
        },
        "id": "-01JfsDeTMez",
        "outputId": "84661832-908a-4711-a74d-335aac7e3b63"
      },
      "outputs": [
        {
          "output_type": "stream",
          "name": "stderr",
          "text": [
            "/usr/local/lib/python3.7/dist-packages/pandas/core/arraylike.py:364: RuntimeWarning: divide by zero encountered in log10\n",
            "  result = getattr(ufunc, method)(*inputs, **kwargs)\n"
          ]
        },
        {
          "output_type": "display_data",
          "data": {
            "image/png": "[encoded data removed]",
            "text/plain": [
              "<Figure size 504x504 with 1 Axes>"
            ]
          },
          "metadata": {
            "needs_background": "light"
          }
        },
        {
          "output_type": "display_data",
          "data": {
            "image/png": "[encoded data removed]",
            "text/plain": [
              "<Figure size 504x504 with 1 Axes>"
            ]
          },
          "metadata": {
            "needs_background": "light"
          }
        },
        {
          "output_type": "display_data",
          "data": {
            "image/png": "[encoded data removed]",
            "text/plain": [
              "<Figure size 504x504 with 1 Axes>"
            ]
          },
          "metadata": {
            "needs_background": "light"
          }
        }
      ],
      "source": [
        "# Checking distribution after log transformation\n",
        "for col in ted_talk_df_clean.describe().columns[1:4]:\n",
        "    fig = plt.figure(figsize=(7, 7))\n",
        "    ax = fig.gca()\n",
        "    feature = np.log10(ted_talk_df_clean[col])\n",
        "    sns.histplot(feature, kde=True)\n",
        "    ax.axvline(feature.mean(), color='magenta', linestyle='dashed', linewidth=2)\n",
        "    ax.axvline(feature.median(), color='cyan', linestyle='dashed', linewidth=2)    \n",
        "plt.show()"
      ]
    },
    {
      "cell_type": "code",
      "execution_count": 65,
      "metadata": {
        "id": "1oKKVDkwDP5j",
        "colab": {
          "base_uri": "https://localhost:8080/",
          "height": 1000
        },
        "outputId": "1e94a101-97bb-4e58-bb43-b30b0c351e19"
      },
      "outputs": [
        {
          "output_type": "display_data",
          "data": {
            "image/png": "[encoded data removed]",
            "text/plain": [
              "<Figure size 504x504 with 1 Axes>"
            ]
          },
          "metadata": {
            "needs_background": "light"
          }
        },
        {
          "output_type": "display_data",
          "data": {
            "image/png": "[encoded data removed]",
            "text/plain": [
              "<Figure size 504x504 with 1 Axes>"
            ]
          },
          "metadata": {
            "needs_background": "light"
          }
        },
        {
          "output_type": "display_data",
          "data": {
            "image/png": "[encoded data removed]",
            "text/plain": [
              "<Figure size 504x504 with 1 Axes>"
            ]
          },
          "metadata": {
            "needs_background": "light"
          }
        }
      ],
      "source": [
        "# Checking correlation of dependent variable with independent variables\n",
        "for col in ted_talk_df_clean.describe().columns[1:4]:\n",
        "    fig = plt.figure(figsize=(7, 7))\n",
        "    ax = fig.gca()\n",
        "    feature = ted_talk_df_clean[col]\n",
        "    label = ted_talk_df_clean['views']\n",
        "    correlation = feature.corr(label)\n",
        "    plt.scatter(x=feature, y=label)\n",
        "    plt.xlabel(col)\n",
        "    plt.ylabel('Views')\n",
        "    ax.set_title('Views vs ' + col + '- correlation: ' + str(correlation))\n",
        "    fit = np.polyfit(feature, label, deg=1) \n",
        "    p = np.poly1d(fit) \n",
        "    plt.plot(feature,p(feature),\"r--\") \n",
        "plt.show()"
      ]
    },
    {
      "cell_type": "code",
      "execution_count": 66,
      "metadata": {
        "id": "K36wHSH4ZpET",
        "colab": {
          "base_uri": "https://localhost:8080/",
          "height": 499
        },
        "outputId": "aae04381-957b-4fbe-f0b1-01d1490a0624"
      },
      "outputs": [
        {
          "output_type": "display_data",
          "data": {
            "image/png": "[encoded data removed]",
            "text/plain": [
              "<Figure size 720x576 with 2 Axes>"
            ]
          },
          "metadata": {
            "needs_background": "light"
          }
        }
      ],
      "source": [
        "# Checking multicolinearity\n",
        "plt.figure(figsize=(10,8))\n",
        "sns.heatmap(ted_talk_df_clean.iloc[:,:4].corr(), vmin=-1, cmap='Greens', annot=True)\n",
        "plt.title('Correlation between Variables')\n",
        "plt.show()"
      ]
    },
    {
      "cell_type": "code",
      "execution_count": 67,
      "metadata": {
        "id": "663N6vkCbp24",
        "colab": {
          "base_uri": "https://localhost:8080/"
        },
        "outputId": "8639bf15-122b-46d0-bca6-d5f1c3960789"
      },
      "outputs": [
        {
          "output_type": "stream",
          "name": "stderr",
          "text": [
            "/usr/local/lib/python3.7/dist-packages/statsmodels/tools/_testing.py:19: FutureWarning: pandas.util.testing is deprecated. Use the functions in the public API at pandas.testing instead.\n",
            "  import pandas.util.testing as tm\n"
          ]
        }
      ],
      "source": [
        "# Creating function for checking VIF\n",
        "from statsmodels.stats.outliers_influence import variance_inflation_factor\n",
        "def calc_vif(X):\n",
        "\n",
        "    # Calculating VIF\n",
        "    vif = pd.DataFrame()\n",
        "    vif[\"variables\"] = X.columns\n",
        "    vif[\"VIF\"] = [variance_inflation_factor(X.values, i) for i in range(X.shape[1])]\n",
        "\n",
        "    return(vif)"
      ]
    },
    {
      "cell_type": "code",
      "execution_count": 68,
      "metadata": {
        "colab": {
          "base_uri": "https://localhost:8080/",
          "height": 423
        },
        "id": "MwJpHOWWb_Hu",
        "outputId": "6e45ddf3-501b-4627-d6dd-77f905c88249"
      },
      "outputs": [
        {
          "output_type": "execute_result",
          "data": {
            "text/html": [
              "\n",
              "  <div id=\"df-9fc0f1af-f774-466e-a1dd-ad888febf4cb\">\n",
              "    <div class=\"colab-df-container\">\n",
              "      <div>\n",
              "<style scoped>\n",
              "    .dataframe tbody tr th:only-of-type {\n",
              "        vertical-align: middle;\n",
              "    }\n",
              "\n",
              "    .dataframe tbody tr th {\n",
              "        vertical-align: top;\n",
              "    }\n",
              "\n",
              "    .dataframe thead th {\n",
              "        text-align: right;\n",
              "    }\n",
              "</style>\n",
              "<table border=\"1\" class=\"dataframe\">\n",
              "  <thead>\n",
              "    <tr style=\"text-align: right;\">\n",
              "      <th></th>\n",
              "      <th>variables</th>\n",
              "      <th>VIF</th>\n",
              "    </tr>\n",
              "  </thead>\n",
              "  <tbody>\n",
              "    <tr>\n",
              "      <th>0</th>\n",
              "      <td>comments</td>\n",
              "      <td>2.215831</td>\n",
              "    </tr>\n",
              "    <tr>\n",
              "      <th>1</th>\n",
              "      <td>duration</td>\n",
              "      <td>6.858496</td>\n",
              "    </tr>\n",
              "    <tr>\n",
              "      <th>2</th>\n",
              "      <td>years_run</td>\n",
              "      <td>5.777993</td>\n",
              "    </tr>\n",
              "    <tr>\n",
              "      <th>3</th>\n",
              "      <td>adventure</td>\n",
              "      <td>1.005836</td>\n",
              "    </tr>\n",
              "    <tr>\n",
              "      <th>4</th>\n",
              "      <td>advertising</td>\n",
              "      <td>1.010795</td>\n",
              "    </tr>\n",
              "    <tr>\n",
              "      <th>...</th>\n",
              "      <td>...</td>\n",
              "      <td>...</td>\n",
              "    </tr>\n",
              "    <tr>\n",
              "      <th>189</th>\n",
              "      <td>visualizations</td>\n",
              "      <td>1.003223</td>\n",
              "    </tr>\n",
              "    <tr>\n",
              "      <th>190</th>\n",
              "      <td>water</td>\n",
              "      <td>1.004824</td>\n",
              "    </tr>\n",
              "    <tr>\n",
              "      <th>191</th>\n",
              "      <td>women</td>\n",
              "      <td>1.028606</td>\n",
              "    </tr>\n",
              "    <tr>\n",
              "      <th>192</th>\n",
              "      <td>women in business</td>\n",
              "      <td>1.002137</td>\n",
              "    </tr>\n",
              "    <tr>\n",
              "      <th>193</th>\n",
              "      <td>speaker_cat</td>\n",
              "      <td>1.353668</td>\n",
              "    </tr>\n",
              "  </tbody>\n",
              "</table>\n",
              "<p>194 rows × 2 columns</p>\n",
              "</div>\n",
              "      <button class=\"colab-df-convert\" onclick=\"convertToInteractive('df-9fc0f1af-f774-466e-a1dd-ad888febf4cb')\"\n",
              "              title=\"Convert this dataframe to an interactive table.\"\n",
              "              style=\"display:none;\">\n",
              "        \n",
              "  <svg xmlns=\"http://www.w3.org/2000/svg\" height=\"24px\"viewBox=\"0 0 24 24\"\n",
              "       width=\"24px\">\n",
              "    <path d=\"M0 0h24v24H0V0z\" fill=\"none\"/>\n",
              "    <path d=\"M18.56 5.44l.94 2.06.94-2.06 2.06-.94-2.06-.94-.94-2.06-.94 2.06-2.06.94zm-11 1L8.5 8.5l.94-2.06 2.06-.94-2.06-.94L8.5 2.5l-.94 2.06-2.06.94zm10 10l.94 2.06.94-2.06 2.06-.94-2.06-.94-.94-2.06-.94 2.06-2.06.94z\"/><path d=\"M17.41 7.96l-1.37-1.37c-.4-.4-.92-.59-1.43-.59-.52 0-1.04.2-1.43.59L10.3 9.45l-7.72 7.72c-.78.78-.78 2.05 0 2.83L4 21.41c.39.39.9.59 1.41.59.51 0 1.02-.2 1.41-.59l7.78-7.78 2.81-2.81c.8-.78.8-2.07 0-2.86zM5.41 20L4 18.59l7.72-7.72 1.47 1.35L5.41 20z\"/>\n",
              "  </svg>\n",
              "      </button>\n",
              "      \n",
              "  <style>\n",
              "    .colab-df-container {\n",
              "      display:flex;\n",
              "      flex-wrap:wrap;\n",
              "      gap: 12px;\n",
              "    }\n",
              "\n",
              "    .colab-df-convert {\n",
              "      background-color: #E8F0FE;\n",
              "      border: none;\n",
              "      border-radius: 50%;\n",
              "      cursor: pointer;\n",
              "      display: none;\n",
              "      fill: #1967D2;\n",
              "      height: 32px;\n",
              "      padding: 0 0 0 0;\n",
              "      width: 32px;\n",
              "    }\n",
              "\n",
              "    .colab-df-convert:hover {\n",
              "      background-color: #E2EBFA;\n",
              "      box-shadow: 0px 1px 2px rgba(60, 64, 67, 0.3), 0px 1px 3px 1px rgba(60, 64, 67, 0.15);\n",
              "      fill: #174EA6;\n",
              "    }\n",
              "\n",
              "    [theme=dark] .colab-df-convert {\n",
              "      background-color: #3B4455;\n",
              "      fill: #D2E3FC;\n",
              "    }\n",
              "\n",
              "    [theme=dark] .colab-df-convert:hover {\n",
              "      background-color: #434B5C;\n",
              "      box-shadow: 0px 1px 3px 1px rgba(0, 0, 0, 0.15);\n",
              "      filter: drop-shadow(0px 1px 2px rgba(0, 0, 0, 0.3));\n",
              "      fill: #FFFFFF;\n",
              "    }\n",
              "  </style>\n",
              "\n",
              "      <script>\n",
              "        const buttonEl =\n",
              "          document.querySelector('#df-9fc0f1af-f774-466e-a1dd-ad888febf4cb button.colab-df-convert');\n",
              "        buttonEl.style.display =\n",
              "          google.colab.kernel.accessAllowed ? 'block' : 'none';\n",
              "\n",
              "        async function convertToInteractive(key) {\n",
              "          const element = document.querySelector('#df-9fc0f1af-f774-466e-a1dd-ad888febf4cb');\n",
              "          const dataTable =\n",
              "            await google.colab.kernel.invokeFunction('convertToInteractive',\n",
              "                                                     [key], {});\n",
              "          if (!dataTable) return;\n",
              "\n",
              "          const docLinkHtml = 'Like what you see? Visit the ' +\n",
              "            '<a target=\"_blank\" href=https://colab.research.google.com/notebooks/data_table.ipynb>data table notebook</a>'\n",
              "            + ' to learn more about interactive tables.';\n",
              "          element.innerHTML = '';\n",
              "          dataTable['output_type'] = 'display_data';\n",
              "          await google.colab.output.renderOutput(dataTable, element);\n",
              "          const docLink = document.createElement('div');\n",
              "          docLink.innerHTML = docLinkHtml;\n",
              "          element.appendChild(docLink);\n",
              "        }\n",
              "      </script>\n",
              "    </div>\n",
              "  </div>\n",
              "  "
            ],
            "text/plain": [
              "             variables       VIF\n",
              "0             comments  2.215831\n",
              "1             duration  6.858496\n",
              "2            years_run  5.777993\n",
              "3            adventure  1.005836\n",
              "4          advertising  1.010795\n",
              "..                 ...       ...\n",
              "189     visualizations  1.003223\n",
              "190              water  1.004824\n",
              "191              women  1.028606\n",
              "192  women in business  1.002137\n",
              "193        speaker_cat  1.353668\n",
              "\n",
              "[194 rows x 2 columns]"
            ]
          },
          "metadata": {},
          "execution_count": 68
        }
      ],
      "source": [
        "calc_vif(ted_talk_df_clean[[i for i in ted_talk_df_clean.describe().columns if i not in ['views']]])"
      ]
    },
    {
      "cell_type": "code",
      "execution_count": 69,
      "metadata": {
        "id": "bW7XNkmdks6L"
      },
      "outputs": [],
      "source": [
        "# All the VIF are below 10\n",
        "# Thus there is no problem of multicolinearity and no need to remove any feature"
      ]
    },
    {
      "cell_type": "markdown",
      "metadata": {
        "id": "buQvXzTAL-zk"
      },
      "source": [
        "### **7. Preparation of Input and Output Data**"
      ]
    },
    {
      "cell_type": "code",
      "execution_count": 70,
      "metadata": {
        "colab": {
          "base_uri": "https://localhost:8080/"
        },
        "id": "-77YARCeTMq4",
        "outputId": "195c3c42-249b-44d1-8c34-098b1f2e9c1c"
      },
      "outputs": [
        {
          "output_type": "stream",
          "name": "stdout",
          "text": [
            "['biomechanics', 'environment', 'urban planning', 'media', 'money', 'urban', 'engineering', 'guitar', 'mindfulness', 'neuroscience', 'refugees', 'culture', 'advertising', 'fashion', 'technology', 'asteroid', 'coral reefs', 'music', 'sanitation', 'anthropology', 'communication', 'architecture', 'personality', 'science fiction', 'synthetic biology', 'women in business', 'policy', 'evolution', 'finance', 'future', 'violin', 'disability', 'biotech', 'evolutionary psychology', 'military', 'garden', 'homelessness', 'biodiversity', 'business', 'medical research', 'industrial design', 'gaming', 'drones', 'painting', 'sound', 'forensics', 'presentation', 'complexity', 'performance', 'innovation', 'biology', 'blockchain', 'nuclear weapons', 'diversity', 'humor', 'machine learning', 'singer', 'medicine', 'conducting', 'energy', 'years_run', 'animation', 'leadership', 'mental health', 'religion', 'surveillance', 'invention', 'education', 'investment', 'morality', 'trust', 'privacy', 'success', 'dance', 'philosophy', 'physiology', 'transportation', 'genetics', 'performance art', 'indigenous peoples', 'animals', 'astronomy', 'nature', 'graphic design', 'photography', 'global issues', 'open-source', 'mobility', 'cancer', 'parenting', 'speaker_cat', 'speech', 'plants', 'microbes', 'collaboration', 'disaster relief', 'software', 'dinosaurs', 'life experience', 'violence', 'bioethics', 'economics', 'space', 'statistics', 'history', 'storytelling', 'agriculture', 'epidemiology', 'skateboarding', 'relationships', 'teaching', 'social media', 'molecular biology', 'exploration', 'sports', 'novel', 'physics', 'glacier', 'prison', 'entrepreneur', 'origami', 'virtual reality', 'community', 'simplicity', 'cognitive science', 'magic', 'robots', 'health', 'language', 'journalism', 'philanthropy', 'security', 'sleep', 'flight', 'brain', 'materials', 'climate change', 'computers', 'cosmos', 'psychology', 'politics', 'science', 'product design', 'children', 'poetry', 'comments', 'bionics', 'justice system', 'global development', 'literature', 'women', 'comedy', 'solar energy', 'quantum physics', 'duration', 'green', 'chemistry', 'human rights', 'criminal justice', 'microfinance', 'museums', 'nuclear energy', 'creativity', 'death', 'sociology', 'encryption', 'happiness', 'virus', 'theater', 'paleontology', 'behavioral economics', 'astrobiology', 'humanity', 'social change', 'immigration', 'public health', 'sustainability', 'water', 'plastic', 'adventure', 'marketing', 'health care', 'library', 'composing', 'interface design', 'oceans', 'primates', 'visualizations', 'aircraft', 'marine biology', 'design', 'peace', 'gender equality', 'conservation']\n"
          ]
        }
      ],
      "source": [
        "# Creating dependent(output) and independent(input) variable\n",
        "dependent_variable='views'\n",
        "independent_variables=list(set(ted_talk_df_clean.describe().columns)-{dependent_variable})\n",
        "print(independent_variables)"
      ]
    },
    {
      "cell_type": "code",
      "execution_count": 71,
      "metadata": {
        "id": "L5oJS69fMhKk",
        "colab": {
          "base_uri": "https://localhost:8080/"
        },
        "outputId": "d8d549d3-59ac-43d0-8172-87efb6f14da7"
      },
      "outputs": [
        {
          "output_type": "stream",
          "name": "stderr",
          "text": [
            "/usr/local/lib/python3.7/dist-packages/pandas/core/frame.py:3641: PerformanceWarning: DataFrame is highly fragmented.  This is usually the result of calling `frame.insert` many times, which has poor performance.  Consider joining all columns at once using pd.concat(axis=1) instead.  To get a de-fragmented frame, use `newframe = frame.copy()`\n",
            "  self[k1] = value[k2]\n"
          ]
        }
      ],
      "source": [
        "# Creating normalized input and output dataset\n",
        "X = np.log10(ted_talk_df_clean[['duration', 'comments']])\n",
        "X[list(set(independent_variables)-{'duration', 'comments'})]=ted_talk_df_clean[list(set(independent_variables)-{'duration', 'comments'})]\n",
        "\n",
        "y = np.log10(ted_talk_df_clean[dependent_variable])"
      ]
    },
    {
      "cell_type": "code",
      "execution_count": 72,
      "metadata": {
        "colab": {
          "base_uri": "https://localhost:8080/",
          "height": 0
        },
        "id": "YV-1tsa2oqEb",
        "outputId": "1cec1644-383e-494a-ad8e-38ccc62abf87"
      },
      "outputs": [
        {
          "output_type": "execute_result",
          "data": {
            "text/html": [
              "\n",
              "  <div id=\"df-de74cdc3-b98b-47ff-8382-ecdc6ea436de\">\n",
              "    <div class=\"colab-df-container\">\n",
              "      <div>\n",
              "<style scoped>\n",
              "    .dataframe tbody tr th:only-of-type {\n",
              "        vertical-align: middle;\n",
              "    }\n",
              "\n",
              "    .dataframe tbody tr th {\n",
              "        vertical-align: top;\n",
              "    }\n",
              "\n",
              "    .dataframe thead th {\n",
              "        text-align: right;\n",
              "    }\n",
              "</style>\n",
              "<table border=\"1\" class=\"dataframe\">\n",
              "  <thead>\n",
              "    <tr style=\"text-align: right;\">\n",
              "      <th></th>\n",
              "      <th>duration</th>\n",
              "      <th>comments</th>\n",
              "      <th>biomechanics</th>\n",
              "      <th>environment</th>\n",
              "      <th>urban planning</th>\n",
              "      <th>media</th>\n",
              "      <th>urban</th>\n",
              "      <th>money</th>\n",
              "      <th>engineering</th>\n",
              "      <th>guitar</th>\n",
              "      <th>mindfulness</th>\n",
              "      <th>neuroscience</th>\n",
              "      <th>refugees</th>\n",
              "      <th>culture</th>\n",
              "      <th>advertising</th>\n",
              "      <th>fashion</th>\n",
              "      <th>technology</th>\n",
              "      <th>coral reefs</th>\n",
              "      <th>asteroid</th>\n",
              "      <th>music</th>\n",
              "      <th>sanitation</th>\n",
              "      <th>anthropology</th>\n",
              "      <th>communication</th>\n",
              "      <th>architecture</th>\n",
              "      <th>personality</th>\n",
              "      <th>science fiction</th>\n",
              "      <th>synthetic biology</th>\n",
              "      <th>women in business</th>\n",
              "      <th>policy</th>\n",
              "      <th>evolution</th>\n",
              "      <th>finance</th>\n",
              "      <th>future</th>\n",
              "      <th>violin</th>\n",
              "      <th>disability</th>\n",
              "      <th>biotech</th>\n",
              "      <th>evolutionary psychology</th>\n",
              "      <th>military</th>\n",
              "      <th>garden</th>\n",
              "      <th>homelessness</th>\n",
              "      <th>biodiversity</th>\n",
              "      <th>...</th>\n",
              "      <th>quantum physics</th>\n",
              "      <th>green</th>\n",
              "      <th>chemistry</th>\n",
              "      <th>human rights</th>\n",
              "      <th>criminal justice</th>\n",
              "      <th>microfinance</th>\n",
              "      <th>museums</th>\n",
              "      <th>nuclear energy</th>\n",
              "      <th>creativity</th>\n",
              "      <th>death</th>\n",
              "      <th>sociology</th>\n",
              "      <th>encryption</th>\n",
              "      <th>happiness</th>\n",
              "      <th>virus</th>\n",
              "      <th>theater</th>\n",
              "      <th>paleontology</th>\n",
              "      <th>behavioral economics</th>\n",
              "      <th>astrobiology</th>\n",
              "      <th>humanity</th>\n",
              "      <th>social change</th>\n",
              "      <th>immigration</th>\n",
              "      <th>public health</th>\n",
              "      <th>sustainability</th>\n",
              "      <th>water</th>\n",
              "      <th>plastic</th>\n",
              "      <th>adventure</th>\n",
              "      <th>marketing</th>\n",
              "      <th>health care</th>\n",
              "      <th>library</th>\n",
              "      <th>composing</th>\n",
              "      <th>interface design</th>\n",
              "      <th>oceans</th>\n",
              "      <th>primates</th>\n",
              "      <th>visualizations</th>\n",
              "      <th>aircraft</th>\n",
              "      <th>marine biology</th>\n",
              "      <th>design</th>\n",
              "      <th>peace</th>\n",
              "      <th>gender equality</th>\n",
              "      <th>conservation</th>\n",
              "    </tr>\n",
              "  </thead>\n",
              "  <tbody>\n",
              "    <tr>\n",
              "      <th>count</th>\n",
              "      <td>3263.000000</td>\n",
              "      <td>3263.000000</td>\n",
              "      <td>3263.000000</td>\n",
              "      <td>3263.000000</td>\n",
              "      <td>3263.000000</td>\n",
              "      <td>3263.000000</td>\n",
              "      <td>3263.000000</td>\n",
              "      <td>3263.000000</td>\n",
              "      <td>3263.000000</td>\n",
              "      <td>3263.000000</td>\n",
              "      <td>3263.000000</td>\n",
              "      <td>3263.000000</td>\n",
              "      <td>3263.000000</td>\n",
              "      <td>3263.000000</td>\n",
              "      <td>3263.000000</td>\n",
              "      <td>3263.000000</td>\n",
              "      <td>3263.000000</td>\n",
              "      <td>3263.000000</td>\n",
              "      <td>3263.000000</td>\n",
              "      <td>3263.000000</td>\n",
              "      <td>3263.000000</td>\n",
              "      <td>3263.000000</td>\n",
              "      <td>3263.000000</td>\n",
              "      <td>3263.000000</td>\n",
              "      <td>3263.000000</td>\n",
              "      <td>3263.000000</td>\n",
              "      <td>3263.000000</td>\n",
              "      <td>3263.000000</td>\n",
              "      <td>3263.000000</td>\n",
              "      <td>3263.000000</td>\n",
              "      <td>3263.000000</td>\n",
              "      <td>3263.000000</td>\n",
              "      <td>3263.000000</td>\n",
              "      <td>3263.000000</td>\n",
              "      <td>3263.000000</td>\n",
              "      <td>3263.000000</td>\n",
              "      <td>3263.000000</td>\n",
              "      <td>3263.000000</td>\n",
              "      <td>3263.000000</td>\n",
              "      <td>3263.000000</td>\n",
              "      <td>...</td>\n",
              "      <td>3263.000000</td>\n",
              "      <td>3263.000000</td>\n",
              "      <td>3263.000000</td>\n",
              "      <td>3263.000000</td>\n",
              "      <td>3263.000000</td>\n",
              "      <td>3263.000000</td>\n",
              "      <td>3263.000000</td>\n",
              "      <td>3263.000000</td>\n",
              "      <td>3263.000000</td>\n",
              "      <td>3263.000000</td>\n",
              "      <td>3263.000000</td>\n",
              "      <td>3263.000000</td>\n",
              "      <td>3263.000000</td>\n",
              "      <td>3263.000000</td>\n",
              "      <td>3263.000000</td>\n",
              "      <td>3263.000000</td>\n",
              "      <td>3263.000000</td>\n",
              "      <td>3263.000000</td>\n",
              "      <td>3263.000000</td>\n",
              "      <td>3263.000000</td>\n",
              "      <td>3263.000000</td>\n",
              "      <td>3263.000000</td>\n",
              "      <td>3263.000000</td>\n",
              "      <td>3263.000000</td>\n",
              "      <td>3263.000000</td>\n",
              "      <td>3263.000000</td>\n",
              "      <td>3263.000000</td>\n",
              "      <td>3263.000000</td>\n",
              "      <td>3263.000000</td>\n",
              "      <td>3263.000000</td>\n",
              "      <td>3263.000000</td>\n",
              "      <td>3263.000000</td>\n",
              "      <td>3263.000000</td>\n",
              "      <td>3263.000000</td>\n",
              "      <td>3263.000000</td>\n",
              "      <td>3263.000000</td>\n",
              "      <td>3263.000000</td>\n",
              "      <td>3263.000000</td>\n",
              "      <td>3263.000000</td>\n",
              "      <td>3263.000000</td>\n",
              "    </tr>\n",
              "    <tr>\n",
              "      <th>mean</th>\n",
              "      <td>2.857089</td>\n",
              "      <td>-inf</td>\n",
              "      <td>0.000306</td>\n",
              "      <td>0.003678</td>\n",
              "      <td>0.002145</td>\n",
              "      <td>0.001839</td>\n",
              "      <td>0.000306</td>\n",
              "      <td>0.000306</td>\n",
              "      <td>0.001532</td>\n",
              "      <td>0.001532</td>\n",
              "      <td>0.000306</td>\n",
              "      <td>0.015323</td>\n",
              "      <td>0.000919</td>\n",
              "      <td>0.001532</td>\n",
              "      <td>0.000919</td>\n",
              "      <td>0.002145</td>\n",
              "      <td>0.010113</td>\n",
              "      <td>0.000613</td>\n",
              "      <td>0.000306</td>\n",
              "      <td>0.008888</td>\n",
              "      <td>0.000306</td>\n",
              "      <td>0.001532</td>\n",
              "      <td>0.001226</td>\n",
              "      <td>0.013178</td>\n",
              "      <td>0.000306</td>\n",
              "      <td>0.000306</td>\n",
              "      <td>0.000306</td>\n",
              "      <td>0.000306</td>\n",
              "      <td>0.000919</td>\n",
              "      <td>0.001839</td>\n",
              "      <td>0.000919</td>\n",
              "      <td>0.004597</td>\n",
              "      <td>0.000919</td>\n",
              "      <td>0.000306</td>\n",
              "      <td>0.001226</td>\n",
              "      <td>0.000306</td>\n",
              "      <td>0.000613</td>\n",
              "      <td>0.000613</td>\n",
              "      <td>0.000306</td>\n",
              "      <td>0.000306</td>\n",
              "      <td>...</td>\n",
              "      <td>0.000919</td>\n",
              "      <td>0.000919</td>\n",
              "      <td>0.001839</td>\n",
              "      <td>0.000306</td>\n",
              "      <td>0.000613</td>\n",
              "      <td>0.000306</td>\n",
              "      <td>0.000613</td>\n",
              "      <td>0.001226</td>\n",
              "      <td>0.000919</td>\n",
              "      <td>0.000613</td>\n",
              "      <td>0.000306</td>\n",
              "      <td>0.000306</td>\n",
              "      <td>0.001226</td>\n",
              "      <td>0.000306</td>\n",
              "      <td>0.000919</td>\n",
              "      <td>0.003065</td>\n",
              "      <td>0.002145</td>\n",
              "      <td>0.000613</td>\n",
              "      <td>0.003065</td>\n",
              "      <td>0.009500</td>\n",
              "      <td>0.000919</td>\n",
              "      <td>0.001839</td>\n",
              "      <td>0.001839</td>\n",
              "      <td>0.001226</td>\n",
              "      <td>0.000613</td>\n",
              "      <td>0.000306</td>\n",
              "      <td>0.001532</td>\n",
              "      <td>0.000919</td>\n",
              "      <td>0.000613</td>\n",
              "      <td>0.000613</td>\n",
              "      <td>0.000613</td>\n",
              "      <td>0.004903</td>\n",
              "      <td>0.000919</td>\n",
              "      <td>0.000613</td>\n",
              "      <td>0.000306</td>\n",
              "      <td>0.003065</td>\n",
              "      <td>0.018694</td>\n",
              "      <td>0.002145</td>\n",
              "      <td>0.000306</td>\n",
              "      <td>0.000919</td>\n",
              "    </tr>\n",
              "    <tr>\n",
              "      <th>std</th>\n",
              "      <td>0.204628</td>\n",
              "      <td>NaN</td>\n",
              "      <td>0.017506</td>\n",
              "      <td>0.060541</td>\n",
              "      <td>0.046274</td>\n",
              "      <td>0.042848</td>\n",
              "      <td>0.017506</td>\n",
              "      <td>0.017506</td>\n",
              "      <td>0.039121</td>\n",
              "      <td>0.039121</td>\n",
              "      <td>0.017506</td>\n",
              "      <td>0.122854</td>\n",
              "      <td>0.030312</td>\n",
              "      <td>0.039121</td>\n",
              "      <td>0.030312</td>\n",
              "      <td>0.046274</td>\n",
              "      <td>0.100071</td>\n",
              "      <td>0.024754</td>\n",
              "      <td>0.017506</td>\n",
              "      <td>0.093868</td>\n",
              "      <td>0.017506</td>\n",
              "      <td>0.039121</td>\n",
              "      <td>0.034996</td>\n",
              "      <td>0.114054</td>\n",
              "      <td>0.017506</td>\n",
              "      <td>0.017506</td>\n",
              "      <td>0.017506</td>\n",
              "      <td>0.017506</td>\n",
              "      <td>0.030312</td>\n",
              "      <td>0.042848</td>\n",
              "      <td>0.030312</td>\n",
              "      <td>0.067656</td>\n",
              "      <td>0.030312</td>\n",
              "      <td>0.017506</td>\n",
              "      <td>0.034996</td>\n",
              "      <td>0.017506</td>\n",
              "      <td>0.024754</td>\n",
              "      <td>0.024754</td>\n",
              "      <td>0.017506</td>\n",
              "      <td>0.017506</td>\n",
              "      <td>...</td>\n",
              "      <td>0.030312</td>\n",
              "      <td>0.030312</td>\n",
              "      <td>0.042848</td>\n",
              "      <td>0.017506</td>\n",
              "      <td>0.024754</td>\n",
              "      <td>0.017506</td>\n",
              "      <td>0.024754</td>\n",
              "      <td>0.034996</td>\n",
              "      <td>0.030312</td>\n",
              "      <td>0.024754</td>\n",
              "      <td>0.017506</td>\n",
              "      <td>0.017506</td>\n",
              "      <td>0.034996</td>\n",
              "      <td>0.017506</td>\n",
              "      <td>0.030312</td>\n",
              "      <td>0.055283</td>\n",
              "      <td>0.046274</td>\n",
              "      <td>0.024754</td>\n",
              "      <td>0.055283</td>\n",
              "      <td>0.097021</td>\n",
              "      <td>0.030312</td>\n",
              "      <td>0.042848</td>\n",
              "      <td>0.042848</td>\n",
              "      <td>0.034996</td>\n",
              "      <td>0.024754</td>\n",
              "      <td>0.017506</td>\n",
              "      <td>0.039121</td>\n",
              "      <td>0.030312</td>\n",
              "      <td>0.024754</td>\n",
              "      <td>0.024754</td>\n",
              "      <td>0.024754</td>\n",
              "      <td>0.069864</td>\n",
              "      <td>0.030312</td>\n",
              "      <td>0.024754</td>\n",
              "      <td>0.017506</td>\n",
              "      <td>0.055283</td>\n",
              "      <td>0.135464</td>\n",
              "      <td>0.046274</td>\n",
              "      <td>0.017506</td>\n",
              "      <td>0.030312</td>\n",
              "    </tr>\n",
              "    <tr>\n",
              "      <th>min</th>\n",
              "      <td>2.130334</td>\n",
              "      <td>-inf</td>\n",
              "      <td>0.000000</td>\n",
              "      <td>0.000000</td>\n",
              "      <td>0.000000</td>\n",
              "      <td>0.000000</td>\n",
              "      <td>0.000000</td>\n",
              "      <td>0.000000</td>\n",
              "      <td>0.000000</td>\n",
              "      <td>0.000000</td>\n",
              "      <td>0.000000</td>\n",
              "      <td>0.000000</td>\n",
              "      <td>0.000000</td>\n",
              "      <td>0.000000</td>\n",
              "      <td>0.000000</td>\n",
              "      <td>0.000000</td>\n",
              "      <td>0.000000</td>\n",
              "      <td>0.000000</td>\n",
              "      <td>0.000000</td>\n",
              "      <td>0.000000</td>\n",
              "      <td>0.000000</td>\n",
              "      <td>0.000000</td>\n",
              "      <td>0.000000</td>\n",
              "      <td>0.000000</td>\n",
              "      <td>0.000000</td>\n",
              "      <td>0.000000</td>\n",
              "      <td>0.000000</td>\n",
              "      <td>0.000000</td>\n",
              "      <td>0.000000</td>\n",
              "      <td>0.000000</td>\n",
              "      <td>0.000000</td>\n",
              "      <td>0.000000</td>\n",
              "      <td>0.000000</td>\n",
              "      <td>0.000000</td>\n",
              "      <td>0.000000</td>\n",
              "      <td>0.000000</td>\n",
              "      <td>0.000000</td>\n",
              "      <td>0.000000</td>\n",
              "      <td>0.000000</td>\n",
              "      <td>0.000000</td>\n",
              "      <td>...</td>\n",
              "      <td>0.000000</td>\n",
              "      <td>0.000000</td>\n",
              "      <td>0.000000</td>\n",
              "      <td>0.000000</td>\n",
              "      <td>0.000000</td>\n",
              "      <td>0.000000</td>\n",
              "      <td>0.000000</td>\n",
              "      <td>0.000000</td>\n",
              "      <td>0.000000</td>\n",
              "      <td>0.000000</td>\n",
              "      <td>0.000000</td>\n",
              "      <td>0.000000</td>\n",
              "      <td>0.000000</td>\n",
              "      <td>0.000000</td>\n",
              "      <td>0.000000</td>\n",
              "      <td>0.000000</td>\n",
              "      <td>0.000000</td>\n",
              "      <td>0.000000</td>\n",
              "      <td>0.000000</td>\n",
              "      <td>0.000000</td>\n",
              "      <td>0.000000</td>\n",
              "      <td>0.000000</td>\n",
              "      <td>0.000000</td>\n",
              "      <td>0.000000</td>\n",
              "      <td>0.000000</td>\n",
              "      <td>0.000000</td>\n",
              "      <td>0.000000</td>\n",
              "      <td>0.000000</td>\n",
              "      <td>0.000000</td>\n",
              "      <td>0.000000</td>\n",
              "      <td>0.000000</td>\n",
              "      <td>0.000000</td>\n",
              "      <td>0.000000</td>\n",
              "      <td>0.000000</td>\n",
              "      <td>0.000000</td>\n",
              "      <td>0.000000</td>\n",
              "      <td>0.000000</td>\n",
              "      <td>0.000000</td>\n",
              "      <td>0.000000</td>\n",
              "      <td>0.000000</td>\n",
              "    </tr>\n",
              "    <tr>\n",
              "      <th>25%</th>\n",
              "      <td>2.759668</td>\n",
              "      <td>1.579784</td>\n",
              "      <td>0.000000</td>\n",
              "      <td>0.000000</td>\n",
              "      <td>0.000000</td>\n",
              "      <td>0.000000</td>\n",
              "      <td>0.000000</td>\n",
              "      <td>0.000000</td>\n",
              "      <td>0.000000</td>\n",
              "      <td>0.000000</td>\n",
              "      <td>0.000000</td>\n",
              "      <td>0.000000</td>\n",
              "      <td>0.000000</td>\n",
              "      <td>0.000000</td>\n",
              "      <td>0.000000</td>\n",
              "      <td>0.000000</td>\n",
              "      <td>0.000000</td>\n",
              "      <td>0.000000</td>\n",
              "      <td>0.000000</td>\n",
              "      <td>0.000000</td>\n",
              "      <td>0.000000</td>\n",
              "      <td>0.000000</td>\n",
              "      <td>0.000000</td>\n",
              "      <td>0.000000</td>\n",
              "      <td>0.000000</td>\n",
              "      <td>0.000000</td>\n",
              "      <td>0.000000</td>\n",
              "      <td>0.000000</td>\n",
              "      <td>0.000000</td>\n",
              "      <td>0.000000</td>\n",
              "      <td>0.000000</td>\n",
              "      <td>0.000000</td>\n",
              "      <td>0.000000</td>\n",
              "      <td>0.000000</td>\n",
              "      <td>0.000000</td>\n",
              "      <td>0.000000</td>\n",
              "      <td>0.000000</td>\n",
              "      <td>0.000000</td>\n",
              "      <td>0.000000</td>\n",
              "      <td>0.000000</td>\n",
              "      <td>...</td>\n",
              "      <td>0.000000</td>\n",
              "      <td>0.000000</td>\n",
              "      <td>0.000000</td>\n",
              "      <td>0.000000</td>\n",
              "      <td>0.000000</td>\n",
              "      <td>0.000000</td>\n",
              "      <td>0.000000</td>\n",
              "      <td>0.000000</td>\n",
              "      <td>0.000000</td>\n",
              "      <td>0.000000</td>\n",
              "      <td>0.000000</td>\n",
              "      <td>0.000000</td>\n",
              "      <td>0.000000</td>\n",
              "      <td>0.000000</td>\n",
              "      <td>0.000000</td>\n",
              "      <td>0.000000</td>\n",
              "      <td>0.000000</td>\n",
              "      <td>0.000000</td>\n",
              "      <td>0.000000</td>\n",
              "      <td>0.000000</td>\n",
              "      <td>0.000000</td>\n",
              "      <td>0.000000</td>\n",
              "      <td>0.000000</td>\n",
              "      <td>0.000000</td>\n",
              "      <td>0.000000</td>\n",
              "      <td>0.000000</td>\n",
              "      <td>0.000000</td>\n",
              "      <td>0.000000</td>\n",
              "      <td>0.000000</td>\n",
              "      <td>0.000000</td>\n",
              "      <td>0.000000</td>\n",
              "      <td>0.000000</td>\n",
              "      <td>0.000000</td>\n",
              "      <td>0.000000</td>\n",
              "      <td>0.000000</td>\n",
              "      <td>0.000000</td>\n",
              "      <td>0.000000</td>\n",
              "      <td>0.000000</td>\n",
              "      <td>0.000000</td>\n",
              "      <td>0.000000</td>\n",
              "    </tr>\n",
              "    <tr>\n",
              "      <th>50%</th>\n",
              "      <td>2.902003</td>\n",
              "      <td>1.944483</td>\n",
              "      <td>0.000000</td>\n",
              "      <td>0.000000</td>\n",
              "      <td>0.000000</td>\n",
              "      <td>0.000000</td>\n",
              "      <td>0.000000</td>\n",
              "      <td>0.000000</td>\n",
              "      <td>0.000000</td>\n",
              "      <td>0.000000</td>\n",
              "      <td>0.000000</td>\n",
              "      <td>0.000000</td>\n",
              "      <td>0.000000</td>\n",
              "      <td>0.000000</td>\n",
              "      <td>0.000000</td>\n",
              "      <td>0.000000</td>\n",
              "      <td>0.000000</td>\n",
              "      <td>0.000000</td>\n",
              "      <td>0.000000</td>\n",
              "      <td>0.000000</td>\n",
              "      <td>0.000000</td>\n",
              "      <td>0.000000</td>\n",
              "      <td>0.000000</td>\n",
              "      <td>0.000000</td>\n",
              "      <td>0.000000</td>\n",
              "      <td>0.000000</td>\n",
              "      <td>0.000000</td>\n",
              "      <td>0.000000</td>\n",
              "      <td>0.000000</td>\n",
              "      <td>0.000000</td>\n",
              "      <td>0.000000</td>\n",
              "      <td>0.000000</td>\n",
              "      <td>0.000000</td>\n",
              "      <td>0.000000</td>\n",
              "      <td>0.000000</td>\n",
              "      <td>0.000000</td>\n",
              "      <td>0.000000</td>\n",
              "      <td>0.000000</td>\n",
              "      <td>0.000000</td>\n",
              "      <td>0.000000</td>\n",
              "      <td>...</td>\n",
              "      <td>0.000000</td>\n",
              "      <td>0.000000</td>\n",
              "      <td>0.000000</td>\n",
              "      <td>0.000000</td>\n",
              "      <td>0.000000</td>\n",
              "      <td>0.000000</td>\n",
              "      <td>0.000000</td>\n",
              "      <td>0.000000</td>\n",
              "      <td>0.000000</td>\n",
              "      <td>0.000000</td>\n",
              "      <td>0.000000</td>\n",
              "      <td>0.000000</td>\n",
              "      <td>0.000000</td>\n",
              "      <td>0.000000</td>\n",
              "      <td>0.000000</td>\n",
              "      <td>0.000000</td>\n",
              "      <td>0.000000</td>\n",
              "      <td>0.000000</td>\n",
              "      <td>0.000000</td>\n",
              "      <td>0.000000</td>\n",
              "      <td>0.000000</td>\n",
              "      <td>0.000000</td>\n",
              "      <td>0.000000</td>\n",
              "      <td>0.000000</td>\n",
              "      <td>0.000000</td>\n",
              "      <td>0.000000</td>\n",
              "      <td>0.000000</td>\n",
              "      <td>0.000000</td>\n",
              "      <td>0.000000</td>\n",
              "      <td>0.000000</td>\n",
              "      <td>0.000000</td>\n",
              "      <td>0.000000</td>\n",
              "      <td>0.000000</td>\n",
              "      <td>0.000000</td>\n",
              "      <td>0.000000</td>\n",
              "      <td>0.000000</td>\n",
              "      <td>0.000000</td>\n",
              "      <td>0.000000</td>\n",
              "      <td>0.000000</td>\n",
              "      <td>0.000000</td>\n",
              "    </tr>\n",
              "    <tr>\n",
              "      <th>75%</th>\n",
              "      <td>3.003029</td>\n",
              "      <td>2.264818</td>\n",
              "      <td>0.000000</td>\n",
              "      <td>0.000000</td>\n",
              "      <td>0.000000</td>\n",
              "      <td>0.000000</td>\n",
              "      <td>0.000000</td>\n",
              "      <td>0.000000</td>\n",
              "      <td>0.000000</td>\n",
              "      <td>0.000000</td>\n",
              "      <td>0.000000</td>\n",
              "      <td>0.000000</td>\n",
              "      <td>0.000000</td>\n",
              "      <td>0.000000</td>\n",
              "      <td>0.000000</td>\n",
              "      <td>0.000000</td>\n",
              "      <td>0.000000</td>\n",
              "      <td>0.000000</td>\n",
              "      <td>0.000000</td>\n",
              "      <td>0.000000</td>\n",
              "      <td>0.000000</td>\n",
              "      <td>0.000000</td>\n",
              "      <td>0.000000</td>\n",
              "      <td>0.000000</td>\n",
              "      <td>0.000000</td>\n",
              "      <td>0.000000</td>\n",
              "      <td>0.000000</td>\n",
              "      <td>0.000000</td>\n",
              "      <td>0.000000</td>\n",
              "      <td>0.000000</td>\n",
              "      <td>0.000000</td>\n",
              "      <td>0.000000</td>\n",
              "      <td>0.000000</td>\n",
              "      <td>0.000000</td>\n",
              "      <td>0.000000</td>\n",
              "      <td>0.000000</td>\n",
              "      <td>0.000000</td>\n",
              "      <td>0.000000</td>\n",
              "      <td>0.000000</td>\n",
              "      <td>0.000000</td>\n",
              "      <td>...</td>\n",
              "      <td>0.000000</td>\n",
              "      <td>0.000000</td>\n",
              "      <td>0.000000</td>\n",
              "      <td>0.000000</td>\n",
              "      <td>0.000000</td>\n",
              "      <td>0.000000</td>\n",
              "      <td>0.000000</td>\n",
              "      <td>0.000000</td>\n",
              "      <td>0.000000</td>\n",
              "      <td>0.000000</td>\n",
              "      <td>0.000000</td>\n",
              "      <td>0.000000</td>\n",
              "      <td>0.000000</td>\n",
              "      <td>0.000000</td>\n",
              "      <td>0.000000</td>\n",
              "      <td>0.000000</td>\n",
              "      <td>0.000000</td>\n",
              "      <td>0.000000</td>\n",
              "      <td>0.000000</td>\n",
              "      <td>0.000000</td>\n",
              "      <td>0.000000</td>\n",
              "      <td>0.000000</td>\n",
              "      <td>0.000000</td>\n",
              "      <td>0.000000</td>\n",
              "      <td>0.000000</td>\n",
              "      <td>0.000000</td>\n",
              "      <td>0.000000</td>\n",
              "      <td>0.000000</td>\n",
              "      <td>0.000000</td>\n",
              "      <td>0.000000</td>\n",
              "      <td>0.000000</td>\n",
              "      <td>0.000000</td>\n",
              "      <td>0.000000</td>\n",
              "      <td>0.000000</td>\n",
              "      <td>0.000000</td>\n",
              "      <td>0.000000</td>\n",
              "      <td>0.000000</td>\n",
              "      <td>0.000000</td>\n",
              "      <td>0.000000</td>\n",
              "      <td>0.000000</td>\n",
              "    </tr>\n",
              "    <tr>\n",
              "      <th>max</th>\n",
              "      <td>3.593508</td>\n",
              "      <td>3.402949</td>\n",
              "      <td>1.000000</td>\n",
              "      <td>1.000000</td>\n",
              "      <td>1.000000</td>\n",
              "      <td>1.000000</td>\n",
              "      <td>1.000000</td>\n",
              "      <td>1.000000</td>\n",
              "      <td>1.000000</td>\n",
              "      <td>1.000000</td>\n",
              "      <td>1.000000</td>\n",
              "      <td>1.000000</td>\n",
              "      <td>1.000000</td>\n",
              "      <td>1.000000</td>\n",
              "      <td>1.000000</td>\n",
              "      <td>1.000000</td>\n",
              "      <td>1.000000</td>\n",
              "      <td>1.000000</td>\n",
              "      <td>1.000000</td>\n",
              "      <td>1.000000</td>\n",
              "      <td>1.000000</td>\n",
              "      <td>1.000000</td>\n",
              "      <td>1.000000</td>\n",
              "      <td>1.000000</td>\n",
              "      <td>1.000000</td>\n",
              "      <td>1.000000</td>\n",
              "      <td>1.000000</td>\n",
              "      <td>1.000000</td>\n",
              "      <td>1.000000</td>\n",
              "      <td>1.000000</td>\n",
              "      <td>1.000000</td>\n",
              "      <td>1.000000</td>\n",
              "      <td>1.000000</td>\n",
              "      <td>1.000000</td>\n",
              "      <td>1.000000</td>\n",
              "      <td>1.000000</td>\n",
              "      <td>1.000000</td>\n",
              "      <td>1.000000</td>\n",
              "      <td>1.000000</td>\n",
              "      <td>1.000000</td>\n",
              "      <td>...</td>\n",
              "      <td>1.000000</td>\n",
              "      <td>1.000000</td>\n",
              "      <td>1.000000</td>\n",
              "      <td>1.000000</td>\n",
              "      <td>1.000000</td>\n",
              "      <td>1.000000</td>\n",
              "      <td>1.000000</td>\n",
              "      <td>1.000000</td>\n",
              "      <td>1.000000</td>\n",
              "      <td>1.000000</td>\n",
              "      <td>1.000000</td>\n",
              "      <td>1.000000</td>\n",
              "      <td>1.000000</td>\n",
              "      <td>1.000000</td>\n",
              "      <td>1.000000</td>\n",
              "      <td>1.000000</td>\n",
              "      <td>1.000000</td>\n",
              "      <td>1.000000</td>\n",
              "      <td>1.000000</td>\n",
              "      <td>1.000000</td>\n",
              "      <td>1.000000</td>\n",
              "      <td>1.000000</td>\n",
              "      <td>1.000000</td>\n",
              "      <td>1.000000</td>\n",
              "      <td>1.000000</td>\n",
              "      <td>1.000000</td>\n",
              "      <td>1.000000</td>\n",
              "      <td>1.000000</td>\n",
              "      <td>1.000000</td>\n",
              "      <td>1.000000</td>\n",
              "      <td>1.000000</td>\n",
              "      <td>1.000000</td>\n",
              "      <td>1.000000</td>\n",
              "      <td>1.000000</td>\n",
              "      <td>1.000000</td>\n",
              "      <td>1.000000</td>\n",
              "      <td>1.000000</td>\n",
              "      <td>1.000000</td>\n",
              "      <td>1.000000</td>\n",
              "      <td>1.000000</td>\n",
              "    </tr>\n",
              "  </tbody>\n",
              "</table>\n",
              "<p>8 rows × 194 columns</p>\n",
              "</div>\n",
              "      <button class=\"colab-df-convert\" onclick=\"convertToInteractive('df-de74cdc3-b98b-47ff-8382-ecdc6ea436de')\"\n",
              "              title=\"Convert this dataframe to an interactive table.\"\n",
              "              style=\"display:none;\">\n",
              "        \n",
              "  <svg xmlns=\"http://www.w3.org/2000/svg\" height=\"24px\"viewBox=\"0 0 24 24\"\n",
              "       width=\"24px\">\n",
              "    <path d=\"M0 0h24v24H0V0z\" fill=\"none\"/>\n",
              "    <path d=\"M18.56 5.44l.94 2.06.94-2.06 2.06-.94-2.06-.94-.94-2.06-.94 2.06-2.06.94zm-11 1L8.5 8.5l.94-2.06 2.06-.94-2.06-.94L8.5 2.5l-.94 2.06-2.06.94zm10 10l.94 2.06.94-2.06 2.06-.94-2.06-.94-.94-2.06-.94 2.06-2.06.94z\"/><path d=\"M17.41 7.96l-1.37-1.37c-.4-.4-.92-.59-1.43-.59-.52 0-1.04.2-1.43.59L10.3 9.45l-7.72 7.72c-.78.78-.78 2.05 0 2.83L4 21.41c.39.39.9.59 1.41.59.51 0 1.02-.2 1.41-.59l7.78-7.78 2.81-2.81c.8-.78.8-2.07 0-2.86zM5.41 20L4 18.59l7.72-7.72 1.47 1.35L5.41 20z\"/>\n",
              "  </svg>\n",
              "      </button>\n",
              "      \n",
              "  <style>\n",
              "    .colab-df-container {\n",
              "      display:flex;\n",
              "      flex-wrap:wrap;\n",
              "      gap: 12px;\n",
              "    }\n",
              "\n",
              "    .colab-df-convert {\n",
              "      background-color: #E8F0FE;\n",
              "      border: none;\n",
              "      border-radius: 50%;\n",
              "      cursor: pointer;\n",
              "      display: none;\n",
              "      fill: #1967D2;\n",
              "      height: 32px;\n",
              "      padding: 0 0 0 0;\n",
              "      width: 32px;\n",
              "    }\n",
              "\n",
              "    .colab-df-convert:hover {\n",
              "      background-color: #E2EBFA;\n",
              "      box-shadow: 0px 1px 2px rgba(60, 64, 67, 0.3), 0px 1px 3px 1px rgba(60, 64, 67, 0.15);\n",
              "      fill: #174EA6;\n",
              "    }\n",
              "\n",
              "    [theme=dark] .colab-df-convert {\n",
              "      background-color: #3B4455;\n",
              "      fill: #D2E3FC;\n",
              "    }\n",
              "\n",
              "    [theme=dark] .colab-df-convert:hover {\n",
              "      background-color: #434B5C;\n",
              "      box-shadow: 0px 1px 3px 1px rgba(0, 0, 0, 0.15);\n",
              "      filter: drop-shadow(0px 1px 2px rgba(0, 0, 0, 0.3));\n",
              "      fill: #FFFFFF;\n",
              "    }\n",
              "  </style>\n",
              "\n",
              "      <script>\n",
              "        const buttonEl =\n",
              "          document.querySelector('#df-de74cdc3-b98b-47ff-8382-ecdc6ea436de button.colab-df-convert');\n",
              "        buttonEl.style.display =\n",
              "          google.colab.kernel.accessAllowed ? 'block' : 'none';\n",
              "\n",
              "        async function convertToInteractive(key) {\n",
              "          const element = document.querySelector('#df-de74cdc3-b98b-47ff-8382-ecdc6ea436de');\n",
              "          const dataTable =\n",
              "            await google.colab.kernel.invokeFunction('convertToInteractive',\n",
              "                                                     [key], {});\n",
              "          if (!dataTable) return;\n",
              "\n",
              "          const docLinkHtml = 'Like what you see? Visit the ' +\n",
              "            '<a target=\"_blank\" href=https://colab.research.google.com/notebooks/data_table.ipynb>data table notebook</a>'\n",
              "            + ' to learn more about interactive tables.';\n",
              "          element.innerHTML = '';\n",
              "          dataTable['output_type'] = 'display_data';\n",
              "          await google.colab.output.renderOutput(dataTable, element);\n",
              "          const docLink = document.createElement('div');\n",
              "          docLink.innerHTML = docLinkHtml;\n",
              "          element.appendChild(docLink);\n",
              "        }\n",
              "      </script>\n",
              "    </div>\n",
              "  </div>\n",
              "  "
            ],
            "text/plain": [
              "          duration     comments  ...  gender equality  conservation\n",
              "count  3263.000000  3263.000000  ...      3263.000000   3263.000000\n",
              "mean      2.857089         -inf  ...         0.000306      0.000919\n",
              "std       0.204628          NaN  ...         0.017506      0.030312\n",
              "min       2.130334         -inf  ...         0.000000      0.000000\n",
              "25%       2.759668     1.579784  ...         0.000000      0.000000\n",
              "50%       2.902003     1.944483  ...         0.000000      0.000000\n",
              "75%       3.003029     2.264818  ...         0.000000      0.000000\n",
              "max       3.593508     3.402949  ...         1.000000      1.000000\n",
              "\n",
              "[8 rows x 194 columns]"
            ]
          },
          "metadata": {},
          "execution_count": 72
        }
      ],
      "source": [
        "# Checking is there any infinite values after normalization\n",
        "X.describe()"
      ]
    },
    {
      "cell_type": "code",
      "execution_count": 73,
      "metadata": {
        "colab": {
          "base_uri": "https://localhost:8080/"
        },
        "id": "kdIVtfWsoyMb",
        "outputId": "0054d796-e2a0-41bd-e409-347a3f144a8c"
      },
      "outputs": [
        {
          "output_type": "execute_result",
          "data": {
            "text/plain": [
              "count    3263.000000\n",
              "mean        6.152593\n",
              "std         0.315849\n",
              "min         5.027533\n",
              "25%         5.983839\n",
              "50%         6.147713\n",
              "75%         6.315401\n",
              "max         7.138023\n",
              "Name: views, dtype: float64"
            ]
          },
          "metadata": {},
          "execution_count": 73
        }
      ],
      "source": [
        "y.describe()"
      ]
    },
    {
      "cell_type": "code",
      "execution_count": 74,
      "metadata": {
        "id": "hOYOt_k8lDq7"
      },
      "outputs": [],
      "source": [
        "# Imputation of infinite values with zero\n",
        "for col in X.columns:\n",
        "  X[col].replace([np.inf, -np.inf], 0, inplace=True)\n",
        "\n",
        "y.replace([np.inf, -np.inf], 0, inplace=True)"
      ]
    },
    {
      "cell_type": "code",
      "execution_count": 75,
      "metadata": {
        "colab": {
          "base_uri": "https://localhost:8080/",
          "height": 0
        },
        "id": "Pqo0C5PvnSsz",
        "outputId": "62ae1b77-e98d-4060-e99b-5be58a057b7b"
      },
      "outputs": [
        {
          "output_type": "execute_result",
          "data": {
            "text/html": [
              "\n",
              "  <div id=\"df-9519094d-c3c0-46af-ac88-badccdead3f4\">\n",
              "    <div class=\"colab-df-container\">\n",
              "      <div>\n",
              "<style scoped>\n",
              "    .dataframe tbody tr th:only-of-type {\n",
              "        vertical-align: middle;\n",
              "    }\n",
              "\n",
              "    .dataframe tbody tr th {\n",
              "        vertical-align: top;\n",
              "    }\n",
              "\n",
              "    .dataframe thead th {\n",
              "        text-align: right;\n",
              "    }\n",
              "</style>\n",
              "<table border=\"1\" class=\"dataframe\">\n",
              "  <thead>\n",
              "    <tr style=\"text-align: right;\">\n",
              "      <th></th>\n",
              "      <th>duration</th>\n",
              "      <th>comments</th>\n",
              "      <th>biomechanics</th>\n",
              "      <th>environment</th>\n",
              "      <th>urban planning</th>\n",
              "      <th>media</th>\n",
              "      <th>urban</th>\n",
              "      <th>money</th>\n",
              "      <th>engineering</th>\n",
              "      <th>guitar</th>\n",
              "      <th>mindfulness</th>\n",
              "      <th>neuroscience</th>\n",
              "      <th>refugees</th>\n",
              "      <th>culture</th>\n",
              "      <th>advertising</th>\n",
              "      <th>fashion</th>\n",
              "      <th>technology</th>\n",
              "      <th>coral reefs</th>\n",
              "      <th>asteroid</th>\n",
              "      <th>music</th>\n",
              "      <th>sanitation</th>\n",
              "      <th>anthropology</th>\n",
              "      <th>communication</th>\n",
              "      <th>architecture</th>\n",
              "      <th>personality</th>\n",
              "      <th>science fiction</th>\n",
              "      <th>synthetic biology</th>\n",
              "      <th>women in business</th>\n",
              "      <th>policy</th>\n",
              "      <th>evolution</th>\n",
              "      <th>finance</th>\n",
              "      <th>future</th>\n",
              "      <th>violin</th>\n",
              "      <th>disability</th>\n",
              "      <th>biotech</th>\n",
              "      <th>evolutionary psychology</th>\n",
              "      <th>military</th>\n",
              "      <th>garden</th>\n",
              "      <th>homelessness</th>\n",
              "      <th>biodiversity</th>\n",
              "      <th>...</th>\n",
              "      <th>quantum physics</th>\n",
              "      <th>green</th>\n",
              "      <th>chemistry</th>\n",
              "      <th>human rights</th>\n",
              "      <th>criminal justice</th>\n",
              "      <th>microfinance</th>\n",
              "      <th>museums</th>\n",
              "      <th>nuclear energy</th>\n",
              "      <th>creativity</th>\n",
              "      <th>death</th>\n",
              "      <th>sociology</th>\n",
              "      <th>encryption</th>\n",
              "      <th>happiness</th>\n",
              "      <th>virus</th>\n",
              "      <th>theater</th>\n",
              "      <th>paleontology</th>\n",
              "      <th>behavioral economics</th>\n",
              "      <th>astrobiology</th>\n",
              "      <th>humanity</th>\n",
              "      <th>social change</th>\n",
              "      <th>immigration</th>\n",
              "      <th>public health</th>\n",
              "      <th>sustainability</th>\n",
              "      <th>water</th>\n",
              "      <th>plastic</th>\n",
              "      <th>adventure</th>\n",
              "      <th>marketing</th>\n",
              "      <th>health care</th>\n",
              "      <th>library</th>\n",
              "      <th>composing</th>\n",
              "      <th>interface design</th>\n",
              "      <th>oceans</th>\n",
              "      <th>primates</th>\n",
              "      <th>visualizations</th>\n",
              "      <th>aircraft</th>\n",
              "      <th>marine biology</th>\n",
              "      <th>design</th>\n",
              "      <th>peace</th>\n",
              "      <th>gender equality</th>\n",
              "      <th>conservation</th>\n",
              "    </tr>\n",
              "  </thead>\n",
              "  <tbody>\n",
              "    <tr>\n",
              "      <th>count</th>\n",
              "      <td>3263.000000</td>\n",
              "      <td>3263.000000</td>\n",
              "      <td>3263.000000</td>\n",
              "      <td>3263.000000</td>\n",
              "      <td>3263.000000</td>\n",
              "      <td>3263.000000</td>\n",
              "      <td>3263.000000</td>\n",
              "      <td>3263.000000</td>\n",
              "      <td>3263.000000</td>\n",
              "      <td>3263.000000</td>\n",
              "      <td>3263.000000</td>\n",
              "      <td>3263.000000</td>\n",
              "      <td>3263.000000</td>\n",
              "      <td>3263.000000</td>\n",
              "      <td>3263.000000</td>\n",
              "      <td>3263.000000</td>\n",
              "      <td>3263.000000</td>\n",
              "      <td>3263.000000</td>\n",
              "      <td>3263.000000</td>\n",
              "      <td>3263.000000</td>\n",
              "      <td>3263.000000</td>\n",
              "      <td>3263.000000</td>\n",
              "      <td>3263.000000</td>\n",
              "      <td>3263.000000</td>\n",
              "      <td>3263.000000</td>\n",
              "      <td>3263.000000</td>\n",
              "      <td>3263.000000</td>\n",
              "      <td>3263.000000</td>\n",
              "      <td>3263.000000</td>\n",
              "      <td>3263.000000</td>\n",
              "      <td>3263.000000</td>\n",
              "      <td>3263.000000</td>\n",
              "      <td>3263.000000</td>\n",
              "      <td>3263.000000</td>\n",
              "      <td>3263.000000</td>\n",
              "      <td>3263.000000</td>\n",
              "      <td>3263.000000</td>\n",
              "      <td>3263.000000</td>\n",
              "      <td>3263.000000</td>\n",
              "      <td>3263.000000</td>\n",
              "      <td>...</td>\n",
              "      <td>3263.000000</td>\n",
              "      <td>3263.000000</td>\n",
              "      <td>3263.000000</td>\n",
              "      <td>3263.000000</td>\n",
              "      <td>3263.000000</td>\n",
              "      <td>3263.000000</td>\n",
              "      <td>3263.000000</td>\n",
              "      <td>3263.000000</td>\n",
              "      <td>3263.000000</td>\n",
              "      <td>3263.000000</td>\n",
              "      <td>3263.000000</td>\n",
              "      <td>3263.000000</td>\n",
              "      <td>3263.000000</td>\n",
              "      <td>3263.000000</td>\n",
              "      <td>3263.000000</td>\n",
              "      <td>3263.000000</td>\n",
              "      <td>3263.000000</td>\n",
              "      <td>3263.000000</td>\n",
              "      <td>3263.000000</td>\n",
              "      <td>3263.000000</td>\n",
              "      <td>3263.000000</td>\n",
              "      <td>3263.000000</td>\n",
              "      <td>3263.000000</td>\n",
              "      <td>3263.000000</td>\n",
              "      <td>3263.000000</td>\n",
              "      <td>3263.000000</td>\n",
              "      <td>3263.000000</td>\n",
              "      <td>3263.000000</td>\n",
              "      <td>3263.000000</td>\n",
              "      <td>3263.000000</td>\n",
              "      <td>3263.000000</td>\n",
              "      <td>3263.000000</td>\n",
              "      <td>3263.000000</td>\n",
              "      <td>3263.000000</td>\n",
              "      <td>3263.000000</td>\n",
              "      <td>3263.000000</td>\n",
              "      <td>3263.000000</td>\n",
              "      <td>3263.000000</td>\n",
              "      <td>3263.000000</td>\n",
              "      <td>3263.000000</td>\n",
              "    </tr>\n",
              "    <tr>\n",
              "      <th>mean</th>\n",
              "      <td>2.857089</td>\n",
              "      <td>1.908118</td>\n",
              "      <td>0.000306</td>\n",
              "      <td>0.003678</td>\n",
              "      <td>0.002145</td>\n",
              "      <td>0.001839</td>\n",
              "      <td>0.000306</td>\n",
              "      <td>0.000306</td>\n",
              "      <td>0.001532</td>\n",
              "      <td>0.001532</td>\n",
              "      <td>0.000306</td>\n",
              "      <td>0.015323</td>\n",
              "      <td>0.000919</td>\n",
              "      <td>0.001532</td>\n",
              "      <td>0.000919</td>\n",
              "      <td>0.002145</td>\n",
              "      <td>0.010113</td>\n",
              "      <td>0.000613</td>\n",
              "      <td>0.000306</td>\n",
              "      <td>0.008888</td>\n",
              "      <td>0.000306</td>\n",
              "      <td>0.001532</td>\n",
              "      <td>0.001226</td>\n",
              "      <td>0.013178</td>\n",
              "      <td>0.000306</td>\n",
              "      <td>0.000306</td>\n",
              "      <td>0.000306</td>\n",
              "      <td>0.000306</td>\n",
              "      <td>0.000919</td>\n",
              "      <td>0.001839</td>\n",
              "      <td>0.000919</td>\n",
              "      <td>0.004597</td>\n",
              "      <td>0.000919</td>\n",
              "      <td>0.000306</td>\n",
              "      <td>0.001226</td>\n",
              "      <td>0.000306</td>\n",
              "      <td>0.000613</td>\n",
              "      <td>0.000613</td>\n",
              "      <td>0.000306</td>\n",
              "      <td>0.000306</td>\n",
              "      <td>...</td>\n",
              "      <td>0.000919</td>\n",
              "      <td>0.000919</td>\n",
              "      <td>0.001839</td>\n",
              "      <td>0.000306</td>\n",
              "      <td>0.000613</td>\n",
              "      <td>0.000306</td>\n",
              "      <td>0.000613</td>\n",
              "      <td>0.001226</td>\n",
              "      <td>0.000919</td>\n",
              "      <td>0.000613</td>\n",
              "      <td>0.000306</td>\n",
              "      <td>0.000306</td>\n",
              "      <td>0.001226</td>\n",
              "      <td>0.000306</td>\n",
              "      <td>0.000919</td>\n",
              "      <td>0.003065</td>\n",
              "      <td>0.002145</td>\n",
              "      <td>0.000613</td>\n",
              "      <td>0.003065</td>\n",
              "      <td>0.009500</td>\n",
              "      <td>0.000919</td>\n",
              "      <td>0.001839</td>\n",
              "      <td>0.001839</td>\n",
              "      <td>0.001226</td>\n",
              "      <td>0.000613</td>\n",
              "      <td>0.000306</td>\n",
              "      <td>0.001532</td>\n",
              "      <td>0.000919</td>\n",
              "      <td>0.000613</td>\n",
              "      <td>0.000613</td>\n",
              "      <td>0.000613</td>\n",
              "      <td>0.004903</td>\n",
              "      <td>0.000919</td>\n",
              "      <td>0.000613</td>\n",
              "      <td>0.000306</td>\n",
              "      <td>0.003065</td>\n",
              "      <td>0.018694</td>\n",
              "      <td>0.002145</td>\n",
              "      <td>0.000306</td>\n",
              "      <td>0.000919</td>\n",
              "    </tr>\n",
              "    <tr>\n",
              "      <th>std</th>\n",
              "      <td>0.204628</td>\n",
              "      <td>0.507965</td>\n",
              "      <td>0.017506</td>\n",
              "      <td>0.060541</td>\n",
              "      <td>0.046274</td>\n",
              "      <td>0.042848</td>\n",
              "      <td>0.017506</td>\n",
              "      <td>0.017506</td>\n",
              "      <td>0.039121</td>\n",
              "      <td>0.039121</td>\n",
              "      <td>0.017506</td>\n",
              "      <td>0.122854</td>\n",
              "      <td>0.030312</td>\n",
              "      <td>0.039121</td>\n",
              "      <td>0.030312</td>\n",
              "      <td>0.046274</td>\n",
              "      <td>0.100071</td>\n",
              "      <td>0.024754</td>\n",
              "      <td>0.017506</td>\n",
              "      <td>0.093868</td>\n",
              "      <td>0.017506</td>\n",
              "      <td>0.039121</td>\n",
              "      <td>0.034996</td>\n",
              "      <td>0.114054</td>\n",
              "      <td>0.017506</td>\n",
              "      <td>0.017506</td>\n",
              "      <td>0.017506</td>\n",
              "      <td>0.017506</td>\n",
              "      <td>0.030312</td>\n",
              "      <td>0.042848</td>\n",
              "      <td>0.030312</td>\n",
              "      <td>0.067656</td>\n",
              "      <td>0.030312</td>\n",
              "      <td>0.017506</td>\n",
              "      <td>0.034996</td>\n",
              "      <td>0.017506</td>\n",
              "      <td>0.024754</td>\n",
              "      <td>0.024754</td>\n",
              "      <td>0.017506</td>\n",
              "      <td>0.017506</td>\n",
              "      <td>...</td>\n",
              "      <td>0.030312</td>\n",
              "      <td>0.030312</td>\n",
              "      <td>0.042848</td>\n",
              "      <td>0.017506</td>\n",
              "      <td>0.024754</td>\n",
              "      <td>0.017506</td>\n",
              "      <td>0.024754</td>\n",
              "      <td>0.034996</td>\n",
              "      <td>0.030312</td>\n",
              "      <td>0.024754</td>\n",
              "      <td>0.017506</td>\n",
              "      <td>0.017506</td>\n",
              "      <td>0.034996</td>\n",
              "      <td>0.017506</td>\n",
              "      <td>0.030312</td>\n",
              "      <td>0.055283</td>\n",
              "      <td>0.046274</td>\n",
              "      <td>0.024754</td>\n",
              "      <td>0.055283</td>\n",
              "      <td>0.097021</td>\n",
              "      <td>0.030312</td>\n",
              "      <td>0.042848</td>\n",
              "      <td>0.042848</td>\n",
              "      <td>0.034996</td>\n",
              "      <td>0.024754</td>\n",
              "      <td>0.017506</td>\n",
              "      <td>0.039121</td>\n",
              "      <td>0.030312</td>\n",
              "      <td>0.024754</td>\n",
              "      <td>0.024754</td>\n",
              "      <td>0.024754</td>\n",
              "      <td>0.069864</td>\n",
              "      <td>0.030312</td>\n",
              "      <td>0.024754</td>\n",
              "      <td>0.017506</td>\n",
              "      <td>0.055283</td>\n",
              "      <td>0.135464</td>\n",
              "      <td>0.046274</td>\n",
              "      <td>0.017506</td>\n",
              "      <td>0.030312</td>\n",
              "    </tr>\n",
              "    <tr>\n",
              "      <th>min</th>\n",
              "      <td>2.130334</td>\n",
              "      <td>0.000000</td>\n",
              "      <td>0.000000</td>\n",
              "      <td>0.000000</td>\n",
              "      <td>0.000000</td>\n",
              "      <td>0.000000</td>\n",
              "      <td>0.000000</td>\n",
              "      <td>0.000000</td>\n",
              "      <td>0.000000</td>\n",
              "      <td>0.000000</td>\n",
              "      <td>0.000000</td>\n",
              "      <td>0.000000</td>\n",
              "      <td>0.000000</td>\n",
              "      <td>0.000000</td>\n",
              "      <td>0.000000</td>\n",
              "      <td>0.000000</td>\n",
              "      <td>0.000000</td>\n",
              "      <td>0.000000</td>\n",
              "      <td>0.000000</td>\n",
              "      <td>0.000000</td>\n",
              "      <td>0.000000</td>\n",
              "      <td>0.000000</td>\n",
              "      <td>0.000000</td>\n",
              "      <td>0.000000</td>\n",
              "      <td>0.000000</td>\n",
              "      <td>0.000000</td>\n",
              "      <td>0.000000</td>\n",
              "      <td>0.000000</td>\n",
              "      <td>0.000000</td>\n",
              "      <td>0.000000</td>\n",
              "      <td>0.000000</td>\n",
              "      <td>0.000000</td>\n",
              "      <td>0.000000</td>\n",
              "      <td>0.000000</td>\n",
              "      <td>0.000000</td>\n",
              "      <td>0.000000</td>\n",
              "      <td>0.000000</td>\n",
              "      <td>0.000000</td>\n",
              "      <td>0.000000</td>\n",
              "      <td>0.000000</td>\n",
              "      <td>...</td>\n",
              "      <td>0.000000</td>\n",
              "      <td>0.000000</td>\n",
              "      <td>0.000000</td>\n",
              "      <td>0.000000</td>\n",
              "      <td>0.000000</td>\n",
              "      <td>0.000000</td>\n",
              "      <td>0.000000</td>\n",
              "      <td>0.000000</td>\n",
              "      <td>0.000000</td>\n",
              "      <td>0.000000</td>\n",
              "      <td>0.000000</td>\n",
              "      <td>0.000000</td>\n",
              "      <td>0.000000</td>\n",
              "      <td>0.000000</td>\n",
              "      <td>0.000000</td>\n",
              "      <td>0.000000</td>\n",
              "      <td>0.000000</td>\n",
              "      <td>0.000000</td>\n",
              "      <td>0.000000</td>\n",
              "      <td>0.000000</td>\n",
              "      <td>0.000000</td>\n",
              "      <td>0.000000</td>\n",
              "      <td>0.000000</td>\n",
              "      <td>0.000000</td>\n",
              "      <td>0.000000</td>\n",
              "      <td>0.000000</td>\n",
              "      <td>0.000000</td>\n",
              "      <td>0.000000</td>\n",
              "      <td>0.000000</td>\n",
              "      <td>0.000000</td>\n",
              "      <td>0.000000</td>\n",
              "      <td>0.000000</td>\n",
              "      <td>0.000000</td>\n",
              "      <td>0.000000</td>\n",
              "      <td>0.000000</td>\n",
              "      <td>0.000000</td>\n",
              "      <td>0.000000</td>\n",
              "      <td>0.000000</td>\n",
              "      <td>0.000000</td>\n",
              "      <td>0.000000</td>\n",
              "    </tr>\n",
              "    <tr>\n",
              "      <th>25%</th>\n",
              "      <td>2.759668</td>\n",
              "      <td>1.579784</td>\n",
              "      <td>0.000000</td>\n",
              "      <td>0.000000</td>\n",
              "      <td>0.000000</td>\n",
              "      <td>0.000000</td>\n",
              "      <td>0.000000</td>\n",
              "      <td>0.000000</td>\n",
              "      <td>0.000000</td>\n",
              "      <td>0.000000</td>\n",
              "      <td>0.000000</td>\n",
              "      <td>0.000000</td>\n",
              "      <td>0.000000</td>\n",
              "      <td>0.000000</td>\n",
              "      <td>0.000000</td>\n",
              "      <td>0.000000</td>\n",
              "      <td>0.000000</td>\n",
              "      <td>0.000000</td>\n",
              "      <td>0.000000</td>\n",
              "      <td>0.000000</td>\n",
              "      <td>0.000000</td>\n",
              "      <td>0.000000</td>\n",
              "      <td>0.000000</td>\n",
              "      <td>0.000000</td>\n",
              "      <td>0.000000</td>\n",
              "      <td>0.000000</td>\n",
              "      <td>0.000000</td>\n",
              "      <td>0.000000</td>\n",
              "      <td>0.000000</td>\n",
              "      <td>0.000000</td>\n",
              "      <td>0.000000</td>\n",
              "      <td>0.000000</td>\n",
              "      <td>0.000000</td>\n",
              "      <td>0.000000</td>\n",
              "      <td>0.000000</td>\n",
              "      <td>0.000000</td>\n",
              "      <td>0.000000</td>\n",
              "      <td>0.000000</td>\n",
              "      <td>0.000000</td>\n",
              "      <td>0.000000</td>\n",
              "      <td>...</td>\n",
              "      <td>0.000000</td>\n",
              "      <td>0.000000</td>\n",
              "      <td>0.000000</td>\n",
              "      <td>0.000000</td>\n",
              "      <td>0.000000</td>\n",
              "      <td>0.000000</td>\n",
              "      <td>0.000000</td>\n",
              "      <td>0.000000</td>\n",
              "      <td>0.000000</td>\n",
              "      <td>0.000000</td>\n",
              "      <td>0.000000</td>\n",
              "      <td>0.000000</td>\n",
              "      <td>0.000000</td>\n",
              "      <td>0.000000</td>\n",
              "      <td>0.000000</td>\n",
              "      <td>0.000000</td>\n",
              "      <td>0.000000</td>\n",
              "      <td>0.000000</td>\n",
              "      <td>0.000000</td>\n",
              "      <td>0.000000</td>\n",
              "      <td>0.000000</td>\n",
              "      <td>0.000000</td>\n",
              "      <td>0.000000</td>\n",
              "      <td>0.000000</td>\n",
              "      <td>0.000000</td>\n",
              "      <td>0.000000</td>\n",
              "      <td>0.000000</td>\n",
              "      <td>0.000000</td>\n",
              "      <td>0.000000</td>\n",
              "      <td>0.000000</td>\n",
              "      <td>0.000000</td>\n",
              "      <td>0.000000</td>\n",
              "      <td>0.000000</td>\n",
              "      <td>0.000000</td>\n",
              "      <td>0.000000</td>\n",
              "      <td>0.000000</td>\n",
              "      <td>0.000000</td>\n",
              "      <td>0.000000</td>\n",
              "      <td>0.000000</td>\n",
              "      <td>0.000000</td>\n",
              "    </tr>\n",
              "    <tr>\n",
              "      <th>50%</th>\n",
              "      <td>2.902003</td>\n",
              "      <td>1.944483</td>\n",
              "      <td>0.000000</td>\n",
              "      <td>0.000000</td>\n",
              "      <td>0.000000</td>\n",
              "      <td>0.000000</td>\n",
              "      <td>0.000000</td>\n",
              "      <td>0.000000</td>\n",
              "      <td>0.000000</td>\n",
              "      <td>0.000000</td>\n",
              "      <td>0.000000</td>\n",
              "      <td>0.000000</td>\n",
              "      <td>0.000000</td>\n",
              "      <td>0.000000</td>\n",
              "      <td>0.000000</td>\n",
              "      <td>0.000000</td>\n",
              "      <td>0.000000</td>\n",
              "      <td>0.000000</td>\n",
              "      <td>0.000000</td>\n",
              "      <td>0.000000</td>\n",
              "      <td>0.000000</td>\n",
              "      <td>0.000000</td>\n",
              "      <td>0.000000</td>\n",
              "      <td>0.000000</td>\n",
              "      <td>0.000000</td>\n",
              "      <td>0.000000</td>\n",
              "      <td>0.000000</td>\n",
              "      <td>0.000000</td>\n",
              "      <td>0.000000</td>\n",
              "      <td>0.000000</td>\n",
              "      <td>0.000000</td>\n",
              "      <td>0.000000</td>\n",
              "      <td>0.000000</td>\n",
              "      <td>0.000000</td>\n",
              "      <td>0.000000</td>\n",
              "      <td>0.000000</td>\n",
              "      <td>0.000000</td>\n",
              "      <td>0.000000</td>\n",
              "      <td>0.000000</td>\n",
              "      <td>0.000000</td>\n",
              "      <td>...</td>\n",
              "      <td>0.000000</td>\n",
              "      <td>0.000000</td>\n",
              "      <td>0.000000</td>\n",
              "      <td>0.000000</td>\n",
              "      <td>0.000000</td>\n",
              "      <td>0.000000</td>\n",
              "      <td>0.000000</td>\n",
              "      <td>0.000000</td>\n",
              "      <td>0.000000</td>\n",
              "      <td>0.000000</td>\n",
              "      <td>0.000000</td>\n",
              "      <td>0.000000</td>\n",
              "      <td>0.000000</td>\n",
              "      <td>0.000000</td>\n",
              "      <td>0.000000</td>\n",
              "      <td>0.000000</td>\n",
              "      <td>0.000000</td>\n",
              "      <td>0.000000</td>\n",
              "      <td>0.000000</td>\n",
              "      <td>0.000000</td>\n",
              "      <td>0.000000</td>\n",
              "      <td>0.000000</td>\n",
              "      <td>0.000000</td>\n",
              "      <td>0.000000</td>\n",
              "      <td>0.000000</td>\n",
              "      <td>0.000000</td>\n",
              "      <td>0.000000</td>\n",
              "      <td>0.000000</td>\n",
              "      <td>0.000000</td>\n",
              "      <td>0.000000</td>\n",
              "      <td>0.000000</td>\n",
              "      <td>0.000000</td>\n",
              "      <td>0.000000</td>\n",
              "      <td>0.000000</td>\n",
              "      <td>0.000000</td>\n",
              "      <td>0.000000</td>\n",
              "      <td>0.000000</td>\n",
              "      <td>0.000000</td>\n",
              "      <td>0.000000</td>\n",
              "      <td>0.000000</td>\n",
              "    </tr>\n",
              "    <tr>\n",
              "      <th>75%</th>\n",
              "      <td>3.003029</td>\n",
              "      <td>2.264818</td>\n",
              "      <td>0.000000</td>\n",
              "      <td>0.000000</td>\n",
              "      <td>0.000000</td>\n",
              "      <td>0.000000</td>\n",
              "      <td>0.000000</td>\n",
              "      <td>0.000000</td>\n",
              "      <td>0.000000</td>\n",
              "      <td>0.000000</td>\n",
              "      <td>0.000000</td>\n",
              "      <td>0.000000</td>\n",
              "      <td>0.000000</td>\n",
              "      <td>0.000000</td>\n",
              "      <td>0.000000</td>\n",
              "      <td>0.000000</td>\n",
              "      <td>0.000000</td>\n",
              "      <td>0.000000</td>\n",
              "      <td>0.000000</td>\n",
              "      <td>0.000000</td>\n",
              "      <td>0.000000</td>\n",
              "      <td>0.000000</td>\n",
              "      <td>0.000000</td>\n",
              "      <td>0.000000</td>\n",
              "      <td>0.000000</td>\n",
              "      <td>0.000000</td>\n",
              "      <td>0.000000</td>\n",
              "      <td>0.000000</td>\n",
              "      <td>0.000000</td>\n",
              "      <td>0.000000</td>\n",
              "      <td>0.000000</td>\n",
              "      <td>0.000000</td>\n",
              "      <td>0.000000</td>\n",
              "      <td>0.000000</td>\n",
              "      <td>0.000000</td>\n",
              "      <td>0.000000</td>\n",
              "      <td>0.000000</td>\n",
              "      <td>0.000000</td>\n",
              "      <td>0.000000</td>\n",
              "      <td>0.000000</td>\n",
              "      <td>...</td>\n",
              "      <td>0.000000</td>\n",
              "      <td>0.000000</td>\n",
              "      <td>0.000000</td>\n",
              "      <td>0.000000</td>\n",
              "      <td>0.000000</td>\n",
              "      <td>0.000000</td>\n",
              "      <td>0.000000</td>\n",
              "      <td>0.000000</td>\n",
              "      <td>0.000000</td>\n",
              "      <td>0.000000</td>\n",
              "      <td>0.000000</td>\n",
              "      <td>0.000000</td>\n",
              "      <td>0.000000</td>\n",
              "      <td>0.000000</td>\n",
              "      <td>0.000000</td>\n",
              "      <td>0.000000</td>\n",
              "      <td>0.000000</td>\n",
              "      <td>0.000000</td>\n",
              "      <td>0.000000</td>\n",
              "      <td>0.000000</td>\n",
              "      <td>0.000000</td>\n",
              "      <td>0.000000</td>\n",
              "      <td>0.000000</td>\n",
              "      <td>0.000000</td>\n",
              "      <td>0.000000</td>\n",
              "      <td>0.000000</td>\n",
              "      <td>0.000000</td>\n",
              "      <td>0.000000</td>\n",
              "      <td>0.000000</td>\n",
              "      <td>0.000000</td>\n",
              "      <td>0.000000</td>\n",
              "      <td>0.000000</td>\n",
              "      <td>0.000000</td>\n",
              "      <td>0.000000</td>\n",
              "      <td>0.000000</td>\n",
              "      <td>0.000000</td>\n",
              "      <td>0.000000</td>\n",
              "      <td>0.000000</td>\n",
              "      <td>0.000000</td>\n",
              "      <td>0.000000</td>\n",
              "    </tr>\n",
              "    <tr>\n",
              "      <th>max</th>\n",
              "      <td>3.593508</td>\n",
              "      <td>3.402949</td>\n",
              "      <td>1.000000</td>\n",
              "      <td>1.000000</td>\n",
              "      <td>1.000000</td>\n",
              "      <td>1.000000</td>\n",
              "      <td>1.000000</td>\n",
              "      <td>1.000000</td>\n",
              "      <td>1.000000</td>\n",
              "      <td>1.000000</td>\n",
              "      <td>1.000000</td>\n",
              "      <td>1.000000</td>\n",
              "      <td>1.000000</td>\n",
              "      <td>1.000000</td>\n",
              "      <td>1.000000</td>\n",
              "      <td>1.000000</td>\n",
              "      <td>1.000000</td>\n",
              "      <td>1.000000</td>\n",
              "      <td>1.000000</td>\n",
              "      <td>1.000000</td>\n",
              "      <td>1.000000</td>\n",
              "      <td>1.000000</td>\n",
              "      <td>1.000000</td>\n",
              "      <td>1.000000</td>\n",
              "      <td>1.000000</td>\n",
              "      <td>1.000000</td>\n",
              "      <td>1.000000</td>\n",
              "      <td>1.000000</td>\n",
              "      <td>1.000000</td>\n",
              "      <td>1.000000</td>\n",
              "      <td>1.000000</td>\n",
              "      <td>1.000000</td>\n",
              "      <td>1.000000</td>\n",
              "      <td>1.000000</td>\n",
              "      <td>1.000000</td>\n",
              "      <td>1.000000</td>\n",
              "      <td>1.000000</td>\n",
              "      <td>1.000000</td>\n",
              "      <td>1.000000</td>\n",
              "      <td>1.000000</td>\n",
              "      <td>...</td>\n",
              "      <td>1.000000</td>\n",
              "      <td>1.000000</td>\n",
              "      <td>1.000000</td>\n",
              "      <td>1.000000</td>\n",
              "      <td>1.000000</td>\n",
              "      <td>1.000000</td>\n",
              "      <td>1.000000</td>\n",
              "      <td>1.000000</td>\n",
              "      <td>1.000000</td>\n",
              "      <td>1.000000</td>\n",
              "      <td>1.000000</td>\n",
              "      <td>1.000000</td>\n",
              "      <td>1.000000</td>\n",
              "      <td>1.000000</td>\n",
              "      <td>1.000000</td>\n",
              "      <td>1.000000</td>\n",
              "      <td>1.000000</td>\n",
              "      <td>1.000000</td>\n",
              "      <td>1.000000</td>\n",
              "      <td>1.000000</td>\n",
              "      <td>1.000000</td>\n",
              "      <td>1.000000</td>\n",
              "      <td>1.000000</td>\n",
              "      <td>1.000000</td>\n",
              "      <td>1.000000</td>\n",
              "      <td>1.000000</td>\n",
              "      <td>1.000000</td>\n",
              "      <td>1.000000</td>\n",
              "      <td>1.000000</td>\n",
              "      <td>1.000000</td>\n",
              "      <td>1.000000</td>\n",
              "      <td>1.000000</td>\n",
              "      <td>1.000000</td>\n",
              "      <td>1.000000</td>\n",
              "      <td>1.000000</td>\n",
              "      <td>1.000000</td>\n",
              "      <td>1.000000</td>\n",
              "      <td>1.000000</td>\n",
              "      <td>1.000000</td>\n",
              "      <td>1.000000</td>\n",
              "    </tr>\n",
              "  </tbody>\n",
              "</table>\n",
              "<p>8 rows × 194 columns</p>\n",
              "</div>\n",
              "      <button class=\"colab-df-convert\" onclick=\"convertToInteractive('df-9519094d-c3c0-46af-ac88-badccdead3f4')\"\n",
              "              title=\"Convert this dataframe to an interactive table.\"\n",
              "              style=\"display:none;\">\n",
              "        \n",
              "  <svg xmlns=\"http://www.w3.org/2000/svg\" height=\"24px\"viewBox=\"0 0 24 24\"\n",
              "       width=\"24px\">\n",
              "    <path d=\"M0 0h24v24H0V0z\" fill=\"none\"/>\n",
              "    <path d=\"M18.56 5.44l.94 2.06.94-2.06 2.06-.94-2.06-.94-.94-2.06-.94 2.06-2.06.94zm-11 1L8.5 8.5l.94-2.06 2.06-.94-2.06-.94L8.5 2.5l-.94 2.06-2.06.94zm10 10l.94 2.06.94-2.06 2.06-.94-2.06-.94-.94-2.06-.94 2.06-2.06.94z\"/><path d=\"M17.41 7.96l-1.37-1.37c-.4-.4-.92-.59-1.43-.59-.52 0-1.04.2-1.43.59L10.3 9.45l-7.72 7.72c-.78.78-.78 2.05 0 2.83L4 21.41c.39.39.9.59 1.41.59.51 0 1.02-.2 1.41-.59l7.78-7.78 2.81-2.81c.8-.78.8-2.07 0-2.86zM5.41 20L4 18.59l7.72-7.72 1.47 1.35L5.41 20z\"/>\n",
              "  </svg>\n",
              "      </button>\n",
              "      \n",
              "  <style>\n",
              "    .colab-df-container {\n",
              "      display:flex;\n",
              "      flex-wrap:wrap;\n",
              "      gap: 12px;\n",
              "    }\n",
              "\n",
              "    .colab-df-convert {\n",
              "      background-color: #E8F0FE;\n",
              "      border: none;\n",
              "      border-radius: 50%;\n",
              "      cursor: pointer;\n",
              "      display: none;\n",
              "      fill: #1967D2;\n",
              "      height: 32px;\n",
              "      padding: 0 0 0 0;\n",
              "      width: 32px;\n",
              "    }\n",
              "\n",
              "    .colab-df-convert:hover {\n",
              "      background-color: #E2EBFA;\n",
              "      box-shadow: 0px 1px 2px rgba(60, 64, 67, 0.3), 0px 1px 3px 1px rgba(60, 64, 67, 0.15);\n",
              "      fill: #174EA6;\n",
              "    }\n",
              "\n",
              "    [theme=dark] .colab-df-convert {\n",
              "      background-color: #3B4455;\n",
              "      fill: #D2E3FC;\n",
              "    }\n",
              "\n",
              "    [theme=dark] .colab-df-convert:hover {\n",
              "      background-color: #434B5C;\n",
              "      box-shadow: 0px 1px 3px 1px rgba(0, 0, 0, 0.15);\n",
              "      filter: drop-shadow(0px 1px 2px rgba(0, 0, 0, 0.3));\n",
              "      fill: #FFFFFF;\n",
              "    }\n",
              "  </style>\n",
              "\n",
              "      <script>\n",
              "        const buttonEl =\n",
              "          document.querySelector('#df-9519094d-c3c0-46af-ac88-badccdead3f4 button.colab-df-convert');\n",
              "        buttonEl.style.display =\n",
              "          google.colab.kernel.accessAllowed ? 'block' : 'none';\n",
              "\n",
              "        async function convertToInteractive(key) {\n",
              "          const element = document.querySelector('#df-9519094d-c3c0-46af-ac88-badccdead3f4');\n",
              "          const dataTable =\n",
              "            await google.colab.kernel.invokeFunction('convertToInteractive',\n",
              "                                                     [key], {});\n",
              "          if (!dataTable) return;\n",
              "\n",
              "          const docLinkHtml = 'Like what you see? Visit the ' +\n",
              "            '<a target=\"_blank\" href=https://colab.research.google.com/notebooks/data_table.ipynb>data table notebook</a>'\n",
              "            + ' to learn more about interactive tables.';\n",
              "          element.innerHTML = '';\n",
              "          dataTable['output_type'] = 'display_data';\n",
              "          await google.colab.output.renderOutput(dataTable, element);\n",
              "          const docLink = document.createElement('div');\n",
              "          docLink.innerHTML = docLinkHtml;\n",
              "          element.appendChild(docLink);\n",
              "        }\n",
              "      </script>\n",
              "    </div>\n",
              "  </div>\n",
              "  "
            ],
            "text/plain": [
              "          duration     comments  ...  gender equality  conservation\n",
              "count  3263.000000  3263.000000  ...      3263.000000   3263.000000\n",
              "mean      2.857089     1.908118  ...         0.000306      0.000919\n",
              "std       0.204628     0.507965  ...         0.017506      0.030312\n",
              "min       2.130334     0.000000  ...         0.000000      0.000000\n",
              "25%       2.759668     1.579784  ...         0.000000      0.000000\n",
              "50%       2.902003     1.944483  ...         0.000000      0.000000\n",
              "75%       3.003029     2.264818  ...         0.000000      0.000000\n",
              "max       3.593508     3.402949  ...         1.000000      1.000000\n",
              "\n",
              "[8 rows x 194 columns]"
            ]
          },
          "metadata": {},
          "execution_count": 75
        }
      ],
      "source": [
        "X.describe()"
      ]
    },
    {
      "cell_type": "code",
      "execution_count": 76,
      "metadata": {
        "colab": {
          "base_uri": "https://localhost:8080/"
        },
        "id": "Kv2IHzGvn8au",
        "outputId": "881a88fb-4fa1-45b0-90ff-2c80f357c2ec"
      },
      "outputs": [
        {
          "output_type": "execute_result",
          "data": {
            "text/plain": [
              "count    3263.000000\n",
              "mean        6.152593\n",
              "std         0.315849\n",
              "min         5.027533\n",
              "25%         5.983839\n",
              "50%         6.147713\n",
              "75%         6.315401\n",
              "max         7.138023\n",
              "Name: views, dtype: float64"
            ]
          },
          "metadata": {},
          "execution_count": 76
        }
      ],
      "source": [
        "y.describe()"
      ]
    },
    {
      "cell_type": "code",
      "execution_count": 77,
      "metadata": {
        "id": "es9xqKX8MkoP"
      },
      "outputs": [],
      "source": [
        "# Splitting of the data into Train and Test\n",
        "X_train, X_test, y_train, y_test = train_test_split(X, y, test_size = 0.2, random_state = 0)"
      ]
    },
    {
      "cell_type": "code",
      "execution_count": 78,
      "metadata": {
        "id": "uwxSNS42MoA4"
      },
      "outputs": [],
      "source": [
        "# Standardization of Input Data\n",
        "scaler = StandardScaler()\n",
        "X_train = scaler.fit_transform(X_train)\n",
        "X_test = scaler.transform(X_test)"
      ]
    },
    {
      "cell_type": "code",
      "execution_count": 79,
      "metadata": {
        "colab": {
          "base_uri": "https://localhost:8080/"
        },
        "id": "Ulix3x90gPTu",
        "outputId": "b9cd20db-70d8-4897-b7f3-97d49597604e"
      },
      "outputs": [
        {
          "output_type": "execute_result",
          "data": {
            "text/plain": [
              "(2610, 194)"
            ]
          },
          "metadata": {},
          "execution_count": 79
        }
      ],
      "source": [
        "X_train.shape"
      ]
    },
    {
      "cell_type": "markdown",
      "metadata": {
        "id": "fFauWJecL-2q"
      },
      "source": [
        "# **Building and Evaluation of Model-1**"
      ]
    },
    {
      "cell_type": "code",
      "execution_count": 80,
      "metadata": {
        "colab": {
          "base_uri": "https://localhost:8080/"
        },
        "id": "WMGHL4WGp5oe",
        "outputId": "b805a5e6-1315-4511-e543-f3aa00379210"
      },
      "outputs": [
        {
          "output_type": "execute_result",
          "data": {
            "text/plain": [
              "RandomizedSearchCV(cv=3, estimator=RandomForestRegressor(random_state=0),\n",
              "                   param_distributions={'max_depth': [5, 10, 15, 20, 25, 30],\n",
              "                                        'max_features': ['auto', 'sqrt'],\n",
              "                                        'min_samples_leaf': [1, 2, 5, 10],\n",
              "                                        'min_samples_split': [2, 5, 10, 15,\n",
              "                                                              100],\n",
              "                                        'n_estimators': [2, 4, 6, 8, 10, 12, 14,\n",
              "                                                         16, 18, 20]},\n",
              "                   random_state=0, scoring='r2')"
            ]
          },
          "metadata": {},
          "execution_count": 80
        }
      ],
      "source": [
        "# Model training and hyper parameter tunning\n",
        "model_rf = RandomForestRegressor(random_state=0)\n",
        "parameters = {'n_estimators':[int(x) for x in np.linspace(2,20,num=10)], \n",
        "              'max_depth':[int(x) for x in np.linspace(5,30,num=6)],\n",
        "              'max_features':['auto','sqrt'],\n",
        "              'min_samples_split':[2,5,10,15,100],\n",
        "              'min_samples_leaf':[1,2,5,10]}\n",
        "model_rf_cv = RandomizedSearchCV(model_rf, param_distributions=parameters, scoring='r2', cv=3, random_state=0)\n",
        "model_rf_cv.fit(X_train,y_train)"
      ]
    },
    {
      "cell_type": "code",
      "execution_count": 81,
      "metadata": {
        "colab": {
          "base_uri": "https://localhost:8080/"
        },
        "id": "FNsmYGohuund",
        "outputId": "33defc50-6d56-439d-9d8e-bfbc3409b2d3"
      },
      "outputs": [
        {
          "output_type": "execute_result",
          "data": {
            "text/plain": [
              "{'max_depth': 25,\n",
              " 'max_features': 'auto',\n",
              " 'min_samples_leaf': 10,\n",
              " 'min_samples_split': 10,\n",
              " 'n_estimators': 18}"
            ]
          },
          "metadata": {},
          "execution_count": 81
        }
      ],
      "source": [
        "model_rf_cv.best_params_"
      ]
    },
    {
      "cell_type": "code",
      "execution_count": 103,
      "metadata": {
        "colab": {
          "base_uri": "https://localhost:8080/"
        },
        "id": "zKdSDAdwyta0",
        "outputId": "7cc3e439-eee6-4e0b-f3b0-bcaa0ebee433"
      },
      "outputs": [
        {
          "output_type": "stream",
          "name": "stdout",
          "text": [
            "RMSE: 882669.6156967581\n",
            "R2: 0.7193576499345035\n",
            "Accuracy: 64.97 %.\n"
          ]
        }
      ],
      "source": [
        "# Checking model performance for train set\n",
        "y_train_preds = model_rf_cv.predict(X_train)\n",
        "rmse=math.sqrt(mean_squared_error(10**y_train, 10**y_train_preds))\n",
        "print(\"RMSE:\",rmse)\n",
        "r2=r2_score(10**y_train, 10**y_train_preds)\n",
        "print(\"R2:\",r2)\n",
        "accuracy = (1 -mean_absolute_percentage_error(10**y_train, 10**y_train_preds))*100\n",
        "print('Accuracy:', round(accuracy, 2), '%.')"
      ]
    },
    {
      "cell_type": "code",
      "execution_count": 104,
      "metadata": {
        "colab": {
          "base_uri": "https://localhost:8080/"
        },
        "id": "ffijATS3RSnL",
        "outputId": "48be767c-e4d9-4f03-d784-968fb0e462df"
      },
      "outputs": [
        {
          "output_type": "stream",
          "name": "stdout",
          "text": [
            "RMSE: 946743.9517133308\n",
            "R2: 0.7101558140859103\n",
            "Accuracy: 57.75 %.\n"
          ]
        }
      ],
      "source": [
        "# Checking model performance for test set\n",
        "y_test_preds = model_rf_cv.predict(X_test)\n",
        "rmse=math.sqrt(mean_squared_error(10**y_test, 10**y_test_preds))\n",
        "print(\"RMSE:\",rmse)\n",
        "r2=r2_score(10**y_test, 10**y_test_preds)\n",
        "print(\"R2:\",r2)\n",
        "accuracy = (1 -mean_absolute_percentage_error(10**y_test, 10**y_test_preds))*100\n",
        "print('Accuracy:', round(accuracy, 2), '%.')"
      ]
    },
    {
      "cell_type": "code",
      "execution_count": 85,
      "metadata": {
        "id": "8p2vG2icbveA",
        "colab": {
          "base_uri": "https://localhost:8080/",
          "height": 458
        },
        "outputId": "6cba7755-7071-4f16-a0b3-24717737c16b"
      },
      "outputs": [
        {
          "output_type": "display_data",
          "data": {
            "image/png": "[encoded data removed]",
            "text/plain": [
              "<Figure size 504x504 with 1 Axes>"
            ]
          },
          "metadata": {
            "needs_background": "light"
          }
        }
      ],
      "source": [
        "# Checking the distribution of error in prediction\n",
        "plt.figure(figsize=(7, 7))\n",
        "sns.histplot(10**y_test-10**y_test_preds, kde=True)\n",
        "plt.axvline(0, color ='green', linestyle =\"--\", linewidth = 2)\n",
        "plt.axvline((y_test-y_test_preds).mean(), color='red', linestyle='--', linewidth=2)\n",
        "plt.title('distribution of error in prediction')\n",
        "plt.xlabel('error in prediction')\n",
        "plt.show()"
      ]
    },
    {
      "cell_type": "code",
      "execution_count": 86,
      "metadata": {
        "id": "GbmTul-mQhdv"
      },
      "outputs": [],
      "source": [
        "# Mean error and zero error lines are matching and distribution of error is normal"
      ]
    },
    {
      "cell_type": "code",
      "execution_count": 87,
      "metadata": {
        "id": "iG5yJ5btckV-",
        "colab": {
          "base_uri": "https://localhost:8080/",
          "height": 458
        },
        "outputId": "c0a73138-2ace-45c9-e293-4850417a0109"
      },
      "outputs": [
        {
          "output_type": "display_data",
          "data": {
            "image/png": "[encoded data removed]",
            "text/plain": [
              "<Figure size 504x504 with 1 Axes>"
            ]
          },
          "metadata": {
            "needs_background": "light"
          }
        }
      ],
      "source": [
        "# Checking actual vs predictions\n",
        "plt.figure(figsize=(7, 7))\n",
        "sns.set_style(\"darkgrid\")\n",
        "plt.scatter(10**y_test, 10**y_test_preds)\n",
        "\n",
        "fit = np.polyfit(10**y_test, 10**y_test_preds, deg=1) \n",
        "p = np.poly1d(fit) \n",
        "plt.plot(10**y_test,p(10**y_test),\"r--\",linewidth = 2) \n",
        "plt.plot([10**y_test.min(),10**y_test.mean(),10**y_test.max()], [10**y_test.min(),10**y_test.mean(),10**y_test.max()],\"g--\",linewidth = 2) \n",
        "\n",
        "plt.title('actual vs predictions')\n",
        "plt.ylabel('prediction')\n",
        "plt.xlabel('actual')\n",
        "plt.show()"
      ]
    },
    {
      "cell_type": "code",
      "execution_count": 88,
      "metadata": {
        "id": "VebuLAA2PylS"
      },
      "outputs": [],
      "source": [
        "# Green line representing the ideal model and red line is representing actual model. \n",
        "# Here red line is near matching to green line and thus our model is a good one."
      ]
    },
    {
      "cell_type": "code",
      "execution_count": 89,
      "metadata": {
        "id": "NlNa1sFZ4il2",
        "colab": {
          "base_uri": "https://localhost:8080/",
          "height": 439
        },
        "outputId": "7a61ae76-b3d4-44ba-809d-c3e7a176b8e4"
      },
      "outputs": [
        {
          "output_type": "display_data",
          "data": {
            "image/png": "[encoded data removed]",
            "text/plain": [
              "<Figure size 504x504 with 1 Axes>"
            ]
          },
          "metadata": {}
        }
      ],
      "source": [
        "plt.figure(figsize=(7,7))\n",
        "plt.plot(10**(y_test_preds))\n",
        "plt.plot(np.array(10**(y_test)))\n",
        "plt.legend([\"Predicted\",\"Actual\"])\n",
        "plt.show()"
      ]
    },
    {
      "cell_type": "code",
      "execution_count": 90,
      "metadata": {
        "colab": {
          "base_uri": "https://localhost:8080/"
        },
        "id": "2dxdzbdqh5pX",
        "outputId": "0bbaf0b3-f4a3-4235-ba10-fc2f4758b258"
      },
      "outputs": [
        {
          "output_type": "stream",
          "name": "stdout",
          "text": [
            "[('duration', 0.1399349439254187), ('comments', 0.2882173592410083), ('biomechanics', 0.00026540390815913827), ('environment', 0.0008204340111344461), ('urban planning', 0.0002786421626413622), ('media', 0.00016330344744515155), ('urban', 0.00014696917647739798), ('money', 1.8757303441352337e-05), ('engineering', 0.0008314386643926127), ('guitar', 0.0004501871648048334), ('mindfulness', 2.723605569547884e-05), ('neuroscience', 0.006149643880077974), ('refugees', 1.710303584179682e-05), ('culture', 0.0008737449853745463), ('advertising', 0.000787068107238998), ('fashion', 0.00032318683661030826), ('technology', 0.0036862262858450416), ('coral reefs', 7.489365597964466e-05), ('asteroid', 7.79451895566728e-06), ('music', 0.0038066204995881123), ('sanitation', 0.00017290031907186596), ('anthropology', 0.0005504283862907438), ('communication', 0.00033125094050525376), ('architecture', 0.003905822123473652), ('personality', 0.0), ('science fiction', 8.215145314002308e-06), ('synthetic biology', 4.610529537694238e-06), ('women in business', 0.0005823177322099284), ('policy', 0.0009309876944916268), ('evolution', 0.00010834896881540381), ('finance', 7.517293406212195e-06), ('future', 0.0011947031907195852), ('violin', 0.0001417923798708394), ('disability', 4.145636115509886e-06), ('biotech', 0.0002224914569845253), ('evolutionary psychology', 0.0004107346990997535), ('military', 0.00018797397451911758), ('garden', 0.000388107226942275), ('homelessness', 1.079337444883394e-05), ('biodiversity', 0.0), ('business', 0.0007050645238429827), ('medical research', 6.363809257963447e-05), ('industrial design', 2.6801896911501374e-05), ('gaming', 1.301663026898151e-05), ('drones', 0.0002516138610816518), ('painting', 9.388225661807259e-07), ('sound', 0.002239163492938951), ('forensics', 9.257966794478657e-05), ('presentation', 0.0), ('performance', 5.068171532971325e-05), ('complexity', 6.21950362722798e-05), ('innovation', 7.753302413618978e-05), ('biology', 0.0006580886916618335), ('blockchain', 0.0005217713322917658), ('nuclear weapons', 7.076808294846615e-05), ('diversity', 3.8487537041340556e-05), ('humor', 0.0002879569925643267), ('machine learning', 5.7909841439133143e-05), ('singer', 0.0038796612822577623), ('medicine', 0.0012036280710792722), ('conducting', 0.0013292787517543711), ('energy', 0.00012785800519493355), ('years_run', 0.16646148074886416), ('animation', 0.0), ('leadership', 6.439494440522803e-05), ('mental health', 0.00011041558381134908), ('religion', 0.0002182766023933136), ('surveillance', 9.094344549786809e-07), ('invention', 0.0024507809410299953), ('education', 0.0024291880559961345), ('investment', 6.654903054915937e-05), ('morality', 5.6467872024694756e-05), ('trust', 3.360315504449451e-05), ('privacy', 2.1114675464595184e-05), ('success', 0.00015509023083942676), ('physiology', 8.59553416610473e-05), ('dance', 0.002131864332223327), ('philosophy', 0.001332886505868676), ('transportation', 0.0006460723798096336), ('genetics', 0.00019145671459986776), ('performance art', 0.0003720757063689414), ('indigenous peoples', 0.0001889452038955406), ('animals', 0.00029264644942309724), ('astronomy', 0.002290343094332211), ('nature', 0.00015504626170090606), ('graphic design', 0.00013832502487124503), ('photography', 0.003945537568039323), ('global issues', 0.001790985683291278), ('open-source', 5.287497298974541e-06), ('mobility', 4.191647444240046e-06), ('cancer', 0.00030597843093394596), ('parenting', 6.704482952544378e-06), ('speaker_cat', 0.2709471916930134), ('speech', 3.9080504765528764e-05), ('plants', 5.536765240136861e-05), ('microbes', 3.0383723019590735e-05), ('collaboration', 4.106107363069605e-05), ('disaster relief', 4.059227342631943e-06), ('software', 0.0007663824936001227), ('dinosaurs', 0.0017468588502493217), ('life experience', 0.01913827343990884), ('violence', 1.7835983277769657e-06), ('bioethics', 2.2476131310497286e-05), ('economics', 0.003130883377544889), ('space', 0.0023436482527184354), ('statistics', 0.0011311084959764234), ('history', 0.0009562604374642061), ('storytelling', 0.0004045185327910146), ('agriculture', 0.00015487274462994602), ('epidemiology', 0.0001060918042854404), ('skateboarding', 0.0), ('relationships', 4.2867084765416604e-06), ('teaching', 7.233135605384763e-05), ('social media', 7.377262373196514e-05), ('molecular biology', 0.0011422871305701333), ('exploration', 0.00010724558871298283), ('sports', 6.880523210444635e-06), ('novel', 6.548196879645466e-05), ('physics', 0.0012674676252779462), ('glacier', 0.0), ('prison', 0.0002495018159145073), ('entrepreneur', 0.0015567903586341623), ('origami', 0.0011504385785627643), ('virtual reality', 0.0), ('community', 4.5328325893228314e-05), ('simplicity', 5.7314916260890376e-06), ('cognitive science', 0.0011531317315328126), ('magic', 2.6328020856346604e-05), ('robots', 0.002968601218794698), ('health', 0.0006871412767960208), ('language', 0.0005636961758971028), ('journalism', 0.0021735588185730526), ('philanthropy', 0.0011939240109365978), ('security', 2.669694894703547e-05), ('sleep', 0.0002882273694328125), ('flight', 4.200314881068254e-06), ('brain', 0.0005760269405554631), ('materials', 1.4698272421158945e-05), ('climate change', 0.0008023556519096337), ('computers', 0.0008153872729038918), ('cosmos', 2.2783420942884375e-05), ('psychology', 0.0030637754353157946), ('politics', 0.00214207387761804), ('science', 0.0011922852029895635), ('product design', 0.00025330751321884126), ('children', 0.0001338499278531333), ('poetry', 2.913255600678013e-06), ('bionics', 0.0006529789394661508), ('justice system', 1.0860271342110659e-05), ('global development', 0.0), ('literature', 0.00012372257709587344), ('women', 0.000184235714894015), ('comedy', 0.000617803447883156), ('solar energy', 0.0006594845105881298), ('quantum physics', 0.00040426379550250906), ('green', 0.00011341707638042293), ('chemistry', 0.0002863623570627864), ('human rights', 0.00011560468857582628), ('criminal justice', 0.00016536529520677935), ('microfinance', 0.00014674062895757485), ('museums', 0.00010631885852419777), ('nuclear energy', 0.00030705741349729425), ('creativity', 0.00019551008228958932), ('death', 3.7602900770304776e-06), ('sociology', 5.941499977197637e-05), ('encryption', 2.3442740569360373e-05), ('happiness', 0.00037271871527353096), ('virus', 0.0), ('theater', 7.165432248822693e-05), ('paleontology', 0.001364076961161697), ('behavioral economics', 0.001285698083991059), ('astrobiology', 1.1257697167864363e-06), ('humanity', 0.00029830886124065914), ('social change', 0.0021752978718654367), ('immigration', 0.00029781237434897597), ('public health', 9.372750276760693e-05), ('sustainability', 0.00017420099966560236), ('water', 0.0006960249296898127), ('plastic', 3.2954080208088215e-05), ('adventure', 7.666821753764172e-06), ('marketing', 0.00030822584978557196), ('health care', 0.00020115787781131117), ('library', 2.5504253627726943e-05), ('composing', 5.673791357234865e-06), ('interface design', 9.817730632849472e-06), ('oceans', 0.0013334001223117712), ('primates', 0.00011206537433841318), ('visualizations', 3.767895923231535e-05), ('aircraft', 2.423065863253414e-05), ('marine biology', 0.0019062237880157855), ('design', 0.0060709369978287474), ('peace', 0.0002555989850708718), ('gender equality', 1.2129797620507832e-05), ('conservation', 2.162915581459367e-05)]\n"
          ]
        }
      ],
      "source": [
        "# Checking feature importances\n",
        "from sklearn.ensemble import ExtraTreesRegressor\n",
        "my_model=ExtraTreesRegressor()\n",
        "my_model.fit(X_train,y_train)\n",
        "print(list(zip(X.columns,my_model.feature_importances_)))"
      ]
    },
    {
      "cell_type": "markdown",
      "metadata": {
        "id": "uA42WKi0yZiJ"
      },
      "source": [
        "# **Building  and Evaluation of Model-2**"
      ]
    },
    {
      "cell_type": "code",
      "source": [
        ""
      ],
      "metadata": {
        "id": "co6yG19rHVbQ"
      },
      "execution_count": null,
      "outputs": []
    },
    {
      "cell_type": "markdown",
      "metadata": {
        "id": "ZDtdj4YZx5Bs"
      },
      "source": [
        "# **Building  and Evaluation of Model-3**"
      ]
    },
    {
      "cell_type": "code",
      "execution_count": 92,
      "metadata": {
        "id": "SjtYXCY4x2eu"
      },
      "outputs": [],
      "source": [
        ""
      ]
    },
    {
      "cell_type": "markdown",
      "metadata": {
        "id": "2PDccmBmx7jY"
      },
      "source": [
        "# **Conclusion**"
      ]
    },
    {
      "cell_type": "markdown",
      "metadata": {
        "id": "m23nXx_gyC3S"
      },
      "source": [
        ""
      ]
    }
  ],
  "metadata": {
    "colab": {
      "collapsed_sections": [
        "P1_aQ_OKeUIB",
        "tl1Yj-HoJ0f8",
        "jqyafqW9eeYB",
        "tsf4VakRe6BG",
        "buQvXzTAL-zk"
      ],
      "name": "Ted Talk Views Prediction.ipynb",
      "provenance": [],
      "authorship_tag": "ABX9TyNx5h6kZ0yeHAXs9VMPMAVo",
      "include_colab_link": true
    },
    "kernelspec": {
      "display_name": "Python 3",
      "name": "python3"
    },
    "language_info": {
      "name": "python"
    }
  },
  "nbformat": 4,
  "nbformat_minor": 0
}